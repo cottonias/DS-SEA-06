{
 "cells": [
  {
   "cell_type": "markdown",
   "metadata": {},
   "source": [
    "# PREVENTING GENOCIDE\n",
    "#### USING DATA SCIENCE TO IDENTIFY EARLY INDICATORS OF FUTURE STATE LED MASS KILLINGS\n",
    "\n",
    "Mark Cotton / DS-SEA-06 / 2017-05-15"
   ]
  },
  {
   "cell_type": "markdown",
   "metadata": {},
   "source": [
    "1. Background\n",
    "==========\n",
    "\n",
    "On April 6, 1994, Rwandan President Juvenal Habyarimana, a Hutu, was\n",
    "shot down above Kigali airport. In the following 100 days, between\n",
    "800,000 to 1,000,000 (perhaps even 2 M) Tutsi and moderate Hutus were\n",
    "slaughter were killed by fellow Rwandans, with violence being encouraged\n",
    "by the state. This averaged to 6 men, women and children were murdered\n",
    "every minute of every hour of every day for 3 months<sup>1</sup>.\n",
    "\n",
    "Since the Holocaust during World War II, there have been numerous mass\n",
    "killings classified as genocide, from atrocities in Cambodia to Rwanda\n",
    "to Bangladesh to name a few, resulting in the slaughter of millions of\n",
    "people. According to GenocideWatch.org, genocides and other mass murders\n",
    "killed more people in the twentieth century than all the wars combined.\n",
    "\n",
    "When the killings began in Rwanda, the international community responded\n",
    "inadequately and was not able to prevent the hundreds of thousands of\n",
    "deaths that followed. Did the world see this catastrophe coming? Could\n",
    "this all have been prevent or at least could the damage have been\n",
    "minimized? The biggest question is this: how do we prevent history from\n",
    "repeating itself again?\n",
    "\n",
    "What can be done to prevent genocide? From a report by the Genocide\n",
    "Prevention Task Force from the United States Institute of Peace,\n",
    "\n",
    "> *“The first major element of a comprehensive system to prevent\n",
    "> genocide and mass atrocities is a reliable process for accessing risks\n",
    "> and generating early warning of potential atrocities... Effective\n",
    "> early warning does not guarantee successful prevention, but if warning\n",
    "> is absent, slow, inaccurate, or indistinguishable from the 'noise' of\n",
    "> regular reporting, failure is virtually guaranteed.<sup>2</sup>”*\n",
    "\n",
    "What follows, per the Early Warning Project, is that genocide is nearly\n",
    "always carried out by a country’s own police and military forces,\n",
    "requiring external (international) intervention. To make predictions\n",
    "before a country has fallen in to a large-scale genocide, the marker to\n",
    "watch for is state-led mass killings. State-led mass killings occur when\n",
    "a country uses its own forces to kill over 1000 non-combatant civilians\n",
    "in a 12-month time period (in a country of over 500,000)."
   ]
  },
  {
   "cell_type": "markdown",
   "metadata": {},
   "source": [
    "2. Problem statement and hypothesis\n",
    "================================\n",
    "\n",
    "Identifying early indicators that mass killings are going to occur will\n",
    "allow a better opportunity for prevention.\n",
    "\n",
    "Can data science machine learning principles be used to create a model\n",
    "to predict countries with a high likelihood of having a new state-led\n",
    "mass killing occur before the killings occur? The EWP already has\n",
    "created model to make these predictions. My hypothesis is that from\n",
    "within this data, certain combinations of features will be highly\n",
    "indicative of new mass killings occurring. I predict that lingual\n",
    "fractionalization, ethnic fractionalization, GDP, trade openness,\n",
    "country age, availability of natural resources, and history of mass\n",
    "killings will have strong correlations with new mass killings occurring.\n",
    "The model created will be in the form a logistic regression, predicting\n",
    "a 1 or 0 for new mass killings occurring in the following year, with\n",
    "some confidence percentage."
   ]
  },
  {
   "cell_type": "markdown",
   "metadata": {},
   "source": [
    "3. Description of your data set and how it was obtained\n",
    "====================================================\n",
    "\n",
    "The data set used for this report is all directly pulled from a Github repo (available here: <https://github.com/EarlyWarningProject/2015-Statistical-Risk-Assessment>), where the Early Warning Project (EWP) has aggregated data from multiple sources. The EWP runs statistical risk assessment with the goal\n",
    "of preventing mass atrocities. The data from publicly available sources and was cleaned by EWP. This is a time series dataset spanning 178 countries from 1945-2014. This report is using the pre-processed dataset which includes 9330 observations (rows) with 276 variables (columns). The file “EWP Data Dictionary 20140909.pdf” describes the sources and variables. The information below is copied from that document outlining the sources:\n",
    "\n",
    "-   mkl = Early Warning Project’s Episodes of State-Led Mass Killing\n",
    "    Dataset\n",
    "\n",
    "-   wdi = World Bank’s World Development Indicators (via R\n",
    "    package ’WDI’)\n",
    "\n",
    "-   mev = Center for Systemic Peace’s Major Episodes of Political\n",
    "    Violence (<http://www.systemicpeace.org/inscrdata.html>)\n",
    "\n",
    "-   pol = Polity IV (<http://www.systemicpeace.org/inscrdata.html>)\n",
    "\n",
    "-   imr = U.S. Bureau of the Census, International Division (via PITF)\n",
    "\n",
    "-   cmm = Center for Systemic Peace’s List of Coups d’Etat\n",
    "    (<http://www.systemicpeace.org/inscrdata.html>)\n",
    "\n",
    "-   cpt = Powell and Thyne’s Coups d’Etat, 1950 to Present\n",
    "    (<http://www.uky.edu/~clthyn2/coup_data/home.htm>)\n",
    "\n",
    "-   cou = An amalgamation of cmm and cpt data\n",
    "\n",
    "-   pit = PITF Problem Set (i.e., episodes of instability)\n",
    "    (<http://www.systemicpeace.org/inscrdata.html>)\n",
    "\n",
    "-   dis = Center for Systemic Peace’s Discrimination Data Set (via PITF)\n",
    "\n",
    "-   imf = International Monetary Fund’s World Economic Outlook Report\n",
    "    (<http://www.imf.org/external/pubs/ft/weo/2014/01/weodata/index.aspx>)\n",
    "\n",
    "-   elf = Anderson’s Ethnic Fractionalization Data\n",
    "    (<http://www.anderson.ucla.edu/faculty_pages/romain.wacziarg/papersum.html>)\n",
    "\n",
    "-   hum = Farris et al.’s Latent Human Rights Protection Scores\n",
    "    (<http://humanrightsscores.org/>)\n",
    "\n",
    "-   fiw = Freedom House’s Freedom in the World Data Set\n",
    "    (<https://freedomhouse.org/report-types/freedom-world#.VA7Sufk7u-M>)\n",
    "\n",
    "-   aut = Geddes, Wright, and Frantz’s Authoritarian Regimes Dataset\n",
    "    (<http://sites.psu.edu/dictators/>)"
   ]
  },
  {
   "cell_type": "code",
   "execution_count": 1,
   "metadata": {
    "collapsed": true
   },
   "outputs": [],
   "source": [
    "import pandas as pd\n",
    "import numpy as np\n",
    "import seaborn as sns\n",
    "%matplotlib inline\n",
    "\n",
    "# Import files, with the column headers cleaned so that '.' was replaced with '_'\n",
    "url = './data/ewp.statrisk.data.transformed.MC.csv'\n",
    "data = pd.read_csv(url)"
   ]
  },
  {
   "cell_type": "code",
   "execution_count": 2,
   "metadata": {
    "collapsed": false
   },
   "outputs": [
    {
     "data": {
      "text/html": [
       "<div>\n",
       "<table border=\"1\" class=\"dataframe\">\n",
       "  <thead>\n",
       "    <tr style=\"text-align: right;\">\n",
       "      <th></th>\n",
       "      <th>country</th>\n",
       "      <th>sftgcode</th>\n",
       "      <th>year</th>\n",
       "      <th>yrborn</th>\n",
       "      <th>yrdied</th>\n",
       "      <th>reg_eap</th>\n",
       "      <th>reg_afr</th>\n",
       "      <th>reg_eur</th>\n",
       "      <th>reg_mna</th>\n",
       "      <th>reg_sca</th>\n",
       "      <th>...</th>\n",
       "      <th>dis_l4pop_ln</th>\n",
       "      <th>imr_normed_ln</th>\n",
       "      <th>mev_regac</th>\n",
       "      <th>mev_regac_ln</th>\n",
       "      <th>mev_civtotc</th>\n",
       "      <th>mev_civtot_ln</th>\n",
       "      <th>imf_gdppcgrow</th>\n",
       "      <th>gdppcgrow</th>\n",
       "      <th>gdppcgrow_sr</th>\n",
       "      <th>slowgrowth</th>\n",
       "    </tr>\n",
       "  </thead>\n",
       "  <tbody>\n",
       "    <tr>\n",
       "      <th>0</th>\n",
       "      <td>Afghanistan</td>\n",
       "      <td>AFG</td>\n",
       "      <td>1945</td>\n",
       "      <td>1919</td>\n",
       "      <td>9999</td>\n",
       "      <td>0</td>\n",
       "      <td>0</td>\n",
       "      <td>0</td>\n",
       "      <td>0</td>\n",
       "      <td>1</td>\n",
       "      <td>...</td>\n",
       "      <td>0.0</td>\n",
       "      <td>NaN</td>\n",
       "      <td>NaN</td>\n",
       "      <td>NaN</td>\n",
       "      <td>NaN</td>\n",
       "      <td>NaN</td>\n",
       "      <td>NaN</td>\n",
       "      <td>NaN</td>\n",
       "      <td>NaN</td>\n",
       "      <td>NaN</td>\n",
       "    </tr>\n",
       "    <tr>\n",
       "      <th>1</th>\n",
       "      <td>Afghanistan</td>\n",
       "      <td>AFG</td>\n",
       "      <td>1946</td>\n",
       "      <td>1919</td>\n",
       "      <td>9999</td>\n",
       "      <td>0</td>\n",
       "      <td>0</td>\n",
       "      <td>0</td>\n",
       "      <td>0</td>\n",
       "      <td>1</td>\n",
       "      <td>...</td>\n",
       "      <td>0.0</td>\n",
       "      <td>NaN</td>\n",
       "      <td>8.0</td>\n",
       "      <td>2.197225</td>\n",
       "      <td>0.0</td>\n",
       "      <td>0.0</td>\n",
       "      <td>NaN</td>\n",
       "      <td>NaN</td>\n",
       "      <td>NaN</td>\n",
       "      <td>NaN</td>\n",
       "    </tr>\n",
       "    <tr>\n",
       "      <th>2</th>\n",
       "      <td>Afghanistan</td>\n",
       "      <td>AFG</td>\n",
       "      <td>1947</td>\n",
       "      <td>1919</td>\n",
       "      <td>9999</td>\n",
       "      <td>0</td>\n",
       "      <td>0</td>\n",
       "      <td>0</td>\n",
       "      <td>0</td>\n",
       "      <td>1</td>\n",
       "      <td>...</td>\n",
       "      <td>0.0</td>\n",
       "      <td>NaN</td>\n",
       "      <td>20.0</td>\n",
       "      <td>3.044522</td>\n",
       "      <td>0.0</td>\n",
       "      <td>0.0</td>\n",
       "      <td>NaN</td>\n",
       "      <td>NaN</td>\n",
       "      <td>NaN</td>\n",
       "      <td>NaN</td>\n",
       "    </tr>\n",
       "    <tr>\n",
       "      <th>3</th>\n",
       "      <td>Afghanistan</td>\n",
       "      <td>AFG</td>\n",
       "      <td>1948</td>\n",
       "      <td>1919</td>\n",
       "      <td>9999</td>\n",
       "      <td>0</td>\n",
       "      <td>0</td>\n",
       "      <td>0</td>\n",
       "      <td>0</td>\n",
       "      <td>1</td>\n",
       "      <td>...</td>\n",
       "      <td>0.0</td>\n",
       "      <td>NaN</td>\n",
       "      <td>18.0</td>\n",
       "      <td>2.944439</td>\n",
       "      <td>0.0</td>\n",
       "      <td>0.0</td>\n",
       "      <td>NaN</td>\n",
       "      <td>NaN</td>\n",
       "      <td>NaN</td>\n",
       "      <td>NaN</td>\n",
       "    </tr>\n",
       "    <tr>\n",
       "      <th>4</th>\n",
       "      <td>Afghanistan</td>\n",
       "      <td>AFG</td>\n",
       "      <td>1949</td>\n",
       "      <td>1919</td>\n",
       "      <td>9999</td>\n",
       "      <td>0</td>\n",
       "      <td>0</td>\n",
       "      <td>0</td>\n",
       "      <td>0</td>\n",
       "      <td>1</td>\n",
       "      <td>...</td>\n",
       "      <td>0.0</td>\n",
       "      <td>NaN</td>\n",
       "      <td>14.0</td>\n",
       "      <td>2.708050</td>\n",
       "      <td>0.0</td>\n",
       "      <td>0.0</td>\n",
       "      <td>NaN</td>\n",
       "      <td>NaN</td>\n",
       "      <td>NaN</td>\n",
       "      <td>NaN</td>\n",
       "    </tr>\n",
       "  </tbody>\n",
       "</table>\n",
       "<p>5 rows × 243 columns</p>\n",
       "</div>"
      ],
      "text/plain": [
       "       country sftgcode  year  yrborn  yrdied  reg_eap  reg_afr  reg_eur  \\\n",
       "0  Afghanistan      AFG  1945    1919    9999        0        0        0   \n",
       "1  Afghanistan      AFG  1946    1919    9999        0        0        0   \n",
       "2  Afghanistan      AFG  1947    1919    9999        0        0        0   \n",
       "3  Afghanistan      AFG  1948    1919    9999        0        0        0   \n",
       "4  Afghanistan      AFG  1949    1919    9999        0        0        0   \n",
       "\n",
       "   reg_mna  reg_sca     ...      dis_l4pop_ln imr_normed_ln  mev_regac  \\\n",
       "0        0        1     ...               0.0           NaN        NaN   \n",
       "1        0        1     ...               0.0           NaN        8.0   \n",
       "2        0        1     ...               0.0           NaN       20.0   \n",
       "3        0        1     ...               0.0           NaN       18.0   \n",
       "4        0        1     ...               0.0           NaN       14.0   \n",
       "\n",
       "   mev_regac_ln  mev_civtotc  mev_civtot_ln  imf_gdppcgrow  gdppcgrow  \\\n",
       "0           NaN          NaN            NaN            NaN        NaN   \n",
       "1      2.197225          0.0            0.0            NaN        NaN   \n",
       "2      3.044522          0.0            0.0            NaN        NaN   \n",
       "3      2.944439          0.0            0.0            NaN        NaN   \n",
       "4      2.708050          0.0            0.0            NaN        NaN   \n",
       "\n",
       "   gdppcgrow_sr  slowgrowth  \n",
       "0           NaN         NaN  \n",
       "1           NaN         NaN  \n",
       "2           NaN         NaN  \n",
       "3           NaN         NaN  \n",
       "4           NaN         NaN  \n",
       "\n",
       "[5 rows x 243 columns]"
      ]
     },
     "execution_count": 2,
     "metadata": {},
     "output_type": "execute_result"
    }
   ],
   "source": [
    "data.head()"
   ]
  },
  {
   "cell_type": "markdown",
   "metadata": {},
   "source": [
    "4. Description of any pre-processing steps you took\n",
    "================================================\n",
    "\n"
   ]
  },
  {
   "cell_type": "code",
   "execution_count": 3,
   "metadata": {
    "collapsed": false
   },
   "outputs": [
    {
     "name": "stdout",
     "output_type": "stream",
     "text": [
      "<class 'pandas.core.frame.DataFrame'>\n",
      "RangeIndex: 9330 entries, 0 to 9329\n",
      "Columns: 243 entries, country to slowgrowth\n",
      "dtypes: float64(218), int64(21), object(4)\n",
      "memory usage: 17.3+ MB\n"
     ]
    }
   ],
   "source": [
    "data.info()"
   ]
  },
  {
   "cell_type": "code",
   "execution_count": 4,
   "metadata": {
    "collapsed": false
   },
   "outputs": [
    {
     "data": {
      "text/plain": [
       "197200L"
      ]
     },
     "execution_count": 4,
     "metadata": {},
     "output_type": "execute_result"
    }
   ],
   "source": [
    "data.isnull().sum().sum()"
   ]
  },
  {
   "cell_type": "markdown",
   "metadata": {},
   "source": [
    "Due to the large number of features in these data, additional pre-processing is performed as part of step 6 for feature selection."
   ]
  },
  {
   "cell_type": "markdown",
   "metadata": {},
   "source": [
    "5. What you learned from exploring the data, including visualizations\n",
    "==================================================================\n",
    "\n",
    "Some holes in data – information for history of country starts at 0\n",
    "generally (ie, mkl\\_ever) if the country is born in the dataset."
   ]
  },
  {
   "cell_type": "code",
   "execution_count": 5,
   "metadata": {
    "collapsed": false
   },
   "outputs": [
    {
     "data": {
      "text/plain": [
       "116"
      ]
     },
     "execution_count": 5,
     "metadata": {},
     "output_type": "execute_result"
    }
   ],
   "source": [
    "# How many new state led mass killings occurred between 1945 and 2014?\n",
    "data[data.mkl_start == 1].mkl_start.count()"
   ]
  },
  {
   "cell_type": "code",
   "execution_count": 6,
   "metadata": {
    "collapsed": false
   },
   "outputs": [
    {
     "data": {
      "text/html": [
       "<div>\n",
       "<table border=\"1\" class=\"dataframe\">\n",
       "  <thead>\n",
       "    <tr style=\"text-align: right;\">\n",
       "      <th></th>\n",
       "      <th>mkl_ongoing</th>\n",
       "      <th>mkl_start</th>\n",
       "    </tr>\n",
       "    <tr>\n",
       "      <th>year</th>\n",
       "      <th></th>\n",
       "      <th></th>\n",
       "    </tr>\n",
       "  </thead>\n",
       "  <tbody>\n",
       "    <tr>\n",
       "      <th>1945</th>\n",
       "      <td>7</td>\n",
       "      <td>5</td>\n",
       "    </tr>\n",
       "    <tr>\n",
       "      <th>1946</th>\n",
       "      <td>8</td>\n",
       "      <td>1</td>\n",
       "    </tr>\n",
       "    <tr>\n",
       "      <th>1947</th>\n",
       "      <td>8</td>\n",
       "      <td>1</td>\n",
       "    </tr>\n",
       "    <tr>\n",
       "      <th>1948</th>\n",
       "      <td>12</td>\n",
       "      <td>5</td>\n",
       "    </tr>\n",
       "    <tr>\n",
       "      <th>1949</th>\n",
       "      <td>14</td>\n",
       "      <td>2</td>\n",
       "    </tr>\n",
       "  </tbody>\n",
       "</table>\n",
       "</div>"
      ],
      "text/plain": [
       "      mkl_ongoing  mkl_start\n",
       "year                        \n",
       "1945            7          5\n",
       "1946            8          1\n",
       "1947            8          1\n",
       "1948           12          5\n",
       "1949           14          2"
      ]
     },
     "execution_count": 6,
     "metadata": {},
     "output_type": "execute_result"
    }
   ],
   "source": [
    "# Primary response is mkl-start, indicating a mass killing started that year and mkl-ongoing tracks ongoing mass killings\n",
    "df = data[data.mkl_ongoing == 1].groupby('year')['mkl_ongoing', 'mkl_start'].sum()\n",
    "df.head()"
   ]
  },
  {
   "cell_type": "code",
   "execution_count": 7,
   "metadata": {
    "collapsed": false
   },
   "outputs": [
    {
     "data": {
      "text/plain": [
       "<matplotlib.axes._subplots.AxesSubplot at 0xa4e2f28>"
      ]
     },
     "execution_count": 7,
     "metadata": {},
     "output_type": "execute_result"
    },
    {
     "data": {
      "image/png": "[encoded data removed]",
      "text/plain": [
       "<matplotlib.figure.Figure at 0xa1a0b38>"
      ]
     },
     "metadata": {},
     "output_type": "display_data"
    }
   ],
   "source": [
    "df.plot()"
   ]
  },
  {
   "cell_type": "code",
   "execution_count": 8,
   "metadata": {
    "collapsed": false
   },
   "outputs": [
    {
     "data": {
      "text/plain": [
       "mkl_ongoing    34\n",
       "mkl_start       7\n",
       "dtype: int64"
      ]
     },
     "execution_count": 8,
     "metadata": {},
     "output_type": "execute_result"
    }
   ],
   "source": [
    "df.max()"
   ]
  },
  {
   "cell_type": "code",
   "execution_count": 9,
   "metadata": {
    "collapsed": false
   },
   "outputs": [
    {
     "data": {
      "text/plain": [
       "year\n",
       "1991    7.0\n",
       "Name: mkl_start, dtype: float64"
      ]
     },
     "execution_count": 9,
     "metadata": {},
     "output_type": "execute_result"
    }
   ],
   "source": [
    "# Year with most mass killings started\n",
    "df[df == df.max()].mkl_start.dropna()"
   ]
  },
  {
   "cell_type": "code",
   "execution_count": 10,
   "metadata": {
    "collapsed": false
   },
   "outputs": [
    {
     "data": {
      "text/plain": [
       "year\n",
       "1992    34.0\n",
       "Name: mkl_ongoing, dtype: float64"
      ]
     },
     "execution_count": 10,
     "metadata": {},
     "output_type": "execute_result"
    }
   ],
   "source": [
    "# Year with most mass killings ongoing\n",
    "df[df == df.max()].mkl_ongoing.dropna()"
   ]
  },
  {
   "cell_type": "code",
   "execution_count": 11,
   "metadata": {
    "collapsed": false
   },
   "outputs": [
    {
     "name": "stdout",
     "output_type": "stream",
     "text": [
      "Total countries with no state led mass killings since 1945: 106\n",
      "Total countries: 178\n"
     ]
    }
   ],
   "source": [
    "dft = data.groupby('country').sum()\n",
    "total_countries_no_mkl = dft[dft['mkl_ever'] == 0].mkl_ever.value_counts()[0]\n",
    "total_countries = dft.mkl_ever.count()\n",
    "print 'Total countries with no state led mass killings since 1945: %s' % total_countries_no_mkl\n",
    "print 'Total countries: %s' % total_countries"
   ]
  },
  {
   "cell_type": "markdown",
   "metadata": {},
   "source": [
    "## Null Model"
   ]
  },
  {
   "cell_type": "code",
   "execution_count": 12,
   "metadata": {
    "collapsed": false
   },
   "outputs": [
    {
     "name": "stdout",
     "output_type": "stream",
     "text": [
      "0    9214\n",
      "1     116\n",
      "Name: mkl_start, dtype: int64\n",
      "\n",
      "The null accuracy that any country in a given year will have a new MKL start is: 0.0124330117899\n",
      "\n"
     ]
    }
   ],
   "source": [
    "# What is the null model, that is the number of new mkl/year?\n",
    "val = data.mkl_start.value_counts()\n",
    "print val\n",
    "null_accuracy = val[1]*1.0/val.sum()\n",
    "\n",
    "print\n",
    "print \"The null accuracy that any country in a given year will have a new MKL start is: %s\" % null_accuracy\n",
    "print"
   ]
  },
  {
   "cell_type": "code",
   "execution_count": 13,
   "metadata": {
    "collapsed": false
   },
   "outputs": [
    {
     "data": {
      "text/plain": [
       "country\n",
       "Indonesia         5\n",
       "Iraq              4\n",
       "Sudan             4\n",
       "Congo-Kinshasa    4\n",
       "Nigeria           4\n",
       "Afghanistan       3\n",
       "Sri Lanka         3\n",
       "China             3\n",
       "Uganda            3\n",
       "Ethiopia          3\n",
       "Rwanda            3\n",
       "Philippines       3\n",
       "Syria             2\n",
       "Laos              2\n",
       "India             2\n",
       "Liberia           2\n",
       "Nicaragua         2\n",
       "Haiti             2\n",
       "Romania           2\n",
       "Iran              2\n",
       "Name: mkl_start, dtype: int64"
      ]
     },
     "execution_count": 13,
     "metadata": {},
     "output_type": "execute_result"
    }
   ],
   "source": [
    "# Since data starting being collected, which varies from country to country and starts no sooner than 1945,\n",
    "# which countries have had the most mass killings start?\n",
    "# Note, this will not include instance where a country first appeared with ongoing mkl but no new mkl\n",
    "# (ie, in 1945, there were 7 ongoing mass killings and 5 started)\n",
    "# Also, countries which changed names, such as East Germany, West Germany and Germany, are counted individually here.\n",
    "data.groupby('country').mkl_start.sum().sort_values(ascending=False).head(20)"
   ]
  },
  {
   "cell_type": "markdown",
   "metadata": {},
   "source": [
    "## What features are common between these countries?\n",
    "1. Birth year of country?\n",
    "1. GDP?\n",
    "1. Fractionalization?:\n",
    " *  Lingual (elf_language)\n",
    " *  Religious\n",
    " *  Ethnic\n",
    "1. Collapse of democratic institutions?\n",
    "1. Violence associated with regime transition?\n",
    "1. Democracy score? (pol_democ)\n",
    "1. Large supply of natural resources? Oil, gold, diamonds, etc.\n",
    " * Not sure oil is in the data or specific types of minerals.\n",
    " * Mineral depletion (wdi_minerals)\n",
    " * Forest depletion (wdi_forest)\n",
    " * Energy depletion (wdi_energy)\n",
    "1. Trade openness (wdi_trade)\n",
    "1. Context in which state-led mass killing episode began (mkl.type)\n",
    " * none\n",
    " * civil war\n",
    " * uprising\n",
    " * repression\n",
    " * other"
   ]
  },
  {
   "cell_type": "code",
   "execution_count": 14,
   "metadata": {
    "collapsed": false
   },
   "outputs": [
    {
     "data": {
      "text/plain": [
       "country\n",
       "Uganda                      0.92\n",
       "Togo                        0.90\n",
       "Tanzania                    0.90\n",
       "Liberia                     0.90\n",
       "Kenya                       0.89\n",
       "Cameroon                    0.89\n",
       "Congo-Kinshasa              0.87\n",
       "South Africa                0.87\n",
       "Zambia                      0.87\n",
       "Chad                        0.86\n",
       "Nigeria                     0.85\n",
       "Mali                        0.84\n",
       "Philippines                 0.84\n",
       "Central African Republic    0.83\n",
       "Ethiopia                    0.81\n",
       "India                       0.81\n",
       "Mozambique                  0.81\n",
       "Gambia                      0.81\n",
       "Guinea-Bissau               0.81\n",
       "Benin                       0.79\n",
       "Name: elf_language, dtype: float64"
      ]
     },
     "execution_count": 14,
     "metadata": {},
     "output_type": "execute_result"
    }
   ],
   "source": [
    "# Linguistic fractionalization index\n",
    "data.groupby('country').elf_language.max().sort_values(ascending = False).head(20)"
   ]
  },
  {
   "cell_type": "code",
   "execution_count": 15,
   "metadata": {
    "collapsed": false
   },
   "outputs": [
    {
     "name": "stdout",
     "output_type": "stream",
     "text": [
      "country\n",
      "Myanmar          13.875214\n",
      "United States    18.632225\n",
      "Brazil           18.649237\n",
      "Argentina        19.761625\n",
      "India            20.931200\n",
      "Japan            22.631970\n",
      "Bangladesh       27.135295\n",
      "Sudan            28.096628\n",
      "Ethiopia         30.323540\n",
      "Turkey           30.324656\n",
      "Name: wdi_trade, dtype: float64\n",
      "country\n",
      "Singapore               333.474066\n",
      "Equatorial Guinea       221.878705\n",
      "Bahrain                 162.914169\n",
      "Guyana                  161.468853\n",
      "Panama                  153.635176\n",
      "Swaziland               147.663333\n",
      "Lesotho                 142.375337\n",
      "Slovakia                136.596899\n",
      "United Arab Emirates    134.088522\n",
      "Malaysia                132.656492\n",
      "Name: wdi_trade, dtype: float64\n"
     ]
    }
   ],
   "source": [
    "# Trade openness, lower is more open\n",
    "\n",
    "print data.groupby('country').wdi_trade.mean().sort_values(ascending = True).head(10)\n",
    "print data.groupby('country').wdi_trade.mean().sort_values(ascending = False).head(10)"
   ]
  },
  {
   "cell_type": "code",
   "execution_count": 16,
   "metadata": {
    "collapsed": false
   },
   "outputs": [
    {
     "name": "stdout",
     "output_type": "stream",
     "text": [
      "Indonesia trade openness:\n",
      "Max: 96.18619424\n",
      "Min: 10.92290909\n",
      "Mean: 46.0338016411\n",
      "\n",
      "Average trade openness for all countries all years: 71.3862089985\n",
      "Max for all countries all years: 531.7374352\n",
      "Min for all countries all years: 0.308802944\n"
     ]
    }
   ],
   "source": [
    "# Trade openness, lower is more open\n",
    "dft = data[data.country == 'Indonesia']\n",
    "#print dft.head()\n",
    "print \"Indonesia trade openness:\"\n",
    "print \"Max: %s\" % dft['wdi_trade'].max()\n",
    "print \"Min: %s\" % dft['wdi_trade'].min()\n",
    "print \"Mean: %s\" %dft['wdi_trade'].mean()\n",
    "print\n",
    "print \"Average trade openness for all countries all years: %s\" % data.wdi_trade.mean()\n",
    "print \"Max for all countries all years: %s\" % data.wdi_trade.max()\n",
    "print \"Min for all countries all years: %s\" % data.wdi_trade.min()"
   ]
  },
  {
   "cell_type": "code",
   "execution_count": 17,
   "metadata": {
    "collapsed": false
   },
   "outputs": [
    {
     "name": "stdout",
     "output_type": "stream",
     "text": [
      "pol_durable_ln   -0.114954\n",
      "pol_polity       -0.098278\n",
      "pol_democ        -0.096686\n",
      "pol_polcomp      -0.095495\n",
      "pol_exconst      -0.093020\n",
      "pol_xconst       -0.093020\n",
      "wdi_gdppcgrow    -0.092581\n",
      "pol_parcomp      -0.091409\n",
      "pol_exrec        -0.091135\n",
      "pol_xrcomp       -0.090424\n",
      "Name: mkl_start, dtype: float64\n",
      "pit_any_ongoing     0.183674\n",
      "pit_gen_deathmag    0.188718\n",
      "pit_rev_onset       0.258489\n",
      "mkl_ongoing         0.263942\n",
      "pit_eth_onset       0.278938\n",
      "pit_any_onset       0.328419\n",
      "pit_cwar_onset      0.349247\n",
      "pit_gen_onset       0.360816\n",
      "mkl_type            0.850716\n",
      "mkl_start           1.000000\n",
      "Name: mkl_start, dtype: float64\n"
     ]
    }
   ],
   "source": [
    "dft = data.corr().mkl_start.sort_values()\n",
    "print dft.head(10)\n",
    "print dft.tail(10)"
   ]
  },
  {
   "cell_type": "markdown",
   "metadata": {},
   "source": [
    "6. How you chose which features to use in your analysis\n",
    "==========================================================\n",
    "\n",
    "Features selected a priori. The features selected make sense and generally match up with the correlations from the results above. Would like to use additional features but want to refine model to be more than 13% accurate with recommended features first. (Don’t want to optimize a broken model – want to find out what is broken first and fix that.)\n",
    "\n",
    "The EWP uses three different models to predict new mass killings. For the “general” model, Random Forests is used with “no feature selection involved. These models were specified a priori to represent existing theories on the causes of mass killings, so this \\[R\\] script is only used to demonstrate that the resulting models and the average of forecasts from them do have real predictive power.” Below is the description of the specific features selected ahead a priori:\n",
    "\n",
    "-   mkl\\_start: Onset of any episodes of state-led mass killing\n",
    "\n",
    "-   reg\\_afr: US Dept State region: Sub-Saharan Africa\n",
    "\n",
    "-   reg\\_eap: US Dept State region: East Asia and Pacific\n",
    "\n",
    "-   reg\\_eur: US Dept State region: Europe and Eurasia\n",
    "\n",
    "-   reg\\_mna: US Dept State region: Middle East and North Africa\n",
    "\n",
    "-   reg\\_sca: US Dept State region: South and Central Asia\n",
    "\n",
    "-   reg\\_amr: US Dept State region: Americas\n",
    "\n",
    "-   mkl\\_ongoing; Any ongoing episodes of state-led mass killing\n",
    "\n",
    "-   mkl\\_ever: Any state-led mass killing since WWII (cumulative)\n",
    "\n",
    "-   countryage\\_ln: Country age, logged\n",
    "\n",
    "-   wdi\\_popsize\\_ln: Population size, logged\n",
    "\n",
    "-   imr\\_normed\\_ln: Infant mortality rate relative to annual global\n",
    "    median, logged\n",
    "\n",
    "-   gdppcgrow\\_sr: Annual % change in GDP per capita, meld of IMF and\n",
    "    WDI, square root\n",
    "\n",
    "-   wdi\\_trade\\_ln: Trade openness, logged\n",
    "\n",
    "-   ios\\_iccpr1: ICCPR 1st Optional Protocol signatory\n",
    "\n",
    "-   postcw: Post-Cold War period (year ≥ 1991)\n",
    "\n",
    "-   pol\\_cat\\_fl1: Autocracy (Fearon and Laitin)\n",
    "\n",
    "-   pol\\_cat\\_fl2: Anocracy (Fearon and Laitin)\n",
    "\n",
    "-   pol\\_cat\\_fl3: Democracy (Fearon and Laitin)\n",
    "\n",
    "-   pol\\_cat\\_fl7: Other (Fearon and Laitin)\n",
    "\n",
    "-   pol\\_durable\\_ln: Regime duration, logged (Polity)\n",
    "\n",
    "-   dis\\_l4pop\\_ln: Percent of population subjected to state-led\n",
    "    discrimination, logged\n",
    "\n",
    "-   elf\\_ethnicc1: Ethnic fractionalization: low\n",
    "\n",
    "-   elf\\_ethnicc2: Ethnic fractionalization: medium\n",
    "\n",
    "    Note: Final category not needed: elf\\_ethnicc3: ethnic\n",
    "    fractionalization: high\n",
    "\n",
    "-   elf\\_ethnicc9: Ethnic fractionalization: missing\n",
    "\n",
    "-   elc\\_eleth1: Salient elite ethnicity: majority rule\n",
    "\n",
    "-   elc\\_eleth2: Salient elite ethnicity: minority rule\n",
    "\n",
    "    Note: Final category not needed: elc.elethc : Salient elite\n",
    "    ethnicity (yes/no)\n",
    "\n",
    "-   elc\\_eliti: Ruling elites espouse an exclusionary ideology\n",
    "\n",
    "-   cou\\_tries5d: Any coup attempts in past 5 years ((t-4) to (t))\n",
    "\n",
    "-   pit\\_sftpuhvl2\\_10\\_ln: Sum of max annual magnitudes of PITF\n",
    "    (Political Instability Task Force) instability other than genocide\n",
    "    from past 10 yrs ((t-9) to (t)), logged\n",
    "\n",
    "-   mev\\_regac\\_ln: Scalar measure of armed conflict in geographic\n",
    "    region, logged\n",
    "\n",
    "-   mev\\_civtot\\_ln: Scale of violent civil conflict, logged\n"
   ]
  },
  {
   "cell_type": "code",
   "execution_count": 18,
   "metadata": {
    "collapsed": false
   },
   "outputs": [
    {
     "data": {
      "text/html": [
       "<div>\n",
       "<table border=\"1\" class=\"dataframe\">\n",
       "  <thead>\n",
       "    <tr style=\"text-align: right;\">\n",
       "      <th></th>\n",
       "      <th>country</th>\n",
       "      <th>year</th>\n",
       "      <th>mkl_start</th>\n",
       "      <th>reg_afr</th>\n",
       "      <th>reg_eap</th>\n",
       "      <th>reg_eur</th>\n",
       "      <th>reg_mna</th>\n",
       "      <th>reg_sca</th>\n",
       "      <th>reg_amr</th>\n",
       "      <th>mkl_ongoing</th>\n",
       "      <th>...</th>\n",
       "      <th>elf_ethnicc1</th>\n",
       "      <th>elf_ethnicc2</th>\n",
       "      <th>elf_ethnicc9</th>\n",
       "      <th>elc_eleth1</th>\n",
       "      <th>elc_eleth2</th>\n",
       "      <th>elc_eliti</th>\n",
       "      <th>cou_tries5d</th>\n",
       "      <th>pit_sftpuhvl2_10_ln</th>\n",
       "      <th>mev_regac_ln</th>\n",
       "      <th>mev_civtot_ln</th>\n",
       "    </tr>\n",
       "  </thead>\n",
       "  <tbody>\n",
       "    <tr>\n",
       "      <th>0</th>\n",
       "      <td>Afghanistan</td>\n",
       "      <td>1945</td>\n",
       "      <td>0</td>\n",
       "      <td>0</td>\n",
       "      <td>0</td>\n",
       "      <td>0</td>\n",
       "      <td>0</td>\n",
       "      <td>1</td>\n",
       "      <td>0</td>\n",
       "      <td>0</td>\n",
       "      <td>...</td>\n",
       "      <td>0</td>\n",
       "      <td>0</td>\n",
       "      <td>0</td>\n",
       "      <td>NaN</td>\n",
       "      <td>NaN</td>\n",
       "      <td>NaN</td>\n",
       "      <td>NaN</td>\n",
       "      <td>NaN</td>\n",
       "      <td>NaN</td>\n",
       "      <td>NaN</td>\n",
       "    </tr>\n",
       "    <tr>\n",
       "      <th>1</th>\n",
       "      <td>Afghanistan</td>\n",
       "      <td>1946</td>\n",
       "      <td>0</td>\n",
       "      <td>0</td>\n",
       "      <td>0</td>\n",
       "      <td>0</td>\n",
       "      <td>0</td>\n",
       "      <td>1</td>\n",
       "      <td>0</td>\n",
       "      <td>0</td>\n",
       "      <td>...</td>\n",
       "      <td>0</td>\n",
       "      <td>0</td>\n",
       "      <td>0</td>\n",
       "      <td>NaN</td>\n",
       "      <td>NaN</td>\n",
       "      <td>NaN</td>\n",
       "      <td>NaN</td>\n",
       "      <td>NaN</td>\n",
       "      <td>2.197225</td>\n",
       "      <td>0.0</td>\n",
       "    </tr>\n",
       "    <tr>\n",
       "      <th>2</th>\n",
       "      <td>Afghanistan</td>\n",
       "      <td>1947</td>\n",
       "      <td>0</td>\n",
       "      <td>0</td>\n",
       "      <td>0</td>\n",
       "      <td>0</td>\n",
       "      <td>0</td>\n",
       "      <td>1</td>\n",
       "      <td>0</td>\n",
       "      <td>0</td>\n",
       "      <td>...</td>\n",
       "      <td>0</td>\n",
       "      <td>0</td>\n",
       "      <td>0</td>\n",
       "      <td>NaN</td>\n",
       "      <td>NaN</td>\n",
       "      <td>NaN</td>\n",
       "      <td>NaN</td>\n",
       "      <td>NaN</td>\n",
       "      <td>3.044522</td>\n",
       "      <td>0.0</td>\n",
       "    </tr>\n",
       "    <tr>\n",
       "      <th>3</th>\n",
       "      <td>Afghanistan</td>\n",
       "      <td>1948</td>\n",
       "      <td>0</td>\n",
       "      <td>0</td>\n",
       "      <td>0</td>\n",
       "      <td>0</td>\n",
       "      <td>0</td>\n",
       "      <td>1</td>\n",
       "      <td>0</td>\n",
       "      <td>0</td>\n",
       "      <td>...</td>\n",
       "      <td>0</td>\n",
       "      <td>0</td>\n",
       "      <td>0</td>\n",
       "      <td>NaN</td>\n",
       "      <td>NaN</td>\n",
       "      <td>NaN</td>\n",
       "      <td>NaN</td>\n",
       "      <td>NaN</td>\n",
       "      <td>2.944439</td>\n",
       "      <td>0.0</td>\n",
       "    </tr>\n",
       "    <tr>\n",
       "      <th>4</th>\n",
       "      <td>Afghanistan</td>\n",
       "      <td>1949</td>\n",
       "      <td>0</td>\n",
       "      <td>0</td>\n",
       "      <td>0</td>\n",
       "      <td>0</td>\n",
       "      <td>0</td>\n",
       "      <td>1</td>\n",
       "      <td>0</td>\n",
       "      <td>0</td>\n",
       "      <td>...</td>\n",
       "      <td>0</td>\n",
       "      <td>0</td>\n",
       "      <td>0</td>\n",
       "      <td>NaN</td>\n",
       "      <td>NaN</td>\n",
       "      <td>NaN</td>\n",
       "      <td>NaN</td>\n",
       "      <td>NaN</td>\n",
       "      <td>2.708050</td>\n",
       "      <td>0.0</td>\n",
       "    </tr>\n",
       "    <tr>\n",
       "      <th>5</th>\n",
       "      <td>Afghanistan</td>\n",
       "      <td>1950</td>\n",
       "      <td>0</td>\n",
       "      <td>0</td>\n",
       "      <td>0</td>\n",
       "      <td>0</td>\n",
       "      <td>0</td>\n",
       "      <td>1</td>\n",
       "      <td>0</td>\n",
       "      <td>0</td>\n",
       "      <td>...</td>\n",
       "      <td>0</td>\n",
       "      <td>0</td>\n",
       "      <td>0</td>\n",
       "      <td>NaN</td>\n",
       "      <td>NaN</td>\n",
       "      <td>NaN</td>\n",
       "      <td>0.0</td>\n",
       "      <td>NaN</td>\n",
       "      <td>3.218876</td>\n",
       "      <td>0.0</td>\n",
       "    </tr>\n",
       "    <tr>\n",
       "      <th>6</th>\n",
       "      <td>Afghanistan</td>\n",
       "      <td>1951</td>\n",
       "      <td>0</td>\n",
       "      <td>0</td>\n",
       "      <td>0</td>\n",
       "      <td>0</td>\n",
       "      <td>0</td>\n",
       "      <td>1</td>\n",
       "      <td>0</td>\n",
       "      <td>0</td>\n",
       "      <td>...</td>\n",
       "      <td>0</td>\n",
       "      <td>0</td>\n",
       "      <td>0</td>\n",
       "      <td>NaN</td>\n",
       "      <td>NaN</td>\n",
       "      <td>NaN</td>\n",
       "      <td>0.0</td>\n",
       "      <td>NaN</td>\n",
       "      <td>2.833213</td>\n",
       "      <td>0.0</td>\n",
       "    </tr>\n",
       "    <tr>\n",
       "      <th>7</th>\n",
       "      <td>Afghanistan</td>\n",
       "      <td>1952</td>\n",
       "      <td>0</td>\n",
       "      <td>0</td>\n",
       "      <td>0</td>\n",
       "      <td>0</td>\n",
       "      <td>0</td>\n",
       "      <td>1</td>\n",
       "      <td>0</td>\n",
       "      <td>0</td>\n",
       "      <td>...</td>\n",
       "      <td>0</td>\n",
       "      <td>0</td>\n",
       "      <td>0</td>\n",
       "      <td>NaN</td>\n",
       "      <td>NaN</td>\n",
       "      <td>NaN</td>\n",
       "      <td>0.0</td>\n",
       "      <td>NaN</td>\n",
       "      <td>2.564949</td>\n",
       "      <td>0.0</td>\n",
       "    </tr>\n",
       "    <tr>\n",
       "      <th>8</th>\n",
       "      <td>Afghanistan</td>\n",
       "      <td>1953</td>\n",
       "      <td>0</td>\n",
       "      <td>0</td>\n",
       "      <td>0</td>\n",
       "      <td>0</td>\n",
       "      <td>0</td>\n",
       "      <td>1</td>\n",
       "      <td>0</td>\n",
       "      <td>0</td>\n",
       "      <td>...</td>\n",
       "      <td>0</td>\n",
       "      <td>0</td>\n",
       "      <td>0</td>\n",
       "      <td>NaN</td>\n",
       "      <td>NaN</td>\n",
       "      <td>NaN</td>\n",
       "      <td>0.0</td>\n",
       "      <td>NaN</td>\n",
       "      <td>2.639057</td>\n",
       "      <td>0.0</td>\n",
       "    </tr>\n",
       "    <tr>\n",
       "      <th>9</th>\n",
       "      <td>Afghanistan</td>\n",
       "      <td>1954</td>\n",
       "      <td>0</td>\n",
       "      <td>0</td>\n",
       "      <td>0</td>\n",
       "      <td>0</td>\n",
       "      <td>0</td>\n",
       "      <td>1</td>\n",
       "      <td>0</td>\n",
       "      <td>0</td>\n",
       "      <td>...</td>\n",
       "      <td>0</td>\n",
       "      <td>0</td>\n",
       "      <td>0</td>\n",
       "      <td>NaN</td>\n",
       "      <td>NaN</td>\n",
       "      <td>NaN</td>\n",
       "      <td>0.0</td>\n",
       "      <td>NaN</td>\n",
       "      <td>2.302585</td>\n",
       "      <td>0.0</td>\n",
       "    </tr>\n",
       "  </tbody>\n",
       "</table>\n",
       "<p>10 rows × 34 columns</p>\n",
       "</div>"
      ],
      "text/plain": [
       "       country  year  mkl_start  reg_afr  reg_eap  reg_eur  reg_mna  reg_sca  \\\n",
       "0  Afghanistan  1945          0        0        0        0        0        1   \n",
       "1  Afghanistan  1946          0        0        0        0        0        1   \n",
       "2  Afghanistan  1947          0        0        0        0        0        1   \n",
       "3  Afghanistan  1948          0        0        0        0        0        1   \n",
       "4  Afghanistan  1949          0        0        0        0        0        1   \n",
       "5  Afghanistan  1950          0        0        0        0        0        1   \n",
       "6  Afghanistan  1951          0        0        0        0        0        1   \n",
       "7  Afghanistan  1952          0        0        0        0        0        1   \n",
       "8  Afghanistan  1953          0        0        0        0        0        1   \n",
       "9  Afghanistan  1954          0        0        0        0        0        1   \n",
       "\n",
       "   reg_amr  mkl_ongoing      ...        elf_ethnicc1  elf_ethnicc2  \\\n",
       "0        0            0      ...                   0             0   \n",
       "1        0            0      ...                   0             0   \n",
       "2        0            0      ...                   0             0   \n",
       "3        0            0      ...                   0             0   \n",
       "4        0            0      ...                   0             0   \n",
       "5        0            0      ...                   0             0   \n",
       "6        0            0      ...                   0             0   \n",
       "7        0            0      ...                   0             0   \n",
       "8        0            0      ...                   0             0   \n",
       "9        0            0      ...                   0             0   \n",
       "\n",
       "   elf_ethnicc9  elc_eleth1  elc_eleth2  elc_eliti  cou_tries5d  \\\n",
       "0             0         NaN         NaN        NaN          NaN   \n",
       "1             0         NaN         NaN        NaN          NaN   \n",
       "2             0         NaN         NaN        NaN          NaN   \n",
       "3             0         NaN         NaN        NaN          NaN   \n",
       "4             0         NaN         NaN        NaN          NaN   \n",
       "5             0         NaN         NaN        NaN          0.0   \n",
       "6             0         NaN         NaN        NaN          0.0   \n",
       "7             0         NaN         NaN        NaN          0.0   \n",
       "8             0         NaN         NaN        NaN          0.0   \n",
       "9             0         NaN         NaN        NaN          0.0   \n",
       "\n",
       "   pit_sftpuhvl2_10_ln  mev_regac_ln  mev_civtot_ln  \n",
       "0                  NaN           NaN            NaN  \n",
       "1                  NaN      2.197225            0.0  \n",
       "2                  NaN      3.044522            0.0  \n",
       "3                  NaN      2.944439            0.0  \n",
       "4                  NaN      2.708050            0.0  \n",
       "5                  NaN      3.218876            0.0  \n",
       "6                  NaN      2.833213            0.0  \n",
       "7                  NaN      2.564949            0.0  \n",
       "8                  NaN      2.639057            0.0  \n",
       "9                  NaN      2.302585            0.0  \n",
       "\n",
       "[10 rows x 34 columns]"
      ]
     },
     "execution_count": 18,
     "metadata": {},
     "output_type": "execute_result"
    }
   ],
   "source": [
    "train = data[['mkl_start','reg_afr','reg_eap','reg_eur','reg_mna','reg_sca','reg_amr','mkl_ongoing',\\\n",
    "             'mkl_ever','countryage_ln','wdi_popsize_ln','imr_normed_ln','gdppcgrow_sr','wdi_trade_ln',\\\n",
    "             'ios_iccpr1','postcw','pol_cat_fl1','pol_cat_fl2','pol_cat_fl3','pol_cat_fl7','pol_durable_ln',\\\n",
    "             'dis_l4pop_ln','elf_ethnicc1','elf_ethnicc2','elf_ethnicc9','elc_eleth1','elc_eleth2','elc_eliti',\\\n",
    "             'cou_tries5d','pit_sftpuhvl2_10_ln','mev_regac_ln','mev_civtot_ln']]\n",
    "\n",
    "info = data[['country','year']]\n",
    "# Don't need country and year for modeling, so save as separate dataframe\n",
    "train_info = result = pd.concat([info, train], axis=1)\n",
    "train_info.head(10)"
   ]
  },
  {
   "cell_type": "markdown",
   "metadata": {},
   "source": [
    "From the features listed above, there were 14563 nulls, with 2669 nulls\n",
    "in wdi\\_trade\\_ln, 2295 in gdppcgrow\\_sr, 1685 in wdi\\_popsize\\_ln."
   ]
  },
  {
   "cell_type": "code",
   "execution_count": 19,
   "metadata": {
    "collapsed": false
   },
   "outputs": [
    {
     "name": "stdout",
     "output_type": "stream",
     "text": [
      "\n",
      "Total nulls in filtered data: 14563\n",
      "\n",
      "mkl_start                 0\n",
      "reg_afr                   0\n",
      "reg_eap                   0\n",
      "reg_eur                   0\n",
      "reg_mna                   0\n",
      "reg_sca                   0\n",
      "reg_amr                   0\n",
      "mkl_ongoing               0\n",
      "mkl_ever                  0\n",
      "countryage_ln             0\n",
      "wdi_popsize_ln         1685\n",
      "imr_normed_ln           966\n",
      "gdppcgrow_sr           2295\n",
      "wdi_trade_ln           2669\n",
      "ios_iccpr1              994\n",
      "postcw                    0\n",
      "pol_cat_fl1             144\n",
      "pol_cat_fl2             144\n",
      "pol_cat_fl3             144\n",
      "pol_cat_fl7             144\n",
      "pol_durable_ln          175\n",
      "dis_l4pop_ln              0\n",
      "elf_ethnicc1              0\n",
      "elf_ethnicc2              0\n",
      "elf_ethnicc9              0\n",
      "elc_eleth1              934\n",
      "elc_eleth2              934\n",
      "elc_eliti               934\n",
      "cou_tries5d             360\n",
      "pit_sftpuhvl2_10_ln    1507\n",
      "mev_regac_ln            267\n",
      "mev_civtot_ln           267\n",
      "dtype: int64\n"
     ]
    }
   ],
   "source": [
    "print '\\nTotal nulls in filtered data: %s' % train.isnull().sum().sum()\n",
    "print\n",
    "print train.isnull().sum()"
   ]
  },
  {
   "cell_type": "markdown",
   "metadata": {},
   "source": [
    "From the features listed above, there were 14563 nulls, with 2669 nulls in wdi\\_trade\\_ln, 2295 in gdppcgrow\\_sr, 1685 in wdi\\_popsize\\_ln.\n",
    "\n",
    "To attempt to clean this data, nulls are replaced with the average values.\n",
    "\n",
    "**Note:**  The issue with this process of imputing missing data is that the mean value may be very misrepresentative for a given country. For example, Yugoslavia has no population size information for any years – is the global mean going to be a fare estimate? This country turned in to Bosnia and Herzegovina, Croatia, Federal Republic of Yugoslavia (later Serbia and Montenegro), Macedonia, and Slovenia. Yugoslavia had mass killings start in 1945 and 1991 and Bosnia and Herzegovina in 1992. Even though mass killings happened in Yugoslavia before the country split in 1991, none of these countries have “history” of mass killings (mkl\\_ever = 0). (Bosnia and Herzegovina had mass killings start in the first year and therefore have mkl\\_ever=1.) Most striking to me from this data is that Yugoslavia (mkl\\_ever = 1) split in to multiple countries including the Federal Republic of Yugoslavia (mkl\\_ever = 0) which later became Serbia and Montenegro (mkl\\_ever = 1) and then became the separate countries Serbia (mkl\\_ever = 0) and Montenegro (mkl\\_ever = 0). *Both the Federal Republic of Yugoslavia and (Serbia and Montenegro) never had\n",
    "mkl\\_start=0 and yet Serbia and Montenegro have history of mass killings.*"
   ]
  },
  {
   "cell_type": "code",
   "execution_count": 20,
   "metadata": {
    "collapsed": false
   },
   "outputs": [
    {
     "data": {
      "text/plain": [
       "mkl_start              0\n",
       "reg_afr                0\n",
       "reg_eap                0\n",
       "reg_eur                0\n",
       "reg_mna                0\n",
       "reg_sca                0\n",
       "reg_amr                0\n",
       "mkl_ongoing            0\n",
       "mkl_ever               0\n",
       "countryage_ln          0\n",
       "wdi_popsize_ln         0\n",
       "imr_normed_ln          0\n",
       "gdppcgrow_sr           0\n",
       "wdi_trade_ln           0\n",
       "ios_iccpr1             0\n",
       "postcw                 0\n",
       "pol_cat_fl1            0\n",
       "pol_cat_fl2            0\n",
       "pol_cat_fl3            0\n",
       "pol_cat_fl7            0\n",
       "pol_durable_ln         0\n",
       "dis_l4pop_ln           0\n",
       "elf_ethnicc1           0\n",
       "elf_ethnicc2           0\n",
       "elf_ethnicc9           0\n",
       "elc_eleth1             0\n",
       "elc_eleth2             0\n",
       "elc_eliti              0\n",
       "cou_tries5d            0\n",
       "pit_sftpuhvl2_10_ln    0\n",
       "mev_regac_ln           0\n",
       "mev_civtot_ln          0\n",
       "dtype: int64"
      ]
     },
     "execution_count": 20,
     "metadata": {},
     "output_type": "execute_result"
    }
   ],
   "source": [
    "# Whatcha gunna do with all those nulls?\n",
    "# Ideally, model values for each country.\n",
    "# ie, use KNN or DBSCAN clustering to group countries for every year\n",
    "# Start by using mean values...\n",
    "train_cleaned = train.fillna(train.mean())\n",
    "train_cleaned.isnull().sum()"
   ]
  },
  {
   "cell_type": "markdown",
   "metadata": {},
   "source": [
    "#### The following cells are attempting to create a new column for if a mass killing will start in the following year for that country"
   ]
  },
  {
   "cell_type": "code",
   "execution_count": 21,
   "metadata": {
    "collapsed": false
   },
   "outputs": [],
   "source": [
    "def buildLeadingFeatures(s,lead=2,dropna=True):\n",
    "    '''\n",
    "    Builds a new DataFrame to facilitate regressing over all possible lagged features\n",
    "    '''\n",
    "    if type(s) is pd.DataFrame:\n",
    "        new_dict={}\n",
    "        for col_name in s:\n",
    "            new_dict[col_name]=s[col_name]\n",
    "            # create leading Series\n",
    "            for l in range(1,lead+1):\n",
    "                new_dict['%s_lead%d' %(col_name,l)]=s[col_name].shift(-1)\n",
    "        res=pd.DataFrame(new_dict,index=s.index)\n",
    "\n",
    "    elif type(s) is pd.Series:\n",
    "        the_range=range(lead+1)\n",
    "        res=pd.concat([s.shift(-i) for i in the_range],axis=1)\n",
    "        res.columns=['lead_%d' %i for i in the_range]\n",
    "    else:\n",
    "        print 'Only works for DataFrame or Series'\n",
    "        return None\n",
    "    if dropna:\n",
    "        return res.dropna()\n",
    "    else:\n",
    "        return res\n",
    "\n",
    "#s2=pd.DataFrame({'a':[5,4,3,2,1], 'b':[50,40,30,20,10]},index=[1,2,3,4,5])\n",
    "#print s2\n",
    "#res2=buildLeadingFeatures(s2,lead=1,dropna=False)\n",
    "#res2"
   ]
  },
  {
   "cell_type": "code",
   "execution_count": 22,
   "metadata": {
    "collapsed": false
   },
   "outputs": [
    {
     "data": {
      "text/html": [
       "<div>\n",
       "<table border=\"1\" class=\"dataframe\">\n",
       "  <thead>\n",
       "    <tr style=\"text-align: right;\">\n",
       "      <th></th>\n",
       "      <th>country</th>\n",
       "      <th>mkl_start</th>\n",
       "      <th>mkl_start_next_year</th>\n",
       "    </tr>\n",
       "  </thead>\n",
       "  <tbody>\n",
       "    <tr>\n",
       "      <th>190</th>\n",
       "      <td>Algeria</td>\n",
       "      <td>0</td>\n",
       "      <td>0.0</td>\n",
       "    </tr>\n",
       "    <tr>\n",
       "      <th>191</th>\n",
       "      <td>Algeria</td>\n",
       "      <td>0</td>\n",
       "      <td>0.0</td>\n",
       "    </tr>\n",
       "    <tr>\n",
       "      <th>192</th>\n",
       "      <td>Algeria</td>\n",
       "      <td>0</td>\n",
       "      <td>NaN</td>\n",
       "    </tr>\n",
       "    <tr>\n",
       "      <th>193</th>\n",
       "      <td>Angola</td>\n",
       "      <td>1</td>\n",
       "      <td>0.0</td>\n",
       "    </tr>\n",
       "    <tr>\n",
       "      <th>194</th>\n",
       "      <td>Angola</td>\n",
       "      <td>0</td>\n",
       "      <td>0.0</td>\n",
       "    </tr>\n",
       "    <tr>\n",
       "      <th>195</th>\n",
       "      <td>Angola</td>\n",
       "      <td>0</td>\n",
       "      <td>0.0</td>\n",
       "    </tr>\n",
       "    <tr>\n",
       "      <th>196</th>\n",
       "      <td>Angola</td>\n",
       "      <td>0</td>\n",
       "      <td>0.0</td>\n",
       "    </tr>\n",
       "    <tr>\n",
       "      <th>197</th>\n",
       "      <td>Angola</td>\n",
       "      <td>0</td>\n",
       "      <td>0.0</td>\n",
       "    </tr>\n",
       "    <tr>\n",
       "      <th>198</th>\n",
       "      <td>Angola</td>\n",
       "      <td>0</td>\n",
       "      <td>0.0</td>\n",
       "    </tr>\n",
       "    <tr>\n",
       "      <th>199</th>\n",
       "      <td>Angola</td>\n",
       "      <td>0</td>\n",
       "      <td>0.0</td>\n",
       "    </tr>\n",
       "    <tr>\n",
       "      <th>200</th>\n",
       "      <td>Angola</td>\n",
       "      <td>0</td>\n",
       "      <td>0.0</td>\n",
       "    </tr>\n",
       "  </tbody>\n",
       "</table>\n",
       "</div>"
      ],
      "text/plain": [
       "     country  mkl_start  mkl_start_next_year\n",
       "190  Algeria          0                  0.0\n",
       "191  Algeria          0                  0.0\n",
       "192  Algeria          0                  NaN\n",
       "193   Angola          1                  0.0\n",
       "194   Angola          0                  0.0\n",
       "195   Angola          0                  0.0\n",
       "196   Angola          0                  0.0\n",
       "197   Angola          0                  0.0\n",
       "198   Angola          0                  0.0\n",
       "199   Angola          0                  0.0\n",
       "200   Angola          0                  0.0"
      ]
     },
     "execution_count": 22,
     "metadata": {},
     "output_type": "execute_result"
    }
   ],
   "source": [
    "dft = pd.concat([info,train_cleaned],axis=1)\n",
    "columns=['mkl_start','mkl_start_next_year']\n",
    "dft2 = pd.DataFrame(columns=columns)\n",
    "\n",
    "# Create new dataframe sorted by country and create new column for mkl_start_next_year\n",
    "for nation in dft.groupby('country').country.head(1):\n",
    "    # Create response for mkl_start_next_year for each country\n",
    "    # This also drops last observation for country, as mkl_start_next_year is null\n",
    "    temp = buildLeadingFeatures(dft[dft.country == nation].mkl_start,lead=1,dropna=False)\n",
    "    temp.rename(columns={\"lead_0\": \"mkl_start\", \"lead_1\": \"mkl_start_next_year\"}, inplace = True)\n",
    "    # Append dataframe for country into running \n",
    "    dft2 = dft2.append(temp,ignore_index=False)\n",
    "\n",
    "dft3 = pd.concat([dft,dft2.mkl_start_next_year],axis=1)\n",
    "# Verify results by making sure a country with mkl_start in its first year \n",
    "# does not result in mkl_start_next_year = 1 for the previous row.\n",
    "dft3[['country','mkl_start','mkl_start_next_year']][190:201]\n",
    "\n",
    "#dft3[190:201]"
   ]
  },
  {
   "cell_type": "code",
   "execution_count": 23,
   "metadata": {
    "collapsed": false
   },
   "outputs": [
    {
     "name": "stdout",
     "output_type": "stream",
     "text": [
      "(9330, 35)\n",
      "\n",
      "Nulls counted in the new column: 178\n",
      "         country  year  mkl_start  reg_afr  reg_eap  reg_eur  reg_mna  \\\n",
      "69   Afghanistan  2014          0        0        0        0        0   \n",
      "139      Albania  2014          0        0        0        1        0   \n",
      "192      Algeria  2014          0        0        0        0        1   \n",
      "232       Angola  2014          0        1        0        0        0   \n",
      "302    Argentina  2014          0        0        0        0        0   \n",
      "\n",
      "     reg_sca  reg_amr  mkl_ongoing         ...           elf_ethnicc2  \\\n",
      "69         1        0            0         ...                      0   \n",
      "139        0        0            0         ...                      0   \n",
      "192        0        0            0         ...                      1   \n",
      "232        0        0            0         ...                      0   \n",
      "302        0        1            0         ...                      0   \n",
      "\n",
      "     elf_ethnicc9  elc_eleth1  elc_eleth2  elc_eliti  cou_tries5d  \\\n",
      "69              0         0.0         0.0        0.0          0.0   \n",
      "139             0         0.0         0.0        0.0          0.0   \n",
      "192             0         1.0         0.0        1.0          0.0   \n",
      "232             0         0.0         0.0        0.0          0.0   \n",
      "302             0         0.0         0.0        0.0          0.0   \n",
      "\n",
      "     pit_sftpuhvl2_10_ln  mev_regac_ln  mev_civtot_ln  mkl_start_next_year  \n",
      "69              3.688879      2.944439       1.386294                  NaN  \n",
      "139             0.000000      2.197225       0.000000                  NaN  \n",
      "192             0.000000      2.772589       0.000000                  NaN  \n",
      "232             0.000000      1.945910       0.000000                  NaN  \n",
      "302             0.000000      1.609438       0.000000                  NaN  \n",
      "\n",
      "[5 rows x 35 columns]\n",
      "Nulls after cleaning new column: 0\n",
      "(9152, 35)\n"
     ]
    },
    {
     "data": {
      "text/html": [
       "<div>\n",
       "<table border=\"1\" class=\"dataframe\">\n",
       "  <thead>\n",
       "    <tr style=\"text-align: right;\">\n",
       "      <th></th>\n",
       "      <th>country</th>\n",
       "      <th>year</th>\n",
       "      <th>mkl_start</th>\n",
       "      <th>reg_afr</th>\n",
       "      <th>reg_eap</th>\n",
       "      <th>reg_eur</th>\n",
       "      <th>reg_mna</th>\n",
       "      <th>reg_sca</th>\n",
       "      <th>reg_amr</th>\n",
       "      <th>mkl_ongoing</th>\n",
       "      <th>...</th>\n",
       "      <th>elf_ethnicc2</th>\n",
       "      <th>elf_ethnicc9</th>\n",
       "      <th>elc_eleth1</th>\n",
       "      <th>elc_eleth2</th>\n",
       "      <th>elc_eliti</th>\n",
       "      <th>cou_tries5d</th>\n",
       "      <th>pit_sftpuhvl2_10_ln</th>\n",
       "      <th>mev_regac_ln</th>\n",
       "      <th>mev_civtot_ln</th>\n",
       "      <th>mkl_start_next_year</th>\n",
       "    </tr>\n",
       "  </thead>\n",
       "  <tbody>\n",
       "    <tr>\n",
       "      <th>190</th>\n",
       "      <td>Algeria</td>\n",
       "      <td>2012</td>\n",
       "      <td>0</td>\n",
       "      <td>0</td>\n",
       "      <td>0</td>\n",
       "      <td>0</td>\n",
       "      <td>1</td>\n",
       "      <td>0</td>\n",
       "      <td>0</td>\n",
       "      <td>0</td>\n",
       "      <td>...</td>\n",
       "      <td>1</td>\n",
       "      <td>0</td>\n",
       "      <td>1.0</td>\n",
       "      <td>0.0</td>\n",
       "      <td>1.0</td>\n",
       "      <td>0.0</td>\n",
       "      <td>1.386294</td>\n",
       "      <td>2.639057</td>\n",
       "      <td>0.000000</td>\n",
       "      <td>0.0</td>\n",
       "    </tr>\n",
       "    <tr>\n",
       "      <th>191</th>\n",
       "      <td>Algeria</td>\n",
       "      <td>2013</td>\n",
       "      <td>0</td>\n",
       "      <td>0</td>\n",
       "      <td>0</td>\n",
       "      <td>0</td>\n",
       "      <td>1</td>\n",
       "      <td>0</td>\n",
       "      <td>0</td>\n",
       "      <td>0</td>\n",
       "      <td>...</td>\n",
       "      <td>1</td>\n",
       "      <td>0</td>\n",
       "      <td>1.0</td>\n",
       "      <td>0.0</td>\n",
       "      <td>1.0</td>\n",
       "      <td>0.0</td>\n",
       "      <td>0.693147</td>\n",
       "      <td>2.708050</td>\n",
       "      <td>0.000000</td>\n",
       "      <td>0.0</td>\n",
       "    </tr>\n",
       "    <tr>\n",
       "      <th>193</th>\n",
       "      <td>Angola</td>\n",
       "      <td>1975</td>\n",
       "      <td>1</td>\n",
       "      <td>1</td>\n",
       "      <td>0</td>\n",
       "      <td>0</td>\n",
       "      <td>0</td>\n",
       "      <td>0</td>\n",
       "      <td>0</td>\n",
       "      <td>1</td>\n",
       "      <td>...</td>\n",
       "      <td>0</td>\n",
       "      <td>0</td>\n",
       "      <td>0.0</td>\n",
       "      <td>1.0</td>\n",
       "      <td>1.0</td>\n",
       "      <td>0.0</td>\n",
       "      <td>1.609438</td>\n",
       "      <td>0.693147</td>\n",
       "      <td>2.079442</td>\n",
       "      <td>0.0</td>\n",
       "    </tr>\n",
       "    <tr>\n",
       "      <th>194</th>\n",
       "      <td>Angola</td>\n",
       "      <td>1976</td>\n",
       "      <td>0</td>\n",
       "      <td>1</td>\n",
       "      <td>0</td>\n",
       "      <td>0</td>\n",
       "      <td>0</td>\n",
       "      <td>0</td>\n",
       "      <td>0</td>\n",
       "      <td>1</td>\n",
       "      <td>...</td>\n",
       "      <td>0</td>\n",
       "      <td>0</td>\n",
       "      <td>0.0</td>\n",
       "      <td>1.0</td>\n",
       "      <td>1.0</td>\n",
       "      <td>0.0</td>\n",
       "      <td>2.197225</td>\n",
       "      <td>1.098612</td>\n",
       "      <td>2.079442</td>\n",
       "      <td>0.0</td>\n",
       "    </tr>\n",
       "    <tr>\n",
       "      <th>195</th>\n",
       "      <td>Angola</td>\n",
       "      <td>1977</td>\n",
       "      <td>0</td>\n",
       "      <td>1</td>\n",
       "      <td>0</td>\n",
       "      <td>0</td>\n",
       "      <td>0</td>\n",
       "      <td>0</td>\n",
       "      <td>0</td>\n",
       "      <td>1</td>\n",
       "      <td>...</td>\n",
       "      <td>0</td>\n",
       "      <td>0</td>\n",
       "      <td>0.0</td>\n",
       "      <td>1.0</td>\n",
       "      <td>1.0</td>\n",
       "      <td>1.0</td>\n",
       "      <td>2.564949</td>\n",
       "      <td>1.609438</td>\n",
       "      <td>2.079442</td>\n",
       "      <td>0.0</td>\n",
       "    </tr>\n",
       "    <tr>\n",
       "      <th>196</th>\n",
       "      <td>Angola</td>\n",
       "      <td>1978</td>\n",
       "      <td>0</td>\n",
       "      <td>1</td>\n",
       "      <td>0</td>\n",
       "      <td>0</td>\n",
       "      <td>0</td>\n",
       "      <td>0</td>\n",
       "      <td>0</td>\n",
       "      <td>1</td>\n",
       "      <td>...</td>\n",
       "      <td>0</td>\n",
       "      <td>0</td>\n",
       "      <td>0.0</td>\n",
       "      <td>1.0</td>\n",
       "      <td>1.0</td>\n",
       "      <td>1.0</td>\n",
       "      <td>2.833213</td>\n",
       "      <td>1.609438</td>\n",
       "      <td>2.079442</td>\n",
       "      <td>0.0</td>\n",
       "    </tr>\n",
       "    <tr>\n",
       "      <th>197</th>\n",
       "      <td>Angola</td>\n",
       "      <td>1979</td>\n",
       "      <td>0</td>\n",
       "      <td>1</td>\n",
       "      <td>0</td>\n",
       "      <td>0</td>\n",
       "      <td>0</td>\n",
       "      <td>0</td>\n",
       "      <td>0</td>\n",
       "      <td>1</td>\n",
       "      <td>...</td>\n",
       "      <td>0</td>\n",
       "      <td>0</td>\n",
       "      <td>0.0</td>\n",
       "      <td>1.0</td>\n",
       "      <td>1.0</td>\n",
       "      <td>1.0</td>\n",
       "      <td>3.044522</td>\n",
       "      <td>1.386294</td>\n",
       "      <td>2.079442</td>\n",
       "      <td>0.0</td>\n",
       "    </tr>\n",
       "    <tr>\n",
       "      <th>198</th>\n",
       "      <td>Angola</td>\n",
       "      <td>1980</td>\n",
       "      <td>0</td>\n",
       "      <td>1</td>\n",
       "      <td>0</td>\n",
       "      <td>0</td>\n",
       "      <td>0</td>\n",
       "      <td>0</td>\n",
       "      <td>0</td>\n",
       "      <td>1</td>\n",
       "      <td>...</td>\n",
       "      <td>0</td>\n",
       "      <td>0</td>\n",
       "      <td>0.0</td>\n",
       "      <td>1.0</td>\n",
       "      <td>1.0</td>\n",
       "      <td>1.0</td>\n",
       "      <td>3.218876</td>\n",
       "      <td>1.098612</td>\n",
       "      <td>2.079442</td>\n",
       "      <td>0.0</td>\n",
       "    </tr>\n",
       "    <tr>\n",
       "      <th>199</th>\n",
       "      <td>Angola</td>\n",
       "      <td>1981</td>\n",
       "      <td>0</td>\n",
       "      <td>1</td>\n",
       "      <td>0</td>\n",
       "      <td>0</td>\n",
       "      <td>0</td>\n",
       "      <td>0</td>\n",
       "      <td>0</td>\n",
       "      <td>1</td>\n",
       "      <td>...</td>\n",
       "      <td>0</td>\n",
       "      <td>0</td>\n",
       "      <td>0.0</td>\n",
       "      <td>1.0</td>\n",
       "      <td>1.0</td>\n",
       "      <td>1.0</td>\n",
       "      <td>3.367296</td>\n",
       "      <td>2.302585</td>\n",
       "      <td>2.079442</td>\n",
       "      <td>0.0</td>\n",
       "    </tr>\n",
       "    <tr>\n",
       "      <th>200</th>\n",
       "      <td>Angola</td>\n",
       "      <td>1982</td>\n",
       "      <td>0</td>\n",
       "      <td>1</td>\n",
       "      <td>0</td>\n",
       "      <td>0</td>\n",
       "      <td>0</td>\n",
       "      <td>0</td>\n",
       "      <td>0</td>\n",
       "      <td>1</td>\n",
       "      <td>...</td>\n",
       "      <td>0</td>\n",
       "      <td>0</td>\n",
       "      <td>0.0</td>\n",
       "      <td>1.0</td>\n",
       "      <td>1.0</td>\n",
       "      <td>0.0</td>\n",
       "      <td>3.496508</td>\n",
       "      <td>2.302585</td>\n",
       "      <td>2.079442</td>\n",
       "      <td>0.0</td>\n",
       "    </tr>\n",
       "  </tbody>\n",
       "</table>\n",
       "<p>10 rows × 35 columns</p>\n",
       "</div>"
      ],
      "text/plain": [
       "     country  year  mkl_start  reg_afr  reg_eap  reg_eur  reg_mna  reg_sca  \\\n",
       "190  Algeria  2012          0        0        0        0        1        0   \n",
       "191  Algeria  2013          0        0        0        0        1        0   \n",
       "193   Angola  1975          1        1        0        0        0        0   \n",
       "194   Angola  1976          0        1        0        0        0        0   \n",
       "195   Angola  1977          0        1        0        0        0        0   \n",
       "196   Angola  1978          0        1        0        0        0        0   \n",
       "197   Angola  1979          0        1        0        0        0        0   \n",
       "198   Angola  1980          0        1        0        0        0        0   \n",
       "199   Angola  1981          0        1        0        0        0        0   \n",
       "200   Angola  1982          0        1        0        0        0        0   \n",
       "\n",
       "     reg_amr  mkl_ongoing         ...           elf_ethnicc2  elf_ethnicc9  \\\n",
       "190        0            0         ...                      1             0   \n",
       "191        0            0         ...                      1             0   \n",
       "193        0            1         ...                      0             0   \n",
       "194        0            1         ...                      0             0   \n",
       "195        0            1         ...                      0             0   \n",
       "196        0            1         ...                      0             0   \n",
       "197        0            1         ...                      0             0   \n",
       "198        0            1         ...                      0             0   \n",
       "199        0            1         ...                      0             0   \n",
       "200        0            1         ...                      0             0   \n",
       "\n",
       "     elc_eleth1  elc_eleth2  elc_eliti  cou_tries5d  pit_sftpuhvl2_10_ln  \\\n",
       "190         1.0         0.0        1.0          0.0             1.386294   \n",
       "191         1.0         0.0        1.0          0.0             0.693147   \n",
       "193         0.0         1.0        1.0          0.0             1.609438   \n",
       "194         0.0         1.0        1.0          0.0             2.197225   \n",
       "195         0.0         1.0        1.0          1.0             2.564949   \n",
       "196         0.0         1.0        1.0          1.0             2.833213   \n",
       "197         0.0         1.0        1.0          1.0             3.044522   \n",
       "198         0.0         1.0        1.0          1.0             3.218876   \n",
       "199         0.0         1.0        1.0          1.0             3.367296   \n",
       "200         0.0         1.0        1.0          0.0             3.496508   \n",
       "\n",
       "     mev_regac_ln  mev_civtot_ln  mkl_start_next_year  \n",
       "190      2.639057       0.000000                  0.0  \n",
       "191      2.708050       0.000000                  0.0  \n",
       "193      0.693147       2.079442                  0.0  \n",
       "194      1.098612       2.079442                  0.0  \n",
       "195      1.609438       2.079442                  0.0  \n",
       "196      1.609438       2.079442                  0.0  \n",
       "197      1.386294       2.079442                  0.0  \n",
       "198      1.098612       2.079442                  0.0  \n",
       "199      2.302585       2.079442                  0.0  \n",
       "200      2.302585       2.079442                  0.0  \n",
       "\n",
       "[10 rows x 35 columns]"
      ]
     },
     "execution_count": 23,
     "metadata": {},
     "output_type": "execute_result"
    }
   ],
   "source": [
    "train_cleaned = dft3\n",
    "print train_cleaned.shape\n",
    "print\n",
    "print \"Nulls counted in the new column: %s\" % train_cleaned.isnull().mkl_start_next_year.sum()\n",
    "\n",
    "print train_cleaned[train_cleaned.mkl_start_next_year.isnull() == True].head()\n",
    "# Drop rows where we do not have data on if a mkl started the next year, ie last year reported for country\n",
    "train_cleaned = train_cleaned.dropna()\n",
    "print \"Nulls after cleaning new column: %s\" % train_cleaned.isnull().mkl_start_next_year.sum()\n",
    "\n",
    "print train_cleaned.shape\n",
    "train_cleaned[188:198]"
   ]
  },
  {
   "cell_type": "code",
   "execution_count": 24,
   "metadata": {
    "collapsed": false
   },
   "outputs": [
    {
     "name": "stdout",
     "output_type": "stream",
     "text": [
      "The number of observations where the country would have a mass killing start in the following year is: 98\n"
     ]
    }
   ],
   "source": [
    "y_count = train_cleaned[train_cleaned.mkl_start_next_year == 1].mkl_start_next_year.sum()\n",
    "print 'The number of observations where the country would have a \\\n",
    "mass killing start in the following year is: %s' % int(y_count)"
   ]
  },
  {
   "cell_type": "code",
   "execution_count": 25,
   "metadata": {
    "collapsed": false
   },
   "outputs": [
    {
     "name": "stdout",
     "output_type": "stream",
     "text": [
      "pol_durable_ln        -0.060688\n",
      "pol_cat_fl3           -0.059782\n",
      "wdi_trade_ln          -0.048357\n",
      "reg_eur               -0.042546\n",
      "postcw                -0.040009\n",
      "ios_iccpr1            -0.037183\n",
      "elf_ethnicc1          -0.033181\n",
      "gdppcgrow_sr          -0.022096\n",
      "countryage_ln         -0.016640\n",
      "reg_amr               -0.016557\n",
      "pol_cat_fl1           -0.002224\n",
      "elf_ethnicc2           0.001033\n",
      "elf_ethnicc9           0.004839\n",
      "reg_eap                0.004854\n",
      "reg_mna                0.006837\n",
      "mkl_start              0.007325\n",
      "elc_eliti              0.013516\n",
      "mkl_ongoing            0.025865\n",
      "reg_afr                0.030034\n",
      "elc_eleth2             0.031090\n",
      "reg_sca                0.032442\n",
      "elc_eleth1             0.038428\n",
      "mev_regac_ln           0.040750\n",
      "wdi_popsize_ln         0.041123\n",
      "mkl_ever               0.041989\n",
      "pol_cat_fl2            0.043285\n",
      "dis_l4pop_ln           0.049679\n",
      "pit_sftpuhvl2_10_ln    0.054780\n",
      "cou_tries5d            0.057794\n",
      "pol_cat_fl7            0.060388\n",
      "imr_normed_ln          0.061869\n",
      "mev_civtot_ln          0.068543\n",
      "mkl_start_next_year    1.000000\n",
      "Name: mkl_start_next_year, dtype: float64\n"
     ]
    },
    {
     "data": {
      "text/plain": [
       "<matplotlib.axes._subplots.AxesSubplot at 0x10b4bef0>"
      ]
     },
     "execution_count": 25,
     "metadata": {},
     "output_type": "execute_result"
    },
    {
     "data": {
      "image/png": "[encoded data removed]",
      "text/plain": [
       "<matplotlib.figure.Figure at 0x10b5ed68>"
      ]
     },
     "metadata": {},
     "output_type": "display_data"
    }
   ],
   "source": [
    "# Correlation heatmap for cleaned data\n",
    "dft = train_cleaned.corr()\n",
    "# Print correlation values against mkl_start\n",
    "print dft.mkl_start_next_year.drop(dft.index[0]).sort_values()\n",
    "# Observations:\n",
    "#    Negative corr (<-4.5%)\n",
    "#        pol_durable_ln        -0.060688\n",
    "#            Regime duration (makes sense, although surprised to see strongest neg corr here)\n",
    "#        pol_cat_fl3           -0.059782\n",
    "#            Democracy political category\n",
    "#        wdi_trade_ln          -0.048357\n",
    "#            Trade openness, logged\n",
    "#    Positive corr (>6%)\n",
    "#        pol_cat_fl7            0.060388\n",
    "#             Other political cat (not dem, autocracy, or anocracy) (suprise: anocracy )\n",
    "#        imr_normed_ln          0.061869\n",
    "#            Infant mortality rate, logged\n",
    "#        mev_civtot_ln          0.068543\n",
    "#            Scale of violent civil conflict, logged\n",
    "        \n",
    "sns.heatmap(dft)"
   ]
  },
  {
   "cell_type": "markdown",
   "metadata": {},
   "source": [
    "7. Details of modeling process, including how models were selected and validated\n",
    "===========================================================================================\n",
    "\n",
    "Logistic regression and RandomForests are used along with the pre-defined features. Confusion matrix helps understand and refine the classification results – want to capture more true positives to make sure my model can catch all mkl\\_starts."
   ]
  },
  {
   "cell_type": "markdown",
   "metadata": {},
   "source": [
    "## Logistic Regression"
   ]
  },
  {
   "cell_type": "code",
   "execution_count": 26,
   "metadata": {
    "collapsed": false
   },
   "outputs": [
    {
     "name": "stdout",
     "output_type": "stream",
     "text": [
      "0.0    9054\n",
      "1.0      98\n",
      "Name: mkl_start_next_year, dtype: int64\n"
     ]
    },
    {
     "data": {
      "text/html": [
       "<div>\n",
       "<table border=\"1\" class=\"dataframe\">\n",
       "  <thead>\n",
       "    <tr style=\"text-align: right;\">\n",
       "      <th></th>\n",
       "      <th>reg_afr</th>\n",
       "      <th>reg_eap</th>\n",
       "      <th>reg_eur</th>\n",
       "      <th>reg_mna</th>\n",
       "      <th>reg_sca</th>\n",
       "      <th>reg_amr</th>\n",
       "      <th>mkl_ongoing</th>\n",
       "      <th>mkl_ever</th>\n",
       "      <th>countryage_ln</th>\n",
       "      <th>wdi_popsize_ln</th>\n",
       "      <th>...</th>\n",
       "      <th>elf_ethnicc1</th>\n",
       "      <th>elf_ethnicc2</th>\n",
       "      <th>elf_ethnicc9</th>\n",
       "      <th>elc_eleth1</th>\n",
       "      <th>elc_eleth2</th>\n",
       "      <th>elc_eliti</th>\n",
       "      <th>cou_tries5d</th>\n",
       "      <th>pit_sftpuhvl2_10_ln</th>\n",
       "      <th>mev_regac_ln</th>\n",
       "      <th>mev_civtot_ln</th>\n",
       "    </tr>\n",
       "  </thead>\n",
       "  <tbody>\n",
       "    <tr>\n",
       "      <th>0</th>\n",
       "      <td>0</td>\n",
       "      <td>0</td>\n",
       "      <td>0</td>\n",
       "      <td>0</td>\n",
       "      <td>1</td>\n",
       "      <td>0</td>\n",
       "      <td>0</td>\n",
       "      <td>0</td>\n",
       "      <td>3.295837</td>\n",
       "      <td>8.992729</td>\n",
       "      <td>...</td>\n",
       "      <td>0</td>\n",
       "      <td>0</td>\n",
       "      <td>0</td>\n",
       "      <td>0.253335</td>\n",
       "      <td>0.135541</td>\n",
       "      <td>0.217723</td>\n",
       "      <td>0.198439</td>\n",
       "      <td>0.797551</td>\n",
       "      <td>2.259752</td>\n",
       "      <td>0.251369</td>\n",
       "    </tr>\n",
       "    <tr>\n",
       "      <th>1</th>\n",
       "      <td>0</td>\n",
       "      <td>0</td>\n",
       "      <td>0</td>\n",
       "      <td>0</td>\n",
       "      <td>1</td>\n",
       "      <td>0</td>\n",
       "      <td>0</td>\n",
       "      <td>0</td>\n",
       "      <td>3.332205</td>\n",
       "      <td>8.992729</td>\n",
       "      <td>...</td>\n",
       "      <td>0</td>\n",
       "      <td>0</td>\n",
       "      <td>0</td>\n",
       "      <td>0.253335</td>\n",
       "      <td>0.135541</td>\n",
       "      <td>0.217723</td>\n",
       "      <td>0.198439</td>\n",
       "      <td>0.797551</td>\n",
       "      <td>2.197225</td>\n",
       "      <td>0.000000</td>\n",
       "    </tr>\n",
       "    <tr>\n",
       "      <th>2</th>\n",
       "      <td>0</td>\n",
       "      <td>0</td>\n",
       "      <td>0</td>\n",
       "      <td>0</td>\n",
       "      <td>1</td>\n",
       "      <td>0</td>\n",
       "      <td>0</td>\n",
       "      <td>0</td>\n",
       "      <td>3.367296</td>\n",
       "      <td>8.992729</td>\n",
       "      <td>...</td>\n",
       "      <td>0</td>\n",
       "      <td>0</td>\n",
       "      <td>0</td>\n",
       "      <td>0.253335</td>\n",
       "      <td>0.135541</td>\n",
       "      <td>0.217723</td>\n",
       "      <td>0.198439</td>\n",
       "      <td>0.797551</td>\n",
       "      <td>3.044522</td>\n",
       "      <td>0.000000</td>\n",
       "    </tr>\n",
       "    <tr>\n",
       "      <th>3</th>\n",
       "      <td>0</td>\n",
       "      <td>0</td>\n",
       "      <td>0</td>\n",
       "      <td>0</td>\n",
       "      <td>1</td>\n",
       "      <td>0</td>\n",
       "      <td>0</td>\n",
       "      <td>0</td>\n",
       "      <td>3.401197</td>\n",
       "      <td>8.992729</td>\n",
       "      <td>...</td>\n",
       "      <td>0</td>\n",
       "      <td>0</td>\n",
       "      <td>0</td>\n",
       "      <td>0.253335</td>\n",
       "      <td>0.135541</td>\n",
       "      <td>0.217723</td>\n",
       "      <td>0.198439</td>\n",
       "      <td>0.797551</td>\n",
       "      <td>2.944439</td>\n",
       "      <td>0.000000</td>\n",
       "    </tr>\n",
       "    <tr>\n",
       "      <th>4</th>\n",
       "      <td>0</td>\n",
       "      <td>0</td>\n",
       "      <td>0</td>\n",
       "      <td>0</td>\n",
       "      <td>1</td>\n",
       "      <td>0</td>\n",
       "      <td>0</td>\n",
       "      <td>0</td>\n",
       "      <td>3.433987</td>\n",
       "      <td>8.992729</td>\n",
       "      <td>...</td>\n",
       "      <td>0</td>\n",
       "      <td>0</td>\n",
       "      <td>0</td>\n",
       "      <td>0.253335</td>\n",
       "      <td>0.135541</td>\n",
       "      <td>0.217723</td>\n",
       "      <td>0.198439</td>\n",
       "      <td>0.797551</td>\n",
       "      <td>2.708050</td>\n",
       "      <td>0.000000</td>\n",
       "    </tr>\n",
       "  </tbody>\n",
       "</table>\n",
       "<p>5 rows × 31 columns</p>\n",
       "</div>"
      ],
      "text/plain": [
       "   reg_afr  reg_eap  reg_eur  reg_mna  reg_sca  reg_amr  mkl_ongoing  \\\n",
       "0        0        0        0        0        1        0            0   \n",
       "1        0        0        0        0        1        0            0   \n",
       "2        0        0        0        0        1        0            0   \n",
       "3        0        0        0        0        1        0            0   \n",
       "4        0        0        0        0        1        0            0   \n",
       "\n",
       "   mkl_ever  countryage_ln  wdi_popsize_ln      ...        elf_ethnicc1  \\\n",
       "0         0       3.295837        8.992729      ...                   0   \n",
       "1         0       3.332205        8.992729      ...                   0   \n",
       "2         0       3.367296        8.992729      ...                   0   \n",
       "3         0       3.401197        8.992729      ...                   0   \n",
       "4         0       3.433987        8.992729      ...                   0   \n",
       "\n",
       "   elf_ethnicc2  elf_ethnicc9  elc_eleth1  elc_eleth2  elc_eliti  cou_tries5d  \\\n",
       "0             0             0    0.253335    0.135541   0.217723     0.198439   \n",
       "1             0             0    0.253335    0.135541   0.217723     0.198439   \n",
       "2             0             0    0.253335    0.135541   0.217723     0.198439   \n",
       "3             0             0    0.253335    0.135541   0.217723     0.198439   \n",
       "4             0             0    0.253335    0.135541   0.217723     0.198439   \n",
       "\n",
       "   pit_sftpuhvl2_10_ln  mev_regac_ln  mev_civtot_ln  \n",
       "0             0.797551      2.259752       0.251369  \n",
       "1             0.797551      2.197225       0.000000  \n",
       "2             0.797551      3.044522       0.000000  \n",
       "3             0.797551      2.944439       0.000000  \n",
       "4             0.797551      2.708050       0.000000  \n",
       "\n",
       "[5 rows x 31 columns]"
      ]
     },
     "execution_count": 26,
     "metadata": {},
     "output_type": "execute_result"
    }
   ],
   "source": [
    "# 1. Define X and y\n",
    "feature_cols = ['reg_afr','reg_eap','reg_eur','reg_mna','reg_sca','reg_amr','mkl_ongoing',\\\n",
    "             'mkl_ever','countryage_ln','wdi_popsize_ln','imr_normed_ln','gdppcgrow_sr','wdi_trade_ln',\\\n",
    "             'ios_iccpr1','postcw','pol_cat_fl1','pol_cat_fl2','pol_cat_fl3','pol_cat_fl7','pol_durable_ln',\\\n",
    "             'dis_l4pop_ln','elf_ethnicc1','elf_ethnicc2','elf_ethnicc9','elc_eleth1','elc_eleth2','elc_eliti',\\\n",
    "             'cou_tries5d','pit_sftpuhvl2_10_ln','mev_regac_ln','mev_civtot_ln']\n",
    "X = train_cleaned[feature_cols]\n",
    "y = train_cleaned.mkl_start_next_year\n",
    "#y = train_cleaned.mkl_start\n",
    "\n",
    "print y.value_counts()\n",
    "X.head()"
   ]
  },
  {
   "cell_type": "code",
   "execution_count": 27,
   "metadata": {
    "collapsed": true
   },
   "outputs": [],
   "source": [
    "# 2. Choose model and import\n",
    "from sklearn.linear_model import LogisticRegression"
   ]
  },
  {
   "cell_type": "code",
   "execution_count": 182,
   "metadata": {
    "collapsed": false
   },
   "outputs": [
    {
     "data": {
      "text/plain": [
       "0.001"
      ]
     },
     "execution_count": 182,
     "metadata": {},
     "output_type": "execute_result"
    }
   ],
   "source": [
    "from sklearn.model_selection import GridSearchCV\n",
    "param_grid = {'C': [0.001, 0.01, 0.1, 1, 10, 100, 1000] }\n",
    "# GridSearchCV can be used somehow to get the best C value to use.\n",
    "clf = GridSearchCV(LogisticRegression(penalty='l2'), param_grid)\n",
    "GridSearchCV(cv=None,\n",
    "       estimator=LogisticRegression(C=1.0, intercept_scaling=1, dual=False, fit_intercept=True,\n",
    "          penalty='l2', tol=0.0001),\n",
    "       param_grid={'C': [0.001, 0.01, 0.1, 1, 10, 100, 1000]})\n",
    "\n",
    "# Find best C value using GridSearchCV\n",
    "clf.fit(X,y)\n",
    "clf.best_params_['C']"
   ]
  },
  {
   "cell_type": "code",
   "execution_count": 183,
   "metadata": {
    "collapsed": false
   },
   "outputs": [],
   "source": [
    "# 3. Instantiate\n",
    "# Increasing C>1 does not increase sensitivity but does increase FPs\n",
    "# Best C value from above is incorrect and leads to 0 TP\n",
    "#logreg = LogisticRegression(C=clf.best_params_['C'])\n",
    "# Manually found C value with max TP and min FP\n",
    "# Manually played with tol and could not improve sensitivity\n",
    "logreg = LogisticRegression(C=clf.best_params_['C'])"
   ]
  },
  {
   "cell_type": "code",
   "execution_count": 30,
   "metadata": {
    "collapsed": false
   },
   "outputs": [
    {
     "name": "stderr",
     "output_type": "stream",
     "text": [
      "C:\\Program Files\\Anaconda2\\lib\\site-packages\\sklearn\\cross_validation.py:44: DeprecationWarning: This module was deprecated in version 0.18 in favor of the model_selection module into which all the refactored classes and functions are moved. Also note that the interface of the new CV iterators are different from that of this module. This module will be removed in 0.20.\n",
      "  \"This module will be removed in 0.20.\", DeprecationWarning)\n"
     ]
    },
    {
     "name": "stdout",
     "output_type": "stream",
     "text": [
      "0.989291958042\n"
     ]
    },
    {
     "data": {
      "text/html": [
       "<div>\n",
       "<table border=\"1\" class=\"dataframe\">\n",
       "  <thead>\n",
       "    <tr style=\"text-align: right;\">\n",
       "      <th></th>\n",
       "      <th>Predicted_mkl_start</th>\n",
       "    </tr>\n",
       "  </thead>\n",
       "  <tbody>\n",
       "    <tr>\n",
       "      <th>0</th>\n",
       "      <td>0.0</td>\n",
       "    </tr>\n",
       "    <tr>\n",
       "      <th>1</th>\n",
       "      <td>0.0</td>\n",
       "    </tr>\n",
       "    <tr>\n",
       "      <th>2</th>\n",
       "      <td>0.0</td>\n",
       "    </tr>\n",
       "    <tr>\n",
       "      <th>3</th>\n",
       "      <td>0.0</td>\n",
       "    </tr>\n",
       "    <tr>\n",
       "      <th>4</th>\n",
       "      <td>0.0</td>\n",
       "    </tr>\n",
       "  </tbody>\n",
       "</table>\n",
       "</div>"
      ],
      "text/plain": [
       "   Predicted_mkl_start\n",
       "0                  0.0\n",
       "1                  0.0\n",
       "2                  0.0\n",
       "3                  0.0\n",
       "4                  0.0"
      ]
     },
     "execution_count": 30,
     "metadata": {},
     "output_type": "execute_result"
    }
   ],
   "source": [
    "# 4. Fit model, 5. Predict, 6. Evaluate\n",
    "from sklearn.cross_validation import cross_val_score\n",
    "from sklearn import metrics, cross_validation\n",
    "# 10-fold cross-validation used to check model accuracy and keeps predicted results\n",
    "predicted = cross_validation.cross_val_predict(logreg, X, y, cv=10)\n",
    "print metrics.accuracy_score(y, predicted)\n",
    "pred = pd.DataFrame(predicted, columns=['Predicted_mkl_start'])\n",
    "pred.head()"
   ]
  },
  {
   "cell_type": "code",
   "execution_count": 31,
   "metadata": {
    "collapsed": false
   },
   "outputs": [
    {
     "data": {
      "text/plain": [
       "Predicted_mkl_start    0\n",
       "dtype: int64"
      ]
     },
     "execution_count": 31,
     "metadata": {},
     "output_type": "execute_result"
    }
   ],
   "source": [
    "# The original dataset has 116 mkl_start. Prediction from model: 18\n",
    "# Note: When using y = mkl_start_next_year, predictions from model = 0. Not sure why.\n",
    "pred[pred.Predicted_mkl_start == 1].count()"
   ]
  },
  {
   "cell_type": "code",
   "execution_count": 32,
   "metadata": {
    "collapsed": false
   },
   "outputs": [
    {
     "name": "stdout",
     "output_type": "stream",
     "text": [
      "(9330, 35)\n"
     ]
    },
    {
     "data": {
      "text/html": [
       "<div>\n",
       "<table border=\"1\" class=\"dataframe\">\n",
       "  <thead>\n",
       "    <tr style=\"text-align: right;\">\n",
       "      <th></th>\n",
       "      <th>country</th>\n",
       "      <th>year</th>\n",
       "      <th>mkl_start_next_year</th>\n",
       "      <th>Predicted_mkl_start</th>\n",
       "      <th>reg_afr</th>\n",
       "      <th>reg_eap</th>\n",
       "      <th>reg_eur</th>\n",
       "      <th>reg_mna</th>\n",
       "      <th>reg_sca</th>\n",
       "      <th>reg_amr</th>\n",
       "      <th>...</th>\n",
       "      <th>elf_ethnicc1</th>\n",
       "      <th>elf_ethnicc2</th>\n",
       "      <th>elf_ethnicc9</th>\n",
       "      <th>elc_eleth1</th>\n",
       "      <th>elc_eleth2</th>\n",
       "      <th>elc_eliti</th>\n",
       "      <th>cou_tries5d</th>\n",
       "      <th>pit_sftpuhvl2_10_ln</th>\n",
       "      <th>mev_regac_ln</th>\n",
       "      <th>mev_civtot_ln</th>\n",
       "    </tr>\n",
       "  </thead>\n",
       "  <tbody>\n",
       "    <tr>\n",
       "      <th>0</th>\n",
       "      <td>Afghanistan</td>\n",
       "      <td>1945</td>\n",
       "      <td>0.0</td>\n",
       "      <td>0.0</td>\n",
       "      <td>0.0</td>\n",
       "      <td>0.0</td>\n",
       "      <td>0.0</td>\n",
       "      <td>0.0</td>\n",
       "      <td>1.0</td>\n",
       "      <td>0.0</td>\n",
       "      <td>...</td>\n",
       "      <td>0.0</td>\n",
       "      <td>0.0</td>\n",
       "      <td>0.0</td>\n",
       "      <td>0.253335</td>\n",
       "      <td>0.135541</td>\n",
       "      <td>0.217723</td>\n",
       "      <td>0.198439</td>\n",
       "      <td>0.797551</td>\n",
       "      <td>2.259752</td>\n",
       "      <td>0.251369</td>\n",
       "    </tr>\n",
       "    <tr>\n",
       "      <th>1</th>\n",
       "      <td>Afghanistan</td>\n",
       "      <td>1946</td>\n",
       "      <td>0.0</td>\n",
       "      <td>0.0</td>\n",
       "      <td>0.0</td>\n",
       "      <td>0.0</td>\n",
       "      <td>0.0</td>\n",
       "      <td>0.0</td>\n",
       "      <td>1.0</td>\n",
       "      <td>0.0</td>\n",
       "      <td>...</td>\n",
       "      <td>0.0</td>\n",
       "      <td>0.0</td>\n",
       "      <td>0.0</td>\n",
       "      <td>0.253335</td>\n",
       "      <td>0.135541</td>\n",
       "      <td>0.217723</td>\n",
       "      <td>0.198439</td>\n",
       "      <td>0.797551</td>\n",
       "      <td>2.197225</td>\n",
       "      <td>0.000000</td>\n",
       "    </tr>\n",
       "    <tr>\n",
       "      <th>2</th>\n",
       "      <td>Afghanistan</td>\n",
       "      <td>1947</td>\n",
       "      <td>0.0</td>\n",
       "      <td>0.0</td>\n",
       "      <td>0.0</td>\n",
       "      <td>0.0</td>\n",
       "      <td>0.0</td>\n",
       "      <td>0.0</td>\n",
       "      <td>1.0</td>\n",
       "      <td>0.0</td>\n",
       "      <td>...</td>\n",
       "      <td>0.0</td>\n",
       "      <td>0.0</td>\n",
       "      <td>0.0</td>\n",
       "      <td>0.253335</td>\n",
       "      <td>0.135541</td>\n",
       "      <td>0.217723</td>\n",
       "      <td>0.198439</td>\n",
       "      <td>0.797551</td>\n",
       "      <td>3.044522</td>\n",
       "      <td>0.000000</td>\n",
       "    </tr>\n",
       "    <tr>\n",
       "      <th>3</th>\n",
       "      <td>Afghanistan</td>\n",
       "      <td>1948</td>\n",
       "      <td>0.0</td>\n",
       "      <td>0.0</td>\n",
       "      <td>0.0</td>\n",
       "      <td>0.0</td>\n",
       "      <td>0.0</td>\n",
       "      <td>0.0</td>\n",
       "      <td>1.0</td>\n",
       "      <td>0.0</td>\n",
       "      <td>...</td>\n",
       "      <td>0.0</td>\n",
       "      <td>0.0</td>\n",
       "      <td>0.0</td>\n",
       "      <td>0.253335</td>\n",
       "      <td>0.135541</td>\n",
       "      <td>0.217723</td>\n",
       "      <td>0.198439</td>\n",
       "      <td>0.797551</td>\n",
       "      <td>2.944439</td>\n",
       "      <td>0.000000</td>\n",
       "    </tr>\n",
       "    <tr>\n",
       "      <th>4</th>\n",
       "      <td>Afghanistan</td>\n",
       "      <td>1949</td>\n",
       "      <td>0.0</td>\n",
       "      <td>0.0</td>\n",
       "      <td>0.0</td>\n",
       "      <td>0.0</td>\n",
       "      <td>0.0</td>\n",
       "      <td>0.0</td>\n",
       "      <td>1.0</td>\n",
       "      <td>0.0</td>\n",
       "      <td>...</td>\n",
       "      <td>0.0</td>\n",
       "      <td>0.0</td>\n",
       "      <td>0.0</td>\n",
       "      <td>0.253335</td>\n",
       "      <td>0.135541</td>\n",
       "      <td>0.217723</td>\n",
       "      <td>0.198439</td>\n",
       "      <td>0.797551</td>\n",
       "      <td>2.708050</td>\n",
       "      <td>0.000000</td>\n",
       "    </tr>\n",
       "  </tbody>\n",
       "</table>\n",
       "<p>5 rows × 35 columns</p>\n",
       "</div>"
      ],
      "text/plain": [
       "       country  year  mkl_start_next_year  Predicted_mkl_start  reg_afr  \\\n",
       "0  Afghanistan  1945                  0.0                  0.0      0.0   \n",
       "1  Afghanistan  1946                  0.0                  0.0      0.0   \n",
       "2  Afghanistan  1947                  0.0                  0.0      0.0   \n",
       "3  Afghanistan  1948                  0.0                  0.0      0.0   \n",
       "4  Afghanistan  1949                  0.0                  0.0      0.0   \n",
       "\n",
       "   reg_eap  reg_eur  reg_mna  reg_sca  reg_amr      ...        elf_ethnicc1  \\\n",
       "0      0.0      0.0      0.0      1.0      0.0      ...                 0.0   \n",
       "1      0.0      0.0      0.0      1.0      0.0      ...                 0.0   \n",
       "2      0.0      0.0      0.0      1.0      0.0      ...                 0.0   \n",
       "3      0.0      0.0      0.0      1.0      0.0      ...                 0.0   \n",
       "4      0.0      0.0      0.0      1.0      0.0      ...                 0.0   \n",
       "\n",
       "   elf_ethnicc2  elf_ethnicc9  elc_eleth1  elc_eleth2  elc_eliti  cou_tries5d  \\\n",
       "0           0.0           0.0    0.253335    0.135541   0.217723     0.198439   \n",
       "1           0.0           0.0    0.253335    0.135541   0.217723     0.198439   \n",
       "2           0.0           0.0    0.253335    0.135541   0.217723     0.198439   \n",
       "3           0.0           0.0    0.253335    0.135541   0.217723     0.198439   \n",
       "4           0.0           0.0    0.253335    0.135541   0.217723     0.198439   \n",
       "\n",
       "   pit_sftpuhvl2_10_ln  mev_regac_ln  mev_civtot_ln  \n",
       "0             0.797551      2.259752       0.251369  \n",
       "1             0.797551      2.197225       0.000000  \n",
       "2             0.797551      3.044522       0.000000  \n",
       "3             0.797551      2.944439       0.000000  \n",
       "4             0.797551      2.708050       0.000000  \n",
       "\n",
       "[5 rows x 35 columns]"
      ]
     },
     "execution_count": 32,
     "metadata": {},
     "output_type": "execute_result"
    }
   ],
   "source": [
    "#data_pred = pd.concat([info, y, pred, pred_proba.Predicted_proba_mkl_start, X], axis=1)\n",
    "data_pred = pd.concat([info, y, pred, X], axis=1)\n",
    "print data_pred.shape\n",
    "data_pred.head()"
   ]
  },
  {
   "cell_type": "code",
   "execution_count": 33,
   "metadata": {
    "collapsed": false
   },
   "outputs": [
    {
     "data": {
      "text/html": [
       "<div>\n",
       "<table border=\"1\" class=\"dataframe\">\n",
       "  <thead>\n",
       "    <tr style=\"text-align: right;\">\n",
       "      <th>Predicted_mkl_start</th>\n",
       "      <th>0.0</th>\n",
       "    </tr>\n",
       "    <tr>\n",
       "      <th>mkl_start_next_year</th>\n",
       "      <th></th>\n",
       "    </tr>\n",
       "  </thead>\n",
       "  <tbody>\n",
       "    <tr>\n",
       "      <th>0.0</th>\n",
       "      <td>8883</td>\n",
       "    </tr>\n",
       "    <tr>\n",
       "      <th>1.0</th>\n",
       "      <td>96</td>\n",
       "    </tr>\n",
       "  </tbody>\n",
       "</table>\n",
       "</div>"
      ],
      "text/plain": [
       "Predicted_mkl_start   0.0\n",
       "mkl_start_next_year      \n",
       "0.0                  8883\n",
       "1.0                    96"
      ]
     },
     "execution_count": 33,
     "metadata": {},
     "output_type": "execute_result"
    }
   ],
   "source": [
    "# Show results using confusion matrix\n",
    "y_true = y\n",
    "y_pred = data_pred.Predicted_mkl_start\n",
    "df_confusion = pd.crosstab(y_true, y_pred)\n",
    "df_confusion"
   ]
  },
  {
   "cell_type": "code",
   "execution_count": 34,
   "metadata": {
    "collapsed": false
   },
   "outputs": [
    {
     "data": {
      "text/plain": [
       "0.0"
      ]
     },
     "execution_count": 34,
     "metadata": {},
     "output_type": "execute_result"
    }
   ],
   "source": [
    "# Sensitivity: When actual value is positive, how often is prediction correct?\n",
    "# AKA “True Positive Rate” or “Recall”\n",
    "# TP / (all actual positives)\n",
    "# If this value is close to 100%, model is near perfect\n",
    "logreg_sens = (df_confusion[1:2].unstack().sum()-df_confusion[0][1]*1.0)/df_confusion[1:2].unstack().sum()\n",
    "logreg_sens"
   ]
  },
  {
   "cell_type": "markdown",
   "metadata": {},
   "source": [
    "## Decision Tree"
   ]
  },
  {
   "cell_type": "code",
   "execution_count": 35,
   "metadata": {
    "collapsed": true
   },
   "outputs": [],
   "source": [
    "# create a Graphviz file\n",
    "from sklearn.tree import export_graphviz\n",
    "\n",
    "\n",
    "def decision_tree_model(X,y,feature_cols,depth,verbose=False,dot_map=False):\n",
    "    '''Run decision tree model, print confusion matrix, returns senstivity'''\n",
    "    # If verbose == True, print everything\n",
    "    # 1. X and y defined\n",
    "    # 2. Import model\n",
    "    from sklearn.tree import DecisionTreeRegressor\n",
    "    # 3. Instantiate a DecisionTreeRegressor (with random_state=1)\n",
    "    treereg = DecisionTreeRegressor(random_state=1)\n",
    "    # max_depth=3 was best, so fit a tree using that parameter\n",
    "    treereg = DecisionTreeRegressor(max_depth=depth, random_state=1)\n",
    "    \n",
    "    # 4. Fit model\n",
    "    treereg.fit(X, y)\n",
    "    \n",
    "    # \"Gini importance\" of each feature: the (normalized) total reduction of error brought by that feature\n",
    "    if verbose:\n",
    "        #print pd.DataFrame({'feature':feature_cols, 'importance':treereg.feature_importances_})\n",
    "        print pd.DataFrame({'feature':feature_cols, 'importance':treereg.feature_importances_}).sort_values('importance', ascending=False)\n",
    "    if dot_map:\n",
    "        export_graphviz(treereg, out_file='tree_vehicles_EWP_depth_'+str(depth)+'.dot', feature_names=feature_cols)\n",
    "    \n",
    "    # use fitted model to make predictions on testing data\n",
    "    # 5. Predict\n",
    "    X_test = X\n",
    "    y_test = y\n",
    "    y_pred = treereg.predict(X_test)\n",
    "    \n",
    "    print\n",
    "    \n",
    "    # 6. Evaluate\n",
    "    # calculate RMSE\n",
    "    print 'RMSE: %s' % np.sqrt(metrics.mean_squared_error(y_test, y_pred))\n",
    "    \n",
    "    print\n",
    "    \n",
    "    # print confusion matrix\n",
    "    df_confusion = pd.crosstab(y_test, y_pred)\n",
    "    return df_confusion"
   ]
  },
  {
   "cell_type": "code",
   "execution_count": 36,
   "metadata": {
    "collapsed": false
   },
   "outputs": [
    {
     "name": "stdout",
     "output_type": "stream",
     "text": [
      "depth: 2\n",
      "\n",
      "RMSE: 0.102129595593\n",
      "\n",
      "col_0                0.004303  0.016096  0.028349  0.400000\n",
      "mkl_start_next_year                                        \n",
      "0.0                      5785      1895      1371         3\n",
      "1.0                        25        31        40         2\n",
      "depth: 3\n",
      "\n",
      "RMSE: 0.10079425116\n",
      "\n",
      "col_0                0.000000  0.003471  0.015096  0.017857  0.018365  \\\n",
      "mkl_start_next_year                                                     \n",
      "0.0                         3      5455      1892       330      1069   \n",
      "1.0                         0        19        29         6        20   \n",
      "\n",
      "col_0                0.062112  0.400000  1.000000  \n",
      "mkl_start_next_year                                \n",
      "0.0                       302         3         0  \n",
      "1.0                        20         2         2  \n",
      "depth: 4\n",
      "\n",
      "RMSE: 0.0990351000878\n",
      "\n",
      "col_0                0.000000  0.003297  0.014591  0.014925  0.017495  \\\n",
      "mkl_start_next_year                                                     \n",
      "0.0                         5      5442      1891       330      1067   \n",
      "1.0                         0        18        28         5        19   \n",
      "\n",
      "col_0                0.059190  0.071429  0.333333  0.500000  0.666667  \\\n",
      "mkl_start_next_year                                                     \n",
      "0.0                       302        13         2         1         1   \n",
      "1.0                        19         1         1         1         2   \n",
      "\n",
      "col_0                1.000000  \n",
      "mkl_start_next_year            \n",
      "0.0                         0  \n",
      "1.0                         4  \n",
      "depth: 5\n",
      "\n",
      "RMSE: 0.0965359250856\n",
      "\n",
      "col_0                0.000000  0.003122  0.009646  0.013151  0.016636  \\\n",
      "mkl_start_next_year                                                     \n",
      "0.0                        22      5429       308      1876      1064   \n",
      "1.0                         0        17         3        25        18   \n",
      "\n",
      "col_0                0.056250  0.071429  0.083333  0.166667  0.250000  \\\n",
      "mkl_start_next_year                                                     \n",
      "0.0                       302        13        22        15         3   \n",
      "1.0                        18         1         2         3         1   \n",
      "\n",
      "col_0                1.000000  \n",
      "mkl_start_next_year            \n",
      "0.0                         0  \n",
      "1.0                        10  \n",
      "depth: 6\n",
      "\n",
      "RMSE: 0.0945069211461\n",
      "\n",
      "col_0                0.000000  0.006063  0.010638  0.012234  0.015748  \\\n",
      "mkl_start_next_year                                                     \n",
      "0.0                      2907      2787       837      1857       125   \n",
      "1.0                         0        17         9        23         2   \n",
      "\n",
      "col_0                0.036585  0.038136  0.043478  0.066667  0.082902  \\\n",
      "mkl_start_next_year                                                     \n",
      "0.0                        79       227        22        14       177   \n",
      "1.0                         3         9         1         1        16   \n",
      "\n",
      "col_0                0.095238  0.333333  0.666667  1.000000  \n",
      "mkl_start_next_year                                          \n",
      "0.0                        19         2         1         0  \n",
      "1.0                         2         1         2        12  \n",
      "depth: 7\n",
      "\n",
      "RMSE: 0.0903001346791\n",
      "\n",
      "col_0                0.000000  0.005716  0.007937  0.009512  0.015282  \\\n",
      "mkl_start_next_year                                                     \n",
      "0.0                      3365      2783       125       833      1482   \n",
      "1.0                         0        16         1         8        23   \n",
      "\n",
      "col_0                0.024691  0.034043  0.050000  0.108844  0.200000  \\\n",
      "mkl_start_next_year                                                     \n",
      "0.0                        79       227        19       131         8   \n",
      "1.0                         2         8         1        16         2   \n",
      "\n",
      "col_0                0.333333  1.000000  \n",
      "mkl_start_next_year                      \n",
      "0.0                         2         0  \n",
      "1.0                         1        20  \n",
      "depth: 8\n",
      "\n",
      "RMSE: 0.0866507344075\n",
      "\n",
      "col_0                0.000000  0.004351  0.004792  0.012500  0.014628  \\\n",
      "mkl_start_next_year                                                     \n",
      "0.0                      3507      2517       623        79      1482   \n",
      "1.0                         0        11         3         1        22   \n",
      "\n",
      "col_0                0.018450  0.023256  0.029915  0.079646  0.111111  \\\n",
      "mkl_start_next_year                                                     \n",
      "0.0                       266       210       227       104         8   \n",
      "1.0                         5         5         7         9         1   \n",
      "\n",
      "col_0                0.200000  0.205882  1.000000  \n",
      "mkl_start_next_year                                \n",
      "0.0                         4        27         0  \n",
      "1.0                         1         7        26  \n",
      "depth: 9\n",
      "\n",
      "RMSE: 0.0841462156204\n",
      "\n",
      "col_0                0.000000  0.003982  0.004762  0.013569  0.014778  \\\n",
      "mkl_start_next_year                                                     \n",
      "0.0                      4174      2501       209      1454       200   \n",
      "1.0                         0        10         1        20         3   \n",
      "\n",
      "col_0                0.014851  0.058824  0.065574  0.066038  0.066667  \\\n",
      "mkl_start_next_year                                                     \n",
      "0.0                       199        16        57        99        28   \n",
      "1.0                         3         1         4         7         2   \n",
      "\n",
      "col_0                0.104651  0.137931  0.166667  0.250000  0.600000  \\\n",
      "mkl_start_next_year                                                     \n",
      "0.0                        77        25        10         3         2   \n",
      "1.0                         9         4         2         1         3   \n",
      "\n",
      "col_0                1.000000  \n",
      "mkl_start_next_year            \n",
      "0.0                         0  \n",
      "1.0                        28  \n",
      "depth: 10\n",
      "\n",
      "RMSE: 0.0795144176416\n",
      "\n",
      "col_0                0.000000  0.003635  0.009346  0.009950  0.010363  \\\n",
      "mkl_start_next_year                                                     \n",
      "0.0                      4421      2467      1060       199       191   \n",
      "1.0                         0         9        10         2         2   \n",
      "\n",
      "col_0                0.024752  0.028571  0.034483  0.050505  0.083333  \\\n",
      "mkl_start_next_year                                                     \n",
      "0.0                       394        34        28        94        22   \n",
      "1.0                        10         1         1         5         2   \n",
      "\n",
      "col_0                0.090909  0.094118  0.100000  0.125000  0.285714  \\\n",
      "mkl_start_next_year                                                     \n",
      "0.0                        20        77         9        28         5   \n",
      "1.0                         2         8         1         4         2   \n",
      "\n",
      "col_0                0.333333  0.400000  1.000000  \n",
      "mkl_start_next_year                                \n",
      "0.0                         2         3         0  \n",
      "1.0                         1         2        36  \n",
      "depth: 11\n",
      "\n",
      "RMSE: 0.0742813971853\n",
      "\n",
      "col_0                0.000000  0.001715  0.005247  0.005556  0.005747  \\\n",
      "mkl_start_next_year                                                     \n",
      "0.0                      4510      1746       948       179       173   \n",
      "1.0                         0         3         5         1         1   \n",
      "\n",
      "col_0                0.008253  0.015291  0.022989  0.041667  0.042735  \\\n",
      "mkl_start_next_year                                                     \n",
      "0.0                       721       322        85        23       112   \n",
      "1.0                         6         5         2         1         5   \n",
      "\n",
      "col_0                0.047619  0.052632  0.064935  0.084337  0.096774  \\\n",
      "mkl_start_next_year                                                     \n",
      "0.0                        20        18        72        76        28   \n",
      "1.0                         1         1         5         7         3   \n",
      "\n",
      "col_0                0.142857  0.250000  0.500000  0.666667  1.000000  \n",
      "mkl_start_next_year                                                    \n",
      "0.0                         6         9         5         1         0  \n",
      "1.0                         1         3         5         2        41  \n",
      "depth: 12\n",
      "\n",
      "RMSE: 0.0671266300228\n",
      "\n",
      "col_0                0.000000  0.001220  0.003413  0.005797  0.009091  \\\n",
      "mkl_start_next_year                                                     \n",
      "0.0                      4954      1637       876       686       109   \n",
      "1.0                         0         2         3         4         1   \n",
      "\n",
      "col_0                0.010239  0.015152  0.027027  0.034483  0.040000  \\\n",
      "mkl_start_next_year                                                     \n",
      "0.0                       290        65        72       112        24   \n",
      "1.0                         3         1         2         4         1   \n",
      "\n",
      "col_0                  ...     0.058824  0.068966  0.074074  0.117647  \\\n",
      "mkl_start_next_year    ...                                              \n",
      "0.0                    ...           32        27        75        15   \n",
      "1.0                    ...            2         2         6         2   \n",
      "\n",
      "col_0                0.181818  0.200000  0.363636  0.500000  0.666667  \\\n",
      "mkl_start_next_year                                                     \n",
      "0.0                         9         4         7         2         1   \n",
      "1.0                         2         1         4         2         2   \n",
      "\n",
      "col_0                1.000000  \n",
      "mkl_start_next_year            \n",
      "0.0                         0  \n",
      "1.0                        51  \n",
      "\n",
      "[2 rows x 22 columns]\n",
      "depth: 13\n",
      "\n",
      "RMSE: 0.0598037171714\n",
      "\n",
      "col_0                0.000000  0.001433  0.004412  0.004454  0.011050  \\\n",
      "mkl_start_next_year                                                     \n",
      "0.0                      6562       697       677       447       179   \n",
      "1.0                         0         1         3         2         2   \n",
      "\n",
      "col_0                0.013889  0.019802  0.027778  0.030303  0.035294  \\\n",
      "mkl_start_next_year                                                     \n",
      "0.0                        71        99        35        32        82   \n",
      "1.0                         1         2         1         1         3   \n",
      "\n",
      "col_0                  ...     0.062500  0.100000  0.125000  0.133333  \\\n",
      "mkl_start_next_year    ...                                              \n",
      "0.0                    ...           15        18        14        13   \n",
      "1.0                    ...            1         2         2         2   \n",
      "\n",
      "col_0                0.200000  0.222222  0.333333  0.500000  0.571429  \\\n",
      "mkl_start_next_year                                                     \n",
      "0.0                         8         7         2         1         3   \n",
      "1.0                         2         2         1         1         4   \n",
      "\n",
      "col_0                1.000000  \n",
      "mkl_start_next_year            \n",
      "0.0                         0  \n",
      "1.0                        60  \n",
      "\n",
      "[2 rows x 22 columns]\n",
      "depth: 14\n",
      "\n",
      "RMSE: 0.0460384191929\n",
      "\n",
      "col_0                0.000000  0.002232  0.003180  0.005556  0.018868  \\\n",
      "mkl_start_next_year                                                     \n",
      "0.0                      7510       447       627       179        52   \n",
      "1.0                         0         1         2         1         1   \n",
      "\n",
      "col_0                0.019608  0.020408  0.023810  0.074074  0.142857  \\\n",
      "mkl_start_next_year                                                     \n",
      "0.0                        50        48        82        25         6   \n",
      "1.0                         1         1         2         2         1   \n",
      "\n",
      "col_0                0.157895  0.250000  0.400000  0.500000  0.666667  \\\n",
      "mkl_start_next_year                                                     \n",
      "0.0                        16         3         3         4         2   \n",
      "1.0                         3         1         2         4         4   \n",
      "\n",
      "col_0                1.000000  \n",
      "mkl_start_next_year            \n",
      "0.0                         0  \n",
      "1.0                        72  \n",
      "depth: 15\n",
      "\n",
      "RMSE: 0.0327295009009\n",
      "\n",
      "col_0                0.000000  0.008032  0.012500  0.038462  0.111111  \\\n",
      "mkl_start_next_year                                                     \n",
      "0.0                      8592       247       158        25        24   \n",
      "1.0                         0         2         2         1         3   \n",
      "\n",
      "col_0                0.200000  0.250000  0.666667  1.000000  \n",
      "mkl_start_next_year                                          \n",
      "0.0                         4         3         1         0  \n",
      "1.0                         1         1         2        86  \n",
      "depth: 16\n",
      "\n",
      "RMSE: 0.0236873987561\n",
      "\n",
      "col_0                0.000000  0.004405  0.045455  0.076923  0.166667  \\\n",
      "mkl_start_next_year                                                     \n",
      "0.0                      8785       226        21        12         5   \n",
      "1.0                         0         1         1         1         1   \n",
      "\n",
      "col_0                0.285714  1.000000  \n",
      "mkl_start_next_year                      \n",
      "0.0                         5         0  \n",
      "1.0                         2        92  \n",
      "depth: 17\n",
      "\n",
      "RMSE: 0.016881986165\n",
      "\n",
      "col_0                0.000000  0.025000  0.166667  0.200000  1.000000\n",
      "mkl_start_next_year                                                  \n",
      "0.0                      9006        39         5         4         0\n",
      "1.0                         0         1         1         1        95\n",
      "depth: 18\n",
      "\n",
      "RMSE: 0.00853485927499\n",
      "\n",
      "col_0                0.000000  0.333333  1.000000\n",
      "mkl_start_next_year                              \n",
      "0.0                      9052         2         0\n",
      "1.0                         0         1        97\n",
      "depth: 19\n",
      "\n",
      "RMSE: 0.0\n",
      "\n",
      "col_0                 0.0  1.0\n",
      "mkl_start_next_year           \n",
      "0.0                  9054    0\n",
      "1.0                     0   98\n",
      "depth: 20\n",
      "\n",
      "RMSE: 0.0\n",
      "\n",
      "col_0                 0.0  1.0\n",
      "mkl_start_next_year           \n",
      "0.0                  9054    0\n",
      "1.0                     0   98\n",
      "depth: 21\n",
      "\n",
      "RMSE: 0.0\n",
      "\n",
      "col_0                 0.0  1.0\n",
      "mkl_start_next_year           \n",
      "0.0                  9054    0\n",
      "1.0                     0   98\n",
      "depth: 22\n",
      "\n",
      "RMSE: 0.0\n",
      "\n",
      "col_0                 0.0  1.0\n",
      "mkl_start_next_year           \n",
      "0.0                  9054    0\n",
      "1.0                     0   98\n",
      "depth: 23\n",
      "\n",
      "RMSE: 0.0\n",
      "\n",
      "col_0                 0.0  1.0\n",
      "mkl_start_next_year           \n",
      "0.0                  9054    0\n",
      "1.0                     0   98\n",
      "depth: 24\n",
      "\n",
      "RMSE: 0.0\n",
      "\n",
      "col_0                 0.0  1.0\n",
      "mkl_start_next_year           \n",
      "0.0                  9054    0\n",
      "1.0                     0   98\n"
     ]
    }
   ],
   "source": [
    "# Try decision trees with a range of depths\n",
    "for n in np.arange(2,25):\n",
    "    print 'depth: %s' % n\n",
    "    print decision_tree_model(X,y,feature_cols,n,verbose=False,dot_map=False)"
   ]
  },
  {
   "cell_type": "code",
   "execution_count": 37,
   "metadata": {
    "collapsed": false
   },
   "outputs": [
    {
     "name": "stdout",
     "output_type": "stream",
     "text": [
      "                feature  importance\n",
      "9        wdi_popsize_ln    0.193992\n",
      "10        imr_normed_ln    0.127945\n",
      "12         wdi_trade_ln    0.107959\n",
      "11         gdppcgrow_sr    0.100505\n",
      "8         countryage_ln    0.075270\n",
      "6           mkl_ongoing    0.071758\n",
      "29         mev_regac_ln    0.059550\n",
      "19       pol_durable_ln    0.057528\n",
      "28  pit_sftpuhvl2_10_ln    0.038703\n",
      "25           elc_eleth2    0.030138\n",
      "0               reg_afr    0.025833\n",
      "20         dis_l4pop_ln    0.024199\n",
      "30        mev_civtot_ln    0.023242\n",
      "26            elc_eliti    0.019785\n",
      "7              mkl_ever    0.014352\n",
      "18          pol_cat_fl7    0.008966\n",
      "16          pol_cat_fl2    0.007738\n",
      "5               reg_amr    0.005627\n",
      "27          cou_tries5d    0.005117\n",
      "17          pol_cat_fl3    0.001076\n",
      "1               reg_eap    0.000716\n",
      "13           ios_iccpr1    0.000000\n",
      "4               reg_sca    0.000000\n",
      "2               reg_eur    0.000000\n",
      "3               reg_mna    0.000000\n",
      "22         elf_ethnicc2    0.000000\n",
      "24           elc_eleth1    0.000000\n",
      "23         elf_ethnicc9    0.000000\n",
      "14               postcw    0.000000\n",
      "21         elf_ethnicc1    0.000000\n",
      "15          pol_cat_fl1    0.000000\n",
      "\n",
      "RMSE: 0.0742813971853\n",
      "\n"
     ]
    },
    {
     "data": {
      "text/html": [
       "<div>\n",
       "<table border=\"1\" class=\"dataframe\">\n",
       "  <thead>\n",
       "    <tr style=\"text-align: right;\">\n",
       "      <th>col_0</th>\n",
       "      <th>0.0</th>\n",
       "      <th>0.00171526586621</th>\n",
       "      <th>0.00524658971668</th>\n",
       "      <th>0.00555555555556</th>\n",
       "      <th>0.00574712643678</th>\n",
       "      <th>0.00825309491059</th>\n",
       "      <th>0.0152905198777</th>\n",
       "      <th>0.0229885057471</th>\n",
       "      <th>0.0416666666667</th>\n",
       "      <th>0.042735042735</th>\n",
       "      <th>0.047619047619</th>\n",
       "      <th>0.0526315789474</th>\n",
       "      <th>0.0649350649351</th>\n",
       "      <th>0.0843373493976</th>\n",
       "      <th>0.0967741935484</th>\n",
       "      <th>0.142857142857</th>\n",
       "      <th>0.25</th>\n",
       "      <th>0.5</th>\n",
       "      <th>0.666666666667</th>\n",
       "      <th>1.0</th>\n",
       "    </tr>\n",
       "    <tr>\n",
       "      <th>mkl_start_next_year</th>\n",
       "      <th></th>\n",
       "      <th></th>\n",
       "      <th></th>\n",
       "      <th></th>\n",
       "      <th></th>\n",
       "      <th></th>\n",
       "      <th></th>\n",
       "      <th></th>\n",
       "      <th></th>\n",
       "      <th></th>\n",
       "      <th></th>\n",
       "      <th></th>\n",
       "      <th></th>\n",
       "      <th></th>\n",
       "      <th></th>\n",
       "      <th></th>\n",
       "      <th></th>\n",
       "      <th></th>\n",
       "      <th></th>\n",
       "      <th></th>\n",
       "    </tr>\n",
       "  </thead>\n",
       "  <tbody>\n",
       "    <tr>\n",
       "      <th>0.0</th>\n",
       "      <td>4510</td>\n",
       "      <td>1746</td>\n",
       "      <td>948</td>\n",
       "      <td>179</td>\n",
       "      <td>173</td>\n",
       "      <td>721</td>\n",
       "      <td>322</td>\n",
       "      <td>85</td>\n",
       "      <td>23</td>\n",
       "      <td>112</td>\n",
       "      <td>20</td>\n",
       "      <td>18</td>\n",
       "      <td>72</td>\n",
       "      <td>76</td>\n",
       "      <td>28</td>\n",
       "      <td>6</td>\n",
       "      <td>9</td>\n",
       "      <td>5</td>\n",
       "      <td>1</td>\n",
       "      <td>0</td>\n",
       "    </tr>\n",
       "    <tr>\n",
       "      <th>1.0</th>\n",
       "      <td>0</td>\n",
       "      <td>3</td>\n",
       "      <td>5</td>\n",
       "      <td>1</td>\n",
       "      <td>1</td>\n",
       "      <td>6</td>\n",
       "      <td>5</td>\n",
       "      <td>2</td>\n",
       "      <td>1</td>\n",
       "      <td>5</td>\n",
       "      <td>1</td>\n",
       "      <td>1</td>\n",
       "      <td>5</td>\n",
       "      <td>7</td>\n",
       "      <td>3</td>\n",
       "      <td>1</td>\n",
       "      <td>3</td>\n",
       "      <td>5</td>\n",
       "      <td>2</td>\n",
       "      <td>41</td>\n",
       "    </tr>\n",
       "  </tbody>\n",
       "</table>\n",
       "</div>"
      ],
      "text/plain": [
       "col_0                0.000000  0.001715  0.005247  0.005556  0.005747  \\\n",
       "mkl_start_next_year                                                     \n",
       "0.0                      4510      1746       948       179       173   \n",
       "1.0                         0         3         5         1         1   \n",
       "\n",
       "col_0                0.008253  0.015291  0.022989  0.041667  0.042735  \\\n",
       "mkl_start_next_year                                                     \n",
       "0.0                       721       322        85        23       112   \n",
       "1.0                         6         5         2         1         5   \n",
       "\n",
       "col_0                0.047619  0.052632  0.064935  0.084337  0.096774  \\\n",
       "mkl_start_next_year                                                     \n",
       "0.0                        20        18        72        76        28   \n",
       "1.0                         1         1         5         7         3   \n",
       "\n",
       "col_0                0.142857  0.250000  0.500000  0.666667  1.000000  \n",
       "mkl_start_next_year                                                    \n",
       "0.0                         6         9         5         1         0  \n",
       "1.0                         1         3         5         2        41  "
      ]
     },
     "execution_count": 37,
     "metadata": {},
     "output_type": "execute_result"
    }
   ],
   "source": [
    "# From above, a depth of 11 seams like a good predictor. It seems like this could be tuned to increase TPs,\n",
    "# without predicting too many FN.\n",
    "decision_tree_model(X,y,feature_cols,11,verbose=True,dot_map=True)"
   ]
  },
  {
   "cell_type": "markdown",
   "metadata": {},
   "source": [
    "From looking at the resulting tree, the prediction will only ever be positive if the country in question has an ongoing state-led mass killing! This must be overfitting. At the very least, as time goes on and most countries have no ongoing MKL, this model would never predict any likelihood of that state having a new mass killing.\n",
    "\n",
    "![Tree Vehicles EWP depth 11 head](tree_vehicles_EWP_depth_11_head.jpeg)"
   ]
  },
  {
   "cell_type": "markdown",
   "metadata": {},
   "source": [
    "![Tree Vehicles EWP depth 11 full](tree_vehicles_EWP_depth_11.jpeg)"
   ]
  },
  {
   "cell_type": "markdown",
   "metadata": {},
   "source": [
    "## RandomForests"
   ]
  },
  {
   "cell_type": "code",
   "execution_count": 38,
   "metadata": {
    "collapsed": false
   },
   "outputs": [
    {
     "data": {
      "text/plain": [
       "RandomForestClassifier(bootstrap=True, class_weight=None, criterion='gini',\n",
       "            max_depth=None, max_features='auto', max_leaf_nodes=None,\n",
       "            min_impurity_split=1e-07, min_samples_leaf=1,\n",
       "            min_samples_split=2, min_weight_fraction_leaf=0.0,\n",
       "            n_estimators=10, n_jobs=1, oob_score=False, random_state=None,\n",
       "            verbose=0, warm_start=False)"
      ]
     },
     "execution_count": 38,
     "metadata": {},
     "output_type": "execute_result"
    }
   ],
   "source": [
    "from sklearn.ensemble import RandomForestClassifier\n",
    "rfclass = RandomForestClassifier()\n",
    "rfclass"
   ]
  },
  {
   "cell_type": "markdown",
   "metadata": {},
   "source": [
    "### Tune n_estimator"
   ]
  },
  {
   "cell_type": "code",
   "execution_count": 39,
   "metadata": {
    "collapsed": false
   },
   "outputs": [],
   "source": [
    "# # list of values to try for n_estimators\n",
    "# #estimator_range = range(10, 50, 10)\n",
    "# #estimator_range = range(10, 310, 10)\n",
    "# estimator_range = range(10, 510, 10)\n",
    "\n",
    "# # list to store the average RMSE for each value of n_estimators\n",
    "# RMSE_scores = []\n",
    "\n",
    "# # use 5-fold cross-validation with each value of n_estimators (WARNING: SLOW!)\n",
    "# for estimator in estimator_range:\n",
    "#     rfclass = RandomForestClassifier(n_estimators=estimator, random_state=1)\n",
    "#     MSE_scores = cross_val_score(rfclass, X, y, cv=5, scoring='neg_mean_squared_error')\n",
    "#     # Retune after feature selection:\n",
    "#     #MSE_scores = cross_val_score(rfclass, X_important, y, cv=5, scoring='neg_mean_squared_error')\n",
    "#     RMSE_scores.append(np.mean(np.sqrt(-MSE_scores)))"
   ]
  },
  {
   "cell_type": "code",
   "execution_count": 40,
   "metadata": {
    "collapsed": false
   },
   "outputs": [],
   "source": [
    "# # allow plots to appear in the notebook\n",
    "# %matplotlib inline\n",
    "# import matplotlib.pyplot as plt\n",
    "\n",
    "# # plot n_estimators (x-axis) versus RMSE (y-axis)\n",
    "# plt.plot(estimator_range, RMSE_scores)\n",
    "# plt.xlabel('n_estimators')\n",
    "# plt.ylabel('RMSE (lower is better)')"
   ]
  },
  {
   "cell_type": "markdown",
   "metadata": {},
   "source": [
    "![n_estimators for X](./images/rf_n_estimators for X.png)"
   ]
  },
  {
   "cell_type": "code",
   "execution_count": 41,
   "metadata": {
    "collapsed": false
   },
   "outputs": [],
   "source": [
    "# # show the best RMSE and the corresponding max_features\n",
    "# best_nest = sorted(zip(RMSE_scores, estimator_range))[0][1]\n",
    "# print best_nest\n",
    "# sorted(zip(RMSE_scores, estimator_range))[0]"
   ]
  },
  {
   "cell_type": "code",
   "execution_count": 42,
   "metadata": {
    "collapsed": true
   },
   "outputs": [],
   "source": [
    "# The computations above take a long time and are therefore commented out with the result given below for speed.\n",
    "# Press \"CTRL + /\" to uncomment\n",
    "best_nest = 40\n",
    "# (0.10398748422060437, 40)"
   ]
  },
  {
   "cell_type": "markdown",
   "metadata": {},
   "source": [
    "### Tuning max_features\n",
    "Tune the number of *max_features* that should be tested at each split."
   ]
  },
  {
   "cell_type": "code",
   "execution_count": 43,
   "metadata": {
    "collapsed": true
   },
   "outputs": [],
   "source": [
    "# # list of values to try for max_features\n",
    "# feature_range = range(1, len(feature_cols)+1)\n",
    "\n",
    "# # list to store the average RMSE for each value of max_features\n",
    "# RMSE_scores = []\n",
    "\n",
    "# # use 10-fold cross-validation with each value of max_features (WARNING: SLOW!)\n",
    "# for feature in feature_range:\n",
    "#     rfclass = RandomForestClassifier(n_estimators=best_nest, max_features=feature, random_state=1)\n",
    "#     MSE_scores = cross_val_score(rfclass, X, y, cv=10, scoring='neg_mean_squared_error')\n",
    "#     RMSE_scores.append(np.mean(np.sqrt(-MSE_scores)))"
   ]
  },
  {
   "cell_type": "code",
   "execution_count": 44,
   "metadata": {
    "collapsed": false
   },
   "outputs": [],
   "source": [
    "# # plot max_features (x-axis) versus RMSE (y-axis)\n",
    "# plt.plot(feature_range, RMSE_scores)\n",
    "# plt.xlabel('max_features')\n",
    "# plt.ylabel('RMSE (lower is better)')"
   ]
  },
  {
   "cell_type": "markdown",
   "metadata": {},
   "source": [
    "![Max Features for X](./images/rf_max features for X.png)"
   ]
  },
  {
   "cell_type": "code",
   "execution_count": 45,
   "metadata": {
    "collapsed": false
   },
   "outputs": [],
   "source": [
    "# # show the best RMSE and the corresponding max_features\n",
    "# best_maxf = sorted(zip(RMSE_scores, feature_range))[0][1]\n",
    "# print best_maxf\n",
    "# sorted(zip(RMSE_scores, feature_range))[0]"
   ]
  },
  {
   "cell_type": "code",
   "execution_count": 46,
   "metadata": {
    "collapsed": true
   },
   "outputs": [],
   "source": [
    "# The computations above take a long time and are therefore commented out with the result given below for speed.\n",
    "# Press \"CTRL + /\" to uncomment\n",
    "best_maxf = 1\n",
    "# (0.10550211145529216, 1)"
   ]
  },
  {
   "cell_type": "markdown",
   "metadata": {},
   "source": [
    "### Fitting a Random Forest with the best parameters"
   ]
  },
  {
   "cell_type": "code",
   "execution_count": 47,
   "metadata": {
    "collapsed": false
   },
   "outputs": [
    {
     "data": {
      "text/plain": [
       "RandomForestClassifier(bootstrap=True, class_weight=None, criterion='gini',\n",
       "            max_depth=None, max_features=1, max_leaf_nodes=None,\n",
       "            min_impurity_split=1e-07, min_samples_leaf=1,\n",
       "            min_samples_split=2, min_weight_fraction_leaf=0.0,\n",
       "            n_estimators=40, n_jobs=1, oob_score=True, random_state=1,\n",
       "            verbose=0, warm_start=False)"
      ]
     },
     "execution_count": 47,
     "metadata": {},
     "output_type": "execute_result"
    }
   ],
   "source": [
    "# max_features=1 is best and n_estimators=40 is sufficiently large\n",
    "rfclass = RandomForestClassifier(n_estimators=best_nest, max_features=best_maxf, oob_score=True, random_state=1)\n",
    "rfclass.fit(X, y)"
   ]
  },
  {
   "cell_type": "code",
   "execution_count": 48,
   "metadata": {
    "collapsed": false
   },
   "outputs": [
    {
     "data": {
      "text/html": [
       "<div>\n",
       "<table border=\"1\" class=\"dataframe\">\n",
       "  <thead>\n",
       "    <tr style=\"text-align: right;\">\n",
       "      <th></th>\n",
       "      <th>feature</th>\n",
       "      <th>importance</th>\n",
       "    </tr>\n",
       "  </thead>\n",
       "  <tbody>\n",
       "    <tr>\n",
       "      <th>8</th>\n",
       "      <td>countryage_ln</td>\n",
       "      <td>0.119162</td>\n",
       "    </tr>\n",
       "    <tr>\n",
       "      <th>9</th>\n",
       "      <td>wdi_popsize_ln</td>\n",
       "      <td>0.106623</td>\n",
       "    </tr>\n",
       "    <tr>\n",
       "      <th>10</th>\n",
       "      <td>imr_normed_ln</td>\n",
       "      <td>0.100250</td>\n",
       "    </tr>\n",
       "    <tr>\n",
       "      <th>29</th>\n",
       "      <td>mev_regac_ln</td>\n",
       "      <td>0.084472</td>\n",
       "    </tr>\n",
       "    <tr>\n",
       "      <th>19</th>\n",
       "      <td>pol_durable_ln</td>\n",
       "      <td>0.083646</td>\n",
       "    </tr>\n",
       "    <tr>\n",
       "      <th>11</th>\n",
       "      <td>gdppcgrow_sr</td>\n",
       "      <td>0.076864</td>\n",
       "    </tr>\n",
       "    <tr>\n",
       "      <th>12</th>\n",
       "      <td>wdi_trade_ln</td>\n",
       "      <td>0.071159</td>\n",
       "    </tr>\n",
       "    <tr>\n",
       "      <th>28</th>\n",
       "      <td>pit_sftpuhvl2_10_ln</td>\n",
       "      <td>0.051521</td>\n",
       "    </tr>\n",
       "    <tr>\n",
       "      <th>20</th>\n",
       "      <td>dis_l4pop_ln</td>\n",
       "      <td>0.047453</td>\n",
       "    </tr>\n",
       "    <tr>\n",
       "      <th>30</th>\n",
       "      <td>mev_civtot_ln</td>\n",
       "      <td>0.040340</td>\n",
       "    </tr>\n",
       "    <tr>\n",
       "      <th>27</th>\n",
       "      <td>cou_tries5d</td>\n",
       "      <td>0.019872</td>\n",
       "    </tr>\n",
       "    <tr>\n",
       "      <th>7</th>\n",
       "      <td>mkl_ever</td>\n",
       "      <td>0.019059</td>\n",
       "    </tr>\n",
       "    <tr>\n",
       "      <th>6</th>\n",
       "      <td>mkl_ongoing</td>\n",
       "      <td>0.017201</td>\n",
       "    </tr>\n",
       "    <tr>\n",
       "      <th>24</th>\n",
       "      <td>elc_eleth1</td>\n",
       "      <td>0.015852</td>\n",
       "    </tr>\n",
       "    <tr>\n",
       "      <th>16</th>\n",
       "      <td>pol_cat_fl2</td>\n",
       "      <td>0.014075</td>\n",
       "    </tr>\n",
       "    <tr>\n",
       "      <th>15</th>\n",
       "      <td>pol_cat_fl1</td>\n",
       "      <td>0.012503</td>\n",
       "    </tr>\n",
       "    <tr>\n",
       "      <th>25</th>\n",
       "      <td>elc_eleth2</td>\n",
       "      <td>0.012000</td>\n",
       "    </tr>\n",
       "    <tr>\n",
       "      <th>13</th>\n",
       "      <td>ios_iccpr1</td>\n",
       "      <td>0.011636</td>\n",
       "    </tr>\n",
       "    <tr>\n",
       "      <th>22</th>\n",
       "      <td>elf_ethnicc2</td>\n",
       "      <td>0.011103</td>\n",
       "    </tr>\n",
       "    <tr>\n",
       "      <th>14</th>\n",
       "      <td>postcw</td>\n",
       "      <td>0.010895</td>\n",
       "    </tr>\n",
       "    <tr>\n",
       "      <th>26</th>\n",
       "      <td>elc_eliti</td>\n",
       "      <td>0.009800</td>\n",
       "    </tr>\n",
       "    <tr>\n",
       "      <th>21</th>\n",
       "      <td>elf_ethnicc1</td>\n",
       "      <td>0.009451</td>\n",
       "    </tr>\n",
       "    <tr>\n",
       "      <th>18</th>\n",
       "      <td>pol_cat_fl7</td>\n",
       "      <td>0.008738</td>\n",
       "    </tr>\n",
       "    <tr>\n",
       "      <th>0</th>\n",
       "      <td>reg_afr</td>\n",
       "      <td>0.007615</td>\n",
       "    </tr>\n",
       "    <tr>\n",
       "      <th>3</th>\n",
       "      <td>reg_mna</td>\n",
       "      <td>0.007582</td>\n",
       "    </tr>\n",
       "    <tr>\n",
       "      <th>4</th>\n",
       "      <td>reg_sca</td>\n",
       "      <td>0.007562</td>\n",
       "    </tr>\n",
       "    <tr>\n",
       "      <th>17</th>\n",
       "      <td>pol_cat_fl3</td>\n",
       "      <td>0.007276</td>\n",
       "    </tr>\n",
       "    <tr>\n",
       "      <th>1</th>\n",
       "      <td>reg_eap</td>\n",
       "      <td>0.006159</td>\n",
       "    </tr>\n",
       "    <tr>\n",
       "      <th>5</th>\n",
       "      <td>reg_amr</td>\n",
       "      <td>0.004837</td>\n",
       "    </tr>\n",
       "    <tr>\n",
       "      <th>2</th>\n",
       "      <td>reg_eur</td>\n",
       "      <td>0.002981</td>\n",
       "    </tr>\n",
       "    <tr>\n",
       "      <th>23</th>\n",
       "      <td>elf_ethnicc9</td>\n",
       "      <td>0.002312</td>\n",
       "    </tr>\n",
       "  </tbody>\n",
       "</table>\n",
       "</div>"
      ],
      "text/plain": [
       "                feature  importance\n",
       "8         countryage_ln    0.119162\n",
       "9        wdi_popsize_ln    0.106623\n",
       "10        imr_normed_ln    0.100250\n",
       "29         mev_regac_ln    0.084472\n",
       "19       pol_durable_ln    0.083646\n",
       "11         gdppcgrow_sr    0.076864\n",
       "12         wdi_trade_ln    0.071159\n",
       "28  pit_sftpuhvl2_10_ln    0.051521\n",
       "20         dis_l4pop_ln    0.047453\n",
       "30        mev_civtot_ln    0.040340\n",
       "27          cou_tries5d    0.019872\n",
       "7              mkl_ever    0.019059\n",
       "6           mkl_ongoing    0.017201\n",
       "24           elc_eleth1    0.015852\n",
       "16          pol_cat_fl2    0.014075\n",
       "15          pol_cat_fl1    0.012503\n",
       "25           elc_eleth2    0.012000\n",
       "13           ios_iccpr1    0.011636\n",
       "22         elf_ethnicc2    0.011103\n",
       "14               postcw    0.010895\n",
       "26            elc_eliti    0.009800\n",
       "21         elf_ethnicc1    0.009451\n",
       "18          pol_cat_fl7    0.008738\n",
       "0               reg_afr    0.007615\n",
       "3               reg_mna    0.007582\n",
       "4               reg_sca    0.007562\n",
       "17          pol_cat_fl3    0.007276\n",
       "1               reg_eap    0.006159\n",
       "5               reg_amr    0.004837\n",
       "2               reg_eur    0.002981\n",
       "23         elf_ethnicc9    0.002312"
      ]
     },
     "execution_count": 48,
     "metadata": {},
     "output_type": "execute_result"
    }
   ],
   "source": [
    "# compute feature importances\n",
    "pd.DataFrame({'feature':feature_cols, 'importance':rfclass.feature_importances_}).sort_values('importance', ascending=False)"
   ]
  },
  {
   "cell_type": "code",
   "execution_count": 49,
   "metadata": {
    "collapsed": false
   },
   "outputs": [
    {
     "data": {
      "text/plain": [
       "0.032258064516129024"
      ]
     },
     "execution_count": 49,
     "metadata": {},
     "output_type": "execute_result"
    }
   ],
   "source": [
    "rfclass.feature_importances_.mean()"
   ]
  },
  {
   "cell_type": "code",
   "execution_count": 50,
   "metadata": {
    "collapsed": false
   },
   "outputs": [
    {
     "data": {
      "text/plain": [
       "0.98874562937062938"
      ]
     },
     "execution_count": 50,
     "metadata": {},
     "output_type": "execute_result"
    }
   ],
   "source": [
    "# compute the out-of-bag R-squared score\n",
    "rfclass.oob_score_"
   ]
  },
  {
   "cell_type": "markdown",
   "metadata": {},
   "source": [
    "### Reducing X to its most important features"
   ]
  },
  {
   "cell_type": "code",
   "execution_count": 51,
   "metadata": {
    "collapsed": false
   },
   "outputs": [
    {
     "data": {
      "text/plain": [
       "(9152, 31)"
      ]
     },
     "execution_count": 51,
     "metadata": {},
     "output_type": "execute_result"
    }
   ],
   "source": [
    "# check the shape of X\n",
    "X.shape"
   ]
  },
  {
   "cell_type": "code",
   "execution_count": 52,
   "metadata": {
    "collapsed": false
   },
   "outputs": [
    {
     "name": "stdout",
     "output_type": "stream",
     "text": [
      "(9152L, 3L)\n",
      "(9152L, 10L)\n",
      "(9152L, 16L)\n"
     ]
    }
   ],
   "source": [
    "from sklearn.feature_selection import SelectFromModel\n",
    "sfm = SelectFromModel(rfclass,threshold=0.1, prefit=True)\n",
    "print(sfm.transform(X).shape[0],sfm.transform(X).shape[1])\n",
    "\n",
    "sfm = SelectFromModel(rfclass, threshold='mean', prefit=True)\n",
    "print(sfm.transform(X).shape[0],sfm.transform(X).shape[1])\n",
    "\n",
    "sfm = SelectFromModel(rfclass, threshold='median', prefit=True)\n",
    "print(sfm.transform(X).shape[0],sfm.transform(X).shape[1])"
   ]
  },
  {
   "cell_type": "code",
   "execution_count": 53,
   "metadata": {
    "collapsed": false
   },
   "outputs": [
    {
     "name": "stdout",
     "output_type": "stream",
     "text": [
      "(9152L, 10L)\n"
     ]
    },
    {
     "data": {
      "text/plain": [
       "<bound method SelectFromModel.get_params of SelectFromModel(estimator=RandomForestClassifier(bootstrap=True, class_weight=None, criterion='gini',\n",
       "            max_depth=None, max_features=1, max_leaf_nodes=None,\n",
       "            min_impurity_split=1e-07, min_samples_leaf=1,\n",
       "            min_samples_split=2, min_weight_fraction_leaf=0.0,\n",
       "            n_estimators=40, n_jobs=1, oob_score=True, random_state=1,\n",
       "            verbose=0, warm_start=False),\n",
       "        prefit=True, threshold='mean')>"
      ]
     },
     "execution_count": 53,
     "metadata": {},
     "output_type": "execute_result"
    }
   ],
   "source": [
    "# create a new feature matrix that only includes important features\n",
    "#X_important = rfclass.transform(X, threshold='mean')\n",
    "#X_important.shape\n",
    "sfm = SelectFromModel(rfclass, threshold='mean', prefit=True)\n",
    "X_important = sfm.transform(X)\n",
    "print(X_important.shape[0],X_important.shape[1])\n",
    "sfm.get_params"
   ]
  },
  {
   "cell_type": "markdown",
   "metadata": {},
   "source": [
    "#### Clacutate best max_features and n_estimators\n",
    "##### Tune n_estimators"
   ]
  },
  {
   "cell_type": "code",
   "execution_count": 54,
   "metadata": {
    "collapsed": true
   },
   "outputs": [],
   "source": [
    "# # list of values to try for n_estimators\n",
    "# #estimator_range = range(10, 50, 10)\n",
    "# estimator_range = range(10, 510, 10)\n",
    "\n",
    "# # list to store the average RMSE for each value of n_estimators\n",
    "# RMSE_scores = []\n",
    "\n",
    "# # use 5-fold cross-validation with each value of n_estimators (WARNING: SLOW!)\n",
    "# for estimator in estimator_range:\n",
    "#     rfclass = RandomForestClassifier(n_estimators=estimator, random_state=1)\n",
    "#     # Retune using feature selection:\n",
    "#     MSE_scores = cross_val_score(rfclass, X_important, y, cv=5, scoring='neg_mean_squared_error')\n",
    "#     RMSE_scores.append(np.mean(np.sqrt(-MSE_scores)))"
   ]
  },
  {
   "cell_type": "code",
   "execution_count": 55,
   "metadata": {
    "collapsed": false
   },
   "outputs": [],
   "source": [
    "# # allow plots to appear in the notebook\n",
    "# %matplotlib inline\n",
    "# import matplotlib.pyplot as plt\n",
    "\n",
    "# # plot n_estimators (x-axis) versus RMSE (y-axis)\n",
    "# plt.plot(estimator_range, RMSE_scores)\n",
    "# plt.xlabel('n_estimators')\n",
    "# plt.ylabel('RMSE (lower is better)')"
   ]
  },
  {
   "cell_type": "markdown",
   "metadata": {},
   "source": [
    "![n_estimators for X important](./images/rf_n_estimators for X important.png)"
   ]
  },
  {
   "cell_type": "code",
   "execution_count": 56,
   "metadata": {
    "collapsed": false
   },
   "outputs": [],
   "source": [
    "# # show the best RMSE and the corresponding max_features\n",
    "# best_nest_imp = sorted(zip(RMSE_scores, estimator_range))[0][1]\n",
    "# print best_nest_imp\n",
    "# sorted(zip(RMSE_scores, estimator_range))[0]"
   ]
  },
  {
   "cell_type": "code",
   "execution_count": 57,
   "metadata": {
    "collapsed": true
   },
   "outputs": [],
   "source": [
    "# The computations above take a long time and are therefore commented out with the result given below for speed.\n",
    "# Press \"CTRL + /\" to uncomment\n",
    "best_nest_imp = 360\n",
    "# (0.10704178621722052, 360)"
   ]
  },
  {
   "cell_type": "markdown",
   "metadata": {},
   "source": [
    "##### Tune max_features"
   ]
  },
  {
   "cell_type": "code",
   "execution_count": 58,
   "metadata": {
    "collapsed": false
   },
   "outputs": [],
   "source": [
    "# # list of values to try for max_features\n",
    "# feature_range = range(1, len(X_important[0])+1)\n",
    "\n",
    "# # list to store the average RMSE for each value of max_features\n",
    "# RMSE_scores = []\n",
    "\n",
    "# # use 10-fold cross-validation with each value of max_features (WARNING: SLOW!)\n",
    "# for feature in feature_range:\n",
    "#     rfclass = RandomForestClassifier(n_estimators=best_nest_imp, max_features=feature, random_state=1)\n",
    "#     MSE_scores = cross_val_score(rfclass, X_important, y, cv=10, scoring='neg_mean_squared_error')\n",
    "#     RMSE_scores.append(np.mean(np.sqrt(-MSE_scores)))"
   ]
  },
  {
   "cell_type": "code",
   "execution_count": 59,
   "metadata": {
    "collapsed": false
   },
   "outputs": [],
   "source": [
    "# # plot max_features (x-axis) versus RMSE (y-axis)\n",
    "# plt.plot(feature_range, RMSE_scores)\n",
    "# plt.xlabel('max_features')\n",
    "# plt.ylabel('RMSE (lower is better)')"
   ]
  },
  {
   "cell_type": "markdown",
   "metadata": {},
   "source": [
    "![max_features for X](./images/rf_max features for X important.png)"
   ]
  },
  {
   "cell_type": "code",
   "execution_count": 60,
   "metadata": {
    "collapsed": false
   },
   "outputs": [],
   "source": [
    "# # show the best RMSE and the corresponding max_features\n",
    "# best_maxf_imp = sorted(zip(RMSE_scores, feature_range))[0][1]\n",
    "# print best_maxf\n",
    "# sorted(zip(RMSE_scores, feature_range))[0]"
   ]
  },
  {
   "cell_type": "code",
   "execution_count": 61,
   "metadata": {
    "collapsed": true
   },
   "outputs": [],
   "source": [
    "# The computations above take a long time and are therefore commented out with the result given below for speed.\n",
    "# Press \"CTRL + /\" to uncomment\n",
    "best_maxf_imp = 1\n",
    "# (0.10396699975444945, 1)"
   ]
  },
  {
   "cell_type": "markdown",
   "metadata": {},
   "source": [
    "### Create Random Forest models using only important features"
   ]
  },
  {
   "cell_type": "code",
   "execution_count": 62,
   "metadata": {
    "collapsed": false
   },
   "outputs": [
    {
     "name": "stdout",
     "output_type": "stream",
     "text": [
      "0.108192158853\n"
     ]
    },
    {
     "data": {
      "text/plain": [
       "<bound method RandomForestClassifier.get_params of RandomForestClassifier(bootstrap=True, class_weight=None, criterion='gini',\n",
       "            max_depth=None, max_features=1, max_leaf_nodes=None,\n",
       "            min_impurity_split=1e-07, min_samples_leaf=1,\n",
       "            min_samples_split=2, min_weight_fraction_leaf=0.0,\n",
       "            n_estimators=40, n_jobs=1, oob_score=False, random_state=1,\n",
       "            verbose=0, warm_start=False)>"
      ]
     },
     "execution_count": 62,
     "metadata": {},
     "output_type": "execute_result"
    }
   ],
   "source": [
    "# check the RMSE for a Random Forest that only includes important features\n",
    "rfclass = RandomForestClassifier(n_estimators=best_nest, max_features=best_maxf, random_state=1)\n",
    "scores = cross_val_score(rfclass, X_important, y, cv=10, scoring='neg_mean_squared_error')\n",
    "print np.mean(np.sqrt(-scores))\n",
    "rfclass.get_params"
   ]
  },
  {
   "cell_type": "code",
   "execution_count": 63,
   "metadata": {
    "collapsed": false
   },
   "outputs": [
    {
     "data": {
      "text/html": [
       "<div>\n",
       "<table border=\"1\" class=\"dataframe\">\n",
       "  <thead>\n",
       "    <tr style=\"text-align: right;\">\n",
       "      <th></th>\n",
       "      <th>mkl_next_0</th>\n",
       "      <th>mkl_next_1</th>\n",
       "    </tr>\n",
       "  </thead>\n",
       "  <tbody>\n",
       "    <tr>\n",
       "      <th>0</th>\n",
       "      <td>0.975</td>\n",
       "      <td>0.025</td>\n",
       "    </tr>\n",
       "    <tr>\n",
       "      <th>1</th>\n",
       "      <td>1.000</td>\n",
       "      <td>0.000</td>\n",
       "    </tr>\n",
       "    <tr>\n",
       "      <th>2</th>\n",
       "      <td>1.000</td>\n",
       "      <td>0.000</td>\n",
       "    </tr>\n",
       "    <tr>\n",
       "      <th>3</th>\n",
       "      <td>1.000</td>\n",
       "      <td>0.000</td>\n",
       "    </tr>\n",
       "    <tr>\n",
       "      <th>4</th>\n",
       "      <td>1.000</td>\n",
       "      <td>0.000</td>\n",
       "    </tr>\n",
       "  </tbody>\n",
       "</table>\n",
       "</div>"
      ],
      "text/plain": [
       "   mkl_next_0  mkl_next_1\n",
       "0       0.975       0.025\n",
       "1       1.000       0.000\n",
       "2       1.000       0.000\n",
       "3       1.000       0.000\n",
       "4       1.000       0.000"
      ]
     },
     "execution_count": 63,
     "metadata": {},
     "output_type": "execute_result"
    }
   ],
   "source": [
    "from sklearn.model_selection import cross_val_predict\n",
    "# 10-fold cross-validation used to check model accuracy and keeps predicted results\n",
    "rf_proba = cross_val_predict(rfclass, X_important, y, cv=10, method='predict_proba')\n",
    "#proba = cross_val_predict(logreg, X, y, cv=cv, method='predict_proba')\n",
    "\n",
    "pred = pd.DataFrame(rf_proba, columns=[['mkl_next_0','mkl_next_1']])\n",
    "pred.head()"
   ]
  },
  {
   "cell_type": "code",
   "execution_count": 64,
   "metadata": {
    "collapsed": false
   },
   "outputs": [
    {
     "name": "stdout",
     "output_type": "stream",
     "text": [
      "(9152, 2)\n"
     ]
    },
    {
     "data": {
      "text/html": [
       "<div>\n",
       "<table border=\"1\" class=\"dataframe\">\n",
       "  <thead>\n",
       "    <tr style=\"text-align: right;\">\n",
       "      <th></th>\n",
       "      <th>mkl_next_0</th>\n",
       "      <th>mkl_next_1</th>\n",
       "    </tr>\n",
       "  </thead>\n",
       "  <tbody>\n",
       "    <tr>\n",
       "      <th>190</th>\n",
       "      <td>1.000</td>\n",
       "      <td>0.000</td>\n",
       "    </tr>\n",
       "    <tr>\n",
       "      <th>191</th>\n",
       "      <td>1.000</td>\n",
       "      <td>0.000</td>\n",
       "    </tr>\n",
       "    <tr>\n",
       "      <th>193</th>\n",
       "      <td>0.975</td>\n",
       "      <td>0.025</td>\n",
       "    </tr>\n",
       "    <tr>\n",
       "      <th>194</th>\n",
       "      <td>0.975</td>\n",
       "      <td>0.025</td>\n",
       "    </tr>\n",
       "    <tr>\n",
       "      <th>195</th>\n",
       "      <td>0.975</td>\n",
       "      <td>0.025</td>\n",
       "    </tr>\n",
       "    <tr>\n",
       "      <th>196</th>\n",
       "      <td>0.975</td>\n",
       "      <td>0.025</td>\n",
       "    </tr>\n",
       "    <tr>\n",
       "      <th>197</th>\n",
       "      <td>1.000</td>\n",
       "      <td>0.000</td>\n",
       "    </tr>\n",
       "    <tr>\n",
       "      <th>198</th>\n",
       "      <td>0.975</td>\n",
       "      <td>0.025</td>\n",
       "    </tr>\n",
       "    <tr>\n",
       "      <th>199</th>\n",
       "      <td>0.975</td>\n",
       "      <td>0.025</td>\n",
       "    </tr>\n",
       "    <tr>\n",
       "      <th>200</th>\n",
       "      <td>0.975</td>\n",
       "      <td>0.025</td>\n",
       "    </tr>\n",
       "  </tbody>\n",
       "</table>\n",
       "</div>"
      ],
      "text/plain": [
       "     mkl_next_0  mkl_next_1\n",
       "190       1.000       0.000\n",
       "191       1.000       0.000\n",
       "193       0.975       0.025\n",
       "194       0.975       0.025\n",
       "195       0.975       0.025\n",
       "196       0.975       0.025\n",
       "197       1.000       0.000\n",
       "198       0.975       0.025\n",
       "199       0.975       0.025\n",
       "200       0.975       0.025"
      ]
     },
     "execution_count": 64,
     "metadata": {},
     "output_type": "execute_result"
    }
   ],
   "source": [
    "# compute feature importances\n",
    "#pd.DataFrame({'feature':feature_cols, 'importance':rf_proba.feature_importances_}).sort_values('importance', ascending=False)\n",
    "print pred.shape\n",
    "\n",
    "# Fix index to account for rows that were dropped\n",
    "pred.index = train_cleaned.index\n",
    "pred[188:198]"
   ]
  },
  {
   "cell_type": "code",
   "execution_count": 65,
   "metadata": {
    "collapsed": false
   },
   "outputs": [
    {
     "name": "stdout",
     "output_type": "stream",
     "text": [
      "(10, 2)\n"
     ]
    },
    {
     "data": {
      "text/html": [
       "<div>\n",
       "<table border=\"1\" class=\"dataframe\">\n",
       "  <thead>\n",
       "    <tr style=\"text-align: right;\">\n",
       "      <th></th>\n",
       "      <th>mkl_next_0</th>\n",
       "      <th>mkl_next_1</th>\n",
       "    </tr>\n",
       "  </thead>\n",
       "  <tbody>\n",
       "    <tr>\n",
       "      <th>3835</th>\n",
       "      <td>0.400</td>\n",
       "      <td>0.600</td>\n",
       "    </tr>\n",
       "    <tr>\n",
       "      <th>6804</th>\n",
       "      <td>0.300</td>\n",
       "      <td>0.700</td>\n",
       "    </tr>\n",
       "    <tr>\n",
       "      <th>7532</th>\n",
       "      <td>0.475</td>\n",
       "      <td>0.525</td>\n",
       "    </tr>\n",
       "    <tr>\n",
       "      <th>7540</th>\n",
       "      <td>0.450</td>\n",
       "      <td>0.550</td>\n",
       "    </tr>\n",
       "    <tr>\n",
       "      <th>7545</th>\n",
       "      <td>0.425</td>\n",
       "      <td>0.575</td>\n",
       "    </tr>\n",
       "    <tr>\n",
       "      <th>7546</th>\n",
       "      <td>0.425</td>\n",
       "      <td>0.575</td>\n",
       "    </tr>\n",
       "    <tr>\n",
       "      <th>7547</th>\n",
       "      <td>0.475</td>\n",
       "      <td>0.525</td>\n",
       "    </tr>\n",
       "    <tr>\n",
       "      <th>7549</th>\n",
       "      <td>0.425</td>\n",
       "      <td>0.575</td>\n",
       "    </tr>\n",
       "    <tr>\n",
       "      <th>7550</th>\n",
       "      <td>0.375</td>\n",
       "      <td>0.625</td>\n",
       "    </tr>\n",
       "    <tr>\n",
       "      <th>8169</th>\n",
       "      <td>0.450</td>\n",
       "      <td>0.550</td>\n",
       "    </tr>\n",
       "  </tbody>\n",
       "</table>\n",
       "</div>"
      ],
      "text/plain": [
       "      mkl_next_0  mkl_next_1\n",
       "3835       0.400       0.600\n",
       "6804       0.300       0.700\n",
       "7532       0.475       0.525\n",
       "7540       0.450       0.550\n",
       "7545       0.425       0.575\n",
       "7546       0.425       0.575\n",
       "7547       0.475       0.525\n",
       "7549       0.425       0.575\n",
       "7550       0.375       0.625\n",
       "8169       0.450       0.550"
      ]
     },
     "execution_count": 65,
     "metadata": {},
     "output_type": "execute_result"
    }
   ],
   "source": [
    "#rfclass.fit(X_important,y)\n",
    "y_pred_proba = pred[pred.mkl_next_1 > 0.5]\n",
    "#pd.DataFrame(rfclass.predict_proba(X))\n",
    "\n",
    "print y_pred_proba.shape\n",
    "y_pred_proba"
   ]
  },
  {
   "cell_type": "code",
   "execution_count": 66,
   "metadata": {
    "collapsed": false
   },
   "outputs": [
    {
     "data": {
      "text/plain": [
       "10"
      ]
     },
     "execution_count": 66,
     "metadata": {},
     "output_type": "execute_result"
    }
   ],
   "source": [
    "# The original dataset has 116 mkl_start. Prediction from model: 10 with >50% probability\n",
    "pred[pred.mkl_next_1 > 0.5].mkl_next_1.count()"
   ]
  },
  {
   "cell_type": "markdown",
   "metadata": {},
   "source": [
    "## Aggregated Results"
   ]
  },
  {
   "cell_type": "code",
   "execution_count": 67,
   "metadata": {
    "collapsed": false
   },
   "outputs": [
    {
     "name": "stdout",
     "output_type": "stream",
     "text": [
      "count    98.000000\n",
      "mean      0.036735\n",
      "std       0.049768\n",
      "min       0.000000\n",
      "25%       0.000000\n",
      "50%       0.025000\n",
      "75%       0.050000\n",
      "max       0.225000\n",
      "Name: rf_proba_mkl_start_next_year, dtype: float64\n",
      "count    9152.000000\n",
      "mean        0.022368\n",
      "std         0.051128\n",
      "min         0.000000\n",
      "25%         0.000000\n",
      "50%         0.000000\n",
      "75%         0.025000\n",
      "max         0.700000\n",
      "Name: rf_proba_mkl_start_next_year, dtype: float64\n"
     ]
    }
   ],
   "source": [
    "results = pd.concat([train_cleaned, pred.mkl_next_1], axis=1)\n",
    "results.rename(columns={\"mkl_next_1\": \"rf_proba_mkl_start_next_year\"}, inplace = True)\n",
    "dft = results[results.mkl_start_next_year == 1][['country','mkl_start_next_year','rf_proba_mkl_start_next_year']]\n",
    "print dft.rf_proba_mkl_start_next_year.describe()\n",
    "print results.rf_proba_mkl_start_next_year.describe()"
   ]
  },
  {
   "cell_type": "code",
   "execution_count": 68,
   "metadata": {
    "collapsed": false
   },
   "outputs": [
    {
     "data": {
      "text/plain": [
       "<matplotlib.axes._subplots.AxesSubplot at 0xecb8cc0>"
      ]
     },
     "execution_count": 68,
     "metadata": {},
     "output_type": "execute_result"
    },
    {
     "data": {
      "image/png": "[encoded data removed]",
      "text/plain": [
       "<matplotlib.figure.Figure at 0xeca00f0>"
      ]
     },
     "metadata": {},
     "output_type": "display_data"
    }
   ],
   "source": [
    "# Show a histogram of the Random Forests predicted probability for countries that would have a mkl_start next year\n",
    "results[results.mkl_start_next_year == 1].rf_proba_mkl_start_next_year.hist()"
   ]
  },
  {
   "cell_type": "code",
   "execution_count": 69,
   "metadata": {
    "collapsed": false
   },
   "outputs": [
    {
     "data": {
      "text/plain": [
       "<matplotlib.axes._subplots.AxesSubplot at 0xc5ee5f8>"
      ]
     },
     "execution_count": 69,
     "metadata": {},
     "output_type": "execute_result"
    },
    {
     "data": {
      "image/png": "[encoded data removed]",
      "text/plain": [
       "<matplotlib.figure.Figure at 0xf06a0b8>"
      ]
     },
     "metadata": {},
     "output_type": "display_data"
    }
   ],
   "source": [
    "results.rf_proba_mkl_start_next_year.hist()"
   ]
  },
  {
   "cell_type": "code",
   "execution_count": 70,
   "metadata": {
    "collapsed": false
   },
   "outputs": [
    {
     "name": "stdout",
     "output_type": "stream",
     "text": [
      "0.0    55\n",
      "Name: mkl_start_next_year, dtype: int64\n"
     ]
    },
    {
     "data": {
      "text/html": [
       "<div>\n",
       "<table border=\"1\" class=\"dataframe\">\n",
       "  <thead>\n",
       "    <tr style=\"text-align: right;\">\n",
       "      <th></th>\n",
       "      <th>country</th>\n",
       "      <th>year</th>\n",
       "      <th>mkl_start_next_year</th>\n",
       "      <th>rf_proba_mkl_start_next_year</th>\n",
       "    </tr>\n",
       "  </thead>\n",
       "  <tbody>\n",
       "    <tr>\n",
       "      <th>1283</th>\n",
       "      <td>Burundi</td>\n",
       "      <td>1985</td>\n",
       "      <td>0.0</td>\n",
       "      <td>0.325</td>\n",
       "    </tr>\n",
       "    <tr>\n",
       "      <th>1338</th>\n",
       "      <td>Cambodia</td>\n",
       "      <td>1978</td>\n",
       "      <td>0.0</td>\n",
       "      <td>0.350</td>\n",
       "    </tr>\n",
       "    <tr>\n",
       "      <th>1935</th>\n",
       "      <td>Congo-Brazzaville</td>\n",
       "      <td>1995</td>\n",
       "      <td>0.0</td>\n",
       "      <td>0.325</td>\n",
       "    </tr>\n",
       "    <tr>\n",
       "      <th>2828</th>\n",
       "      <td>Ethiopia</td>\n",
       "      <td>1956</td>\n",
       "      <td>0.0</td>\n",
       "      <td>0.325</td>\n",
       "    </tr>\n",
       "    <tr>\n",
       "      <th>2831</th>\n",
       "      <td>Ethiopia</td>\n",
       "      <td>1959</td>\n",
       "      <td>0.0</td>\n",
       "      <td>0.350</td>\n",
       "    </tr>\n",
       "    <tr>\n",
       "      <th>2833</th>\n",
       "      <td>Ethiopia</td>\n",
       "      <td>1961</td>\n",
       "      <td>0.0</td>\n",
       "      <td>0.375</td>\n",
       "    </tr>\n",
       "    <tr>\n",
       "      <th>3829</th>\n",
       "      <td>India</td>\n",
       "      <td>1984</td>\n",
       "      <td>0.0</td>\n",
       "      <td>0.400</td>\n",
       "    </tr>\n",
       "    <tr>\n",
       "      <th>3832</th>\n",
       "      <td>India</td>\n",
       "      <td>1987</td>\n",
       "      <td>0.0</td>\n",
       "      <td>0.450</td>\n",
       "    </tr>\n",
       "    <tr>\n",
       "      <th>3833</th>\n",
       "      <td>India</td>\n",
       "      <td>1988</td>\n",
       "      <td>0.0</td>\n",
       "      <td>0.425</td>\n",
       "    </tr>\n",
       "    <tr>\n",
       "      <th>3835</th>\n",
       "      <td>India</td>\n",
       "      <td>1990</td>\n",
       "      <td>0.0</td>\n",
       "      <td>0.600</td>\n",
       "    </tr>\n",
       "    <tr>\n",
       "      <th>3836</th>\n",
       "      <td>India</td>\n",
       "      <td>1991</td>\n",
       "      <td>0.0</td>\n",
       "      <td>0.325</td>\n",
       "    </tr>\n",
       "    <tr>\n",
       "      <th>3837</th>\n",
       "      <td>India</td>\n",
       "      <td>1992</td>\n",
       "      <td>0.0</td>\n",
       "      <td>0.400</td>\n",
       "    </tr>\n",
       "    <tr>\n",
       "      <th>3843</th>\n",
       "      <td>India</td>\n",
       "      <td>1998</td>\n",
       "      <td>0.0</td>\n",
       "      <td>0.325</td>\n",
       "    </tr>\n",
       "    <tr>\n",
       "      <th>5789</th>\n",
       "      <td>Nepal</td>\n",
       "      <td>1984</td>\n",
       "      <td>0.0</td>\n",
       "      <td>0.325</td>\n",
       "    </tr>\n",
       "    <tr>\n",
       "      <th>5793</th>\n",
       "      <td>Nepal</td>\n",
       "      <td>1988</td>\n",
       "      <td>0.0</td>\n",
       "      <td>0.350</td>\n",
       "    </tr>\n",
       "    <tr>\n",
       "      <th>6268</th>\n",
       "      <td>North Yemen</td>\n",
       "      <td>1984</td>\n",
       "      <td>0.0</td>\n",
       "      <td>0.325</td>\n",
       "    </tr>\n",
       "    <tr>\n",
       "      <th>6697</th>\n",
       "      <td>Peru</td>\n",
       "      <td>1980</td>\n",
       "      <td>0.0</td>\n",
       "      <td>0.325</td>\n",
       "    </tr>\n",
       "    <tr>\n",
       "      <th>6804</th>\n",
       "      <td>Poland</td>\n",
       "      <td>1947</td>\n",
       "      <td>0.0</td>\n",
       "      <td>0.700</td>\n",
       "    </tr>\n",
       "    <tr>\n",
       "      <th>7518</th>\n",
       "      <td>South Africa</td>\n",
       "      <td>1950</td>\n",
       "      <td>0.0</td>\n",
       "      <td>0.325</td>\n",
       "    </tr>\n",
       "    <tr>\n",
       "      <th>7519</th>\n",
       "      <td>South Africa</td>\n",
       "      <td>1951</td>\n",
       "      <td>0.0</td>\n",
       "      <td>0.325</td>\n",
       "    </tr>\n",
       "    <tr>\n",
       "      <th>7520</th>\n",
       "      <td>South Africa</td>\n",
       "      <td>1952</td>\n",
       "      <td>0.0</td>\n",
       "      <td>0.325</td>\n",
       "    </tr>\n",
       "    <tr>\n",
       "      <th>7521</th>\n",
       "      <td>South Africa</td>\n",
       "      <td>1953</td>\n",
       "      <td>0.0</td>\n",
       "      <td>0.325</td>\n",
       "    </tr>\n",
       "    <tr>\n",
       "      <th>7522</th>\n",
       "      <td>South Africa</td>\n",
       "      <td>1954</td>\n",
       "      <td>0.0</td>\n",
       "      <td>0.325</td>\n",
       "    </tr>\n",
       "    <tr>\n",
       "      <th>7523</th>\n",
       "      <td>South Africa</td>\n",
       "      <td>1955</td>\n",
       "      <td>0.0</td>\n",
       "      <td>0.325</td>\n",
       "    </tr>\n",
       "    <tr>\n",
       "      <th>7524</th>\n",
       "      <td>South Africa</td>\n",
       "      <td>1956</td>\n",
       "      <td>0.0</td>\n",
       "      <td>0.325</td>\n",
       "    </tr>\n",
       "    <tr>\n",
       "      <th>7525</th>\n",
       "      <td>South Africa</td>\n",
       "      <td>1957</td>\n",
       "      <td>0.0</td>\n",
       "      <td>0.325</td>\n",
       "    </tr>\n",
       "    <tr>\n",
       "      <th>7526</th>\n",
       "      <td>South Africa</td>\n",
       "      <td>1958</td>\n",
       "      <td>0.0</td>\n",
       "      <td>0.325</td>\n",
       "    </tr>\n",
       "    <tr>\n",
       "      <th>7527</th>\n",
       "      <td>South Africa</td>\n",
       "      <td>1959</td>\n",
       "      <td>0.0</td>\n",
       "      <td>0.325</td>\n",
       "    </tr>\n",
       "    <tr>\n",
       "      <th>7528</th>\n",
       "      <td>South Africa</td>\n",
       "      <td>1960</td>\n",
       "      <td>0.0</td>\n",
       "      <td>0.400</td>\n",
       "    </tr>\n",
       "    <tr>\n",
       "      <th>7529</th>\n",
       "      <td>South Africa</td>\n",
       "      <td>1961</td>\n",
       "      <td>0.0</td>\n",
       "      <td>0.325</td>\n",
       "    </tr>\n",
       "    <tr>\n",
       "      <th>7531</th>\n",
       "      <td>South Africa</td>\n",
       "      <td>1963</td>\n",
       "      <td>0.0</td>\n",
       "      <td>0.350</td>\n",
       "    </tr>\n",
       "    <tr>\n",
       "      <th>7532</th>\n",
       "      <td>South Africa</td>\n",
       "      <td>1964</td>\n",
       "      <td>0.0</td>\n",
       "      <td>0.525</td>\n",
       "    </tr>\n",
       "    <tr>\n",
       "      <th>7533</th>\n",
       "      <td>South Africa</td>\n",
       "      <td>1965</td>\n",
       "      <td>0.0</td>\n",
       "      <td>0.400</td>\n",
       "    </tr>\n",
       "    <tr>\n",
       "      <th>7534</th>\n",
       "      <td>South Africa</td>\n",
       "      <td>1966</td>\n",
       "      <td>0.0</td>\n",
       "      <td>0.500</td>\n",
       "    </tr>\n",
       "    <tr>\n",
       "      <th>7535</th>\n",
       "      <td>South Africa</td>\n",
       "      <td>1967</td>\n",
       "      <td>0.0</td>\n",
       "      <td>0.500</td>\n",
       "    </tr>\n",
       "    <tr>\n",
       "      <th>7536</th>\n",
       "      <td>South Africa</td>\n",
       "      <td>1968</td>\n",
       "      <td>0.0</td>\n",
       "      <td>0.500</td>\n",
       "    </tr>\n",
       "    <tr>\n",
       "      <th>7537</th>\n",
       "      <td>South Africa</td>\n",
       "      <td>1969</td>\n",
       "      <td>0.0</td>\n",
       "      <td>0.500</td>\n",
       "    </tr>\n",
       "    <tr>\n",
       "      <th>7538</th>\n",
       "      <td>South Africa</td>\n",
       "      <td>1970</td>\n",
       "      <td>0.0</td>\n",
       "      <td>0.500</td>\n",
       "    </tr>\n",
       "    <tr>\n",
       "      <th>7539</th>\n",
       "      <td>South Africa</td>\n",
       "      <td>1971</td>\n",
       "      <td>0.0</td>\n",
       "      <td>0.475</td>\n",
       "    </tr>\n",
       "    <tr>\n",
       "      <th>7540</th>\n",
       "      <td>South Africa</td>\n",
       "      <td>1972</td>\n",
       "      <td>0.0</td>\n",
       "      <td>0.550</td>\n",
       "    </tr>\n",
       "    <tr>\n",
       "      <th>7541</th>\n",
       "      <td>South Africa</td>\n",
       "      <td>1973</td>\n",
       "      <td>0.0</td>\n",
       "      <td>0.500</td>\n",
       "    </tr>\n",
       "    <tr>\n",
       "      <th>7542</th>\n",
       "      <td>South Africa</td>\n",
       "      <td>1974</td>\n",
       "      <td>0.0</td>\n",
       "      <td>0.500</td>\n",
       "    </tr>\n",
       "    <tr>\n",
       "      <th>7544</th>\n",
       "      <td>South Africa</td>\n",
       "      <td>1976</td>\n",
       "      <td>0.0</td>\n",
       "      <td>0.475</td>\n",
       "    </tr>\n",
       "    <tr>\n",
       "      <th>7545</th>\n",
       "      <td>South Africa</td>\n",
       "      <td>1977</td>\n",
       "      <td>0.0</td>\n",
       "      <td>0.575</td>\n",
       "    </tr>\n",
       "    <tr>\n",
       "      <th>7546</th>\n",
       "      <td>South Africa</td>\n",
       "      <td>1978</td>\n",
       "      <td>0.0</td>\n",
       "      <td>0.575</td>\n",
       "    </tr>\n",
       "    <tr>\n",
       "      <th>7547</th>\n",
       "      <td>South Africa</td>\n",
       "      <td>1979</td>\n",
       "      <td>0.0</td>\n",
       "      <td>0.525</td>\n",
       "    </tr>\n",
       "    <tr>\n",
       "      <th>7548</th>\n",
       "      <td>South Africa</td>\n",
       "      <td>1980</td>\n",
       "      <td>0.0</td>\n",
       "      <td>0.450</td>\n",
       "    </tr>\n",
       "    <tr>\n",
       "      <th>7549</th>\n",
       "      <td>South Africa</td>\n",
       "      <td>1981</td>\n",
       "      <td>0.0</td>\n",
       "      <td>0.575</td>\n",
       "    </tr>\n",
       "    <tr>\n",
       "      <th>7550</th>\n",
       "      <td>South Africa</td>\n",
       "      <td>1982</td>\n",
       "      <td>0.0</td>\n",
       "      <td>0.625</td>\n",
       "    </tr>\n",
       "    <tr>\n",
       "      <th>7551</th>\n",
       "      <td>South Africa</td>\n",
       "      <td>1983</td>\n",
       "      <td>0.0</td>\n",
       "      <td>0.325</td>\n",
       "    </tr>\n",
       "    <tr>\n",
       "      <th>8161</th>\n",
       "      <td>Syria</td>\n",
       "      <td>2001</td>\n",
       "      <td>0.0</td>\n",
       "      <td>0.375</td>\n",
       "    </tr>\n",
       "    <tr>\n",
       "      <th>8162</th>\n",
       "      <td>Syria</td>\n",
       "      <td>2002</td>\n",
       "      <td>0.0</td>\n",
       "      <td>0.325</td>\n",
       "    </tr>\n",
       "    <tr>\n",
       "      <th>8163</th>\n",
       "      <td>Syria</td>\n",
       "      <td>2003</td>\n",
       "      <td>0.0</td>\n",
       "      <td>0.325</td>\n",
       "    </tr>\n",
       "    <tr>\n",
       "      <th>8168</th>\n",
       "      <td>Syria</td>\n",
       "      <td>2008</td>\n",
       "      <td>0.0</td>\n",
       "      <td>0.475</td>\n",
       "    </tr>\n",
       "    <tr>\n",
       "      <th>8169</th>\n",
       "      <td>Syria</td>\n",
       "      <td>2009</td>\n",
       "      <td>0.0</td>\n",
       "      <td>0.550</td>\n",
       "    </tr>\n",
       "  </tbody>\n",
       "</table>\n",
       "</div>"
      ],
      "text/plain": [
       "                country  year  mkl_start_next_year  \\\n",
       "1283            Burundi  1985                  0.0   \n",
       "1338           Cambodia  1978                  0.0   \n",
       "1935  Congo-Brazzaville  1995                  0.0   \n",
       "2828           Ethiopia  1956                  0.0   \n",
       "2831           Ethiopia  1959                  0.0   \n",
       "2833           Ethiopia  1961                  0.0   \n",
       "3829              India  1984                  0.0   \n",
       "3832              India  1987                  0.0   \n",
       "3833              India  1988                  0.0   \n",
       "3835              India  1990                  0.0   \n",
       "3836              India  1991                  0.0   \n",
       "3837              India  1992                  0.0   \n",
       "3843              India  1998                  0.0   \n",
       "5789              Nepal  1984                  0.0   \n",
       "5793              Nepal  1988                  0.0   \n",
       "6268        North Yemen  1984                  0.0   \n",
       "6697               Peru  1980                  0.0   \n",
       "6804             Poland  1947                  0.0   \n",
       "7518       South Africa  1950                  0.0   \n",
       "7519       South Africa  1951                  0.0   \n",
       "7520       South Africa  1952                  0.0   \n",
       "7521       South Africa  1953                  0.0   \n",
       "7522       South Africa  1954                  0.0   \n",
       "7523       South Africa  1955                  0.0   \n",
       "7524       South Africa  1956                  0.0   \n",
       "7525       South Africa  1957                  0.0   \n",
       "7526       South Africa  1958                  0.0   \n",
       "7527       South Africa  1959                  0.0   \n",
       "7528       South Africa  1960                  0.0   \n",
       "7529       South Africa  1961                  0.0   \n",
       "7531       South Africa  1963                  0.0   \n",
       "7532       South Africa  1964                  0.0   \n",
       "7533       South Africa  1965                  0.0   \n",
       "7534       South Africa  1966                  0.0   \n",
       "7535       South Africa  1967                  0.0   \n",
       "7536       South Africa  1968                  0.0   \n",
       "7537       South Africa  1969                  0.0   \n",
       "7538       South Africa  1970                  0.0   \n",
       "7539       South Africa  1971                  0.0   \n",
       "7540       South Africa  1972                  0.0   \n",
       "7541       South Africa  1973                  0.0   \n",
       "7542       South Africa  1974                  0.0   \n",
       "7544       South Africa  1976                  0.0   \n",
       "7545       South Africa  1977                  0.0   \n",
       "7546       South Africa  1978                  0.0   \n",
       "7547       South Africa  1979                  0.0   \n",
       "7548       South Africa  1980                  0.0   \n",
       "7549       South Africa  1981                  0.0   \n",
       "7550       South Africa  1982                  0.0   \n",
       "7551       South Africa  1983                  0.0   \n",
       "8161              Syria  2001                  0.0   \n",
       "8162              Syria  2002                  0.0   \n",
       "8163              Syria  2003                  0.0   \n",
       "8168              Syria  2008                  0.0   \n",
       "8169              Syria  2009                  0.0   \n",
       "\n",
       "      rf_proba_mkl_start_next_year  \n",
       "1283                         0.325  \n",
       "1338                         0.350  \n",
       "1935                         0.325  \n",
       "2828                         0.325  \n",
       "2831                         0.350  \n",
       "2833                         0.375  \n",
       "3829                         0.400  \n",
       "3832                         0.450  \n",
       "3833                         0.425  \n",
       "3835                         0.600  \n",
       "3836                         0.325  \n",
       "3837                         0.400  \n",
       "3843                         0.325  \n",
       "5789                         0.325  \n",
       "5793                         0.350  \n",
       "6268                         0.325  \n",
       "6697                         0.325  \n",
       "6804                         0.700  \n",
       "7518                         0.325  \n",
       "7519                         0.325  \n",
       "7520                         0.325  \n",
       "7521                         0.325  \n",
       "7522                         0.325  \n",
       "7523                         0.325  \n",
       "7524                         0.325  \n",
       "7525                         0.325  \n",
       "7526                         0.325  \n",
       "7527                         0.325  \n",
       "7528                         0.400  \n",
       "7529                         0.325  \n",
       "7531                         0.350  \n",
       "7532                         0.525  \n",
       "7533                         0.400  \n",
       "7534                         0.500  \n",
       "7535                         0.500  \n",
       "7536                         0.500  \n",
       "7537                         0.500  \n",
       "7538                         0.500  \n",
       "7539                         0.475  \n",
       "7540                         0.550  \n",
       "7541                         0.500  \n",
       "7542                         0.500  \n",
       "7544                         0.475  \n",
       "7545                         0.575  \n",
       "7546                         0.575  \n",
       "7547                         0.525  \n",
       "7548                         0.450  \n",
       "7549                         0.575  \n",
       "7550                         0.625  \n",
       "7551                         0.325  \n",
       "8161                         0.375  \n",
       "8162                         0.325  \n",
       "8163                         0.325  \n",
       "8168                         0.475  \n",
       "8169                         0.550  "
      ]
     },
     "execution_count": 70,
     "metadata": {},
     "output_type": "execute_result"
    }
   ],
   "source": [
    "temp1 = results[results.rf_proba_mkl_start_next_year > 0.3][['country','year','mkl_start_next_year','rf_proba_mkl_start_next_year']]\n",
    "print temp1.mkl_start_next_year.value_counts()\n",
    "temp1"
   ]
  },
  {
   "cell_type": "code",
   "execution_count": 71,
   "metadata": {
    "collapsed": false
   },
   "outputs": [
    {
     "name": "stdout",
     "output_type": "stream",
     "text": [
      "(9152L, 10L)\n"
     ]
    },
    {
     "data": {
      "text/plain": [
       "(9152L,)"
      ]
     },
     "execution_count": 71,
     "metadata": {},
     "output_type": "execute_result"
    }
   ],
   "source": [
    "print X_important.shape\n",
    "y.shape"
   ]
  },
  {
   "cell_type": "code",
   "execution_count": 72,
   "metadata": {
    "collapsed": true
   },
   "outputs": [],
   "source": [
    "from sklearn.model_selection import cross_val_predict\n",
    "\n",
    "# Best n_est: 40\n",
    "# Best max_f: 1\n",
    "def rf_class_predictions(train_cleaned, feature_matrix, y, n_est, max_f):\n",
    "    ''' The funciton will create a dataframe with predicted \\\n",
    "    probability for the response given the random forest parameters'''\n",
    "    rfclass = RandomForestClassifier(n_estimators=n_est, max_features=max_f, random_state=1)\n",
    "\n",
    "    # 10-fold cross-validation used to check model accuracy and keeps predicted results\n",
    "    rf_proba = cross_val_predict(rfclass, feature_matrix, y, cv=10, method='predict_proba')\n",
    "    #proba = cross_val_predict(logreg, X, y, cv=cv, method='predict_proba')\n",
    "\n",
    "    pred = pd.DataFrame(rf_proba, columns=[['rf_proba_0','rf_proba']])\n",
    "    pred.index = train_cleaned.index\n",
    "    #pred.rename(columns={\"mkl_next_1\": \"rf_proba\"}, inplace = True)\n",
    "    \n",
    "    return pred"
   ]
  },
  {
   "cell_type": "code",
   "execution_count": 164,
   "metadata": {
    "collapsed": true
   },
   "outputs": [],
   "source": [
    "def combine_results(data_in,prediction,pred_name):\n",
    "    ''' This function combines the prediction with the larger dataset. '''\n",
    "    # Change the final column of the prediction dataframe to the name given\n",
    "    prediction.rename(columns={prediction.columns[-1]: pred_name}, inplace = True)\n",
    "    # Keep only the last column of the predicted df, that is predicted 1\n",
    "    combo = pd.concat([data_in, prediction.iloc[:,-1]], axis=1)\n",
    "    # Remove any duplicate columns\n",
    "    combo = combo.T.drop_duplicates().T\n",
    "    return combo"
   ]
  },
  {
   "cell_type": "code",
   "execution_count": 293,
   "metadata": {
    "collapsed": false
   },
   "outputs": [],
   "source": [
    "#from sklearn.metrics import confusion_matrix\n",
    "def confusion_matrix_proba(y,y_pred,**keyword_parameters):\n",
    "    ''' Create confusion matrix:\n",
    "    y_true: measured binary result (Pandas Series)\n",
    "    y_pred: predicted binary result or predicted probability if threshold exists (Pandas Series)\n",
    "    theshold: Optional tuning parameter for making prediction based on pediction probability'''\n",
    "    # Create a series based on the threshold value if given\n",
    "    if('threshold' in keyword_parameters):\n",
    "        y_pred = y_pred.map(lambda x: 1 if (x > float(keyword_parameters['threshold'])) else 0)\n",
    "    # Create confusion matrix\n",
    "    df_confusion = pd.crosstab(y, y_pred)\n",
    "    # Great resource: https://classeval.wordpress.com/introduction/basic-evaluation-measures/\n",
    "    # If the shape is 2x2, there are predictions for 1 and 0, calc TP and FP\n",
    "    if (df_confusion.shape == (2,2)):\n",
    "        df_confusion.TP = TP = df_confusion[1][1]\n",
    "        df_confusion.FP = FP = df_confusion[1][0]\n",
    "        df_confusion.TN = TN = df_confusion[0][0]\n",
    "        df_confusion.FN = FN = df_confusion[0][1]\n",
    "    # If 2x1 and column is pred_0 then no predictions for positive, TP = FP = 0\n",
    "    if((df_confusion.shape == (2, 1)) & (df_confusion.columns[0] == 0)):\n",
    "        df_confusion.TP = TP = 0\n",
    "        df_confusion.FP = FP = 0\n",
    "        df_confusion.TN = TN = df_confusion[0][0]\n",
    "        df_confusion.FN = FN = df_confusion[0][1]\n",
    "    # If 2x1 and column is pred_1 then no predictions for negative, TN = FN = 0\n",
    "    if((df_confusion.shape == (2, 1)) & (df_confusion.columns[0] == 1)):\n",
    "        df_confusion.TP = TP = df_confusion.iloc[1,0]\n",
    "        df_confusion.FP = FP = df_confusion.iloc[0,0]\n",
    "        df_confusion.TN = TN = 0\n",
    "        df_confusion.FN = FN = 0\n",
    "\n",
    "    df_confusion.sensitivity = 1.0 * TP/(TP + FN) # result of TP/P\n",
    "    df_confusion.ERR = 1.0 * (FP + FN)/((TP + FN) + (TN + FP)) #(FP + FN)/(P + N)\n",
    "    df_confusion.accuracy = 1.0 * (TP + TN)/((TP + FN) + (TN + FP)) #(TP + TN)/(P + N)\n",
    "    return df_confusion"
   ]
  },
  {
   "cell_type": "code",
   "execution_count": 135,
   "metadata": {
    "collapsed": false
   },
   "outputs": [],
   "source": [
    "def plot_confusion_matrix(y_true,y_pred_proba):\n",
    "    ''' This function will compute the sensitivity and error rates for a model\\\n",
    "    over a threshold from 0.00 to 0.99, with 0.01 steps'''\n",
    "    size = range(0,101,1)\n",
    "    df_sens = pd.DataFrame(columns=['threshold','sensitivity','ERR','accuracy'],index=np.arange(0.00,1.00,0.01))\n",
    "    for num in size:\n",
    "        dft = confusion_matrix_proba(y_true,y_pred_proba, threshold=(num/100.0))\n",
    "        df_sens.iloc[num-1]=[num/100.0,dft.sensitivity,dft.ERR,dft.accuracy]\n",
    "    return df_sens[['sensitivity','ERR','accuracy']]"
   ]
  },
  {
   "cell_type": "code",
   "execution_count": 109,
   "metadata": {
    "collapsed": false
   },
   "outputs": [
    {
     "data": {
      "text/html": [
       "<div>\n",
       "<table border=\"1\" class=\"dataframe\">\n",
       "  <thead>\n",
       "    <tr style=\"text-align: right;\">\n",
       "      <th></th>\n",
       "      <th>country</th>\n",
       "      <th>year</th>\n",
       "      <th>mkl_start_next_year</th>\n",
       "      <th>rf_pred_1</th>\n",
       "    </tr>\n",
       "  </thead>\n",
       "  <tbody>\n",
       "    <tr>\n",
       "      <th>0</th>\n",
       "      <td>Afghanistan</td>\n",
       "      <td>1945</td>\n",
       "      <td>0.0</td>\n",
       "      <td>0.003704</td>\n",
       "    </tr>\n",
       "    <tr>\n",
       "      <th>1</th>\n",
       "      <td>Afghanistan</td>\n",
       "      <td>1946</td>\n",
       "      <td>0.0</td>\n",
       "      <td>0.000000</td>\n",
       "    </tr>\n",
       "    <tr>\n",
       "      <th>2</th>\n",
       "      <td>Afghanistan</td>\n",
       "      <td>1947</td>\n",
       "      <td>0.0</td>\n",
       "      <td>0.003704</td>\n",
       "    </tr>\n",
       "    <tr>\n",
       "      <th>3</th>\n",
       "      <td>Afghanistan</td>\n",
       "      <td>1948</td>\n",
       "      <td>0.0</td>\n",
       "      <td>0.003704</td>\n",
       "    </tr>\n",
       "    <tr>\n",
       "      <th>4</th>\n",
       "      <td>Afghanistan</td>\n",
       "      <td>1949</td>\n",
       "      <td>0.0</td>\n",
       "      <td>0.003704</td>\n",
       "    </tr>\n",
       "  </tbody>\n",
       "</table>\n",
       "</div>"
      ],
      "text/plain": [
       "       country  year  mkl_start_next_year  rf_pred_1\n",
       "0  Afghanistan  1945                  0.0   0.003704\n",
       "1  Afghanistan  1946                  0.0   0.000000\n",
       "2  Afghanistan  1947                  0.0   0.003704\n",
       "3  Afghanistan  1948                  0.0   0.003704\n",
       "4  Afghanistan  1949                  0.0   0.003704"
      ]
     },
     "execution_count": 109,
     "metadata": {},
     "output_type": "execute_result"
    }
   ],
   "source": [
    "# Using the important features for refining the model, now using n_est = 270, not 40\n",
    "rf_pred = rf_class_predictions(train_cleaned, X_important, y, 270, best_maxf)\n",
    "dft = combine_results(train_cleaned[['country','year','mkl_start_next_year']],rf_pred,'rf_pred_1')\n",
    "dft.head()"
   ]
  },
  {
   "cell_type": "code",
   "execution_count": 110,
   "metadata": {
    "collapsed": false
   },
   "outputs": [],
   "source": [
    "rf_pred = rf_class_predictions(train_cleaned, X_important, y, 10, best_maxf)\n",
    "dft = combine_results(dft,rf_pred,'rf_pred_2')"
   ]
  },
  {
   "cell_type": "code",
   "execution_count": 111,
   "metadata": {
    "collapsed": false
   },
   "outputs": [],
   "source": [
    "rf_pred = rf_class_predictions(train_cleaned, X_important, y, 40, best_maxf)\n",
    "dft = combine_results(dft,rf_pred,'rf_pred_3')"
   ]
  },
  {
   "cell_type": "code",
   "execution_count": 112,
   "metadata": {
    "collapsed": true
   },
   "outputs": [],
   "source": [
    "rf_pred = rf_class_predictions(train_cleaned, X_important, y, 150, best_maxf)\n",
    "dft = combine_results(dft,rf_pred,'rf_pred_4')"
   ]
  },
  {
   "cell_type": "code",
   "execution_count": 113,
   "metadata": {
    "collapsed": false
   },
   "outputs": [
    {
     "data": {
      "text/html": [
       "<div>\n",
       "<table border=\"1\" class=\"dataframe\">\n",
       "  <thead>\n",
       "    <tr style=\"text-align: right;\">\n",
       "      <th></th>\n",
       "      <th>country</th>\n",
       "      <th>year</th>\n",
       "      <th>mkl_start_next_year</th>\n",
       "      <th>rf_pred_1</th>\n",
       "      <th>rf_pred_2</th>\n",
       "      <th>rf_pred_3</th>\n",
       "      <th>rf_pred_4</th>\n",
       "      <th>rf_pred_5</th>\n",
       "    </tr>\n",
       "  </thead>\n",
       "  <tbody>\n",
       "    <tr>\n",
       "      <th>0</th>\n",
       "      <td>Afghanistan</td>\n",
       "      <td>1945</td>\n",
       "      <td>0.0</td>\n",
       "      <td>0.003704</td>\n",
       "      <td>0.1</td>\n",
       "      <td>0.025</td>\n",
       "      <td>0.006667</td>\n",
       "      <td>0.003333</td>\n",
       "    </tr>\n",
       "    <tr>\n",
       "      <th>1</th>\n",
       "      <td>Afghanistan</td>\n",
       "      <td>1946</td>\n",
       "      <td>0.0</td>\n",
       "      <td>0.000000</td>\n",
       "      <td>0.0</td>\n",
       "      <td>0.000</td>\n",
       "      <td>0.000000</td>\n",
       "      <td>0.000000</td>\n",
       "    </tr>\n",
       "    <tr>\n",
       "      <th>2</th>\n",
       "      <td>Afghanistan</td>\n",
       "      <td>1947</td>\n",
       "      <td>0.0</td>\n",
       "      <td>0.003704</td>\n",
       "      <td>0.0</td>\n",
       "      <td>0.000</td>\n",
       "      <td>0.000000</td>\n",
       "      <td>0.003333</td>\n",
       "    </tr>\n",
       "    <tr>\n",
       "      <th>3</th>\n",
       "      <td>Afghanistan</td>\n",
       "      <td>1948</td>\n",
       "      <td>0.0</td>\n",
       "      <td>0.003704</td>\n",
       "      <td>0.0</td>\n",
       "      <td>0.000</td>\n",
       "      <td>0.000000</td>\n",
       "      <td>0.003333</td>\n",
       "    </tr>\n",
       "    <tr>\n",
       "      <th>4</th>\n",
       "      <td>Afghanistan</td>\n",
       "      <td>1949</td>\n",
       "      <td>0.0</td>\n",
       "      <td>0.003704</td>\n",
       "      <td>0.0</td>\n",
       "      <td>0.000</td>\n",
       "      <td>0.000000</td>\n",
       "      <td>0.006667</td>\n",
       "    </tr>\n",
       "  </tbody>\n",
       "</table>\n",
       "</div>"
      ],
      "text/plain": [
       "       country  year  mkl_start_next_year  rf_pred_1  rf_pred_2  rf_pred_3  \\\n",
       "0  Afghanistan  1945                  0.0   0.003704        0.1      0.025   \n",
       "1  Afghanistan  1946                  0.0   0.000000        0.0      0.000   \n",
       "2  Afghanistan  1947                  0.0   0.003704        0.0      0.000   \n",
       "3  Afghanistan  1948                  0.0   0.003704        0.0      0.000   \n",
       "4  Afghanistan  1949                  0.0   0.003704        0.0      0.000   \n",
       "\n",
       "   rf_pred_4  rf_pred_5  \n",
       "0   0.006667   0.003333  \n",
       "1   0.000000   0.000000  \n",
       "2   0.000000   0.003333  \n",
       "3   0.000000   0.003333  \n",
       "4   0.000000   0.006667  "
      ]
     },
     "execution_count": 113,
     "metadata": {},
     "output_type": "execute_result"
    }
   ],
   "source": [
    "rf_pred = rf_class_predictions(train_cleaned, X_important, y, 300, best_maxf)\n",
    "dft = combine_results(dft,rf_pred,'rf_pred_5')\n",
    "dft.head()"
   ]
  },
  {
   "cell_type": "code",
   "execution_count": 114,
   "metadata": {
    "collapsed": false
   },
   "outputs": [
    {
     "data": {
      "text/plain": [
       "0.0    6225\n",
       "1.0      85\n",
       "Name: mkl_start_next_year, dtype: int64"
      ]
     },
     "execution_count": 114,
     "metadata": {},
     "output_type": "execute_result"
    }
   ],
   "source": [
    "dft[dft.rf_pred_1 > 0].mkl_start_next_year.value_counts()"
   ]
  },
  {
   "cell_type": "code",
   "execution_count": 115,
   "metadata": {
    "collapsed": false
   },
   "outputs": [
    {
     "data": {
      "text/plain": [
       "0.0    1334\n",
       "1.0      28\n",
       "Name: mkl_start_next_year, dtype: int64"
      ]
     },
     "execution_count": 115,
     "metadata": {},
     "output_type": "execute_result"
    }
   ],
   "source": [
    "dft[dft.rf_pred_2 > 0].mkl_start_next_year.value_counts()"
   ]
  },
  {
   "cell_type": "code",
   "execution_count": 116,
   "metadata": {
    "collapsed": false
   },
   "outputs": [
    {
     "data": {
      "text/plain": [
       "0.0    3168\n",
       "1.0      58\n",
       "Name: mkl_start_next_year, dtype: int64"
      ]
     },
     "execution_count": 116,
     "metadata": {},
     "output_type": "execute_result"
    }
   ],
   "source": [
    "dft[dft.rf_pred_3 > 0].mkl_start_next_year.value_counts()"
   ]
  },
  {
   "cell_type": "code",
   "execution_count": 117,
   "metadata": {
    "collapsed": false
   },
   "outputs": [
    {
     "data": {
      "text/plain": [
       "0.0    5347\n",
       "1.0      80\n",
       "Name: mkl_start_next_year, dtype: int64"
      ]
     },
     "execution_count": 117,
     "metadata": {},
     "output_type": "execute_result"
    }
   ],
   "source": [
    "dft[dft.rf_pred_4 > 0].mkl_start_next_year.value_counts()"
   ]
  },
  {
   "cell_type": "code",
   "execution_count": 118,
   "metadata": {
    "collapsed": false
   },
   "outputs": [
    {
     "data": {
      "text/plain": [
       "0.0    6353\n",
       "1.0      85\n",
       "Name: mkl_start_next_year, dtype: int64"
      ]
     },
     "execution_count": 118,
     "metadata": {},
     "output_type": "execute_result"
    }
   ],
   "source": [
    "dft[dft.rf_pred_5 > 0].mkl_start_next_year.value_counts()"
   ]
  },
  {
   "cell_type": "code",
   "execution_count": 119,
   "metadata": {
    "collapsed": false
   },
   "outputs": [],
   "source": [
    "# # Using the important features for refining the model, now using n_est = 270, not 40\n",
    "# rf_pred = rf_class_predictions(train_cleaned, X_important, y, 270, best_maxf)\n",
    "# results = combine_results(train_cleaned[['country','year','mkl_start_next_year']],rf_pred,'rf_pred_proba')\n",
    "results = dft"
   ]
  },
  {
   "cell_type": "code",
   "execution_count": 120,
   "metadata": {
    "collapsed": false
   },
   "outputs": [
    {
     "data": {
      "text/plain": [
       "<matplotlib.axes._subplots.AxesSubplot at 0x12b477b8>"
      ]
     },
     "execution_count": 120,
     "metadata": {},
     "output_type": "execute_result"
    },
    {
     "data": {
      "image/png": "[encoded data removed]",
      "text/plain": [
       "<matplotlib.figure.Figure at 0x12f869b0>"
      ]
     },
     "metadata": {},
     "output_type": "display_data"
    }
   ],
   "source": [
    "results.rf_pred_1.hist()"
   ]
  },
  {
   "cell_type": "code",
   "execution_count": 121,
   "metadata": {
    "collapsed": false
   },
   "outputs": [
    {
     "data": {
      "text/plain": [
       "(85L,)"
      ]
     },
     "execution_count": 121,
     "metadata": {},
     "output_type": "execute_result"
    },
    {
     "data": {
      "image/png": "[encoded data removed]",
      "text/plain": [
       "<matplotlib.figure.Figure at 0xf7cff98>"
      ]
     },
     "metadata": {},
     "output_type": "display_data"
    }
   ],
   "source": [
    "# Show a histogram of the Random Forests predicted probability > 0 for countries that would have a mkl_start next year\n",
    "temp = results[(results.mkl_start_next_year == 1) & (results.rf_pred_1 > 0)].rf_pred_1\n",
    "temp.hist()\n",
    "temp.shape\n",
    "# Results have captured 85/98 True Positives!"
   ]
  },
  {
   "cell_type": "code",
   "execution_count": 123,
   "metadata": {
    "collapsed": false
   },
   "outputs": [
    {
     "data": {
      "text/plain": [
       "(6225L,)"
      ]
     },
     "execution_count": 123,
     "metadata": {},
     "output_type": "execute_result"
    },
    {
     "data": {
      "image/png": "[encoded data removed]",
      "text/plain": [
       "<matplotlib.figure.Figure at 0x137bc198>"
      ]
     },
     "metadata": {},
     "output_type": "display_data"
    }
   ],
   "source": [
    "temp = results[(results.mkl_start_next_year == 0) & (results.rf_pred_1 > 0)].rf_pred_1\n",
    "temp.hist()\n",
    "temp.shape"
   ]
  },
  {
   "cell_type": "code",
   "execution_count": 146,
   "metadata": {
    "collapsed": false
   },
   "outputs": [
    {
     "name": "stdout",
     "output_type": "stream",
     "text": [
      "Sensitivity: 0.867346938776\n",
      "Error Rate: 0.68159965035\n"
     ]
    },
    {
     "data": {
      "text/html": [
       "<div>\n",
       "<table border=\"1\" class=\"dataframe\">\n",
       "  <thead>\n",
       "    <tr style=\"text-align: right;\">\n",
       "      <th>rf_pred_1</th>\n",
       "      <th>0</th>\n",
       "      <th>1</th>\n",
       "    </tr>\n",
       "    <tr>\n",
       "      <th>mkl_start_next_year</th>\n",
       "      <th></th>\n",
       "      <th></th>\n",
       "    </tr>\n",
       "  </thead>\n",
       "  <tbody>\n",
       "    <tr>\n",
       "      <th>0.0</th>\n",
       "      <td>2829</td>\n",
       "      <td>6225</td>\n",
       "    </tr>\n",
       "    <tr>\n",
       "      <th>1.0</th>\n",
       "      <td>13</td>\n",
       "      <td>85</td>\n",
       "    </tr>\n",
       "  </tbody>\n",
       "</table>\n",
       "</div>"
      ],
      "text/plain": [
       "rf_pred_1               0     1\n",
       "mkl_start_next_year            \n",
       "0.0                  2829  6225\n",
       "1.0                    13    85"
      ]
     },
     "execution_count": 146,
     "metadata": {},
     "output_type": "execute_result"
    }
   ],
   "source": [
    "dft = confusion_matrix_proba(y,results.rf_pred_1, threshold='0.0')\n",
    "print \"Sensitivity: %s\" % dft.sensitivity\n",
    "print \"Error Rate: %s\" % dft.ERR\n",
    "dft"
   ]
  },
  {
   "cell_type": "code",
   "execution_count": 148,
   "metadata": {
    "collapsed": false
   },
   "outputs": [
    {
     "name": "stdout",
     "output_type": "stream",
     "text": [
      "Sensitivity: 0.673469387755\n",
      "Error Rate: 0.44569493007\n"
     ]
    },
    {
     "data": {
      "text/html": [
       "<div>\n",
       "<table border=\"1\" class=\"dataframe\">\n",
       "  <thead>\n",
       "    <tr style=\"text-align: right;\">\n",
       "      <th>rf_pred_1</th>\n",
       "      <th>0</th>\n",
       "      <th>1</th>\n",
       "    </tr>\n",
       "    <tr>\n",
       "      <th>mkl_start_next_year</th>\n",
       "      <th></th>\n",
       "      <th></th>\n",
       "    </tr>\n",
       "  </thead>\n",
       "  <tbody>\n",
       "    <tr>\n",
       "      <th>0.0</th>\n",
       "      <td>5007</td>\n",
       "      <td>4047</td>\n",
       "    </tr>\n",
       "    <tr>\n",
       "      <th>1.0</th>\n",
       "      <td>32</td>\n",
       "      <td>66</td>\n",
       "    </tr>\n",
       "  </tbody>\n",
       "</table>\n",
       "</div>"
      ],
      "text/plain": [
       "rf_pred_1               0     1\n",
       "mkl_start_next_year            \n",
       "0.0                  5007  4047\n",
       "1.0                    32    66"
      ]
     },
     "execution_count": 148,
     "metadata": {},
     "output_type": "execute_result"
    }
   ],
   "source": [
    "dft = confusion_matrix_proba(y,results.rf_pred_1, threshold='0.01')\n",
    "print \"Sensitivity: %s\" % dft.sensitivity\n",
    "print \"Error Rate: %s\" % dft.ERR\n",
    "dft"
   ]
  },
  {
   "cell_type": "code",
   "execution_count": 134,
   "metadata": {
    "collapsed": false
   },
   "outputs": [
    {
     "name": "stdout",
     "output_type": "stream",
     "text": [
      "Sensitivity: 0.0918367346939\n",
      "Error Rate: 0.0549606643357\n"
     ]
    },
    {
     "data": {
      "text/html": [
       "<div>\n",
       "<table border=\"1\" class=\"dataframe\">\n",
       "  <thead>\n",
       "    <tr style=\"text-align: right;\">\n",
       "      <th>rf_pred_1</th>\n",
       "      <th>0</th>\n",
       "      <th>1</th>\n",
       "    </tr>\n",
       "    <tr>\n",
       "      <th>mkl_start_next_year</th>\n",
       "      <th></th>\n",
       "      <th></th>\n",
       "    </tr>\n",
       "  </thead>\n",
       "  <tbody>\n",
       "    <tr>\n",
       "      <th>0.0</th>\n",
       "      <td>8640</td>\n",
       "      <td>414</td>\n",
       "    </tr>\n",
       "    <tr>\n",
       "      <th>1.0</th>\n",
       "      <td>89</td>\n",
       "      <td>9</td>\n",
       "    </tr>\n",
       "  </tbody>\n",
       "</table>\n",
       "</div>"
      ],
      "text/plain": [
       "rf_pred_1               0    1\n",
       "mkl_start_next_year           \n",
       "0.0                  8640  414\n",
       "1.0                    89    9"
      ]
     },
     "execution_count": 134,
     "metadata": {},
     "output_type": "execute_result"
    }
   ],
   "source": [
    "dft = confusion_matrix_proba(y,results.rf_pred_1, threshold='0.1')\n",
    "print \"Sensitivity: %s\" % dft.sensitivity\n",
    "print \"Error Rate: %s\" % dft.ERR\n",
    "dft"
   ]
  },
  {
   "cell_type": "code",
   "execution_count": 130,
   "metadata": {
    "collapsed": false
   },
   "outputs": [
    {
     "name": "stdout",
     "output_type": "stream",
     "text": [
      "Sensitivity: 0.0\n",
      "Error Rate: 0.0109265734266\n"
     ]
    },
    {
     "data": {
      "text/html": [
       "<div>\n",
       "<table border=\"1\" class=\"dataframe\">\n",
       "  <thead>\n",
       "    <tr style=\"text-align: right;\">\n",
       "      <th>rf_pred_1</th>\n",
       "      <th>0</th>\n",
       "      <th>1</th>\n",
       "    </tr>\n",
       "    <tr>\n",
       "      <th>mkl_start_next_year</th>\n",
       "      <th></th>\n",
       "      <th></th>\n",
       "    </tr>\n",
       "  </thead>\n",
       "  <tbody>\n",
       "    <tr>\n",
       "      <th>0.0</th>\n",
       "      <td>9052</td>\n",
       "      <td>2</td>\n",
       "    </tr>\n",
       "    <tr>\n",
       "      <th>1.0</th>\n",
       "      <td>98</td>\n",
       "      <td>0</td>\n",
       "    </tr>\n",
       "  </tbody>\n",
       "</table>\n",
       "</div>"
      ],
      "text/plain": [
       "rf_pred_1               0  1\n",
       "mkl_start_next_year         \n",
       "0.0                  9052  2\n",
       "1.0                    98  0"
      ]
     },
     "execution_count": 130,
     "metadata": {},
     "output_type": "execute_result"
    }
   ],
   "source": [
    "dft = confusion_matrix_proba(y,results.rf_pred_1, threshold='0.5')\n",
    "print \"Sensitivity: %s\" % dft.sensitivity\n",
    "print \"Error Rate: %s\" % dft.ERR\n",
    "dft"
   ]
  },
  {
   "cell_type": "code",
   "execution_count": 131,
   "metadata": {
    "collapsed": false
   },
   "outputs": [
    {
     "name": "stdout",
     "output_type": "stream",
     "text": [
      "Sensitivity: 0.0\n",
      "Error Rate: 0.010708041958\n"
     ]
    },
    {
     "data": {
      "text/html": [
       "<div>\n",
       "<table border=\"1\" class=\"dataframe\">\n",
       "  <thead>\n",
       "    <tr style=\"text-align: right;\">\n",
       "      <th>rf_pred_1</th>\n",
       "      <th>0</th>\n",
       "    </tr>\n",
       "    <tr>\n",
       "      <th>mkl_start_next_year</th>\n",
       "      <th></th>\n",
       "    </tr>\n",
       "  </thead>\n",
       "  <tbody>\n",
       "    <tr>\n",
       "      <th>0.0</th>\n",
       "      <td>9054</td>\n",
       "    </tr>\n",
       "    <tr>\n",
       "      <th>1.0</th>\n",
       "      <td>98</td>\n",
       "    </tr>\n",
       "  </tbody>\n",
       "</table>\n",
       "</div>"
      ],
      "text/plain": [
       "rf_pred_1               0\n",
       "mkl_start_next_year      \n",
       "0.0                  9054\n",
       "1.0                    98"
      ]
     },
     "execution_count": 131,
     "metadata": {},
     "output_type": "execute_result"
    }
   ],
   "source": [
    "dft = confusion_matrix_proba(y,results.rf_pred_1, threshold='0.7')\n",
    "print \"Sensitivity: %s\" % dft.sensitivity\n",
    "print \"Error Rate: %s\" % dft.ERR\n",
    "dft"
   ]
  },
  {
   "cell_type": "code",
   "execution_count": 132,
   "metadata": {
    "collapsed": false
   },
   "outputs": [
    {
     "name": "stdout",
     "output_type": "stream",
     "text": [
      "Sensitivity: 0.0\n",
      "Error Rate: 0.010708041958\n"
     ]
    },
    {
     "data": {
      "text/html": [
       "<div>\n",
       "<table border=\"1\" class=\"dataframe\">\n",
       "  <thead>\n",
       "    <tr style=\"text-align: right;\">\n",
       "      <th>rf_pred_1</th>\n",
       "      <th>0</th>\n",
       "    </tr>\n",
       "    <tr>\n",
       "      <th>mkl_start_next_year</th>\n",
       "      <th></th>\n",
       "    </tr>\n",
       "  </thead>\n",
       "  <tbody>\n",
       "    <tr>\n",
       "      <th>0.0</th>\n",
       "      <td>9054</td>\n",
       "    </tr>\n",
       "    <tr>\n",
       "      <th>1.0</th>\n",
       "      <td>98</td>\n",
       "    </tr>\n",
       "  </tbody>\n",
       "</table>\n",
       "</div>"
      ],
      "text/plain": [
       "rf_pred_1               0\n",
       "mkl_start_next_year      \n",
       "0.0                  9054\n",
       "1.0                    98"
      ]
     },
     "execution_count": 132,
     "metadata": {},
     "output_type": "execute_result"
    }
   ],
   "source": [
    "dft = confusion_matrix_proba(y,results.rf_pred_1, threshold='0.9')\n",
    "print \"Sensitivity: %s\" % dft.sensitivity\n",
    "print \"Error Rate: %s\" % dft.ERR\n",
    "dft"
   ]
  },
  {
   "cell_type": "code",
   "execution_count": 294,
   "metadata": {
    "collapsed": false
   },
   "outputs": [
    {
     "name": "stdout",
     "output_type": "stream",
     "text": [
      "    sensitivity       ERR  accuracy\n",
      "0.0    0.673469  0.445695  0.554305\n",
      "0.373307496075\n"
     ]
    },
    {
     "data": {
      "text/plain": [
       "<matplotlib.axes._subplots.AxesSubplot at 0x1a187cc0>"
      ]
     },
     "execution_count": 294,
     "metadata": {},
     "output_type": "execute_result"
    },
    {
     "data": {
      "image/png": "[encoded data removed]",
      "text/plain": [
       "<matplotlib.figure.Figure at 0x1a164518>"
      ]
     },
     "metadata": {},
     "output_type": "display_data"
    }
   ],
   "source": [
    "dft = plot_confusion_matrix(y,results.rf_pred_1)\n",
    "dft2 = dft[(dft.ERR<0.5) & (dft.sensitivity == dft[dft.ERR<0.5].sensitivity.max())]\n",
    "print dft2\n",
    "print (dft2.sensitivity * dft2.accuracy)[0]\n",
    "dft.plot()"
   ]
  },
  {
   "cell_type": "code",
   "execution_count": 295,
   "metadata": {
    "collapsed": false
   },
   "outputs": [
    {
     "name": "stdout",
     "output_type": "stream",
     "text": [
      "     sensitivity       ERR  accuracy\n",
      "0.00    0.285714  0.153409  0.846591\n",
      "0.01    0.285714  0.153409  0.846591\n",
      "0.02    0.285714  0.153409  0.846591\n",
      "0.03    0.285714  0.153409  0.846591\n",
      "0.04    0.285714  0.153409  0.846591\n",
      "0.05    0.285714  0.153409  0.846591\n",
      "0.06    0.285714  0.153409  0.846591\n",
      "0.07    0.285714  0.153409  0.846591\n",
      "0.08    0.285714  0.153409  0.846591\n",
      "0.241883116883\n"
     ]
    },
    {
     "data": {
      "text/plain": [
       "<matplotlib.axes._subplots.AxesSubplot at 0x19f6c2e8>"
      ]
     },
     "execution_count": 295,
     "metadata": {},
     "output_type": "execute_result"
    },
    {
     "data": {
      "image/png": "[encoded data removed]",
      "text/plain": [
       "<matplotlib.figure.Figure at 0x19160f28>"
      ]
     },
     "metadata": {},
     "output_type": "display_data"
    }
   ],
   "source": [
    "dft = plot_confusion_matrix(y,results.rf_pred_2)\n",
    "dft2 = dft[(dft.ERR<0.5) & (dft.sensitivity == dft[dft.ERR<0.5].sensitivity.max())]\n",
    "print dft2\n",
    "print (dft2.sensitivity * dft2.accuracy)[0]\n",
    "dft.plot()"
   ]
  },
  {
   "cell_type": "code",
   "execution_count": 296,
   "metadata": {
    "collapsed": false
   },
   "outputs": [
    {
     "name": "stdout",
     "output_type": "stream",
     "text": [
      "     sensitivity       ERR  accuracy\n",
      "0.00    0.591837  0.350524  0.649476\n",
      "0.01    0.591837  0.350524  0.649476\n",
      "0.384383473669\n"
     ]
    },
    {
     "data": {
      "text/plain": [
       "<matplotlib.axes._subplots.AxesSubplot at 0x19115cc0>"
      ]
     },
     "execution_count": 296,
     "metadata": {},
     "output_type": "execute_result"
    },
    {
     "data": {
      "image/png": "[encoded data removed]",
      "text/plain": [
       "<matplotlib.figure.Figure at 0x191104a8>"
      ]
     },
     "metadata": {},
     "output_type": "display_data"
    }
   ],
   "source": [
    "dft = plot_confusion_matrix(y,results.rf_pred_3)\n",
    "dft2 = dft[(dft.ERR<0.5) & (dft.sensitivity == dft[dft.ERR<0.5].sensitivity.max())]\n",
    "print dft2\n",
    "print (dft2.sensitivity * dft2.accuracy)[0]\n",
    "dft.plot()"
   ]
  },
  {
   "cell_type": "code",
   "execution_count": 297,
   "metadata": {
    "collapsed": false
   },
   "outputs": [
    {
     "name": "stdout",
     "output_type": "stream",
     "text": [
      "    sensitivity       ERR  accuracy\n",
      "0.0    0.663265  0.422858  0.577142\n",
      "0.382798005566\n"
     ]
    },
    {
     "data": {
      "text/plain": [
       "<matplotlib.axes._subplots.AxesSubplot at 0x18b3ba90>"
      ]
     },
     "execution_count": 297,
     "metadata": {},
     "output_type": "execute_result"
    },
    {
     "data": {
      "image/png": "[encoded data removed]",
      "text/plain": [
       "<matplotlib.figure.Figure at 0x18b36240>"
      ]
     },
     "metadata": {},
     "output_type": "display_data"
    }
   ],
   "source": [
    "dft = plot_confusion_matrix(y,results.rf_pred_4)\n",
    "dft2 = dft[(dft.ERR<0.5) & (dft.sensitivity == dft[dft.ERR<0.5].sensitivity.max())]\n",
    "print dft2\n",
    "print (dft2.sensitivity * dft2.accuracy)[0]\n",
    "dft.plot()"
   ]
  },
  {
   "cell_type": "code",
   "execution_count": 299,
   "metadata": {
    "collapsed": false
   },
   "outputs": [
    {
     "name": "stdout",
     "output_type": "stream",
     "text": [
      "    sensitivity       ERR  accuracy\n",
      "0.0    0.632653  0.402753  0.597247\n",
      "0.377849828743\n"
     ]
    },
    {
     "data": {
      "text/plain": [
       "<matplotlib.axes._subplots.AxesSubplot at 0x1a0087b8>"
      ]
     },
     "execution_count": 299,
     "metadata": {},
     "output_type": "execute_result"
    },
    {
     "data": {
      "image/png": "[encoded data removed]",
      "text/plain": [
       "<matplotlib.figure.Figure at 0x19ff6320>"
      ]
     },
     "metadata": {},
     "output_type": "display_data"
    }
   ],
   "source": [
    "dft = plot_confusion_matrix(y,results.rf_pred_5)\n",
    "dft2 = dft[(dft.ERR<0.5) & (dft.sensitivity == dft[dft.ERR<0.5].sensitivity.max())]\n",
    "print dft2\n",
    "print (dft2.sensitivity * dft2.accuracy)[0]\n",
    "dft.plot()"
   ]
  },
  {
   "cell_type": "code",
   "execution_count": 354,
   "metadata": {
    "collapsed": false
   },
   "outputs": [
    {
     "data": {
      "text/html": [
       "<div>\n",
       "<table border=\"1\" class=\"dataframe\">\n",
       "  <thead>\n",
       "    <tr style=\"text-align: right;\">\n",
       "      <th></th>\n",
       "      <th>country</th>\n",
       "      <th>year</th>\n",
       "      <th>mkl_start_next_year</th>\n",
       "      <th>rf_pred_1</th>\n",
       "      <th>rf_pred_2</th>\n",
       "      <th>rf_pred_3</th>\n",
       "      <th>rf_pred_4</th>\n",
       "      <th>rf_pred_5</th>\n",
       "      <th>logreg_proba_1</th>\n",
       "      <th>logreg_proba_features_3</th>\n",
       "      <th>logreg_proba_features_7</th>\n",
       "      <th>rf_pred_features_3</th>\n",
       "    </tr>\n",
       "  </thead>\n",
       "  <tbody>\n",
       "    <tr>\n",
       "      <th>0</th>\n",
       "      <td>Afghanistan</td>\n",
       "      <td>1945</td>\n",
       "      <td>0</td>\n",
       "      <td>0.0037037</td>\n",
       "      <td>0.1</td>\n",
       "      <td>0.025</td>\n",
       "      <td>0.00666667</td>\n",
       "      <td>0.00333333</td>\n",
       "      <td>0.015027</td>\n",
       "      <td>0.0167383</td>\n",
       "      <td>0.0152162</td>\n",
       "      <td>0</td>\n",
       "    </tr>\n",
       "    <tr>\n",
       "      <th>1</th>\n",
       "      <td>Afghanistan</td>\n",
       "      <td>1946</td>\n",
       "      <td>0</td>\n",
       "      <td>0</td>\n",
       "      <td>0</td>\n",
       "      <td>0</td>\n",
       "      <td>0</td>\n",
       "      <td>0</td>\n",
       "      <td>0.0149328</td>\n",
       "      <td>0.0166388</td>\n",
       "      <td>0.0152026</td>\n",
       "      <td>0</td>\n",
       "    </tr>\n",
       "    <tr>\n",
       "      <th>2</th>\n",
       "      <td>Afghanistan</td>\n",
       "      <td>1947</td>\n",
       "      <td>0</td>\n",
       "      <td>0.0037037</td>\n",
       "      <td>0</td>\n",
       "      <td>0</td>\n",
       "      <td>0</td>\n",
       "      <td>0.00333333</td>\n",
       "      <td>0.014191</td>\n",
       "      <td>0.0165433</td>\n",
       "      <td>0.0144617</td>\n",
       "      <td>0</td>\n",
       "    </tr>\n",
       "    <tr>\n",
       "      <th>3</th>\n",
       "      <td>Afghanistan</td>\n",
       "      <td>1948</td>\n",
       "      <td>0</td>\n",
       "      <td>0.0037037</td>\n",
       "      <td>0</td>\n",
       "      <td>0</td>\n",
       "      <td>0</td>\n",
       "      <td>0.00333333</td>\n",
       "      <td>0.0142126</td>\n",
       "      <td>0.0164516</td>\n",
       "      <td>0.0144824</td>\n",
       "      <td>0.111116</td>\n",
       "    </tr>\n",
       "    <tr>\n",
       "      <th>4</th>\n",
       "      <td>Afghanistan</td>\n",
       "      <td>1949</td>\n",
       "      <td>0</td>\n",
       "      <td>0.0037037</td>\n",
       "      <td>0</td>\n",
       "      <td>0</td>\n",
       "      <td>0</td>\n",
       "      <td>0.00666667</td>\n",
       "      <td>0.0143436</td>\n",
       "      <td>0.0163634</td>\n",
       "      <td>0.0146124</td>\n",
       "      <td>0</td>\n",
       "    </tr>\n",
       "  </tbody>\n",
       "</table>\n",
       "</div>"
      ],
      "text/plain": [
       "       country  year mkl_start_next_year  rf_pred_1 rf_pred_2 rf_pred_3  \\\n",
       "0  Afghanistan  1945                   0  0.0037037       0.1     0.025   \n",
       "1  Afghanistan  1946                   0          0         0         0   \n",
       "2  Afghanistan  1947                   0  0.0037037         0         0   \n",
       "3  Afghanistan  1948                   0  0.0037037         0         0   \n",
       "4  Afghanistan  1949                   0  0.0037037         0         0   \n",
       "\n",
       "    rf_pred_4   rf_pred_5 logreg_proba_1 logreg_proba_features_3  \\\n",
       "0  0.00666667  0.00333333       0.015027               0.0167383   \n",
       "1           0           0      0.0149328               0.0166388   \n",
       "2           0  0.00333333       0.014191               0.0165433   \n",
       "3           0  0.00333333      0.0142126               0.0164516   \n",
       "4           0  0.00666667      0.0143436               0.0163634   \n",
       "\n",
       "  logreg_proba_features_7 rf_pred_features_3  \n",
       "0               0.0152162                  0  \n",
       "1               0.0152026                  0  \n",
       "2               0.0144617                  0  \n",
       "3               0.0144824           0.111116  \n",
       "4               0.0146124                  0  "
      ]
     },
     "execution_count": 354,
     "metadata": {},
     "output_type": "execute_result"
    }
   ],
   "source": [
    "#del results['rf_pred_features_3']\n",
    "# del results['rf_pred_7_features']\n",
    "#del results['logreg_pred_1']\n",
    "results.head()"
   ]
  },
  {
   "cell_type": "code",
   "execution_count": null,
   "metadata": {
    "collapsed": true
   },
   "outputs": [],
   "source": [
    "# Add logreg to result df, add KNN?\n",
    "# Avg results?\n",
    "\n",
    "#countryage_ln\t0.119162\n",
    "#9\twdi_popsize_ln\t0.106623\n",
    "#10\timr_normed_ln\t0.100250\n",
    "#29\tmev_regac_ln\t0.084472\n",
    "#19\tpol_durable_ln\t0.083646\n",
    "#11\tgdppcgrow_sr\t0.076864\n",
    "#12\twdi_trade_ln"
   ]
  },
  {
   "cell_type": "code",
   "execution_count": 355,
   "metadata": {
    "collapsed": false
   },
   "outputs": [
    {
     "name": "stdout",
     "output_type": "stream",
     "text": [
      "    sensitivity       ERR  accuracy\n",
      "0.0     0.44898  0.293925  0.706075\n",
      "0.317013343799\n"
     ]
    },
    {
     "data": {
      "text/plain": [
       "<matplotlib.axes._subplots.AxesSubplot at 0x1d05b1d0>"
      ]
     },
     "execution_count": 355,
     "metadata": {},
     "output_type": "execute_result"
    },
    {
     "data": {
      "image/png": "[encoded data removed]",
      "text/plain": [
       "<matplotlib.figure.Figure at 0x217fc9b0>"
      ]
     },
     "metadata": {},
     "output_type": "display_data"
    }
   ],
   "source": [
    "features_3 = ['countryage_ln','wdi_popsize_ln','imr_normed_ln']\n",
    "rf_pred = rf_class_predictions(train_cleaned, train_cleaned[features_3], y, 270, best_maxf)\n",
    "results = combine_results(results,rf_pred,'rf_pred_features_3')\n",
    "dft = plot_confusion_matrix(y,results.rf_pred_features_3)\n",
    "dft2 = dft[(dft.ERR<0.5) & (dft.sensitivity == dft[dft.ERR<0.5].sensitivity.max())]\n",
    "print dft2\n",
    "print (dft2.sensitivity * dft2.accuracy)[0]\n",
    "dft.plot()\n",
    "\n",
    "# rf_pred = rf_class_predictions(train_cleaned, X_important, y, 40, best_maxf)\n",
    "# dft = combine_results(dft,rf_pred,'rf_pred_3')"
   ]
  },
  {
   "cell_type": "code",
   "execution_count": 357,
   "metadata": {
    "collapsed": false
   },
   "outputs": [
    {
     "name": "stdout",
     "output_type": "stream",
     "text": [
      "    sensitivity       ERR  accuracy\n",
      "0.0    0.581633  0.382539  0.617461\n",
      "0.359135284358\n"
     ]
    },
    {
     "data": {
      "text/plain": [
       "<matplotlib.axes._subplots.AxesSubplot at 0x1b6e79b0>"
      ]
     },
     "execution_count": 357,
     "metadata": {},
     "output_type": "execute_result"
    },
    {
     "data": {
      "image/png": "[encoded data removed]",
      "text/plain": [
       "<matplotlib.figure.Figure at 0x1dcab278>"
      ]
     },
     "metadata": {},
     "output_type": "display_data"
    }
   ],
   "source": [
    "features_7 = ['countryage_ln','wdi_popsize_ln','imr_normed_ln','mev_regac_ln','pol_durable_ln','gdppcgrow_sr','wdi_trade_ln']\n",
    "rf_pred = rf_class_predictions(train_cleaned, train_cleaned[features_7], y, 270, best_maxf)\n",
    "results = combine_results(results,rf_pred,'rf_pred_features_7')\n",
    "dft = plot_confusion_matrix(y,results.rf_pred_features_7)\n",
    "dft2 = dft[(dft.ERR<0.5) & (dft.sensitivity == dft[dft.ERR<0.5].sensitivity.max())]\n",
    "print dft2\n",
    "print (dft2.sensitivity * dft2.accuracy)[0]\n",
    "dft.plot()"
   ]
  },
  {
   "cell_type": "markdown",
   "metadata": {},
   "source": [
    "### Logistic Regression, round 2"
   ]
  },
  {
   "cell_type": "code",
   "execution_count": 343,
   "metadata": {
    "collapsed": false
   },
   "outputs": [],
   "source": [
    "def logreg_class_predictions(train_cleaned, feature_matrix, y):\n",
    "    ''' The funciton will create a dataframe with predicted \\\n",
    "     probability for the response given the logistic regression parameters'''\n",
    "    param_grid = {'C': [0.001, 0.01, 0.1, 1, 10, 100, 1000] }\n",
    "    # GridSearchCV can be used to get the best C value to use.\n",
    "    clf = GridSearchCV(LogisticRegression(penalty='l2'), param_grid)\n",
    "    GridSearchCV(cv=None,\n",
    "           estimator=LogisticRegression(C=1.0, intercept_scaling=1, dual=False, fit_intercept=True,\n",
    "              penalty='l2', tol=0.0001),\n",
    "           param_grid={'C': [0.001, 0.01, 0.1, 1, 10, 100, 1000]})\n",
    "\n",
    "    # Find best C value using GridSearchCV\n",
    "    clf.fit(feature_matrix,y)\n",
    "\n",
    "    # 3. Instantiate\n",
    "    # Increasing C>1 does not increase sensitivity but does increase FPs\n",
    "    # Best C value from above is incorrect and leads to 0 TP\n",
    "    #logreg = LogisticRegression(C=clf.best_params_['C'])\n",
    "    # Manually found C value with max TP and min FP\n",
    "    # Manually played with tol and could not improve sensitivity\n",
    "    logreg = LogisticRegression(C=clf.best_params_['C'])\n",
    "\n",
    "    # 4. Fit model, 5. Predict, 6. Evaluate\n",
    "    # 10-fold cross-validation used to check model accuracy and keeps predicted results\n",
    "    logreg_proba = cross_val_predict(logreg, feature_matrix, y, cv=10, method='predict_proba')\n",
    "\n",
    "    pred = pd.DataFrame(logreg_proba, columns=[['logreg_proba_0','logreg_proba']])\n",
    "    pred.index = train_cleaned.index\n",
    "    \n",
    "    return pred"
   ]
  },
  {
   "cell_type": "code",
   "execution_count": 344,
   "metadata": {
    "collapsed": false
   },
   "outputs": [
    {
     "data": {
      "text/html": [
       "<div>\n",
       "<table border=\"1\" class=\"dataframe\">\n",
       "  <thead>\n",
       "    <tr style=\"text-align: right;\">\n",
       "      <th></th>\n",
       "      <th>country</th>\n",
       "      <th>year</th>\n",
       "      <th>mkl_start_next_year</th>\n",
       "      <th>rf_pred_1</th>\n",
       "      <th>rf_pred_2</th>\n",
       "      <th>rf_pred_3</th>\n",
       "      <th>rf_pred_4</th>\n",
       "      <th>rf_pred_5</th>\n",
       "      <th>logreg_proba_1</th>\n",
       "    </tr>\n",
       "  </thead>\n",
       "  <tbody>\n",
       "    <tr>\n",
       "      <th>0</th>\n",
       "      <td>Afghanistan</td>\n",
       "      <td>1945</td>\n",
       "      <td>0</td>\n",
       "      <td>0.0037037</td>\n",
       "      <td>0.1</td>\n",
       "      <td>0.025</td>\n",
       "      <td>0.00666667</td>\n",
       "      <td>0.00333333</td>\n",
       "      <td>0.015027</td>\n",
       "    </tr>\n",
       "    <tr>\n",
       "      <th>1</th>\n",
       "      <td>Afghanistan</td>\n",
       "      <td>1946</td>\n",
       "      <td>0</td>\n",
       "      <td>0</td>\n",
       "      <td>0</td>\n",
       "      <td>0</td>\n",
       "      <td>0</td>\n",
       "      <td>0</td>\n",
       "      <td>0.0149328</td>\n",
       "    </tr>\n",
       "    <tr>\n",
       "      <th>2</th>\n",
       "      <td>Afghanistan</td>\n",
       "      <td>1947</td>\n",
       "      <td>0</td>\n",
       "      <td>0.0037037</td>\n",
       "      <td>0</td>\n",
       "      <td>0</td>\n",
       "      <td>0</td>\n",
       "      <td>0.00333333</td>\n",
       "      <td>0.014191</td>\n",
       "    </tr>\n",
       "    <tr>\n",
       "      <th>3</th>\n",
       "      <td>Afghanistan</td>\n",
       "      <td>1948</td>\n",
       "      <td>0</td>\n",
       "      <td>0.0037037</td>\n",
       "      <td>0</td>\n",
       "      <td>0</td>\n",
       "      <td>0</td>\n",
       "      <td>0.00333333</td>\n",
       "      <td>0.0142126</td>\n",
       "    </tr>\n",
       "    <tr>\n",
       "      <th>4</th>\n",
       "      <td>Afghanistan</td>\n",
       "      <td>1949</td>\n",
       "      <td>0</td>\n",
       "      <td>0.0037037</td>\n",
       "      <td>0</td>\n",
       "      <td>0</td>\n",
       "      <td>0</td>\n",
       "      <td>0.00666667</td>\n",
       "      <td>0.0143436</td>\n",
       "    </tr>\n",
       "  </tbody>\n",
       "</table>\n",
       "</div>"
      ],
      "text/plain": [
       "       country  year mkl_start_next_year  rf_pred_1 rf_pred_2 rf_pred_3  \\\n",
       "0  Afghanistan  1945                   0  0.0037037       0.1     0.025   \n",
       "1  Afghanistan  1946                   0          0         0         0   \n",
       "2  Afghanistan  1947                   0  0.0037037         0         0   \n",
       "3  Afghanistan  1948                   0  0.0037037         0         0   \n",
       "4  Afghanistan  1949                   0  0.0037037         0         0   \n",
       "\n",
       "    rf_pred_4   rf_pred_5 logreg_proba_1  \n",
       "0  0.00666667  0.00333333       0.015027  \n",
       "1           0           0      0.0149328  \n",
       "2           0  0.00333333       0.014191  \n",
       "3           0  0.00333333      0.0142126  \n",
       "4           0  0.00666667      0.0143436  "
      ]
     },
     "execution_count": 344,
     "metadata": {},
     "output_type": "execute_result"
    }
   ],
   "source": [
    "# Make logreg predictions using X_important (from RF)\n",
    "logreg_pred = logreg_class_predictions(train_cleaned, X_important, y)\n",
    "results = combine_results(results,logreg_pred,'logreg_proba_1')\n",
    "results.head()"
   ]
  },
  {
   "cell_type": "code",
   "execution_count": 345,
   "metadata": {
    "collapsed": false
   },
   "outputs": [
    {
     "name": "stdout",
     "output_type": "stream",
     "text": [
      "     sensitivity       ERR  accuracy\n",
      "0.01    0.234694  0.238418  0.761582\n",
      "0.01    0.178739\n",
      "dtype: object\n"
     ]
    },
    {
     "data": {
      "text/plain": [
       "<matplotlib.axes._subplots.AxesSubplot at 0x1bcb4240>"
      ]
     },
     "execution_count": 345,
     "metadata": {},
     "output_type": "execute_result"
    },
    {
     "data": {
      "image/png": "[encoded data removed]",
      "text/plain": [
       "<matplotlib.figure.Figure at 0x1a4f75c0>"
      ]
     },
     "metadata": {},
     "output_type": "display_data"
    }
   ],
   "source": [
    "dft = plot_confusion_matrix(y,results.logreg_proba_1)\n",
    "\n",
    "dft2 = dft[(dft.ERR<0.5) & (dft.sensitivity == dft[dft.ERR<0.5].sensitivity.max())]\n",
    "print dft2\n",
    "print (dft2.sensitivity * dft2.accuracy)\n",
    "dft.plot()"
   ]
  },
  {
   "cell_type": "code",
   "execution_count": 350,
   "metadata": {
    "collapsed": false
   },
   "outputs": [
    {
     "name": "stdout",
     "output_type": "stream",
     "text": [
      "     sensitivity       ERR  accuracy\n",
      "0.01    0.204082  0.308566  0.691434\n",
      "0.01    0.141109\n",
      "dtype: object\n"
     ]
    },
    {
     "data": {
      "text/plain": [
       "<matplotlib.axes._subplots.AxesSubplot at 0x1bbb3f60>"
      ]
     },
     "execution_count": 350,
     "metadata": {},
     "output_type": "execute_result"
    },
    {
     "data": {
      "image/png": "[encoded data removed]",
      "text/plain": [
       "<matplotlib.figure.Figure at 0x1bbb35c0>"
      ]
     },
     "metadata": {},
     "output_type": "display_data"
    }
   ],
   "source": [
    "logreg_pred = logreg_class_predictions(train_cleaned, train_cleaned[features_3], y)\n",
    "results = combine_results(results,logreg_pred,'logreg_proba_features_3')\n",
    "\n",
    "dft = plot_confusion_matrix(y,results.logreg_proba_features_3)\n",
    "\n",
    "dft2 = dft[(dft.ERR<0.5) & (dft.sensitivity == dft[dft.ERR<0.5].sensitivity.max())]\n",
    "print dft2\n",
    "print (dft2.sensitivity * dft2.accuracy)\n",
    "dft.plot()"
   ]
  },
  {
   "cell_type": "code",
   "execution_count": 352,
   "metadata": {
    "collapsed": false
   },
   "outputs": [
    {
     "name": "stdout",
     "output_type": "stream",
     "text": [
      "     sensitivity       ERR  accuracy\n",
      "0.01    0.255102  0.237653  0.762347\n",
      "0.01    0.194476\n",
      "dtype: object\n"
     ]
    },
    {
     "data": {
      "text/plain": [
       "<matplotlib.axes._subplots.AxesSubplot at 0x1fc41198>"
      ]
     },
     "execution_count": 352,
     "metadata": {},
     "output_type": "execute_result"
    },
    {
     "data": {
      "image/png": "[encoded data removed]",
      "text/plain": [
       "<matplotlib.figure.Figure at 0x20b3e5f8>"
      ]
     },
     "metadata": {},
     "output_type": "display_data"
    }
   ],
   "source": [
    "logreg_pred = logreg_class_predictions(train_cleaned, train_cleaned[features_7], y)\n",
    "results = combine_results(results,logreg_pred,'logreg_proba_features_7')\n",
    "\n",
    "dft = plot_confusion_matrix(y,results.logreg_proba_features_7)\n",
    "\n",
    "dft2 = dft[(dft.ERR<0.5) & (dft.sensitivity == dft[dft.ERR<0.5].sensitivity.max())]\n",
    "print dft2\n",
    "print (dft2.sensitivity * dft2.accuracy)\n",
    "dft.plot()"
   ]
  },
  {
   "cell_type": "code",
   "execution_count": 358,
   "metadata": {
    "collapsed": false
   },
   "outputs": [
    {
     "data": {
      "text/html": [
       "<div>\n",
       "<table border=\"1\" class=\"dataframe\">\n",
       "  <thead>\n",
       "    <tr style=\"text-align: right;\">\n",
       "      <th></th>\n",
       "      <th>country</th>\n",
       "      <th>year</th>\n",
       "      <th>mkl_start_next_year</th>\n",
       "      <th>rf_pred_1</th>\n",
       "      <th>rf_pred_2</th>\n",
       "      <th>rf_pred_3</th>\n",
       "      <th>rf_pred_4</th>\n",
       "      <th>rf_pred_5</th>\n",
       "      <th>logreg_proba_1</th>\n",
       "      <th>logreg_proba_features_3</th>\n",
       "      <th>logreg_proba_features_7</th>\n",
       "      <th>rf_pred_features_3</th>\n",
       "      <th>rf_pred_features_7</th>\n",
       "    </tr>\n",
       "  </thead>\n",
       "  <tbody>\n",
       "    <tr>\n",
       "      <th>0</th>\n",
       "      <td>Afghanistan</td>\n",
       "      <td>1945</td>\n",
       "      <td>0</td>\n",
       "      <td>0.0037037</td>\n",
       "      <td>0.1</td>\n",
       "      <td>0.025</td>\n",
       "      <td>0.00666667</td>\n",
       "      <td>0.00333333</td>\n",
       "      <td>0.015027</td>\n",
       "      <td>0.0167383</td>\n",
       "      <td>0.0152162</td>\n",
       "      <td>0</td>\n",
       "      <td>0.00740741</td>\n",
       "    </tr>\n",
       "    <tr>\n",
       "      <th>1</th>\n",
       "      <td>Afghanistan</td>\n",
       "      <td>1946</td>\n",
       "      <td>0</td>\n",
       "      <td>0</td>\n",
       "      <td>0</td>\n",
       "      <td>0</td>\n",
       "      <td>0</td>\n",
       "      <td>0</td>\n",
       "      <td>0.0149328</td>\n",
       "      <td>0.0166388</td>\n",
       "      <td>0.0152026</td>\n",
       "      <td>0</td>\n",
       "      <td>0</td>\n",
       "    </tr>\n",
       "    <tr>\n",
       "      <th>2</th>\n",
       "      <td>Afghanistan</td>\n",
       "      <td>1947</td>\n",
       "      <td>0</td>\n",
       "      <td>0.0037037</td>\n",
       "      <td>0</td>\n",
       "      <td>0</td>\n",
       "      <td>0</td>\n",
       "      <td>0.00333333</td>\n",
       "      <td>0.014191</td>\n",
       "      <td>0.0165433</td>\n",
       "      <td>0.0144617</td>\n",
       "      <td>0</td>\n",
       "      <td>0</td>\n",
       "    </tr>\n",
       "    <tr>\n",
       "      <th>3</th>\n",
       "      <td>Afghanistan</td>\n",
       "      <td>1948</td>\n",
       "      <td>0</td>\n",
       "      <td>0.0037037</td>\n",
       "      <td>0</td>\n",
       "      <td>0</td>\n",
       "      <td>0</td>\n",
       "      <td>0.00333333</td>\n",
       "      <td>0.0142126</td>\n",
       "      <td>0.0164516</td>\n",
       "      <td>0.0144824</td>\n",
       "      <td>0.111116</td>\n",
       "      <td>0</td>\n",
       "    </tr>\n",
       "    <tr>\n",
       "      <th>4</th>\n",
       "      <td>Afghanistan</td>\n",
       "      <td>1949</td>\n",
       "      <td>0</td>\n",
       "      <td>0.0037037</td>\n",
       "      <td>0</td>\n",
       "      <td>0</td>\n",
       "      <td>0</td>\n",
       "      <td>0.00666667</td>\n",
       "      <td>0.0143436</td>\n",
       "      <td>0.0163634</td>\n",
       "      <td>0.0146124</td>\n",
       "      <td>0</td>\n",
       "      <td>0</td>\n",
       "    </tr>\n",
       "  </tbody>\n",
       "</table>\n",
       "</div>"
      ],
      "text/plain": [
       "       country  year mkl_start_next_year  rf_pred_1 rf_pred_2 rf_pred_3  \\\n",
       "0  Afghanistan  1945                   0  0.0037037       0.1     0.025   \n",
       "1  Afghanistan  1946                   0          0         0         0   \n",
       "2  Afghanistan  1947                   0  0.0037037         0         0   \n",
       "3  Afghanistan  1948                   0  0.0037037         0         0   \n",
       "4  Afghanistan  1949                   0  0.0037037         0         0   \n",
       "\n",
       "    rf_pred_4   rf_pred_5 logreg_proba_1 logreg_proba_features_3  \\\n",
       "0  0.00666667  0.00333333       0.015027               0.0167383   \n",
       "1           0           0      0.0149328               0.0166388   \n",
       "2           0  0.00333333       0.014191               0.0165433   \n",
       "3           0  0.00333333      0.0142126               0.0164516   \n",
       "4           0  0.00666667      0.0143436               0.0163634   \n",
       "\n",
       "  logreg_proba_features_7 rf_pred_features_3 rf_pred_features_7  \n",
       "0               0.0152162                  0         0.00740741  \n",
       "1               0.0152026                  0                  0  \n",
       "2               0.0144617                  0                  0  \n",
       "3               0.0144824           0.111116                  0  \n",
       "4               0.0146124                  0                  0  "
      ]
     },
     "execution_count": 358,
     "metadata": {},
     "output_type": "execute_result"
    }
   ],
   "source": [
    "results.head()"
   ]
  },
  {
   "cell_type": "code",
   "execution_count": null,
   "metadata": {
    "collapsed": true
   },
   "outputs": [],
   "source": []
  },
  {
   "cell_type": "code",
   "execution_count": null,
   "metadata": {
    "collapsed": false
   },
   "outputs": [],
   "source": [
    "print \"From the results above, LogisticRegression performed significantly better \\\n",
    "than RandomForestsClassifier in that logreg was able to predict 2 true positives \\\n",
    "(sensitivity of %s%%) and rfclass predicted 0 TP.\" % round(logreg_sens*100,2)"
   ]
  },
  {
   "cell_type": "code",
   "execution_count": null,
   "metadata": {
    "collapsed": false
   },
   "outputs": [],
   "source": [
    "print \"The logreg prediction is %s%% higher than the null accuracy of %s%%\" \\\n",
    "% (round((logreg_sens-null_accuracy)*100,2),round(null_accuracy*100,2))"
   ]
  },
  {
   "cell_type": "markdown",
   "metadata": {},
   "source": [
    "8. Challenges and successes\n",
    "=============================\n",
    "\n",
    "Making predictions for a response that is very uncommon (116/9330 observations are positive) makes it difficult to test this model.\n",
    "\n",
    "Nulls may require categorical modelling (KNN, DBSCAN clustering, ideally, model values for each country.) If possible, use info about which countries became other countries (or use correlations between yrborn and yrdied to assume association when possible). Also, model year over year change per feature for making estimates for features (instead of imputing values using mean)?\n",
    "\n",
    "In addition to the models implemented here, I also attempted PCA to minimize features but hit a road block in computing a confusion matrix (and also did not trust the results)."
   ]
  },
  {
   "cell_type": "markdown",
   "metadata": {},
   "source": [
    "9. Possible extensions or business applications of your project\n",
    "============================================================\n",
    "\n",
    "Help further refine Early Warning Project models to influence results."
   ]
  },
  {
   "cell_type": "markdown",
   "metadata": {},
   "source": [
    "10. Conclusions and key learnings\n",
    "=============================\n",
    "\n",
    "Certain features had high corr with new mkl:\n",
    "\n",
    "-   Blah\n",
    "\n",
    "-   Blah\n",
    "\n",
    "Certain additional features were added to model to increase accuracy:\n",
    "\n",
    "-   Blahg\n",
    "\n",
    "Certain features were unimportant and therefore removed:\n",
    "\n",
    "-   That one"
   ]
  },
  {
   "cell_type": "markdown",
   "metadata": {},
   "source": [
    "References\n",
    "==========\n",
    "\n",
    "<sup>1</sup>\n",
    "<http://survivors-fund.org.uk/resources/rwandan-history/statistics/>  \n",
    "<sup>2</sup>Preventing Genocide, A Blueprint for U.S. Policymakers,\n",
    "Madeleine K. Albright, William S. Cohen  \n",
    "<https://www.usip.org/genocide-prevention-task-force/view-report>"
   ]
  }
 ],
 "metadata": {
  "anaconda-cloud": {},
  "kernelspec": {
   "display_name": "Python [conda root]",
   "language": "python",
   "name": "conda-root-py"
  },
  "language_info": {
   "codemirror_mode": {
    "name": "ipython",
    "version": 2
   },
   "file_extension": ".py",
   "mimetype": "text/x-python",
   "name": "python",
   "nbconvert_exporter": "python",
   "pygments_lexer": "ipython2",
   "version": "2.7.12"
  }
 },
 "nbformat": 4,
 "nbformat_minor": 1
}
