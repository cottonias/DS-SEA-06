{
 "cells": [
  {
   "cell_type": "markdown",
   "metadata": {},
   "source": [
    "# PREVENTING GENOCIDE\n",
    "#### USING DATA SCIENCE TO IDENTIFY EARLY INDICATORS OF FUTURE STATE LED MASS KILLINGS\n",
    "\n",
    "Mark Cotton / DS-SEA-06 / 2017-05-15"
   ]
  },
  {
   "cell_type": "markdown",
   "metadata": {},
   "source": [
    "1. Background\n",
    "==========\n",
    "\n",
    "On April 6, 1994, Rwandan President Juvenal Habyarimana, a Hutu, was\n",
    "shot down above Kigali airport. In the following 100 days, between\n",
    "800,000 to 1,000,000 (perhaps even 2 M) Tutsi and moderate Hutus were\n",
    "slaughter were killed by fellow Rwandans, with violence being encouraged\n",
    "by the state. This averaged to 6 men, women and children were murdered\n",
    "every minute of every hour of every day for 3 months<sup>1</sup>.\n",
    "\n",
    "Since the Holocaust during World War II, there have been numerous mass\n",
    "killings classified as genocide, from atrocities in Cambodia to Rwanda\n",
    "to Bangladesh to name a few, resulting in the slaughter of millions of\n",
    "people. According to GenocideWatch.org, genocides and other mass murders\n",
    "killed more people in the twentieth century than all the wars combined.\n",
    "\n",
    "When the killings began in Rwanda, the international community responded\n",
    "inadequately and was not able to prevent the hundreds of thousands of\n",
    "deaths that followed. Did the world see this catastrophe coming? Could\n",
    "this all have been prevent or at least could the damage have been\n",
    "minimized? The biggest question is this: how do we prevent history from\n",
    "repeating itself again?\n",
    "\n",
    "What can be done to prevent genocide? From a report by the Genocide\n",
    "Prevention Task Force from the United States Institute of Peace,\n",
    "\n",
    "> *“The first major element of a comprehensive system to prevent\n",
    "> genocide and mass atrocities is a reliable process for accessing risks\n",
    "> and generating early warning of potential atrocities... Effective\n",
    "> early warning does not guarantee successful prevention, but if warning\n",
    "> is absent, slow, inaccurate, or indistinguishable from the 'noise' of\n",
    "> regular reporting, failure is virtually guaranteed.<sup>2</sup>”*\n",
    "\n",
    "What follows, per the Early Warning Project, is that genocide is nearly\n",
    "always carried out by a country’s own police and military forces,\n",
    "requiring external (international) intervention. To make predictions\n",
    "before a country has fallen in to a large-scale genocide, the marker to\n",
    "watch for is state-led mass killings. State-led mass killings occur when\n",
    "a country uses its own forces to kill over 1000 non-combatant civilians\n",
    "in a 12-month time period (in a country of over 500,000)."
   ]
  },
  {
   "cell_type": "markdown",
   "metadata": {},
   "source": [
    "2. Problem statement and hypothesis\n",
    "================================\n",
    "\n",
    "Identifying early indicators that mass killings are going to occur will\n",
    "allow a better opportunity for prevention.\n",
    "\n",
    "Can data science machine learning principles be used to create a model\n",
    "to predict countries with a high likelihood of having a new state-led\n",
    "mass killing occur before the killings occur? The EWP already has\n",
    "created model to make these predictions. My hypothesis is that from\n",
    "within this data, certain combinations of features will be highly\n",
    "indicative of new mass killings occurring. I predict that lingual\n",
    "fractionalization, ethnic fractionalization, GDP, trade openness,\n",
    "country age, availability of natural resources, and history of mass\n",
    "killings will have strong correlations with new mass killings occurring.\n",
    "The model created will be in the form a logistic regression, predicting\n",
    "a 1 or 0 for new mass killings occurring in the following year, with\n",
    "some confidence percentage."
   ]
  },
  {
   "cell_type": "markdown",
   "metadata": {},
   "source": [
    "3. Description of your data set and how it was obtained\n",
    "====================================================\n",
    "\n",
    "The data set used for this report is all directly pulled from a Github repo (available here: <https://github.com/EarlyWarningProject/2015-Statistical-Risk-Assessment>), where the Early Warning Project (EWP) has aggregated data from multiple sources. The EWP runs statistical risk assessment with the goal\n",
    "of preventing mass atrocities. The data from publicly available sources and was cleaned by EWP. This is a time series dataset spanning 178 countries from 1945-2014. This report is using the pre-processed dataset which includes 9330 observations (rows) with 276 variables (columns). The file “EWP Data Dictionary 20140909.pdf” describes the sources and variables. The information below is copied from that document outlining the sources:\n",
    "\n",
    "-   mkl = Early Warning Project’s Episodes of State-Led Mass Killing\n",
    "    Dataset\n",
    "\n",
    "-   wdi = World Bank’s World Development Indicators (via R\n",
    "    package ’WDI’)\n",
    "\n",
    "-   mev = Center for Systemic Peace’s Major Episodes of Political\n",
    "    Violence (<http://www.systemicpeace.org/inscrdata.html>)\n",
    "\n",
    "-   pol = Polity IV (<http://www.systemicpeace.org/inscrdata.html>)\n",
    "\n",
    "-   imr = U.S. Bureau of the Census, International Division (via PITF)\n",
    "\n",
    "-   cmm = Center for Systemic Peace’s List of Coups d’Etat\n",
    "    (<http://www.systemicpeace.org/inscrdata.html>)\n",
    "\n",
    "-   cpt = Powell and Thyne’s Coups d’Etat, 1950 to Present\n",
    "    (<http://www.uky.edu/~clthyn2/coup_data/home.htm>)\n",
    "\n",
    "-   cou = An amalgamation of cmm and cpt data\n",
    "\n",
    "-   pit = PITF Problem Set (i.e., episodes of instability)\n",
    "    (<http://www.systemicpeace.org/inscrdata.html>)\n",
    "\n",
    "-   dis = Center for Systemic Peace’s Discrimination Data Set (via PITF)\n",
    "\n",
    "-   imf = International Monetary Fund’s World Economic Outlook Report\n",
    "    (<http://www.imf.org/external/pubs/ft/weo/2014/01/weodata/index.aspx>)\n",
    "\n",
    "-   elf = Anderson’s Ethnic Fractionalization Data\n",
    "    (<http://www.anderson.ucla.edu/faculty_pages/romain.wacziarg/papersum.html>)\n",
    "\n",
    "-   hum = Farris et al.’s Latent Human Rights Protection Scores\n",
    "    (<http://humanrightsscores.org/>)\n",
    "\n",
    "-   fiw = Freedom House’s Freedom in the World Data Set\n",
    "    (<https://freedomhouse.org/report-types/freedom-world#.VA7Sufk7u-M>)\n",
    "\n",
    "-   aut = Geddes, Wright, and Frantz’s Authoritarian Regimes Dataset\n",
    "    (<http://sites.psu.edu/dictators/>)"
   ]
  },
  {
   "cell_type": "code",
   "execution_count": 296,
   "metadata": {
    "collapsed": true
   },
   "outputs": [],
   "source": [
    "import pandas as pd\n",
    "import numpy as np\n",
    "import seaborn as sns\n",
    "%matplotlib inline\n",
    "\n",
    "# Import files, with the column headers cleaned so that '.' was replaced with '_'\n",
    "url = './data/ewp.statrisk.data.transformed.MC.csv'\n",
    "data = pd.read_csv(url)"
   ]
  },
  {
   "cell_type": "code",
   "execution_count": 297,
   "metadata": {
    "collapsed": false
   },
   "outputs": [
    {
     "data": {
      "text/html": [
       "<div>\n",
       "<table border=\"1\" class=\"dataframe\">\n",
       "  <thead>\n",
       "    <tr style=\"text-align: right;\">\n",
       "      <th></th>\n",
       "      <th>country</th>\n",
       "      <th>sftgcode</th>\n",
       "      <th>year</th>\n",
       "      <th>yrborn</th>\n",
       "      <th>yrdied</th>\n",
       "      <th>reg_eap</th>\n",
       "      <th>reg_afr</th>\n",
       "      <th>reg_eur</th>\n",
       "      <th>reg_mna</th>\n",
       "      <th>reg_sca</th>\n",
       "      <th>...</th>\n",
       "      <th>dis_l4pop_ln</th>\n",
       "      <th>imr_normed_ln</th>\n",
       "      <th>mev_regac</th>\n",
       "      <th>mev_regac_ln</th>\n",
       "      <th>mev_civtotc</th>\n",
       "      <th>mev_civtot_ln</th>\n",
       "      <th>imf_gdppcgrow</th>\n",
       "      <th>gdppcgrow</th>\n",
       "      <th>gdppcgrow_sr</th>\n",
       "      <th>slowgrowth</th>\n",
       "    </tr>\n",
       "  </thead>\n",
       "  <tbody>\n",
       "    <tr>\n",
       "      <th>0</th>\n",
       "      <td>Afghanistan</td>\n",
       "      <td>AFG</td>\n",
       "      <td>1945</td>\n",
       "      <td>1919</td>\n",
       "      <td>9999</td>\n",
       "      <td>0</td>\n",
       "      <td>0</td>\n",
       "      <td>0</td>\n",
       "      <td>0</td>\n",
       "      <td>1</td>\n",
       "      <td>...</td>\n",
       "      <td>0.0</td>\n",
       "      <td>NaN</td>\n",
       "      <td>NaN</td>\n",
       "      <td>NaN</td>\n",
       "      <td>NaN</td>\n",
       "      <td>NaN</td>\n",
       "      <td>NaN</td>\n",
       "      <td>NaN</td>\n",
       "      <td>NaN</td>\n",
       "      <td>NaN</td>\n",
       "    </tr>\n",
       "    <tr>\n",
       "      <th>1</th>\n",
       "      <td>Afghanistan</td>\n",
       "      <td>AFG</td>\n",
       "      <td>1946</td>\n",
       "      <td>1919</td>\n",
       "      <td>9999</td>\n",
       "      <td>0</td>\n",
       "      <td>0</td>\n",
       "      <td>0</td>\n",
       "      <td>0</td>\n",
       "      <td>1</td>\n",
       "      <td>...</td>\n",
       "      <td>0.0</td>\n",
       "      <td>NaN</td>\n",
       "      <td>8.0</td>\n",
       "      <td>2.197225</td>\n",
       "      <td>0.0</td>\n",
       "      <td>0.0</td>\n",
       "      <td>NaN</td>\n",
       "      <td>NaN</td>\n",
       "      <td>NaN</td>\n",
       "      <td>NaN</td>\n",
       "    </tr>\n",
       "    <tr>\n",
       "      <th>2</th>\n",
       "      <td>Afghanistan</td>\n",
       "      <td>AFG</td>\n",
       "      <td>1947</td>\n",
       "      <td>1919</td>\n",
       "      <td>9999</td>\n",
       "      <td>0</td>\n",
       "      <td>0</td>\n",
       "      <td>0</td>\n",
       "      <td>0</td>\n",
       "      <td>1</td>\n",
       "      <td>...</td>\n",
       "      <td>0.0</td>\n",
       "      <td>NaN</td>\n",
       "      <td>20.0</td>\n",
       "      <td>3.044522</td>\n",
       "      <td>0.0</td>\n",
       "      <td>0.0</td>\n",
       "      <td>NaN</td>\n",
       "      <td>NaN</td>\n",
       "      <td>NaN</td>\n",
       "      <td>NaN</td>\n",
       "    </tr>\n",
       "    <tr>\n",
       "      <th>3</th>\n",
       "      <td>Afghanistan</td>\n",
       "      <td>AFG</td>\n",
       "      <td>1948</td>\n",
       "      <td>1919</td>\n",
       "      <td>9999</td>\n",
       "      <td>0</td>\n",
       "      <td>0</td>\n",
       "      <td>0</td>\n",
       "      <td>0</td>\n",
       "      <td>1</td>\n",
       "      <td>...</td>\n",
       "      <td>0.0</td>\n",
       "      <td>NaN</td>\n",
       "      <td>18.0</td>\n",
       "      <td>2.944439</td>\n",
       "      <td>0.0</td>\n",
       "      <td>0.0</td>\n",
       "      <td>NaN</td>\n",
       "      <td>NaN</td>\n",
       "      <td>NaN</td>\n",
       "      <td>NaN</td>\n",
       "    </tr>\n",
       "    <tr>\n",
       "      <th>4</th>\n",
       "      <td>Afghanistan</td>\n",
       "      <td>AFG</td>\n",
       "      <td>1949</td>\n",
       "      <td>1919</td>\n",
       "      <td>9999</td>\n",
       "      <td>0</td>\n",
       "      <td>0</td>\n",
       "      <td>0</td>\n",
       "      <td>0</td>\n",
       "      <td>1</td>\n",
       "      <td>...</td>\n",
       "      <td>0.0</td>\n",
       "      <td>NaN</td>\n",
       "      <td>14.0</td>\n",
       "      <td>2.708050</td>\n",
       "      <td>0.0</td>\n",
       "      <td>0.0</td>\n",
       "      <td>NaN</td>\n",
       "      <td>NaN</td>\n",
       "      <td>NaN</td>\n",
       "      <td>NaN</td>\n",
       "    </tr>\n",
       "  </tbody>\n",
       "</table>\n",
       "<p>5 rows × 243 columns</p>\n",
       "</div>"
      ],
      "text/plain": [
       "       country sftgcode  year  yrborn  yrdied  reg_eap  reg_afr  reg_eur  \\\n",
       "0  Afghanistan      AFG  1945    1919    9999        0        0        0   \n",
       "1  Afghanistan      AFG  1946    1919    9999        0        0        0   \n",
       "2  Afghanistan      AFG  1947    1919    9999        0        0        0   \n",
       "3  Afghanistan      AFG  1948    1919    9999        0        0        0   \n",
       "4  Afghanistan      AFG  1949    1919    9999        0        0        0   \n",
       "\n",
       "   reg_mna  reg_sca     ...      dis_l4pop_ln imr_normed_ln  mev_regac  \\\n",
       "0        0        1     ...               0.0           NaN        NaN   \n",
       "1        0        1     ...               0.0           NaN        8.0   \n",
       "2        0        1     ...               0.0           NaN       20.0   \n",
       "3        0        1     ...               0.0           NaN       18.0   \n",
       "4        0        1     ...               0.0           NaN       14.0   \n",
       "\n",
       "   mev_regac_ln  mev_civtotc  mev_civtot_ln  imf_gdppcgrow  gdppcgrow  \\\n",
       "0           NaN          NaN            NaN            NaN        NaN   \n",
       "1      2.197225          0.0            0.0            NaN        NaN   \n",
       "2      3.044522          0.0            0.0            NaN        NaN   \n",
       "3      2.944439          0.0            0.0            NaN        NaN   \n",
       "4      2.708050          0.0            0.0            NaN        NaN   \n",
       "\n",
       "   gdppcgrow_sr  slowgrowth  \n",
       "0           NaN         NaN  \n",
       "1           NaN         NaN  \n",
       "2           NaN         NaN  \n",
       "3           NaN         NaN  \n",
       "4           NaN         NaN  \n",
       "\n",
       "[5 rows x 243 columns]"
      ]
     },
     "execution_count": 297,
     "metadata": {},
     "output_type": "execute_result"
    }
   ],
   "source": [
    "data.head()"
   ]
  },
  {
   "cell_type": "markdown",
   "metadata": {},
   "source": [
    "4. Description of any pre-processing steps you took\n",
    "================================================\n",
    "\n"
   ]
  },
  {
   "cell_type": "code",
   "execution_count": 298,
   "metadata": {
    "collapsed": false
   },
   "outputs": [
    {
     "name": "stdout",
     "output_type": "stream",
     "text": [
      "<class 'pandas.core.frame.DataFrame'>\n",
      "RangeIndex: 9330 entries, 0 to 9329\n",
      "Columns: 243 entries, country to slowgrowth\n",
      "dtypes: float64(218), int64(21), object(4)\n",
      "memory usage: 17.3+ MB\n"
     ]
    }
   ],
   "source": [
    "data.info()"
   ]
  },
  {
   "cell_type": "code",
   "execution_count": 299,
   "metadata": {
    "collapsed": false
   },
   "outputs": [
    {
     "data": {
      "text/plain": [
       "197200L"
      ]
     },
     "execution_count": 299,
     "metadata": {},
     "output_type": "execute_result"
    }
   ],
   "source": [
    "data.isnull().sum().sum()"
   ]
  },
  {
   "cell_type": "markdown",
   "metadata": {},
   "source": [
    "Due to the large number of features in these data, additional pre-processing is performed as part of step 6 for feature selection."
   ]
  },
  {
   "cell_type": "markdown",
   "metadata": {},
   "source": [
    "5. What you learned from exploring the data, including visualizations\n",
    "==================================================================\n",
    "\n",
    "Some holes in data – information for history of country starts at 0\n",
    "generally (ie, mkl\\_ever) if the country is born in the dataset."
   ]
  },
  {
   "cell_type": "code",
   "execution_count": 300,
   "metadata": {
    "collapsed": false
   },
   "outputs": [
    {
     "data": {
      "text/plain": [
       "116"
      ]
     },
     "execution_count": 300,
     "metadata": {},
     "output_type": "execute_result"
    }
   ],
   "source": [
    "# How many new state led mass killings occurred between 1945 and 2014?\n",
    "data[data.mkl_start == 1].mkl_start.count()"
   ]
  },
  {
   "cell_type": "code",
   "execution_count": 301,
   "metadata": {
    "collapsed": false
   },
   "outputs": [
    {
     "data": {
      "text/html": [
       "<div>\n",
       "<table border=\"1\" class=\"dataframe\">\n",
       "  <thead>\n",
       "    <tr style=\"text-align: right;\">\n",
       "      <th></th>\n",
       "      <th>mkl_ongoing</th>\n",
       "      <th>mkl_start</th>\n",
       "    </tr>\n",
       "    <tr>\n",
       "      <th>year</th>\n",
       "      <th></th>\n",
       "      <th></th>\n",
       "    </tr>\n",
       "  </thead>\n",
       "  <tbody>\n",
       "    <tr>\n",
       "      <th>1945</th>\n",
       "      <td>7</td>\n",
       "      <td>5</td>\n",
       "    </tr>\n",
       "    <tr>\n",
       "      <th>1946</th>\n",
       "      <td>8</td>\n",
       "      <td>1</td>\n",
       "    </tr>\n",
       "    <tr>\n",
       "      <th>1947</th>\n",
       "      <td>8</td>\n",
       "      <td>1</td>\n",
       "    </tr>\n",
       "    <tr>\n",
       "      <th>1948</th>\n",
       "      <td>12</td>\n",
       "      <td>5</td>\n",
       "    </tr>\n",
       "    <tr>\n",
       "      <th>1949</th>\n",
       "      <td>14</td>\n",
       "      <td>2</td>\n",
       "    </tr>\n",
       "  </tbody>\n",
       "</table>\n",
       "</div>"
      ],
      "text/plain": [
       "      mkl_ongoing  mkl_start\n",
       "year                        \n",
       "1945            7          5\n",
       "1946            8          1\n",
       "1947            8          1\n",
       "1948           12          5\n",
       "1949           14          2"
      ]
     },
     "execution_count": 301,
     "metadata": {},
     "output_type": "execute_result"
    }
   ],
   "source": [
    "# Primary response is mkl-start, indicating a mass killing started that year and mkl-ongoing tracks ongoing mass killings\n",
    "df = data[data.mkl_ongoing == 1].groupby('year')['mkl_ongoing', 'mkl_start'].sum()\n",
    "df.head()"
   ]
  },
  {
   "cell_type": "code",
   "execution_count": 302,
   "metadata": {
    "collapsed": false
   },
   "outputs": [
    {
     "data": {
      "text/plain": [
       "<matplotlib.axes._subplots.AxesSubplot at 0x163f0e80>"
      ]
     },
     "execution_count": 302,
     "metadata": {},
     "output_type": "execute_result"
    },
    {
     "data": {
      "image/png": "[encoded data removed]",
      "text/plain": [
       "<matplotlib.figure.Figure at 0x163f05c0>"
      ]
     },
     "metadata": {},
     "output_type": "display_data"
    }
   ],
   "source": [
    "df.plot()"
   ]
  },
  {
   "cell_type": "code",
   "execution_count": 303,
   "metadata": {
    "collapsed": false
   },
   "outputs": [
    {
     "data": {
      "text/plain": [
       "mkl_ongoing    34\n",
       "mkl_start       7\n",
       "dtype: int64"
      ]
     },
     "execution_count": 303,
     "metadata": {},
     "output_type": "execute_result"
    }
   ],
   "source": [
    "df.max()"
   ]
  },
  {
   "cell_type": "code",
   "execution_count": 304,
   "metadata": {
    "collapsed": false
   },
   "outputs": [
    {
     "data": {
      "text/plain": [
       "year\n",
       "1991    7.0\n",
       "Name: mkl_start, dtype: float64"
      ]
     },
     "execution_count": 304,
     "metadata": {},
     "output_type": "execute_result"
    }
   ],
   "source": [
    "# Year with most mass killings started\n",
    "df[df == df.max()].mkl_start.dropna()"
   ]
  },
  {
   "cell_type": "code",
   "execution_count": 305,
   "metadata": {
    "collapsed": false
   },
   "outputs": [
    {
     "data": {
      "text/plain": [
       "year\n",
       "1992    34.0\n",
       "Name: mkl_ongoing, dtype: float64"
      ]
     },
     "execution_count": 305,
     "metadata": {},
     "output_type": "execute_result"
    }
   ],
   "source": [
    "# Year with most mass killings ongoing\n",
    "df[df == df.max()].mkl_ongoing.dropna()"
   ]
  },
  {
   "cell_type": "code",
   "execution_count": 306,
   "metadata": {
    "collapsed": false
   },
   "outputs": [
    {
     "name": "stdout",
     "output_type": "stream",
     "text": [
      "Total countries with no state led mass killings since 1945: 106\n",
      "Total countries: 178\n"
     ]
    }
   ],
   "source": [
    "dft = data.groupby('country').sum()\n",
    "total_countries_no_mkl = dft[dft['mkl_ever'] == 0].mkl_ever.value_counts()[0]\n",
    "total_countries = dft.mkl_ever.count()\n",
    "print 'Total countries with no state led mass killings since 1945: %s' % total_countries_no_mkl\n",
    "print 'Total countries: %s' % total_countries"
   ]
  },
  {
   "cell_type": "markdown",
   "metadata": {},
   "source": [
    "## Null Model"
   ]
  },
  {
   "cell_type": "code",
   "execution_count": 374,
   "metadata": {
    "collapsed": false
   },
   "outputs": [
    {
     "name": "stdout",
     "output_type": "stream",
     "text": [
      "0    9214\n",
      "1     116\n",
      "Name: mkl_start, dtype: int64\n",
      "\n",
      "The null accuracy that any country in a given year will have a new MKL start is: 0.0124330117899\n",
      "\n"
     ]
    }
   ],
   "source": [
    "# What is the null model, that is the number of new mkl/year?\n",
    "val = data.mkl_start.value_counts()\n",
    "print val\n",
    "null_accuracy = val[1]*1.0/val.sum()\n",
    "\n",
    "print\n",
    "print \"The null accuracy that any country in a given year will have a new MKL start is: %s\" % null_accuracy\n",
    "print"
   ]
  },
  {
   "cell_type": "code",
   "execution_count": 308,
   "metadata": {
    "collapsed": false
   },
   "outputs": [
    {
     "data": {
      "text/plain": [
       "country\n",
       "Indonesia         5\n",
       "Iraq              4\n",
       "Sudan             4\n",
       "Congo-Kinshasa    4\n",
       "Nigeria           4\n",
       "Afghanistan       3\n",
       "Sri Lanka         3\n",
       "China             3\n",
       "Uganda            3\n",
       "Ethiopia          3\n",
       "Rwanda            3\n",
       "Philippines       3\n",
       "Syria             2\n",
       "Laos              2\n",
       "India             2\n",
       "Liberia           2\n",
       "Nicaragua         2\n",
       "Haiti             2\n",
       "Romania           2\n",
       "Iran              2\n",
       "Name: mkl_start, dtype: int64"
      ]
     },
     "execution_count": 308,
     "metadata": {},
     "output_type": "execute_result"
    }
   ],
   "source": [
    "# Since data starting being collected, which varies from country to country and starts no sooner than 1945,\n",
    "# which countries have had the most mass killings start?\n",
    "# Note, this will not include instance where a country first appeared with ongoing mkl but no new mkl\n",
    "# (ie, in 1945, there were 7 ongoing mass killings and 5 started)\n",
    "# Also, countries which changed names, such as East Germany, West Germany and Germany, are counted individually here.\n",
    "data.groupby('country').mkl_start.sum().sort_values(ascending=False).head(20)"
   ]
  },
  {
   "cell_type": "markdown",
   "metadata": {},
   "source": [
    "## What features are common between these countries?\n",
    "1. Birth year of country?\n",
    "1. GDP?\n",
    "1. Fractionalization?:\n",
    " *  Lingual (elf_language)\n",
    " *  Religious\n",
    " *  Ethnic\n",
    "1. Collapse of democratic institutions?\n",
    "1. Violence associated with regime transition?\n",
    "1. Democracy score? (pol_democ)\n",
    "1. Large supply of natural resources? Oil, gold, diamonds, etc.\n",
    " * Not sure oil is in the data or specific types of minerals.\n",
    " * Mineral depletion (wdi_minerals)\n",
    " * Forest depletion (wdi_forest)\n",
    " * Energy depletion (wdi_energy)\n",
    "1. Trade openness (wdi_trade)\n",
    "1. Context in which state-led mass killing episode began (mkl.type)\n",
    " * none\n",
    " * civil war\n",
    " * uprising\n",
    " * repression\n",
    " * other"
   ]
  },
  {
   "cell_type": "code",
   "execution_count": 309,
   "metadata": {
    "collapsed": false
   },
   "outputs": [
    {
     "data": {
      "text/plain": [
       "country\n",
       "Uganda                      0.92\n",
       "Togo                        0.90\n",
       "Tanzania                    0.90\n",
       "Liberia                     0.90\n",
       "Kenya                       0.89\n",
       "Cameroon                    0.89\n",
       "Congo-Kinshasa              0.87\n",
       "South Africa                0.87\n",
       "Zambia                      0.87\n",
       "Chad                        0.86\n",
       "Nigeria                     0.85\n",
       "Mali                        0.84\n",
       "Philippines                 0.84\n",
       "Central African Republic    0.83\n",
       "Ethiopia                    0.81\n",
       "India                       0.81\n",
       "Mozambique                  0.81\n",
       "Gambia                      0.81\n",
       "Guinea-Bissau               0.81\n",
       "Benin                       0.79\n",
       "Name: elf_language, dtype: float64"
      ]
     },
     "execution_count": 309,
     "metadata": {},
     "output_type": "execute_result"
    }
   ],
   "source": [
    "# Linguistic fractionalization index\n",
    "data.groupby('country').elf_language.max().sort_values(ascending = False).head(20)"
   ]
  },
  {
   "cell_type": "code",
   "execution_count": 310,
   "metadata": {
    "collapsed": false
   },
   "outputs": [
    {
     "name": "stdout",
     "output_type": "stream",
     "text": [
      "country\n",
      "Myanmar          13.875214\n",
      "United States    18.632225\n",
      "Brazil           18.649237\n",
      "Argentina        19.761625\n",
      "India            20.931200\n",
      "Japan            22.631970\n",
      "Bangladesh       27.135295\n",
      "Sudan            28.096628\n",
      "Ethiopia         30.323540\n",
      "Turkey           30.324656\n",
      "Name: wdi_trade, dtype: float64\n",
      "country\n",
      "Singapore               333.474066\n",
      "Equatorial Guinea       221.878705\n",
      "Bahrain                 162.914169\n",
      "Guyana                  161.468853\n",
      "Panama                  153.635176\n",
      "Swaziland               147.663333\n",
      "Lesotho                 142.375337\n",
      "Slovakia                136.596899\n",
      "United Arab Emirates    134.088522\n",
      "Malaysia                132.656492\n",
      "Name: wdi_trade, dtype: float64\n"
     ]
    }
   ],
   "source": [
    "# Trade openness, lower is more open\n",
    "\n",
    "print data.groupby('country').wdi_trade.mean().sort_values(ascending = True).head(10)\n",
    "print data.groupby('country').wdi_trade.mean().sort_values(ascending = False).head(10)"
   ]
  },
  {
   "cell_type": "code",
   "execution_count": 311,
   "metadata": {
    "collapsed": false
   },
   "outputs": [
    {
     "name": "stdout",
     "output_type": "stream",
     "text": [
      "Indonesia trade openness:\n",
      "Max: 96.18619424\n",
      "Min: 10.92290909\n",
      "Mean: 46.0338016411\n",
      "\n",
      "Average trade openness for all countries all years: 71.3862089985\n",
      "Max for all countries all years: 531.7374352\n",
      "Min for all countries all years: 0.308802944\n"
     ]
    }
   ],
   "source": [
    "# Trade openness, lower is more open\n",
    "dft = data[data.country == 'Indonesia']\n",
    "#print dft.head()\n",
    "print \"Indonesia trade openness:\"\n",
    "print \"Max: %s\" % dft['wdi_trade'].max()\n",
    "print \"Min: %s\" % dft['wdi_trade'].min()\n",
    "print \"Mean: %s\" %dft['wdi_trade'].mean()\n",
    "print\n",
    "print \"Average trade openness for all countries all years: %s\" % data.wdi_trade.mean()\n",
    "print \"Max for all countries all years: %s\" % data.wdi_trade.max()\n",
    "print \"Min for all countries all years: %s\" % data.wdi_trade.min()"
   ]
  },
  {
   "cell_type": "code",
   "execution_count": 312,
   "metadata": {
    "collapsed": false
   },
   "outputs": [
    {
     "name": "stdout",
     "output_type": "stream",
     "text": [
      "pol_durable_ln   -0.114954\n",
      "pol_polity       -0.098278\n",
      "pol_democ        -0.096686\n",
      "pol_polcomp      -0.095495\n",
      "pol_exconst      -0.093020\n",
      "pol_xconst       -0.093020\n",
      "wdi_gdppcgrow    -0.092581\n",
      "pol_parcomp      -0.091409\n",
      "pol_exrec        -0.091135\n",
      "pol_xrcomp       -0.090424\n",
      "Name: mkl_start, dtype: float64\n",
      "pit_any_ongoing     0.183674\n",
      "pit_gen_deathmag    0.188718\n",
      "pit_rev_onset       0.258489\n",
      "mkl_ongoing         0.263942\n",
      "pit_eth_onset       0.278938\n",
      "pit_any_onset       0.328419\n",
      "pit_cwar_onset      0.349247\n",
      "pit_gen_onset       0.360816\n",
      "mkl_type            0.850716\n",
      "mkl_start           1.000000\n",
      "Name: mkl_start, dtype: float64\n"
     ]
    }
   ],
   "source": [
    "dft = data.corr().mkl_start.sort_values()\n",
    "print dft.head(10)\n",
    "print dft.tail(10)"
   ]
  },
  {
   "cell_type": "markdown",
   "metadata": {},
   "source": [
    "6. How you chose which features to use in your analysis\n",
    "==========================================================\n",
    "\n",
    "Features selected a priori. The features selected make sense and generally match up with the correlations from the results above. Would like to use additional features but want to refine model to be more than 13% accurate with recommended features first. (Don’t want to optimize a broken model – want to find out what is broken first and fix that.)\n",
    "\n",
    "The EWP uses three different models to predict new mass killings. For the “general” model, Random Forests is used with “no feature selection involved. These models were specified a priori to represent existing theories on the causes of mass killings, so this \\[R\\] script is only used to demonstrate that the resulting models and the average of forecasts from them do have real predictive power.” Below is the description of the specific features selected ahead a priori:\n",
    "\n",
    "-   mkl\\_start: Onset of any episodes of state-led mass killing\n",
    "\n",
    "-   reg\\_afr: US Dept State region: Sub-Saharan Africa\n",
    "\n",
    "-   reg\\_eap: US Dept State region: East Asia and Pacific\n",
    "\n",
    "-   reg\\_eur: US Dept State region: Europe and Eurasia\n",
    "\n",
    "-   reg\\_mna: US Dept State region: Middle East and North Africa\n",
    "\n",
    "-   reg\\_sca: US Dept State region: South and Central Asia\n",
    "\n",
    "-   reg\\_amr: US Dept State region: Americas\n",
    "\n",
    "-   mkl\\_ongoing; Any ongoing episodes of state-led mass killing\n",
    "\n",
    "-   mkl\\_ever: Any state-led mass killing since WWII (cumulative)\n",
    "\n",
    "-   countryage\\_ln: Country age, logged\n",
    "\n",
    "-   wdi\\_popsize\\_ln: Population size, logged\n",
    "\n",
    "-   imr\\_normed\\_ln: Infant mortality rate relative to annual global\n",
    "    median, logged\n",
    "\n",
    "-   gdppcgrow\\_sr: Annual % change in GDP per capita, meld of IMF and\n",
    "    WDI, square root\n",
    "\n",
    "-   wdi\\_trade\\_ln: Trade openness, logged\n",
    "\n",
    "-   ios\\_iccpr1: ICCPR 1st Optional Protocol signatory\n",
    "\n",
    "-   postcw: Post-Cold War period (year ≥ 1991)\n",
    "\n",
    "-   pol\\_cat\\_fl1: Autocracy (Fearon and Laitin)\n",
    "\n",
    "-   pol\\_cat\\_fl2: Anocracy (Fearon and Laitin)\n",
    "\n",
    "-   pol\\_cat\\_fl3: Democracy (Fearon and Laitin)\n",
    "\n",
    "-   pol\\_cat\\_fl7: Other (Fearon and Laitin)\n",
    "\n",
    "-   pol\\_durable\\_ln: Regime duration, logged (Polity)\n",
    "\n",
    "-   dis\\_l4pop\\_ln: Percent of population subjected to state-led\n",
    "    discrimination, logged\n",
    "\n",
    "-   elf\\_ethnicc1: Ethnic fractionalization: low\n",
    "\n",
    "-   elf\\_ethnicc2: Ethnic fractionalization: medium\n",
    "\n",
    "    Note: Final category not needed: elf\\_ethnicc3: ethnic\n",
    "    fractionalization: high\n",
    "\n",
    "-   elf\\_ethnicc9: Ethnic fractionalization: missing\n",
    "\n",
    "-   elc\\_eleth1: Salient elite ethnicity: majority rule\n",
    "\n",
    "-   elc\\_eleth2: Salient elite ethnicity: minority rule\n",
    "\n",
    "    Note: Final category not needed: elc.elethc : Salient elite\n",
    "    ethnicity (yes/no)\n",
    "\n",
    "-   elc\\_eliti: Ruling elites espouse an exclusionary ideology\n",
    "\n",
    "-   cou\\_tries5d: Any coup attempts in past 5 years ((t-4) to (t))\n",
    "\n",
    "-   pit\\_sftpuhvl2\\_10\\_ln: Sum of max annual magnitudes of PITF\n",
    "    (Political Instability Task Force) instability other than genocide\n",
    "    from past 10 yrs ((t-9) to (t)), logged\n",
    "\n",
    "-   mev\\_regac\\_ln: Scalar measure of armed conflict in geographic\n",
    "    region, logged\n",
    "\n",
    "-   mev\\_civtot\\_ln: Scale of violent civil conflict, logged\n"
   ]
  },
  {
   "cell_type": "code",
   "execution_count": 313,
   "metadata": {
    "collapsed": false
   },
   "outputs": [
    {
     "data": {
      "text/html": [
       "<div>\n",
       "<table border=\"1\" class=\"dataframe\">\n",
       "  <thead>\n",
       "    <tr style=\"text-align: right;\">\n",
       "      <th></th>\n",
       "      <th>country</th>\n",
       "      <th>year</th>\n",
       "      <th>mkl_start</th>\n",
       "      <th>reg_afr</th>\n",
       "      <th>reg_eap</th>\n",
       "      <th>reg_eur</th>\n",
       "      <th>reg_mna</th>\n",
       "      <th>reg_sca</th>\n",
       "      <th>reg_amr</th>\n",
       "      <th>mkl_ongoing</th>\n",
       "      <th>...</th>\n",
       "      <th>elf_ethnicc1</th>\n",
       "      <th>elf_ethnicc2</th>\n",
       "      <th>elf_ethnicc9</th>\n",
       "      <th>elc_eleth1</th>\n",
       "      <th>elc_eleth2</th>\n",
       "      <th>elc_eliti</th>\n",
       "      <th>cou_tries5d</th>\n",
       "      <th>pit_sftpuhvl2_10_ln</th>\n",
       "      <th>mev_regac_ln</th>\n",
       "      <th>mev_civtot_ln</th>\n",
       "    </tr>\n",
       "  </thead>\n",
       "  <tbody>\n",
       "    <tr>\n",
       "      <th>0</th>\n",
       "      <td>Afghanistan</td>\n",
       "      <td>1945</td>\n",
       "      <td>0</td>\n",
       "      <td>0</td>\n",
       "      <td>0</td>\n",
       "      <td>0</td>\n",
       "      <td>0</td>\n",
       "      <td>1</td>\n",
       "      <td>0</td>\n",
       "      <td>0</td>\n",
       "      <td>...</td>\n",
       "      <td>0</td>\n",
       "      <td>0</td>\n",
       "      <td>0</td>\n",
       "      <td>NaN</td>\n",
       "      <td>NaN</td>\n",
       "      <td>NaN</td>\n",
       "      <td>NaN</td>\n",
       "      <td>NaN</td>\n",
       "      <td>NaN</td>\n",
       "      <td>NaN</td>\n",
       "    </tr>\n",
       "    <tr>\n",
       "      <th>1</th>\n",
       "      <td>Afghanistan</td>\n",
       "      <td>1946</td>\n",
       "      <td>0</td>\n",
       "      <td>0</td>\n",
       "      <td>0</td>\n",
       "      <td>0</td>\n",
       "      <td>0</td>\n",
       "      <td>1</td>\n",
       "      <td>0</td>\n",
       "      <td>0</td>\n",
       "      <td>...</td>\n",
       "      <td>0</td>\n",
       "      <td>0</td>\n",
       "      <td>0</td>\n",
       "      <td>NaN</td>\n",
       "      <td>NaN</td>\n",
       "      <td>NaN</td>\n",
       "      <td>NaN</td>\n",
       "      <td>NaN</td>\n",
       "      <td>2.197225</td>\n",
       "      <td>0.0</td>\n",
       "    </tr>\n",
       "    <tr>\n",
       "      <th>2</th>\n",
       "      <td>Afghanistan</td>\n",
       "      <td>1947</td>\n",
       "      <td>0</td>\n",
       "      <td>0</td>\n",
       "      <td>0</td>\n",
       "      <td>0</td>\n",
       "      <td>0</td>\n",
       "      <td>1</td>\n",
       "      <td>0</td>\n",
       "      <td>0</td>\n",
       "      <td>...</td>\n",
       "      <td>0</td>\n",
       "      <td>0</td>\n",
       "      <td>0</td>\n",
       "      <td>NaN</td>\n",
       "      <td>NaN</td>\n",
       "      <td>NaN</td>\n",
       "      <td>NaN</td>\n",
       "      <td>NaN</td>\n",
       "      <td>3.044522</td>\n",
       "      <td>0.0</td>\n",
       "    </tr>\n",
       "    <tr>\n",
       "      <th>3</th>\n",
       "      <td>Afghanistan</td>\n",
       "      <td>1948</td>\n",
       "      <td>0</td>\n",
       "      <td>0</td>\n",
       "      <td>0</td>\n",
       "      <td>0</td>\n",
       "      <td>0</td>\n",
       "      <td>1</td>\n",
       "      <td>0</td>\n",
       "      <td>0</td>\n",
       "      <td>...</td>\n",
       "      <td>0</td>\n",
       "      <td>0</td>\n",
       "      <td>0</td>\n",
       "      <td>NaN</td>\n",
       "      <td>NaN</td>\n",
       "      <td>NaN</td>\n",
       "      <td>NaN</td>\n",
       "      <td>NaN</td>\n",
       "      <td>2.944439</td>\n",
       "      <td>0.0</td>\n",
       "    </tr>\n",
       "    <tr>\n",
       "      <th>4</th>\n",
       "      <td>Afghanistan</td>\n",
       "      <td>1949</td>\n",
       "      <td>0</td>\n",
       "      <td>0</td>\n",
       "      <td>0</td>\n",
       "      <td>0</td>\n",
       "      <td>0</td>\n",
       "      <td>1</td>\n",
       "      <td>0</td>\n",
       "      <td>0</td>\n",
       "      <td>...</td>\n",
       "      <td>0</td>\n",
       "      <td>0</td>\n",
       "      <td>0</td>\n",
       "      <td>NaN</td>\n",
       "      <td>NaN</td>\n",
       "      <td>NaN</td>\n",
       "      <td>NaN</td>\n",
       "      <td>NaN</td>\n",
       "      <td>2.708050</td>\n",
       "      <td>0.0</td>\n",
       "    </tr>\n",
       "    <tr>\n",
       "      <th>5</th>\n",
       "      <td>Afghanistan</td>\n",
       "      <td>1950</td>\n",
       "      <td>0</td>\n",
       "      <td>0</td>\n",
       "      <td>0</td>\n",
       "      <td>0</td>\n",
       "      <td>0</td>\n",
       "      <td>1</td>\n",
       "      <td>0</td>\n",
       "      <td>0</td>\n",
       "      <td>...</td>\n",
       "      <td>0</td>\n",
       "      <td>0</td>\n",
       "      <td>0</td>\n",
       "      <td>NaN</td>\n",
       "      <td>NaN</td>\n",
       "      <td>NaN</td>\n",
       "      <td>0.0</td>\n",
       "      <td>NaN</td>\n",
       "      <td>3.218876</td>\n",
       "      <td>0.0</td>\n",
       "    </tr>\n",
       "    <tr>\n",
       "      <th>6</th>\n",
       "      <td>Afghanistan</td>\n",
       "      <td>1951</td>\n",
       "      <td>0</td>\n",
       "      <td>0</td>\n",
       "      <td>0</td>\n",
       "      <td>0</td>\n",
       "      <td>0</td>\n",
       "      <td>1</td>\n",
       "      <td>0</td>\n",
       "      <td>0</td>\n",
       "      <td>...</td>\n",
       "      <td>0</td>\n",
       "      <td>0</td>\n",
       "      <td>0</td>\n",
       "      <td>NaN</td>\n",
       "      <td>NaN</td>\n",
       "      <td>NaN</td>\n",
       "      <td>0.0</td>\n",
       "      <td>NaN</td>\n",
       "      <td>2.833213</td>\n",
       "      <td>0.0</td>\n",
       "    </tr>\n",
       "    <tr>\n",
       "      <th>7</th>\n",
       "      <td>Afghanistan</td>\n",
       "      <td>1952</td>\n",
       "      <td>0</td>\n",
       "      <td>0</td>\n",
       "      <td>0</td>\n",
       "      <td>0</td>\n",
       "      <td>0</td>\n",
       "      <td>1</td>\n",
       "      <td>0</td>\n",
       "      <td>0</td>\n",
       "      <td>...</td>\n",
       "      <td>0</td>\n",
       "      <td>0</td>\n",
       "      <td>0</td>\n",
       "      <td>NaN</td>\n",
       "      <td>NaN</td>\n",
       "      <td>NaN</td>\n",
       "      <td>0.0</td>\n",
       "      <td>NaN</td>\n",
       "      <td>2.564949</td>\n",
       "      <td>0.0</td>\n",
       "    </tr>\n",
       "    <tr>\n",
       "      <th>8</th>\n",
       "      <td>Afghanistan</td>\n",
       "      <td>1953</td>\n",
       "      <td>0</td>\n",
       "      <td>0</td>\n",
       "      <td>0</td>\n",
       "      <td>0</td>\n",
       "      <td>0</td>\n",
       "      <td>1</td>\n",
       "      <td>0</td>\n",
       "      <td>0</td>\n",
       "      <td>...</td>\n",
       "      <td>0</td>\n",
       "      <td>0</td>\n",
       "      <td>0</td>\n",
       "      <td>NaN</td>\n",
       "      <td>NaN</td>\n",
       "      <td>NaN</td>\n",
       "      <td>0.0</td>\n",
       "      <td>NaN</td>\n",
       "      <td>2.639057</td>\n",
       "      <td>0.0</td>\n",
       "    </tr>\n",
       "    <tr>\n",
       "      <th>9</th>\n",
       "      <td>Afghanistan</td>\n",
       "      <td>1954</td>\n",
       "      <td>0</td>\n",
       "      <td>0</td>\n",
       "      <td>0</td>\n",
       "      <td>0</td>\n",
       "      <td>0</td>\n",
       "      <td>1</td>\n",
       "      <td>0</td>\n",
       "      <td>0</td>\n",
       "      <td>...</td>\n",
       "      <td>0</td>\n",
       "      <td>0</td>\n",
       "      <td>0</td>\n",
       "      <td>NaN</td>\n",
       "      <td>NaN</td>\n",
       "      <td>NaN</td>\n",
       "      <td>0.0</td>\n",
       "      <td>NaN</td>\n",
       "      <td>2.302585</td>\n",
       "      <td>0.0</td>\n",
       "    </tr>\n",
       "  </tbody>\n",
       "</table>\n",
       "<p>10 rows × 34 columns</p>\n",
       "</div>"
      ],
      "text/plain": [
       "       country  year  mkl_start  reg_afr  reg_eap  reg_eur  reg_mna  reg_sca  \\\n",
       "0  Afghanistan  1945          0        0        0        0        0        1   \n",
       "1  Afghanistan  1946          0        0        0        0        0        1   \n",
       "2  Afghanistan  1947          0        0        0        0        0        1   \n",
       "3  Afghanistan  1948          0        0        0        0        0        1   \n",
       "4  Afghanistan  1949          0        0        0        0        0        1   \n",
       "5  Afghanistan  1950          0        0        0        0        0        1   \n",
       "6  Afghanistan  1951          0        0        0        0        0        1   \n",
       "7  Afghanistan  1952          0        0        0        0        0        1   \n",
       "8  Afghanistan  1953          0        0        0        0        0        1   \n",
       "9  Afghanistan  1954          0        0        0        0        0        1   \n",
       "\n",
       "   reg_amr  mkl_ongoing      ...        elf_ethnicc1  elf_ethnicc2  \\\n",
       "0        0            0      ...                   0             0   \n",
       "1        0            0      ...                   0             0   \n",
       "2        0            0      ...                   0             0   \n",
       "3        0            0      ...                   0             0   \n",
       "4        0            0      ...                   0             0   \n",
       "5        0            0      ...                   0             0   \n",
       "6        0            0      ...                   0             0   \n",
       "7        0            0      ...                   0             0   \n",
       "8        0            0      ...                   0             0   \n",
       "9        0            0      ...                   0             0   \n",
       "\n",
       "   elf_ethnicc9  elc_eleth1  elc_eleth2  elc_eliti  cou_tries5d  \\\n",
       "0             0         NaN         NaN        NaN          NaN   \n",
       "1             0         NaN         NaN        NaN          NaN   \n",
       "2             0         NaN         NaN        NaN          NaN   \n",
       "3             0         NaN         NaN        NaN          NaN   \n",
       "4             0         NaN         NaN        NaN          NaN   \n",
       "5             0         NaN         NaN        NaN          0.0   \n",
       "6             0         NaN         NaN        NaN          0.0   \n",
       "7             0         NaN         NaN        NaN          0.0   \n",
       "8             0         NaN         NaN        NaN          0.0   \n",
       "9             0         NaN         NaN        NaN          0.0   \n",
       "\n",
       "   pit_sftpuhvl2_10_ln  mev_regac_ln  mev_civtot_ln  \n",
       "0                  NaN           NaN            NaN  \n",
       "1                  NaN      2.197225            0.0  \n",
       "2                  NaN      3.044522            0.0  \n",
       "3                  NaN      2.944439            0.0  \n",
       "4                  NaN      2.708050            0.0  \n",
       "5                  NaN      3.218876            0.0  \n",
       "6                  NaN      2.833213            0.0  \n",
       "7                  NaN      2.564949            0.0  \n",
       "8                  NaN      2.639057            0.0  \n",
       "9                  NaN      2.302585            0.0  \n",
       "\n",
       "[10 rows x 34 columns]"
      ]
     },
     "execution_count": 313,
     "metadata": {},
     "output_type": "execute_result"
    }
   ],
   "source": [
    "train = data[['mkl_start','reg_afr','reg_eap','reg_eur','reg_mna','reg_sca','reg_amr','mkl_ongoing',\\\n",
    "             'mkl_ever','countryage_ln','wdi_popsize_ln','imr_normed_ln','gdppcgrow_sr','wdi_trade_ln',\\\n",
    "             'ios_iccpr1','postcw','pol_cat_fl1','pol_cat_fl2','pol_cat_fl3','pol_cat_fl7','pol_durable_ln',\\\n",
    "             'dis_l4pop_ln','elf_ethnicc1','elf_ethnicc2','elf_ethnicc9','elc_eleth1','elc_eleth2','elc_eliti',\\\n",
    "             'cou_tries5d','pit_sftpuhvl2_10_ln','mev_regac_ln','mev_civtot_ln']]\n",
    "\n",
    "info = data[['country','year']]\n",
    "# Don't need country and year for modeling, so save as separate dataframe\n",
    "train_info = result = pd.concat([info, train], axis=1)\n",
    "train_info.head(10)"
   ]
  },
  {
   "cell_type": "markdown",
   "metadata": {},
   "source": [
    "From the features listed above, there were 14563 nulls, with 2669 nulls\n",
    "in wdi\\_trade\\_ln, 2295 in gdppcgrow\\_sr, 1685 in wdi\\_popsize\\_ln."
   ]
  },
  {
   "cell_type": "code",
   "execution_count": 314,
   "metadata": {
    "collapsed": false
   },
   "outputs": [
    {
     "name": "stdout",
     "output_type": "stream",
     "text": [
      "\n",
      "Total nulls in filtered data: 14563\n",
      "\n",
      "mkl_start                 0\n",
      "reg_afr                   0\n",
      "reg_eap                   0\n",
      "reg_eur                   0\n",
      "reg_mna                   0\n",
      "reg_sca                   0\n",
      "reg_amr                   0\n",
      "mkl_ongoing               0\n",
      "mkl_ever                  0\n",
      "countryage_ln             0\n",
      "wdi_popsize_ln         1685\n",
      "imr_normed_ln           966\n",
      "gdppcgrow_sr           2295\n",
      "wdi_trade_ln           2669\n",
      "ios_iccpr1              994\n",
      "postcw                    0\n",
      "pol_cat_fl1             144\n",
      "pol_cat_fl2             144\n",
      "pol_cat_fl3             144\n",
      "pol_cat_fl7             144\n",
      "pol_durable_ln          175\n",
      "dis_l4pop_ln              0\n",
      "elf_ethnicc1              0\n",
      "elf_ethnicc2              0\n",
      "elf_ethnicc9              0\n",
      "elc_eleth1              934\n",
      "elc_eleth2              934\n",
      "elc_eliti               934\n",
      "cou_tries5d             360\n",
      "pit_sftpuhvl2_10_ln    1507\n",
      "mev_regac_ln            267\n",
      "mev_civtot_ln           267\n",
      "dtype: int64\n"
     ]
    }
   ],
   "source": [
    "print '\\nTotal nulls in filtered data: %s' % train.isnull().sum().sum()\n",
    "print\n",
    "print train.isnull().sum()"
   ]
  },
  {
   "cell_type": "markdown",
   "metadata": {},
   "source": [
    "From the features listed above, there were 14563 nulls, with 2669 nulls in wdi\\_trade\\_ln, 2295 in gdppcgrow\\_sr, 1685 in wdi\\_popsize\\_ln.\n",
    "\n",
    "To attempt to clean this data, nulls are replaced with the average values.\n",
    "\n",
    "**Note:**  The issue with this process of imputing missing data is that the mean value may be very misrepresentative for a given country. For example, Yugoslavia has no population size information for any years – is the global mean going to be a fare estimate? This country turned in to Bosnia and Herzegovina, Croatia, Federal Republic of Yugoslavia (later Serbia and Montenegro), Macedonia, and Slovenia. Yugoslavia had mass killings start in 1945 and 1991 and Bosnia and Herzegovina in 1992. Even though mass killings happened in Yugoslavia before the country split in 1991, none of these countries have “history” of mass killings (mkl\\_ever = 0). (Bosnia and Herzegovina had mass killings start in the first year and therefore have mkl\\_ever=1.) Most striking to me from this data is that Yugoslavia (mkl\\_ever = 1) split in to multiple countries including the Federal Republic of Yugoslavia (mkl\\_ever = 0) which later became Serbia and Montenegro (mkl\\_ever = 1) and then became the separate countries Serbia (mkl\\_ever = 0) and Montenegro (mkl\\_ever = 0). *Both the Federal Republic of Yugoslavia and (Serbia and Montenegro) never had\n",
    "mkl\\_start=0 and yet Serbia and Montenegro have history of mass killings.*"
   ]
  },
  {
   "cell_type": "code",
   "execution_count": 315,
   "metadata": {
    "collapsed": false
   },
   "outputs": [
    {
     "data": {
      "text/plain": [
       "mkl_start              0\n",
       "reg_afr                0\n",
       "reg_eap                0\n",
       "reg_eur                0\n",
       "reg_mna                0\n",
       "reg_sca                0\n",
       "reg_amr                0\n",
       "mkl_ongoing            0\n",
       "mkl_ever               0\n",
       "countryage_ln          0\n",
       "wdi_popsize_ln         0\n",
       "imr_normed_ln          0\n",
       "gdppcgrow_sr           0\n",
       "wdi_trade_ln           0\n",
       "ios_iccpr1             0\n",
       "postcw                 0\n",
       "pol_cat_fl1            0\n",
       "pol_cat_fl2            0\n",
       "pol_cat_fl3            0\n",
       "pol_cat_fl7            0\n",
       "pol_durable_ln         0\n",
       "dis_l4pop_ln           0\n",
       "elf_ethnicc1           0\n",
       "elf_ethnicc2           0\n",
       "elf_ethnicc9           0\n",
       "elc_eleth1             0\n",
       "elc_eleth2             0\n",
       "elc_eliti              0\n",
       "cou_tries5d            0\n",
       "pit_sftpuhvl2_10_ln    0\n",
       "mev_regac_ln           0\n",
       "mev_civtot_ln          0\n",
       "dtype: int64"
      ]
     },
     "execution_count": 315,
     "metadata": {},
     "output_type": "execute_result"
    }
   ],
   "source": [
    "# Whatcha gunna do with all those nulls?\n",
    "# Ideally, model values for each country.\n",
    "# ie, use KNN or DBSCAN clustering to group countries for every year\n",
    "# Start by using mean values...\n",
    "train_cleaned = train.fillna(train.mean())\n",
    "train_cleaned.isnull().sum()"
   ]
  },
  {
   "cell_type": "markdown",
   "metadata": {},
   "source": [
    "#### The following cells are attempting to create a new column for if a mass killing will start in the following year for that country"
   ]
  },
  {
   "cell_type": "code",
   "execution_count": 322,
   "metadata": {
    "collapsed": false
   },
   "outputs": [],
   "source": [
    "def buildLeadingFeatures(s,lead=2,dropna=True):\n",
    "    '''\n",
    "    Builds a new DataFrame to facilitate regressing over all possible lagged features\n",
    "    '''\n",
    "    if type(s) is pd.DataFrame:\n",
    "        new_dict={}\n",
    "        for col_name in s:\n",
    "            new_dict[col_name]=s[col_name]\n",
    "            # create leading Series\n",
    "            for l in range(1,lead+1):\n",
    "                new_dict['%s_lead%d' %(col_name,l)]=s[col_name].shift(-1)\n",
    "        res=pd.DataFrame(new_dict,index=s.index)\n",
    "\n",
    "    elif type(s) is pd.Series:\n",
    "        the_range=range(lead+1)\n",
    "        res=pd.concat([s.shift(-i) for i in the_range],axis=1)\n",
    "        res.columns=['lead_%d' %i for i in the_range]\n",
    "    else:\n",
    "        print 'Only works for DataFrame or Series'\n",
    "        return None\n",
    "    if dropna:\n",
    "        return res.dropna()\n",
    "    else:\n",
    "        return res\n",
    "\n",
    "#s2=pd.DataFrame({'a':[5,4,3,2,1], 'b':[50,40,30,20,10]},index=[1,2,3,4,5])\n",
    "#print s2\n",
    "#res2=buildLeadingFeatures(s2,lead=1,dropna=False)\n",
    "#res2"
   ]
  },
  {
   "cell_type": "code",
   "execution_count": 323,
   "metadata": {
    "collapsed": false
   },
   "outputs": [
    {
     "data": {
      "text/html": [
       "<div>\n",
       "<table border=\"1\" class=\"dataframe\">\n",
       "  <thead>\n",
       "    <tr style=\"text-align: right;\">\n",
       "      <th></th>\n",
       "      <th>country</th>\n",
       "      <th>mkl_start</th>\n",
       "      <th>mkl_start_next_year</th>\n",
       "    </tr>\n",
       "  </thead>\n",
       "  <tbody>\n",
       "    <tr>\n",
       "      <th>190</th>\n",
       "      <td>Algeria</td>\n",
       "      <td>0</td>\n",
       "      <td>0.0</td>\n",
       "    </tr>\n",
       "    <tr>\n",
       "      <th>191</th>\n",
       "      <td>Algeria</td>\n",
       "      <td>0</td>\n",
       "      <td>0.0</td>\n",
       "    </tr>\n",
       "    <tr>\n",
       "      <th>192</th>\n",
       "      <td>Algeria</td>\n",
       "      <td>0</td>\n",
       "      <td>NaN</td>\n",
       "    </tr>\n",
       "    <tr>\n",
       "      <th>193</th>\n",
       "      <td>Angola</td>\n",
       "      <td>1</td>\n",
       "      <td>0.0</td>\n",
       "    </tr>\n",
       "    <tr>\n",
       "      <th>194</th>\n",
       "      <td>Angola</td>\n",
       "      <td>0</td>\n",
       "      <td>0.0</td>\n",
       "    </tr>\n",
       "    <tr>\n",
       "      <th>195</th>\n",
       "      <td>Angola</td>\n",
       "      <td>0</td>\n",
       "      <td>0.0</td>\n",
       "    </tr>\n",
       "    <tr>\n",
       "      <th>196</th>\n",
       "      <td>Angola</td>\n",
       "      <td>0</td>\n",
       "      <td>0.0</td>\n",
       "    </tr>\n",
       "    <tr>\n",
       "      <th>197</th>\n",
       "      <td>Angola</td>\n",
       "      <td>0</td>\n",
       "      <td>0.0</td>\n",
       "    </tr>\n",
       "    <tr>\n",
       "      <th>198</th>\n",
       "      <td>Angola</td>\n",
       "      <td>0</td>\n",
       "      <td>0.0</td>\n",
       "    </tr>\n",
       "    <tr>\n",
       "      <th>199</th>\n",
       "      <td>Angola</td>\n",
       "      <td>0</td>\n",
       "      <td>0.0</td>\n",
       "    </tr>\n",
       "    <tr>\n",
       "      <th>200</th>\n",
       "      <td>Angola</td>\n",
       "      <td>0</td>\n",
       "      <td>0.0</td>\n",
       "    </tr>\n",
       "  </tbody>\n",
       "</table>\n",
       "</div>"
      ],
      "text/plain": [
       "     country  mkl_start  mkl_start_next_year\n",
       "190  Algeria          0                  0.0\n",
       "191  Algeria          0                  0.0\n",
       "192  Algeria          0                  NaN\n",
       "193   Angola          1                  0.0\n",
       "194   Angola          0                  0.0\n",
       "195   Angola          0                  0.0\n",
       "196   Angola          0                  0.0\n",
       "197   Angola          0                  0.0\n",
       "198   Angola          0                  0.0\n",
       "199   Angola          0                  0.0\n",
       "200   Angola          0                  0.0"
      ]
     },
     "execution_count": 323,
     "metadata": {},
     "output_type": "execute_result"
    }
   ],
   "source": [
    "dft = pd.concat([info,train_cleaned],axis=1)\n",
    "columns=['mkl_start','mkl_start_next_year']\n",
    "dft2 = pd.DataFrame(columns=columns)\n",
    "\n",
    "# Create new dataframe sorted by country and create new column for mkl_start_next_year\n",
    "for nation in dft.groupby('country').country.head(1):\n",
    "    # Create response for mkl_start_next_year for each country\n",
    "    # This also drops last observation for country, as mkl_start_next_year is null\n",
    "    temp = buildLeadingFeatures(dft[dft.country == nation].mkl_start,lead=1,dropna=False)\n",
    "    temp.rename(columns={\"lead_0\": \"mkl_start\", \"lead_1\": \"mkl_start_next_year\"}, inplace = True)\n",
    "    # Append dataframe for country into running \n",
    "    dft2 = dft2.append(temp,ignore_index=False)\n",
    "\n",
    "dft3 = pd.concat([dft,dft2.mkl_start_next_year],axis=1)\n",
    "# Verify results by making sure a country with mkl_start in its first year \n",
    "# does not result in mkl_start_next_year = 1 for the previous row.\n",
    "dft3[['country','mkl_start','mkl_start_next_year']][190:201]"
   ]
  },
  {
   "cell_type": "code",
   "execution_count": 51,
   "metadata": {
    "collapsed": false
   },
   "outputs": [
    {
     "name": "stdout",
     "output_type": "stream",
     "text": [
      "Nulls counted in the new column: 178\n",
      "Nulls after cleaning new column: 0\n"
     ]
    },
    {
     "data": {
      "text/html": [
       "<div>\n",
       "<table border=\"1\" class=\"dataframe\">\n",
       "  <thead>\n",
       "    <tr style=\"text-align: right;\">\n",
       "      <th></th>\n",
       "      <th>country</th>\n",
       "      <th>year</th>\n",
       "      <th>mkl_start</th>\n",
       "      <th>reg_afr</th>\n",
       "      <th>reg_eap</th>\n",
       "      <th>reg_eur</th>\n",
       "      <th>reg_mna</th>\n",
       "      <th>reg_sca</th>\n",
       "      <th>reg_amr</th>\n",
       "      <th>mkl_ongoing</th>\n",
       "      <th>...</th>\n",
       "      <th>elf_ethnicc2</th>\n",
       "      <th>elf_ethnicc9</th>\n",
       "      <th>elc_eleth1</th>\n",
       "      <th>elc_eleth2</th>\n",
       "      <th>elc_eliti</th>\n",
       "      <th>cou_tries5d</th>\n",
       "      <th>pit_sftpuhvl2_10_ln</th>\n",
       "      <th>mev_regac_ln</th>\n",
       "      <th>mev_civtot_ln</th>\n",
       "      <th>mkl_start_next_year</th>\n",
       "    </tr>\n",
       "  </thead>\n",
       "  <tbody>\n",
       "    <tr>\n",
       "      <th>190</th>\n",
       "      <td>Algeria</td>\n",
       "      <td>2012</td>\n",
       "      <td>0</td>\n",
       "      <td>0</td>\n",
       "      <td>0</td>\n",
       "      <td>0</td>\n",
       "      <td>1</td>\n",
       "      <td>0</td>\n",
       "      <td>0</td>\n",
       "      <td>0</td>\n",
       "      <td>...</td>\n",
       "      <td>1</td>\n",
       "      <td>0</td>\n",
       "      <td>1.0</td>\n",
       "      <td>0.0</td>\n",
       "      <td>1.0</td>\n",
       "      <td>0.0</td>\n",
       "      <td>1.386294</td>\n",
       "      <td>2.639057</td>\n",
       "      <td>0.000000</td>\n",
       "      <td>0.0</td>\n",
       "    </tr>\n",
       "    <tr>\n",
       "      <th>191</th>\n",
       "      <td>Algeria</td>\n",
       "      <td>2013</td>\n",
       "      <td>0</td>\n",
       "      <td>0</td>\n",
       "      <td>0</td>\n",
       "      <td>0</td>\n",
       "      <td>1</td>\n",
       "      <td>0</td>\n",
       "      <td>0</td>\n",
       "      <td>0</td>\n",
       "      <td>...</td>\n",
       "      <td>1</td>\n",
       "      <td>0</td>\n",
       "      <td>1.0</td>\n",
       "      <td>0.0</td>\n",
       "      <td>1.0</td>\n",
       "      <td>0.0</td>\n",
       "      <td>0.693147</td>\n",
       "      <td>2.708050</td>\n",
       "      <td>0.000000</td>\n",
       "      <td>0.0</td>\n",
       "    </tr>\n",
       "    <tr>\n",
       "      <th>193</th>\n",
       "      <td>Angola</td>\n",
       "      <td>1975</td>\n",
       "      <td>1</td>\n",
       "      <td>1</td>\n",
       "      <td>0</td>\n",
       "      <td>0</td>\n",
       "      <td>0</td>\n",
       "      <td>0</td>\n",
       "      <td>0</td>\n",
       "      <td>1</td>\n",
       "      <td>...</td>\n",
       "      <td>0</td>\n",
       "      <td>0</td>\n",
       "      <td>0.0</td>\n",
       "      <td>1.0</td>\n",
       "      <td>1.0</td>\n",
       "      <td>0.0</td>\n",
       "      <td>1.609438</td>\n",
       "      <td>0.693147</td>\n",
       "      <td>2.079442</td>\n",
       "      <td>0.0</td>\n",
       "    </tr>\n",
       "    <tr>\n",
       "      <th>194</th>\n",
       "      <td>Angola</td>\n",
       "      <td>1976</td>\n",
       "      <td>0</td>\n",
       "      <td>1</td>\n",
       "      <td>0</td>\n",
       "      <td>0</td>\n",
       "      <td>0</td>\n",
       "      <td>0</td>\n",
       "      <td>0</td>\n",
       "      <td>1</td>\n",
       "      <td>...</td>\n",
       "      <td>0</td>\n",
       "      <td>0</td>\n",
       "      <td>0.0</td>\n",
       "      <td>1.0</td>\n",
       "      <td>1.0</td>\n",
       "      <td>0.0</td>\n",
       "      <td>2.197225</td>\n",
       "      <td>1.098612</td>\n",
       "      <td>2.079442</td>\n",
       "      <td>0.0</td>\n",
       "    </tr>\n",
       "    <tr>\n",
       "      <th>195</th>\n",
       "      <td>Angola</td>\n",
       "      <td>1977</td>\n",
       "      <td>0</td>\n",
       "      <td>1</td>\n",
       "      <td>0</td>\n",
       "      <td>0</td>\n",
       "      <td>0</td>\n",
       "      <td>0</td>\n",
       "      <td>0</td>\n",
       "      <td>1</td>\n",
       "      <td>...</td>\n",
       "      <td>0</td>\n",
       "      <td>0</td>\n",
       "      <td>0.0</td>\n",
       "      <td>1.0</td>\n",
       "      <td>1.0</td>\n",
       "      <td>1.0</td>\n",
       "      <td>2.564949</td>\n",
       "      <td>1.609438</td>\n",
       "      <td>2.079442</td>\n",
       "      <td>0.0</td>\n",
       "    </tr>\n",
       "    <tr>\n",
       "      <th>196</th>\n",
       "      <td>Angola</td>\n",
       "      <td>1978</td>\n",
       "      <td>0</td>\n",
       "      <td>1</td>\n",
       "      <td>0</td>\n",
       "      <td>0</td>\n",
       "      <td>0</td>\n",
       "      <td>0</td>\n",
       "      <td>0</td>\n",
       "      <td>1</td>\n",
       "      <td>...</td>\n",
       "      <td>0</td>\n",
       "      <td>0</td>\n",
       "      <td>0.0</td>\n",
       "      <td>1.0</td>\n",
       "      <td>1.0</td>\n",
       "      <td>1.0</td>\n",
       "      <td>2.833213</td>\n",
       "      <td>1.609438</td>\n",
       "      <td>2.079442</td>\n",
       "      <td>0.0</td>\n",
       "    </tr>\n",
       "    <tr>\n",
       "      <th>197</th>\n",
       "      <td>Angola</td>\n",
       "      <td>1979</td>\n",
       "      <td>0</td>\n",
       "      <td>1</td>\n",
       "      <td>0</td>\n",
       "      <td>0</td>\n",
       "      <td>0</td>\n",
       "      <td>0</td>\n",
       "      <td>0</td>\n",
       "      <td>1</td>\n",
       "      <td>...</td>\n",
       "      <td>0</td>\n",
       "      <td>0</td>\n",
       "      <td>0.0</td>\n",
       "      <td>1.0</td>\n",
       "      <td>1.0</td>\n",
       "      <td>1.0</td>\n",
       "      <td>3.044522</td>\n",
       "      <td>1.386294</td>\n",
       "      <td>2.079442</td>\n",
       "      <td>0.0</td>\n",
       "    </tr>\n",
       "    <tr>\n",
       "      <th>198</th>\n",
       "      <td>Angola</td>\n",
       "      <td>1980</td>\n",
       "      <td>0</td>\n",
       "      <td>1</td>\n",
       "      <td>0</td>\n",
       "      <td>0</td>\n",
       "      <td>0</td>\n",
       "      <td>0</td>\n",
       "      <td>0</td>\n",
       "      <td>1</td>\n",
       "      <td>...</td>\n",
       "      <td>0</td>\n",
       "      <td>0</td>\n",
       "      <td>0.0</td>\n",
       "      <td>1.0</td>\n",
       "      <td>1.0</td>\n",
       "      <td>1.0</td>\n",
       "      <td>3.218876</td>\n",
       "      <td>1.098612</td>\n",
       "      <td>2.079442</td>\n",
       "      <td>0.0</td>\n",
       "    </tr>\n",
       "    <tr>\n",
       "      <th>199</th>\n",
       "      <td>Angola</td>\n",
       "      <td>1981</td>\n",
       "      <td>0</td>\n",
       "      <td>1</td>\n",
       "      <td>0</td>\n",
       "      <td>0</td>\n",
       "      <td>0</td>\n",
       "      <td>0</td>\n",
       "      <td>0</td>\n",
       "      <td>1</td>\n",
       "      <td>...</td>\n",
       "      <td>0</td>\n",
       "      <td>0</td>\n",
       "      <td>0.0</td>\n",
       "      <td>1.0</td>\n",
       "      <td>1.0</td>\n",
       "      <td>1.0</td>\n",
       "      <td>3.367296</td>\n",
       "      <td>2.302585</td>\n",
       "      <td>2.079442</td>\n",
       "      <td>0.0</td>\n",
       "    </tr>\n",
       "    <tr>\n",
       "      <th>200</th>\n",
       "      <td>Angola</td>\n",
       "      <td>1982</td>\n",
       "      <td>0</td>\n",
       "      <td>1</td>\n",
       "      <td>0</td>\n",
       "      <td>0</td>\n",
       "      <td>0</td>\n",
       "      <td>0</td>\n",
       "      <td>0</td>\n",
       "      <td>1</td>\n",
       "      <td>...</td>\n",
       "      <td>0</td>\n",
       "      <td>0</td>\n",
       "      <td>0.0</td>\n",
       "      <td>1.0</td>\n",
       "      <td>1.0</td>\n",
       "      <td>0.0</td>\n",
       "      <td>3.496508</td>\n",
       "      <td>2.302585</td>\n",
       "      <td>2.079442</td>\n",
       "      <td>0.0</td>\n",
       "    </tr>\n",
       "  </tbody>\n",
       "</table>\n",
       "<p>10 rows × 35 columns</p>\n",
       "</div>"
      ],
      "text/plain": [
       "     country  year  mkl_start  reg_afr  reg_eap  reg_eur  reg_mna  reg_sca  \\\n",
       "190  Algeria  2012          0        0        0        0        1        0   \n",
       "191  Algeria  2013          0        0        0        0        1        0   \n",
       "193   Angola  1975          1        1        0        0        0        0   \n",
       "194   Angola  1976          0        1        0        0        0        0   \n",
       "195   Angola  1977          0        1        0        0        0        0   \n",
       "196   Angola  1978          0        1        0        0        0        0   \n",
       "197   Angola  1979          0        1        0        0        0        0   \n",
       "198   Angola  1980          0        1        0        0        0        0   \n",
       "199   Angola  1981          0        1        0        0        0        0   \n",
       "200   Angola  1982          0        1        0        0        0        0   \n",
       "\n",
       "     reg_amr  mkl_ongoing         ...           elf_ethnicc2  elf_ethnicc9  \\\n",
       "190        0            0         ...                      1             0   \n",
       "191        0            0         ...                      1             0   \n",
       "193        0            1         ...                      0             0   \n",
       "194        0            1         ...                      0             0   \n",
       "195        0            1         ...                      0             0   \n",
       "196        0            1         ...                      0             0   \n",
       "197        0            1         ...                      0             0   \n",
       "198        0            1         ...                      0             0   \n",
       "199        0            1         ...                      0             0   \n",
       "200        0            1         ...                      0             0   \n",
       "\n",
       "     elc_eleth1  elc_eleth2  elc_eliti  cou_tries5d  pit_sftpuhvl2_10_ln  \\\n",
       "190         1.0         0.0        1.0          0.0             1.386294   \n",
       "191         1.0         0.0        1.0          0.0             0.693147   \n",
       "193         0.0         1.0        1.0          0.0             1.609438   \n",
       "194         0.0         1.0        1.0          0.0             2.197225   \n",
       "195         0.0         1.0        1.0          1.0             2.564949   \n",
       "196         0.0         1.0        1.0          1.0             2.833213   \n",
       "197         0.0         1.0        1.0          1.0             3.044522   \n",
       "198         0.0         1.0        1.0          1.0             3.218876   \n",
       "199         0.0         1.0        1.0          1.0             3.367296   \n",
       "200         0.0         1.0        1.0          0.0             3.496508   \n",
       "\n",
       "     mev_regac_ln  mev_civtot_ln  mkl_start_next_year  \n",
       "190      2.639057       0.000000                  0.0  \n",
       "191      2.708050       0.000000                  0.0  \n",
       "193      0.693147       2.079442                  0.0  \n",
       "194      1.098612       2.079442                  0.0  \n",
       "195      1.609438       2.079442                  0.0  \n",
       "196      1.609438       2.079442                  0.0  \n",
       "197      1.386294       2.079442                  0.0  \n",
       "198      1.098612       2.079442                  0.0  \n",
       "199      2.302585       2.079442                  0.0  \n",
       "200      2.302585       2.079442                  0.0  \n",
       "\n",
       "[10 rows x 35 columns]"
      ]
     },
     "execution_count": 51,
     "metadata": {},
     "output_type": "execute_result"
    }
   ],
   "source": [
    "train_cleaned = dft3\n",
    "print \"Nulls counted in the new column: %s\" % train_cleaned.isnull().mkl_start_next_year.sum()\n",
    "\n",
    "# Drop rows where we do not have data on if a mkl started the next year, ie last year reported for country\n",
    "train_cleaned = train_cleaned.dropna()\n",
    "print \"Nulls after cleaning new column: %s\" % train_cleaned.isnull().mkl_start_next_year.sum()\n",
    "\n",
    "train_cleaned[188:198]"
   ]
  },
  {
   "cell_type": "code",
   "execution_count": 371,
   "metadata": {
    "collapsed": false
   },
   "outputs": [
    {
     "name": "stdout",
     "output_type": "stream",
     "text": [
      "pol_durable_ln        -0.114450\n",
      "pol_cat_fl3           -0.068052\n",
      "gdppcgrow_sr          -0.061655\n",
      "wdi_trade_ln          -0.052323\n",
      "countryage_ln         -0.045492\n",
      "postcw                -0.037643\n",
      "ios_iccpr1            -0.036869\n",
      "reg_eur               -0.032565\n",
      "elf_ethnicc1          -0.031752\n",
      "reg_amr               -0.023502\n",
      "elf_ethnicc2          -0.005221\n",
      "reg_mna                0.002781\n",
      "pol_cat_fl1            0.012720\n",
      "reg_eap                0.014417\n",
      "elf_ethnicc9           0.016977\n",
      "pol_cat_fl2            0.023301\n",
      "reg_sca                0.025088\n",
      "reg_afr                0.026097\n",
      "elc_eliti              0.033758\n",
      "elc_eleth1             0.035573\n",
      "wdi_popsize_ln         0.038276\n",
      "mev_regac_ln           0.042842\n",
      "elc_eleth2             0.046818\n",
      "dis_l4pop_ln           0.058771\n",
      "imr_normed_ln          0.062160\n",
      "cou_tries5d            0.081029\n",
      "pol_cat_fl7            0.084662\n",
      "pit_sftpuhvl2_10_ln    0.084845\n",
      "mkl_ever               0.160318\n",
      "mev_civtot_ln          0.172922\n",
      "mkl_ongoing            0.263942\n",
      "Name: mkl_start, dtype: float64\n"
     ]
    },
    {
     "data": {
      "text/plain": [
       "<matplotlib.axes._subplots.AxesSubplot at 0x15663668>"
      ]
     },
     "execution_count": 371,
     "metadata": {},
     "output_type": "execute_result"
    },
    {
     "data": {
      "image/png": "[encoded data removed]",
      "text/plain": [
       "<matplotlib.figure.Figure at 0x160cdd68>"
      ]
     },
     "metadata": {},
     "output_type": "display_data"
    }
   ],
   "source": [
    "# Correlation heatmap for cleaned data\n",
    "dft = train_cleaned.corr()\n",
    "# Print correlation values against mkl_start\n",
    "print dft.mkl_start.drop(dft.index[0]).sort_values()\n",
    "# Observations:\n",
    "#    Negative corr (<-6%)\n",
    "#        Regime duration (makes sense, although surprised to see strongest neg corr here)\n",
    "#        sqrt(Annual % change in GDP per capita)\n",
    "#        Democracy political category\n",
    "#        Trade openness\n",
    "#    Positive corr (>6%)\n",
    "#        Infant mortality rate\n",
    "#        Other political cat (not dem, autocracy, or anocracy) (suprise: anocracy )\n",
    "#        Coup attempts in 5 yrs\n",
    "#        Sum of max annual magnitudes of PITF instability other than genocide from past 10 yr\n",
    "#    Strongest Pos Corr (>10%)\n",
    "#        mkl_ever: mass killings ever\n",
    "#        Scale of violent civil conflict\n",
    "#        Ongoing mass killings\n",
    "        \n",
    "        \n",
    "sns.heatmap(dft)"
   ]
  },
  {
   "cell_type": "markdown",
   "metadata": {},
   "source": [
    "7. Details of modeling process, including how models were selected and validated\n",
    "===========================================================================================\n",
    "\n",
    "Logistic regression and RandomForests are used along with the pre-defined features. Confusion matrix helps understand and refine the classification results – want to capture more true positives to make sure my model can catch all mkl\\_starts."
   ]
  },
  {
   "cell_type": "markdown",
   "metadata": {},
   "source": [
    "## Logistic Regression"
   ]
  },
  {
   "cell_type": "code",
   "execution_count": 70,
   "metadata": {
    "collapsed": false
   },
   "outputs": [
    {
     "data": {
      "text/html": [
       "<div>\n",
       "<table border=\"1\" class=\"dataframe\">\n",
       "  <thead>\n",
       "    <tr style=\"text-align: right;\">\n",
       "      <th></th>\n",
       "      <th>reg_afr</th>\n",
       "      <th>reg_eap</th>\n",
       "      <th>reg_eur</th>\n",
       "      <th>reg_mna</th>\n",
       "      <th>reg_sca</th>\n",
       "      <th>reg_amr</th>\n",
       "      <th>mkl_ongoing</th>\n",
       "      <th>mkl_ever</th>\n",
       "      <th>countryage_ln</th>\n",
       "      <th>wdi_popsize_ln</th>\n",
       "      <th>...</th>\n",
       "      <th>elf_ethnicc1</th>\n",
       "      <th>elf_ethnicc2</th>\n",
       "      <th>elf_ethnicc9</th>\n",
       "      <th>elc_eleth1</th>\n",
       "      <th>elc_eleth2</th>\n",
       "      <th>elc_eliti</th>\n",
       "      <th>cou_tries5d</th>\n",
       "      <th>pit_sftpuhvl2_10_ln</th>\n",
       "      <th>mev_regac_ln</th>\n",
       "      <th>mev_civtot_ln</th>\n",
       "    </tr>\n",
       "  </thead>\n",
       "  <tbody>\n",
       "    <tr>\n",
       "      <th>0</th>\n",
       "      <td>0</td>\n",
       "      <td>0</td>\n",
       "      <td>0</td>\n",
       "      <td>0</td>\n",
       "      <td>1</td>\n",
       "      <td>0</td>\n",
       "      <td>0</td>\n",
       "      <td>0</td>\n",
       "      <td>3.295837</td>\n",
       "      <td>8.992729</td>\n",
       "      <td>...</td>\n",
       "      <td>0</td>\n",
       "      <td>0</td>\n",
       "      <td>0</td>\n",
       "      <td>0.253335</td>\n",
       "      <td>0.135541</td>\n",
       "      <td>0.217723</td>\n",
       "      <td>0.198439</td>\n",
       "      <td>0.797551</td>\n",
       "      <td>2.259752</td>\n",
       "      <td>0.251369</td>\n",
       "    </tr>\n",
       "    <tr>\n",
       "      <th>1</th>\n",
       "      <td>0</td>\n",
       "      <td>0</td>\n",
       "      <td>0</td>\n",
       "      <td>0</td>\n",
       "      <td>1</td>\n",
       "      <td>0</td>\n",
       "      <td>0</td>\n",
       "      <td>0</td>\n",
       "      <td>3.332205</td>\n",
       "      <td>8.992729</td>\n",
       "      <td>...</td>\n",
       "      <td>0</td>\n",
       "      <td>0</td>\n",
       "      <td>0</td>\n",
       "      <td>0.253335</td>\n",
       "      <td>0.135541</td>\n",
       "      <td>0.217723</td>\n",
       "      <td>0.198439</td>\n",
       "      <td>0.797551</td>\n",
       "      <td>2.197225</td>\n",
       "      <td>0.000000</td>\n",
       "    </tr>\n",
       "    <tr>\n",
       "      <th>2</th>\n",
       "      <td>0</td>\n",
       "      <td>0</td>\n",
       "      <td>0</td>\n",
       "      <td>0</td>\n",
       "      <td>1</td>\n",
       "      <td>0</td>\n",
       "      <td>0</td>\n",
       "      <td>0</td>\n",
       "      <td>3.367296</td>\n",
       "      <td>8.992729</td>\n",
       "      <td>...</td>\n",
       "      <td>0</td>\n",
       "      <td>0</td>\n",
       "      <td>0</td>\n",
       "      <td>0.253335</td>\n",
       "      <td>0.135541</td>\n",
       "      <td>0.217723</td>\n",
       "      <td>0.198439</td>\n",
       "      <td>0.797551</td>\n",
       "      <td>3.044522</td>\n",
       "      <td>0.000000</td>\n",
       "    </tr>\n",
       "    <tr>\n",
       "      <th>3</th>\n",
       "      <td>0</td>\n",
       "      <td>0</td>\n",
       "      <td>0</td>\n",
       "      <td>0</td>\n",
       "      <td>1</td>\n",
       "      <td>0</td>\n",
       "      <td>0</td>\n",
       "      <td>0</td>\n",
       "      <td>3.401197</td>\n",
       "      <td>8.992729</td>\n",
       "      <td>...</td>\n",
       "      <td>0</td>\n",
       "      <td>0</td>\n",
       "      <td>0</td>\n",
       "      <td>0.253335</td>\n",
       "      <td>0.135541</td>\n",
       "      <td>0.217723</td>\n",
       "      <td>0.198439</td>\n",
       "      <td>0.797551</td>\n",
       "      <td>2.944439</td>\n",
       "      <td>0.000000</td>\n",
       "    </tr>\n",
       "    <tr>\n",
       "      <th>4</th>\n",
       "      <td>0</td>\n",
       "      <td>0</td>\n",
       "      <td>0</td>\n",
       "      <td>0</td>\n",
       "      <td>1</td>\n",
       "      <td>0</td>\n",
       "      <td>0</td>\n",
       "      <td>0</td>\n",
       "      <td>3.433987</td>\n",
       "      <td>8.992729</td>\n",
       "      <td>...</td>\n",
       "      <td>0</td>\n",
       "      <td>0</td>\n",
       "      <td>0</td>\n",
       "      <td>0.253335</td>\n",
       "      <td>0.135541</td>\n",
       "      <td>0.217723</td>\n",
       "      <td>0.198439</td>\n",
       "      <td>0.797551</td>\n",
       "      <td>2.708050</td>\n",
       "      <td>0.000000</td>\n",
       "    </tr>\n",
       "  </tbody>\n",
       "</table>\n",
       "<p>5 rows × 31 columns</p>\n",
       "</div>"
      ],
      "text/plain": [
       "   reg_afr  reg_eap  reg_eur  reg_mna  reg_sca  reg_amr  mkl_ongoing  \\\n",
       "0        0        0        0        0        1        0            0   \n",
       "1        0        0        0        0        1        0            0   \n",
       "2        0        0        0        0        1        0            0   \n",
       "3        0        0        0        0        1        0            0   \n",
       "4        0        0        0        0        1        0            0   \n",
       "\n",
       "   mkl_ever  countryage_ln  wdi_popsize_ln      ...        elf_ethnicc1  \\\n",
       "0         0       3.295837        8.992729      ...                   0   \n",
       "1         0       3.332205        8.992729      ...                   0   \n",
       "2         0       3.367296        8.992729      ...                   0   \n",
       "3         0       3.401197        8.992729      ...                   0   \n",
       "4         0       3.433987        8.992729      ...                   0   \n",
       "\n",
       "   elf_ethnicc2  elf_ethnicc9  elc_eleth1  elc_eleth2  elc_eliti  cou_tries5d  \\\n",
       "0             0             0    0.253335    0.135541   0.217723     0.198439   \n",
       "1             0             0    0.253335    0.135541   0.217723     0.198439   \n",
       "2             0             0    0.253335    0.135541   0.217723     0.198439   \n",
       "3             0             0    0.253335    0.135541   0.217723     0.198439   \n",
       "4             0             0    0.253335    0.135541   0.217723     0.198439   \n",
       "\n",
       "   pit_sftpuhvl2_10_ln  mev_regac_ln  mev_civtot_ln  \n",
       "0             0.797551      2.259752       0.251369  \n",
       "1             0.797551      2.197225       0.000000  \n",
       "2             0.797551      3.044522       0.000000  \n",
       "3             0.797551      2.944439       0.000000  \n",
       "4             0.797551      2.708050       0.000000  \n",
       "\n",
       "[5 rows x 31 columns]"
      ]
     },
     "execution_count": 70,
     "metadata": {},
     "output_type": "execute_result"
    }
   ],
   "source": [
    "# 1. Define X and y\n",
    "feature_cols = ['reg_afr','reg_eap','reg_eur','reg_mna','reg_sca','reg_amr','mkl_ongoing',\\\n",
    "             'mkl_ever','countryage_ln','wdi_popsize_ln','imr_normed_ln','gdppcgrow_sr','wdi_trade_ln',\\\n",
    "             'ios_iccpr1','postcw','pol_cat_fl1','pol_cat_fl2','pol_cat_fl3','pol_cat_fl7','pol_durable_ln',\\\n",
    "             'dis_l4pop_ln','elf_ethnicc1','elf_ethnicc2','elf_ethnicc9','elc_eleth1','elc_eleth2','elc_eliti',\\\n",
    "             'cou_tries5d','pit_sftpuhvl2_10_ln','mev_regac_ln','mev_civtot_ln']\n",
    "X = train_cleaned[feature_cols]\n",
    "#y = train_cleaned.mkl_start_next_year\n",
    "y = train_cleaned.mkl_start\n",
    "X.head()"
   ]
  },
  {
   "cell_type": "code",
   "execution_count": 184,
   "metadata": {
    "collapsed": true
   },
   "outputs": [],
   "source": [
    "# 2. Choose model and import\n",
    "from sklearn.linear_model import LogisticRegression"
   ]
  },
  {
   "cell_type": "code",
   "execution_count": 188,
   "metadata": {
    "collapsed": false
   },
   "outputs": [
    {
     "data": {
      "text/plain": [
       "{'C': 0.1}"
      ]
     },
     "execution_count": 188,
     "metadata": {},
     "output_type": "execute_result"
    }
   ],
   "source": [
    "from sklearn.model_selection import GridSearchCV\n",
    "param_grid = {'C': [0.001, 0.01, 0.1, 1, 10, 100, 1000] }\n",
    "# GridSearchCV can be used somehow to get the best C value to use.\n",
    "clf = GridSearchCV(LogisticRegression(penalty='l2'), param_grid)\n",
    "GridSearchCV(cv=None,\n",
    "       estimator=LogisticRegression(C=1.0, intercept_scaling=1, dual=False, fit_intercept=True,\n",
    "          penalty='l2', tol=0.0001),\n",
    "       param_grid={'C': [0.001, 0.01, 0.1, 1, 10, 100, 1000]})\n",
    "\n",
    "# Find best C value using GridSearchCV\n",
    "clf.fit(X,y)\n",
    "clf.best_params_"
   ]
  },
  {
   "cell_type": "code",
   "execution_count": 286,
   "metadata": {
    "collapsed": false
   },
   "outputs": [],
   "source": [
    "# 3. Instantiate\n",
    "# Increasing C>1 does not increase sensitivity but does increase FPs\n",
    "# Best C value from above is incorrect and leads to 0 TP\n",
    "#logreg = LogisticRegression(C=clf.best_params_['C'])\n",
    "# Manually found C value with max TP and min FP\n",
    "# Manually played with tol and could not improve sensitivity\n",
    "logreg = LogisticRegression(C=0.4)"
   ]
  },
  {
   "cell_type": "code",
   "execution_count": 287,
   "metadata": {
    "collapsed": false
   },
   "outputs": [
    {
     "name": "stdout",
     "output_type": "stream",
     "text": [
      "0.987652972028\n"
     ]
    },
    {
     "data": {
      "text/html": [
       "<div>\n",
       "<table border=\"1\" class=\"dataframe\">\n",
       "  <thead>\n",
       "    <tr style=\"text-align: right;\">\n",
       "      <th></th>\n",
       "      <th>Predicted_mkl_start</th>\n",
       "    </tr>\n",
       "  </thead>\n",
       "  <tbody>\n",
       "    <tr>\n",
       "      <th>0</th>\n",
       "      <td>0</td>\n",
       "    </tr>\n",
       "    <tr>\n",
       "      <th>1</th>\n",
       "      <td>0</td>\n",
       "    </tr>\n",
       "    <tr>\n",
       "      <th>2</th>\n",
       "      <td>0</td>\n",
       "    </tr>\n",
       "    <tr>\n",
       "      <th>3</th>\n",
       "      <td>0</td>\n",
       "    </tr>\n",
       "    <tr>\n",
       "      <th>4</th>\n",
       "      <td>0</td>\n",
       "    </tr>\n",
       "  </tbody>\n",
       "</table>\n",
       "</div>"
      ],
      "text/plain": [
       "   Predicted_mkl_start\n",
       "0                    0\n",
       "1                    0\n",
       "2                    0\n",
       "3                    0\n",
       "4                    0"
      ]
     },
     "execution_count": 287,
     "metadata": {},
     "output_type": "execute_result"
    }
   ],
   "source": [
    "# 4. Fit model, 5. Predict, 6. Evaluate\n",
    "from sklearn.cross_validation import cross_val_score\n",
    "from sklearn import metrics, cross_validation\n",
    "# 10-fold cross-validation used to check model accuracy and keeps predicted results\n",
    "predicted = cross_validation.cross_val_predict(logreg, X, y, cv=10)\n",
    "print metrics.accuracy_score(y, predicted)\n",
    "pred = pd.DataFrame(predicted, columns=['Predicted_mkl_start'])\n",
    "pred.head()"
   ]
  },
  {
   "cell_type": "code",
   "execution_count": 288,
   "metadata": {
    "collapsed": false
   },
   "outputs": [
    {
     "data": {
      "text/plain": [
       "Predicted_mkl_start    12\n",
       "dtype: int64"
      ]
     },
     "execution_count": 288,
     "metadata": {},
     "output_type": "execute_result"
    }
   ],
   "source": [
    "# The original dataset has 116 mkl_start. Prediction from model: 18\n",
    "# Note: When using y = mkl_start_next_year, predictions from model = 0. Not sure why.\n",
    "pred[pred.Predicted_mkl_start == 1].count()"
   ]
  },
  {
   "cell_type": "code",
   "execution_count": 289,
   "metadata": {
    "collapsed": false
   },
   "outputs": [
    {
     "data": {
      "text/html": [
       "<div>\n",
       "<table border=\"1\" class=\"dataframe\">\n",
       "  <thead>\n",
       "    <tr style=\"text-align: right;\">\n",
       "      <th></th>\n",
       "      <th>country</th>\n",
       "      <th>year</th>\n",
       "      <th>mkl_start</th>\n",
       "      <th>Predicted_mkl_start</th>\n",
       "      <th>reg_afr</th>\n",
       "      <th>reg_eap</th>\n",
       "      <th>reg_eur</th>\n",
       "      <th>reg_mna</th>\n",
       "      <th>reg_sca</th>\n",
       "      <th>reg_amr</th>\n",
       "      <th>...</th>\n",
       "      <th>elf_ethnicc1</th>\n",
       "      <th>elf_ethnicc2</th>\n",
       "      <th>elf_ethnicc9</th>\n",
       "      <th>elc_eleth1</th>\n",
       "      <th>elc_eleth2</th>\n",
       "      <th>elc_eliti</th>\n",
       "      <th>cou_tries5d</th>\n",
       "      <th>pit_sftpuhvl2_10_ln</th>\n",
       "      <th>mev_regac_ln</th>\n",
       "      <th>mev_civtot_ln</th>\n",
       "    </tr>\n",
       "  </thead>\n",
       "  <tbody>\n",
       "    <tr>\n",
       "      <th>0</th>\n",
       "      <td>Afghanistan</td>\n",
       "      <td>1945</td>\n",
       "      <td>0.0</td>\n",
       "      <td>0.0</td>\n",
       "      <td>0.0</td>\n",
       "      <td>0.0</td>\n",
       "      <td>0.0</td>\n",
       "      <td>0.0</td>\n",
       "      <td>1.0</td>\n",
       "      <td>0.0</td>\n",
       "      <td>...</td>\n",
       "      <td>0.0</td>\n",
       "      <td>0.0</td>\n",
       "      <td>0.0</td>\n",
       "      <td>0.253335</td>\n",
       "      <td>0.135541</td>\n",
       "      <td>0.217723</td>\n",
       "      <td>0.198439</td>\n",
       "      <td>0.797551</td>\n",
       "      <td>2.259752</td>\n",
       "      <td>0.251369</td>\n",
       "    </tr>\n",
       "    <tr>\n",
       "      <th>1</th>\n",
       "      <td>Afghanistan</td>\n",
       "      <td>1946</td>\n",
       "      <td>0.0</td>\n",
       "      <td>0.0</td>\n",
       "      <td>0.0</td>\n",
       "      <td>0.0</td>\n",
       "      <td>0.0</td>\n",
       "      <td>0.0</td>\n",
       "      <td>1.0</td>\n",
       "      <td>0.0</td>\n",
       "      <td>...</td>\n",
       "      <td>0.0</td>\n",
       "      <td>0.0</td>\n",
       "      <td>0.0</td>\n",
       "      <td>0.253335</td>\n",
       "      <td>0.135541</td>\n",
       "      <td>0.217723</td>\n",
       "      <td>0.198439</td>\n",
       "      <td>0.797551</td>\n",
       "      <td>2.197225</td>\n",
       "      <td>0.000000</td>\n",
       "    </tr>\n",
       "    <tr>\n",
       "      <th>2</th>\n",
       "      <td>Afghanistan</td>\n",
       "      <td>1947</td>\n",
       "      <td>0.0</td>\n",
       "      <td>0.0</td>\n",
       "      <td>0.0</td>\n",
       "      <td>0.0</td>\n",
       "      <td>0.0</td>\n",
       "      <td>0.0</td>\n",
       "      <td>1.0</td>\n",
       "      <td>0.0</td>\n",
       "      <td>...</td>\n",
       "      <td>0.0</td>\n",
       "      <td>0.0</td>\n",
       "      <td>0.0</td>\n",
       "      <td>0.253335</td>\n",
       "      <td>0.135541</td>\n",
       "      <td>0.217723</td>\n",
       "      <td>0.198439</td>\n",
       "      <td>0.797551</td>\n",
       "      <td>3.044522</td>\n",
       "      <td>0.000000</td>\n",
       "    </tr>\n",
       "    <tr>\n",
       "      <th>3</th>\n",
       "      <td>Afghanistan</td>\n",
       "      <td>1948</td>\n",
       "      <td>0.0</td>\n",
       "      <td>0.0</td>\n",
       "      <td>0.0</td>\n",
       "      <td>0.0</td>\n",
       "      <td>0.0</td>\n",
       "      <td>0.0</td>\n",
       "      <td>1.0</td>\n",
       "      <td>0.0</td>\n",
       "      <td>...</td>\n",
       "      <td>0.0</td>\n",
       "      <td>0.0</td>\n",
       "      <td>0.0</td>\n",
       "      <td>0.253335</td>\n",
       "      <td>0.135541</td>\n",
       "      <td>0.217723</td>\n",
       "      <td>0.198439</td>\n",
       "      <td>0.797551</td>\n",
       "      <td>2.944439</td>\n",
       "      <td>0.000000</td>\n",
       "    </tr>\n",
       "    <tr>\n",
       "      <th>4</th>\n",
       "      <td>Afghanistan</td>\n",
       "      <td>1949</td>\n",
       "      <td>0.0</td>\n",
       "      <td>0.0</td>\n",
       "      <td>0.0</td>\n",
       "      <td>0.0</td>\n",
       "      <td>0.0</td>\n",
       "      <td>0.0</td>\n",
       "      <td>1.0</td>\n",
       "      <td>0.0</td>\n",
       "      <td>...</td>\n",
       "      <td>0.0</td>\n",
       "      <td>0.0</td>\n",
       "      <td>0.0</td>\n",
       "      <td>0.253335</td>\n",
       "      <td>0.135541</td>\n",
       "      <td>0.217723</td>\n",
       "      <td>0.198439</td>\n",
       "      <td>0.797551</td>\n",
       "      <td>2.708050</td>\n",
       "      <td>0.000000</td>\n",
       "    </tr>\n",
       "  </tbody>\n",
       "</table>\n",
       "<p>5 rows × 35 columns</p>\n",
       "</div>"
      ],
      "text/plain": [
       "       country  year  mkl_start  Predicted_mkl_start  reg_afr  reg_eap  \\\n",
       "0  Afghanistan  1945        0.0                  0.0      0.0      0.0   \n",
       "1  Afghanistan  1946        0.0                  0.0      0.0      0.0   \n",
       "2  Afghanistan  1947        0.0                  0.0      0.0      0.0   \n",
       "3  Afghanistan  1948        0.0                  0.0      0.0      0.0   \n",
       "4  Afghanistan  1949        0.0                  0.0      0.0      0.0   \n",
       "\n",
       "   reg_eur  reg_mna  reg_sca  reg_amr      ...        elf_ethnicc1  \\\n",
       "0      0.0      0.0      1.0      0.0      ...                 0.0   \n",
       "1      0.0      0.0      1.0      0.0      ...                 0.0   \n",
       "2      0.0      0.0      1.0      0.0      ...                 0.0   \n",
       "3      0.0      0.0      1.0      0.0      ...                 0.0   \n",
       "4      0.0      0.0      1.0      0.0      ...                 0.0   \n",
       "\n",
       "   elf_ethnicc2  elf_ethnicc9  elc_eleth1  elc_eleth2  elc_eliti  cou_tries5d  \\\n",
       "0           0.0           0.0    0.253335    0.135541   0.217723     0.198439   \n",
       "1           0.0           0.0    0.253335    0.135541   0.217723     0.198439   \n",
       "2           0.0           0.0    0.253335    0.135541   0.217723     0.198439   \n",
       "3           0.0           0.0    0.253335    0.135541   0.217723     0.198439   \n",
       "4           0.0           0.0    0.253335    0.135541   0.217723     0.198439   \n",
       "\n",
       "   pit_sftpuhvl2_10_ln  mev_regac_ln  mev_civtot_ln  \n",
       "0             0.797551      2.259752       0.251369  \n",
       "1             0.797551      2.197225       0.000000  \n",
       "2             0.797551      3.044522       0.000000  \n",
       "3             0.797551      2.944439       0.000000  \n",
       "4             0.797551      2.708050       0.000000  \n",
       "\n",
       "[5 rows x 35 columns]"
      ]
     },
     "execution_count": 289,
     "metadata": {},
     "output_type": "execute_result"
    }
   ],
   "source": [
    "#data_pred = pd.concat([info, y, pred, pred_proba.Predicted_proba_mkl_start, X], axis=1)\n",
    "data_pred = pd.concat([info, y, pred, X], axis=1)\n",
    "data_pred.head()"
   ]
  },
  {
   "cell_type": "code",
   "execution_count": 290,
   "metadata": {
    "collapsed": false
   },
   "outputs": [
    {
     "data": {
      "text/html": [
       "<div>\n",
       "<table border=\"1\" class=\"dataframe\">\n",
       "  <thead>\n",
       "    <tr style=\"text-align: right;\">\n",
       "      <th>Predicted_mkl_start</th>\n",
       "      <th>0.0</th>\n",
       "      <th>1.0</th>\n",
       "    </tr>\n",
       "    <tr>\n",
       "      <th>mkl_start</th>\n",
       "      <th></th>\n",
       "      <th></th>\n",
       "    </tr>\n",
       "  </thead>\n",
       "  <tbody>\n",
       "    <tr>\n",
       "      <th>0.0</th>\n",
       "      <td>8856</td>\n",
       "      <td>10</td>\n",
       "    </tr>\n",
       "    <tr>\n",
       "      <th>1.0</th>\n",
       "      <td>111</td>\n",
       "      <td>2</td>\n",
       "    </tr>\n",
       "  </tbody>\n",
       "</table>\n",
       "</div>"
      ],
      "text/plain": [
       "Predicted_mkl_start   0.0  1.0\n",
       "mkl_start                     \n",
       "0.0                  8856   10\n",
       "1.0                   111    2"
      ]
     },
     "execution_count": 290,
     "metadata": {},
     "output_type": "execute_result"
    }
   ],
   "source": [
    "# Show results using confusion matrix\n",
    "y_true = data_pred.mkl_start\n",
    "y_pred = data_pred.Predicted_mkl_start\n",
    "df_confusion = pd.crosstab(y_true, y_pred)\n",
    "df_confusion"
   ]
  },
  {
   "cell_type": "code",
   "execution_count": 375,
   "metadata": {
    "collapsed": false
   },
   "outputs": [
    {
     "data": {
      "text/plain": [
       "0.017699115044247787"
      ]
     },
     "execution_count": 375,
     "metadata": {},
     "output_type": "execute_result"
    }
   ],
   "source": [
    "# Sensitivity: When actual value is positive, how often is prediction correct?\n",
    "# AKA “True Positive Rate” or “Recall”\n",
    "# TP / (all actual positives)\n",
    "# If this value is close to 100%, model is near perfect\n",
    "logreg_sens = df_confusion[1][1]*1.0/df_confusion[1:2].unstack().sum()\n",
    "logreg_sens"
   ]
  },
  {
   "cell_type": "markdown",
   "metadata": {},
   "source": [
    "## Decision Tree"
   ]
  },
  {
   "cell_type": "code",
   "execution_count": 405,
   "metadata": {
    "collapsed": true
   },
   "outputs": [],
   "source": [
    "# create a Graphviz file\n",
    "from sklearn.tree import export_graphviz\n",
    "\n",
    "\n",
    "def decision_tree_model(X,y,feature_cols,depth,verbose=False,dot_map=False):\n",
    "    '''Run decision tree model, print confusion matrix, returns senstivity'''\n",
    "    # If verbose == True, print everything\n",
    "    # 1. X and y defined\n",
    "    # 2. Import model\n",
    "    from sklearn.tree import DecisionTreeRegressor\n",
    "    # 3. Instantiate a DecisionTreeRegressor (with random_state=1)\n",
    "    treereg = DecisionTreeRegressor(random_state=1)\n",
    "    # max_depth=3 was best, so fit a tree using that parameter\n",
    "    treereg = DecisionTreeRegressor(max_depth=depth, random_state=1)\n",
    "    \n",
    "    # 4. Fit model\n",
    "    treereg.fit(X, y)\n",
    "    \n",
    "    # \"Gini importance\" of each feature: the (normalized) total reduction of error brought by that feature\n",
    "    if verbose:\n",
    "        print pd.DataFrame({'feature':feature_cols, 'importance':treereg.feature_importances_})\n",
    "    if dot_map:\n",
    "        export_graphviz(treereg, out_file='tree_vehicles_EWP_depth_'+str(depth)+'.dot', feature_names=feature_cols)\n",
    "    \n",
    "    # use fitted model to make predictions on testing data\n",
    "    # 5. Predict\n",
    "    X_test = X\n",
    "    y_test = y\n",
    "    y_pred = treereg.predict(X_test)\n",
    "    \n",
    "    print\n",
    "    \n",
    "    # 6. Evaluate\n",
    "    # calculate RMSE\n",
    "    print 'RMSE: %s' % np.sqrt(metrics.mean_squared_error(y_test, y_pred))\n",
    "    \n",
    "    print\n",
    "    \n",
    "    # print confusion matrix\n",
    "    df_confusion = pd.crosstab(y_test, y_pred)\n",
    "    return df_confusion"
   ]
  },
  {
   "cell_type": "code",
   "execution_count": 406,
   "metadata": {
    "collapsed": false
   },
   "outputs": [
    {
     "name": "stdout",
     "output_type": "stream",
     "text": [
      "depth: 2\n",
      "\n",
      "RMSE: 0.10258769232\n",
      "\n",
      "col_0      0.000000  0.072701  0.866667\n",
      "mkl_start                              \n",
      "0              7734      1301         2\n",
      "1                 0       102        13\n",
      "depth: 3\n",
      "\n",
      "RMSE: 0.0995029709884\n",
      "\n",
      "col_0      0.000000  0.044580  0.196911  0.928571\n",
      "mkl_start                                        \n",
      "0              7735      1093       208         1\n",
      "1                 0        51        51        13\n",
      "depth: 4\n",
      "\n",
      "RMSE: 0.0963119315541\n",
      "\n",
      "col_0      0.000000  0.041337  0.106918  0.340000  0.500000  0.571429  \\\n",
      "mkl_start                                                               \n",
      "0              7735      1090       142        66         1         3   \n",
      "1                 0        47        17        34         1         4   \n",
      "\n",
      "col_0      1.000000  \n",
      "mkl_start            \n",
      "0                 0  \n",
      "1                12  \n",
      "depth: 5\n",
      "\n",
      "RMSE: 0.0932711445312\n",
      "\n",
      "col_0      0.000000  0.023715  0.076720  0.101266  0.250000  0.273810  \\\n",
      "mkl_start                                                               \n",
      "0              7736       741       349       142         3        61   \n",
      "1                 0        18        29        16         1        23   \n",
      "\n",
      "col_0      0.687500  1.000000  \n",
      "mkl_start                      \n",
      "0                 5         0  \n",
      "1                11        17  \n",
      "depth: 6\n",
      "\n",
      "RMSE: 0.0884073323049\n",
      "\n",
      "col_0      0.000000  0.021419  0.062331  0.090909  0.166667  0.233766  \\\n",
      "mkl_start                                                               \n",
      "0              7742       731       346       140        10        59   \n",
      "1                 0        16        23        14         2        18   \n",
      "\n",
      "col_0      0.500000  0.666667  0.714286  0.846154  1.000000  \n",
      "mkl_start                                                    \n",
      "0                 2         3         2         2         0  \n",
      "1                 2         6         5        11        18  \n",
      "depth: 7\n",
      "\n",
      "RMSE: 0.083308821408\n",
      "\n",
      "col_0      0.000000  0.016973  0.044444  0.059783  0.090909  0.100000  \\\n",
      "mkl_start                                                               \n",
      "0              7746       695        86       346        10        36   \n",
      "1                 0        12         4        22         1         4   \n",
      "\n",
      "col_0      0.156250  0.194444  0.333333  0.800000  0.857143  1.000000  \n",
      "mkl_start                                                              \n",
      "0                54        58         4         1         1         0  \n",
      "1                10        14         2         4         6        36  \n",
      "depth: 8\n",
      "\n",
      "RMSE: 0.0772067191777\n",
      "\n",
      "col_0      0.000000  0.008865  0.026316  0.033333  0.033708  0.048951  \\\n",
      "mkl_start                                                               \n",
      "0              7761       559       185        29        86       136   \n",
      "1                 0         5         5         1         3         7   \n",
      "\n",
      "col_0      0.052632  0.095506  0.151515  0.264706  0.500000  0.666667  \\\n",
      "mkl_start                                                               \n",
      "0                36       161        56        25         1         2   \n",
      "1                 2        17        10         9         1         4   \n",
      "\n",
      "col_0      1.000000  \n",
      "mkl_start            \n",
      "0                 0  \n",
      "1                51  \n",
      "depth: 9\n",
      "\n",
      "RMSE: 0.0704209533485\n",
      "\n",
      "col_0      0.000000  0.007233  0.017143  0.022989  0.027027  0.035461  \\\n",
      "mkl_start                                                               \n",
      "0              7817       549       172        85        36       136   \n",
      "1                 0         4         3         2         1         5   \n",
      "\n",
      "col_0      0.044444  0.090909  0.133333  0.218750  0.250000  0.255814  \\\n",
      "mkl_start                                                               \n",
      "0               129        10        13        25         3        32   \n",
      "1                 6         1         2         7         1        11   \n",
      "\n",
      "col_0      0.256410  0.500000  1.000000  \n",
      "mkl_start                                \n",
      "0                29         1         0  \n",
      "1                10         1        61  \n",
      "depth: 10\n",
      "\n",
      "RMSE: 0.0621364594642\n",
      "\n",
      "col_0      0.000000  0.005545  0.028571  0.037313  0.043478  0.052632  \\\n",
      "mkl_start                                                               \n",
      "0              8072       538       136       129        22        18   \n",
      "1                 0         3         4         5         1         1   \n",
      "\n",
      "col_0      0.062500  0.071429  0.083333  0.142857  0.166667  0.318182  \\\n",
      "mkl_start                                                               \n",
      "0                45        13        11        12         5        15   \n",
      "1                 3         1         1         2         1         7   \n",
      "\n",
      "col_0      0.416667  0.562500  1.000000  \n",
      "mkl_start                                \n",
      "0                14         7         0  \n",
      "1                10         9        67  \n",
      "depth: 11\n",
      "\n",
      "RMSE: 0.0526860286952\n",
      "\n",
      "col_0      0.000000  0.003788  0.054054  0.076923  0.086207  0.230769  \\\n",
      "mkl_start                                                               \n",
      "0              8322       526        70        24        53        10   \n",
      "1                 0         2         4         2         5         3   \n",
      "\n",
      "col_0      0.250000  0.315789  0.750000  0.800000  1.000000  \n",
      "mkl_start                                                    \n",
      "0                15        13         3         1         0  \n",
      "1                 5         6         9         4        75  \n",
      "depth: 12\n",
      "\n",
      "RMSE: 0.0456625097642\n",
      "\n",
      "col_0      0.000000  0.001996  0.028169  0.037037  0.070175  0.111111  \\\n",
      "mkl_start                                                               \n",
      "0              8351       500        69        26        53         8   \n",
      "1                 0         1         2         1         4         1   \n",
      "\n",
      "col_0      0.133333  0.333333  0.500000  0.600000  0.666667  0.818182  \\\n",
      "mkl_start                                                               \n",
      "0                13         4         8         2         1         2   \n",
      "1                 2         2         8         3         2         9   \n",
      "\n",
      "col_0      1.000000  \n",
      "mkl_start            \n",
      "0                 0  \n",
      "1                80  \n",
      "depth: 13\n",
      "\n",
      "RMSE: 0.0330532510916\n",
      "\n",
      "col_0      0.000000  0.014925  0.025641  0.053571  0.166667  0.250000  \\\n",
      "mkl_start                                                               \n",
      "0              8865        66        38        53         5         3   \n",
      "1                 0         1         1         3         1         1   \n",
      "\n",
      "col_0      0.333333  0.500000  0.600000  0.750000  1.000000  \n",
      "mkl_start                                                    \n",
      "0                 2         2         2         1         0  \n",
      "1                 1         2         3         3        99  \n",
      "depth: 14\n",
      "\n",
      "RMSE: 0.0233559607084\n",
      "\n",
      "col_0      0.000000  0.090909  0.250000  0.333333  0.500000  0.666667  \\\n",
      "mkl_start                                                               \n",
      "0              9014        10         9         2         1         1   \n",
      "1                 0         1         3         1         1         2   \n",
      "\n",
      "col_0      1.000000  \n",
      "mkl_start            \n",
      "0                 0  \n",
      "1               107  \n",
      "depth: 15\n",
      "\n",
      "RMSE: 0.00853485927499\n",
      "\n",
      "col_0      0.000000  0.666667  1.000000\n",
      "mkl_start                              \n",
      "0              9036         1         0\n",
      "1                 0         2       113\n",
      "depth: 16\n",
      "\n",
      "RMSE: 0.0\n",
      "\n",
      "col_0       0.0  1.0\n",
      "mkl_start           \n",
      "0          9037    0\n",
      "1             0  115\n",
      "depth: 17\n",
      "\n",
      "RMSE: 0.0\n",
      "\n",
      "col_0       0.0  1.0\n",
      "mkl_start           \n",
      "0          9037    0\n",
      "1             0  115\n",
      "depth: 18\n",
      "\n",
      "RMSE: 0.0\n",
      "\n",
      "col_0       0.0  1.0\n",
      "mkl_start           \n",
      "0          9037    0\n",
      "1             0  115\n",
      "depth: 19\n",
      "\n",
      "RMSE: 0.0\n",
      "\n",
      "col_0       0.0  1.0\n",
      "mkl_start           \n",
      "0          9037    0\n",
      "1             0  115\n",
      "depth: 20\n",
      "\n",
      "RMSE: 0.0\n",
      "\n",
      "col_0       0.0  1.0\n",
      "mkl_start           \n",
      "0          9037    0\n",
      "1             0  115\n",
      "depth: 21\n",
      "\n",
      "RMSE: 0.0\n",
      "\n",
      "col_0       0.0  1.0\n",
      "mkl_start           \n",
      "0          9037    0\n",
      "1             0  115\n",
      "depth: 22\n",
      "\n",
      "RMSE: 0.0\n",
      "\n",
      "col_0       0.0  1.0\n",
      "mkl_start           \n",
      "0          9037    0\n",
      "1             0  115\n",
      "depth: 23\n",
      "\n",
      "RMSE: 0.0\n",
      "\n",
      "col_0       0.0  1.0\n",
      "mkl_start           \n",
      "0          9037    0\n",
      "1             0  115\n",
      "depth: 24\n",
      "\n",
      "RMSE: 0.0\n",
      "\n",
      "col_0       0.0  1.0\n",
      "mkl_start           \n",
      "0          9037    0\n",
      "1             0  115\n"
     ]
    }
   ],
   "source": [
    "# Try decision trees with a range of depths\n",
    "for n in np.arange(2,25):\n",
    "    print 'depth: %s' % n\n",
    "    print decision_tree_model(X,y,feature_cols,n,verbose=False,dot_map=False)"
   ]
  },
  {
   "cell_type": "code",
   "execution_count": 407,
   "metadata": {
    "collapsed": false
   },
   "outputs": [
    {
     "name": "stdout",
     "output_type": "stream",
     "text": [
      "                feature  importance\n",
      "0               reg_afr    0.008508\n",
      "1               reg_eap    0.025018\n",
      "2               reg_eur    0.000000\n",
      "3               reg_mna    0.036401\n",
      "4               reg_sca    0.002961\n",
      "5               reg_amr    0.000000\n",
      "6           mkl_ongoing    0.089409\n",
      "7              mkl_ever    0.000000\n",
      "8         countryage_ln    0.192369\n",
      "9        wdi_popsize_ln    0.059295\n",
      "10        imr_normed_ln    0.080920\n",
      "11         gdppcgrow_sr    0.054572\n",
      "12         wdi_trade_ln    0.073926\n",
      "13           ios_iccpr1    0.016558\n",
      "14               postcw    0.000000\n",
      "15          pol_cat_fl1    0.000000\n",
      "16          pol_cat_fl2    0.000000\n",
      "17          pol_cat_fl3    0.004862\n",
      "18          pol_cat_fl7    0.000000\n",
      "19       pol_durable_ln    0.074493\n",
      "20         dis_l4pop_ln    0.037673\n",
      "21         elf_ethnicc1    0.000000\n",
      "22         elf_ethnicc2    0.015126\n",
      "23         elf_ethnicc9    0.019449\n",
      "24           elc_eleth1    0.010747\n",
      "25           elc_eleth2    0.002079\n",
      "26            elc_eliti    0.000000\n",
      "27          cou_tries5d    0.000000\n",
      "28  pit_sftpuhvl2_10_ln    0.099701\n",
      "29         mev_regac_ln    0.056875\n",
      "30        mev_civtot_ln    0.039059\n",
      "\n",
      "RMSE: 0.0526860286952\n",
      "\n",
      "col_0      0.000000  0.003788  0.054054  0.076923  0.086207  0.230769  \\\n",
      "mkl_start                                                               \n",
      "0              8322       526        70        24        53        10   \n",
      "1                 0         2         4         2         5         3   \n",
      "\n",
      "col_0      0.250000  0.315789  0.750000  0.800000  1.000000  \n",
      "mkl_start                                                    \n",
      "0                15        13         3         1         0  \n",
      "1                 5         6         9         4        75  \n"
     ]
    }
   ],
   "source": [
    "# From above, a depth of 11 seams like a good predictor. It seems like this could be tuned to increase TPs,\n",
    "# without predicting too many FN.\n",
    "print decision_tree_model(X,y,feature_cols,11,verbose=True,dot_map=True)"
   ]
  },
  {
   "cell_type": "markdown",
   "metadata": {},
   "source": [
    "From looking at the resulting tree, the prediction will only ever be positive if the country in question has an ongoing state-led mass killing! This must be overfitting. At the very least, as time goes on and most countries have no ongoing MKL, this model would never predict any likelihood of that state having a new mass killing.\n",
    "\n",
    "![Tree Vehicles EWP depth 11 head](tree_vehicles_EWP_depth_11_head.jpeg)"
   ]
  },
  {
   "cell_type": "markdown",
   "metadata": {},
   "source": [
    "![Tree Vehicles EWP depth 11 full](tree_vehicles_EWP_depth_11.jpeg)"
   ]
  },
  {
   "cell_type": "markdown",
   "metadata": {},
   "source": [
    "## RandomForests"
   ]
  },
  {
   "cell_type": "code",
   "execution_count": 341,
   "metadata": {
    "collapsed": false
   },
   "outputs": [
    {
     "data": {
      "text/plain": [
       "RandomForestClassifier(bootstrap=True, class_weight=None, criterion='gini',\n",
       "            max_depth=None, max_features='auto', max_leaf_nodes=None,\n",
       "            min_impurity_split=1e-07, min_samples_leaf=1,\n",
       "            min_samples_split=2, min_weight_fraction_leaf=0.0,\n",
       "            n_estimators=10, n_jobs=1, oob_score=False, random_state=None,\n",
       "            verbose=0, warm_start=False)"
      ]
     },
     "execution_count": 341,
     "metadata": {},
     "output_type": "execute_result"
    }
   ],
   "source": [
    "from sklearn.ensemble import RandomForestClassifier\n",
    "rfclass = RandomForestClassifier()\n",
    "rfclass"
   ]
  },
  {
   "cell_type": "markdown",
   "metadata": {},
   "source": [
    "### Tune n_estimator"
   ]
  },
  {
   "cell_type": "code",
   "execution_count": 344,
   "metadata": {
    "collapsed": false
   },
   "outputs": [],
   "source": [
    "# list of values to try for n_estimators\n",
    "#estimator_range = range(10, 50, 10)\n",
    "estimator_range = range(10, 310, 10)\n",
    "\n",
    "# list to store the average RMSE for each value of n_estimators\n",
    "RMSE_scores = []\n",
    "\n",
    "# use 5-fold cross-validation with each value of n_estimators (WARNING: SLOW!)\n",
    "for estimator in estimator_range:\n",
    "    rfclass = RandomForestClassifier(n_estimators=estimator, random_state=1)\n",
    "    MSE_scores = cross_val_score(rfclass, X, y, cv=5, scoring='neg_mean_squared_error')\n",
    "    RMSE_scores.append(np.mean(np.sqrt(-MSE_scores)))"
   ]
  },
  {
   "cell_type": "code",
   "execution_count": 346,
   "metadata": {
    "collapsed": false
   },
   "outputs": [
    {
     "data": {
      "text/plain": [
       "<matplotlib.text.Text at 0x143772e8>"
      ]
     },
     "execution_count": 346,
     "metadata": {},
     "output_type": "execute_result"
    },
    {
     "data": {
      "image/png": "[encoded data removed]",
      "text/plain": [
       "<matplotlib.figure.Figure at 0x1435c1d0>"
      ]
     },
     "metadata": {},
     "output_type": "display_data"
    }
   ],
   "source": [
    "# allow plots to appear in the notebook\n",
    "%matplotlib inline\n",
    "import matplotlib.pyplot as plt\n",
    "\n",
    "# plot n_estimators (x-axis) versus RMSE (y-axis)\n",
    "plt.plot(estimator_range, RMSE_scores)\n",
    "plt.xlabel('n_estimators')\n",
    "plt.ylabel('RMSE (lower is better)')"
   ]
  },
  {
   "cell_type": "code",
   "execution_count": 352,
   "metadata": {
    "collapsed": false
   },
   "outputs": [],
   "source": [
    "# show the best RMSE and the corresponding max_features\n",
    "#sorted(zip(RMSE_scores, estimator_range)[0]"
   ]
  },
  {
   "cell_type": "markdown",
   "metadata": {},
   "source": [
    "### Tuning max_features\n",
    "Tune the number of *max_features* that should be tested at each split."
   ]
  },
  {
   "cell_type": "code",
   "execution_count": 353,
   "metadata": {
    "collapsed": true
   },
   "outputs": [],
   "source": [
    "# list of values to try for max_features\n",
    "feature_range = range(1, len(feature_cols)+1)\n",
    "\n",
    "# list to store the average RMSE for each value of max_features\n",
    "RMSE_scores = []\n",
    "\n",
    "# use 10-fold cross-validation with each value of max_features (WARNING: SLOW!)\n",
    "for feature in feature_range:\n",
    "    rfclass = RandomForestClassifier(n_estimators=80, max_features=feature, random_state=1)\n",
    "    MSE_scores = cross_val_score(rfclass, X, y, cv=10, scoring='neg_mean_squared_error')\n",
    "    RMSE_scores.append(np.mean(np.sqrt(-MSE_scores)))"
   ]
  },
  {
   "cell_type": "code",
   "execution_count": 354,
   "metadata": {
    "collapsed": false
   },
   "outputs": [
    {
     "data": {
      "text/plain": [
       "<matplotlib.text.Text at 0x1606fb70>"
      ]
     },
     "execution_count": 354,
     "metadata": {},
     "output_type": "execute_result"
    },
    {
     "data": {
      "image/png": "[encoded data removed]",
      "text/plain": [
       "<matplotlib.figure.Figure at 0x14510550>"
      ]
     },
     "metadata": {},
     "output_type": "display_data"
    }
   ],
   "source": [
    "# plot max_features (x-axis) versus RMSE (y-axis)\n",
    "plt.plot(feature_range, RMSE_scores)\n",
    "plt.xlabel('max_features')\n",
    "plt.ylabel('RMSE (lower is better)')"
   ]
  },
  {
   "cell_type": "code",
   "execution_count": 357,
   "metadata": {
    "collapsed": false
   },
   "outputs": [
    {
     "data": {
      "text/plain": [
       "(0.10888107736641099, 4)"
      ]
     },
     "execution_count": 357,
     "metadata": {},
     "output_type": "execute_result"
    }
   ],
   "source": [
    "# show the best RMSE and the corresponding max_features\n",
    "sorted(zip(RMSE_scores, feature_range))[0]"
   ]
  },
  {
   "cell_type": "markdown",
   "metadata": {},
   "source": [
    "### Fitting a Random Forest with the best parameters"
   ]
  },
  {
   "cell_type": "code",
   "execution_count": 358,
   "metadata": {
    "collapsed": false
   },
   "outputs": [
    {
     "data": {
      "text/plain": [
       "RandomForestClassifier(bootstrap=True, class_weight=None, criterion='gini',\n",
       "            max_depth=None, max_features=4, max_leaf_nodes=None,\n",
       "            min_impurity_split=1e-07, min_samples_leaf=1,\n",
       "            min_samples_split=2, min_weight_fraction_leaf=0.0,\n",
       "            n_estimators=80, n_jobs=1, oob_score=True, random_state=1,\n",
       "            verbose=0, warm_start=False)"
      ]
     },
     "execution_count": 358,
     "metadata": {},
     "output_type": "execute_result"
    }
   ],
   "source": [
    "# max_features=4 is best and n_estimators=80 is sufficiently large\n",
    "rfclass = RandomForestClassifier(n_estimators=80, max_features=4, oob_score=True, random_state=1)\n",
    "rfclass.fit(X, y)"
   ]
  },
  {
   "cell_type": "code",
   "execution_count": 359,
   "metadata": {
    "collapsed": false
   },
   "outputs": [
    {
     "data": {
      "text/html": [
       "<div>\n",
       "<table border=\"1\" class=\"dataframe\">\n",
       "  <thead>\n",
       "    <tr style=\"text-align: right;\">\n",
       "      <th></th>\n",
       "      <th>feature</th>\n",
       "      <th>importance</th>\n",
       "    </tr>\n",
       "  </thead>\n",
       "  <tbody>\n",
       "    <tr>\n",
       "      <th>8</th>\n",
       "      <td>countryage_ln</td>\n",
       "      <td>0.123592</td>\n",
       "    </tr>\n",
       "    <tr>\n",
       "      <th>10</th>\n",
       "      <td>imr_normed_ln</td>\n",
       "      <td>0.075992</td>\n",
       "    </tr>\n",
       "    <tr>\n",
       "      <th>28</th>\n",
       "      <td>pit_sftpuhvl2_10_ln</td>\n",
       "      <td>0.075552</td>\n",
       "    </tr>\n",
       "    <tr>\n",
       "      <th>19</th>\n",
       "      <td>pol_durable_ln</td>\n",
       "      <td>0.073094</td>\n",
       "    </tr>\n",
       "    <tr>\n",
       "      <th>11</th>\n",
       "      <td>gdppcgrow_sr</td>\n",
       "      <td>0.072293</td>\n",
       "    </tr>\n",
       "    <tr>\n",
       "      <th>9</th>\n",
       "      <td>wdi_popsize_ln</td>\n",
       "      <td>0.071884</td>\n",
       "    </tr>\n",
       "    <tr>\n",
       "      <th>29</th>\n",
       "      <td>mev_regac_ln</td>\n",
       "      <td>0.064860</td>\n",
       "    </tr>\n",
       "    <tr>\n",
       "      <th>30</th>\n",
       "      <td>mev_civtot_ln</td>\n",
       "      <td>0.062852</td>\n",
       "    </tr>\n",
       "    <tr>\n",
       "      <th>12</th>\n",
       "      <td>wdi_trade_ln</td>\n",
       "      <td>0.059768</td>\n",
       "    </tr>\n",
       "    <tr>\n",
       "      <th>6</th>\n",
       "      <td>mkl_ongoing</td>\n",
       "      <td>0.057669</td>\n",
       "    </tr>\n",
       "    <tr>\n",
       "      <th>20</th>\n",
       "      <td>dis_l4pop_ln</td>\n",
       "      <td>0.045238</td>\n",
       "    </tr>\n",
       "    <tr>\n",
       "      <th>7</th>\n",
       "      <td>mkl_ever</td>\n",
       "      <td>0.020157</td>\n",
       "    </tr>\n",
       "    <tr>\n",
       "      <th>27</th>\n",
       "      <td>cou_tries5d</td>\n",
       "      <td>0.018640</td>\n",
       "    </tr>\n",
       "    <tr>\n",
       "      <th>26</th>\n",
       "      <td>elc_eliti</td>\n",
       "      <td>0.015827</td>\n",
       "    </tr>\n",
       "    <tr>\n",
       "      <th>25</th>\n",
       "      <td>elc_eleth2</td>\n",
       "      <td>0.012777</td>\n",
       "    </tr>\n",
       "    <tr>\n",
       "      <th>15</th>\n",
       "      <td>pol_cat_fl1</td>\n",
       "      <td>0.012748</td>\n",
       "    </tr>\n",
       "    <tr>\n",
       "      <th>1</th>\n",
       "      <td>reg_eap</td>\n",
       "      <td>0.011828</td>\n",
       "    </tr>\n",
       "    <tr>\n",
       "      <th>24</th>\n",
       "      <td>elc_eleth1</td>\n",
       "      <td>0.011381</td>\n",
       "    </tr>\n",
       "    <tr>\n",
       "      <th>22</th>\n",
       "      <td>elf_ethnicc2</td>\n",
       "      <td>0.011228</td>\n",
       "    </tr>\n",
       "    <tr>\n",
       "      <th>14</th>\n",
       "      <td>postcw</td>\n",
       "      <td>0.011091</td>\n",
       "    </tr>\n",
       "    <tr>\n",
       "      <th>3</th>\n",
       "      <td>reg_mna</td>\n",
       "      <td>0.010853</td>\n",
       "    </tr>\n",
       "    <tr>\n",
       "      <th>18</th>\n",
       "      <td>pol_cat_fl7</td>\n",
       "      <td>0.010181</td>\n",
       "    </tr>\n",
       "    <tr>\n",
       "      <th>13</th>\n",
       "      <td>ios_iccpr1</td>\n",
       "      <td>0.009978</td>\n",
       "    </tr>\n",
       "    <tr>\n",
       "      <th>16</th>\n",
       "      <td>pol_cat_fl2</td>\n",
       "      <td>0.009569</td>\n",
       "    </tr>\n",
       "    <tr>\n",
       "      <th>21</th>\n",
       "      <td>elf_ethnicc1</td>\n",
       "      <td>0.008936</td>\n",
       "    </tr>\n",
       "    <tr>\n",
       "      <th>0</th>\n",
       "      <td>reg_afr</td>\n",
       "      <td>0.008253</td>\n",
       "    </tr>\n",
       "    <tr>\n",
       "      <th>23</th>\n",
       "      <td>elf_ethnicc9</td>\n",
       "      <td>0.008145</td>\n",
       "    </tr>\n",
       "    <tr>\n",
       "      <th>2</th>\n",
       "      <td>reg_eur</td>\n",
       "      <td>0.007975</td>\n",
       "    </tr>\n",
       "    <tr>\n",
       "      <th>17</th>\n",
       "      <td>pol_cat_fl3</td>\n",
       "      <td>0.006043</td>\n",
       "    </tr>\n",
       "    <tr>\n",
       "      <th>5</th>\n",
       "      <td>reg_amr</td>\n",
       "      <td>0.005848</td>\n",
       "    </tr>\n",
       "    <tr>\n",
       "      <th>4</th>\n",
       "      <td>reg_sca</td>\n",
       "      <td>0.005746</td>\n",
       "    </tr>\n",
       "  </tbody>\n",
       "</table>\n",
       "</div>"
      ],
      "text/plain": [
       "                feature  importance\n",
       "8         countryage_ln    0.123592\n",
       "10        imr_normed_ln    0.075992\n",
       "28  pit_sftpuhvl2_10_ln    0.075552\n",
       "19       pol_durable_ln    0.073094\n",
       "11         gdppcgrow_sr    0.072293\n",
       "9        wdi_popsize_ln    0.071884\n",
       "29         mev_regac_ln    0.064860\n",
       "30        mev_civtot_ln    0.062852\n",
       "12         wdi_trade_ln    0.059768\n",
       "6           mkl_ongoing    0.057669\n",
       "20         dis_l4pop_ln    0.045238\n",
       "7              mkl_ever    0.020157\n",
       "27          cou_tries5d    0.018640\n",
       "26            elc_eliti    0.015827\n",
       "25           elc_eleth2    0.012777\n",
       "15          pol_cat_fl1    0.012748\n",
       "1               reg_eap    0.011828\n",
       "24           elc_eleth1    0.011381\n",
       "22         elf_ethnicc2    0.011228\n",
       "14               postcw    0.011091\n",
       "3               reg_mna    0.010853\n",
       "18          pol_cat_fl7    0.010181\n",
       "13           ios_iccpr1    0.009978\n",
       "16          pol_cat_fl2    0.009569\n",
       "21         elf_ethnicc1    0.008936\n",
       "0               reg_afr    0.008253\n",
       "23         elf_ethnicc9    0.008145\n",
       "2               reg_eur    0.007975\n",
       "17          pol_cat_fl3    0.006043\n",
       "5               reg_amr    0.005848\n",
       "4               reg_sca    0.005746"
      ]
     },
     "execution_count": 359,
     "metadata": {},
     "output_type": "execute_result"
    }
   ],
   "source": [
    "# compute feature importances\n",
    "pd.DataFrame({'feature':feature_cols, 'importance':rfclass.feature_importances_}).sort_values('importance', ascending=False)"
   ]
  },
  {
   "cell_type": "code",
   "execution_count": 360,
   "metadata": {
    "collapsed": false
   },
   "outputs": [
    {
     "data": {
      "text/plain": [
       "0.988090034965035"
      ]
     },
     "execution_count": 360,
     "metadata": {},
     "output_type": "execute_result"
    }
   ],
   "source": [
    "# compute the out-of-bag R-squared score\n",
    "rfclass.oob_score_"
   ]
  },
  {
   "cell_type": "markdown",
   "metadata": {},
   "source": [
    "### Reducing X to its most important features"
   ]
  },
  {
   "cell_type": "code",
   "execution_count": 361,
   "metadata": {
    "collapsed": false
   },
   "outputs": [
    {
     "data": {
      "text/plain": [
       "(9152, 31)"
      ]
     },
     "execution_count": 361,
     "metadata": {},
     "output_type": "execute_result"
    }
   ],
   "source": [
    "# check the shape of X\n",
    "X.shape"
   ]
  },
  {
   "cell_type": "code",
   "execution_count": 362,
   "metadata": {
    "collapsed": false
   },
   "outputs": [
    {
     "name": "stdout",
     "output_type": "stream",
     "text": [
      "(9152L, 1L)\n",
      "(9152L, 11L)\n",
      "(9152L, 16L)\n"
     ]
    }
   ],
   "source": [
    "from sklearn.feature_selection import SelectFromModel\n",
    "sfm = SelectFromModel(rfclass,threshold=0.1, prefit=True)\n",
    "print(sfm.transform(X).shape[0],sfm.transform(X).shape[1])\n",
    "\n",
    "sfm = SelectFromModel(rfclass, threshold='mean', prefit=True)\n",
    "print(sfm.transform(X).shape[0],sfm.transform(X).shape[1])\n",
    "\n",
    "sfm = SelectFromModel(rfclass, threshold='median', prefit=True)\n",
    "print(sfm.transform(X).shape[0],sfm.transform(X).shape[1])"
   ]
  },
  {
   "cell_type": "code",
   "execution_count": 364,
   "metadata": {
    "collapsed": false
   },
   "outputs": [
    {
     "name": "stdout",
     "output_type": "stream",
     "text": [
      "(9152L, 11L)\n"
     ]
    }
   ],
   "source": [
    "# create a new feature matrix that only includes important features\n",
    "#X_important = rfclass.transform(X, threshold='mean')\n",
    "#X_important.shape\n",
    "sfm = SelectFromModel(rfclass, threshold='mean', prefit=True)\n",
    "X_important = sfm.transform(X)\n",
    "print(X_important.shape[0],X_important.shape[1])"
   ]
  },
  {
   "cell_type": "code",
   "execution_count": 367,
   "metadata": {
    "collapsed": false
   },
   "outputs": [
    {
     "data": {
      "text/plain": [
       "0.10919514423797094"
      ]
     },
     "execution_count": 367,
     "metadata": {},
     "output_type": "execute_result"
    }
   ],
   "source": [
    "# check the RMSE for a Random Forest that only includes important features\n",
    "rfclass = RandomForestRegressor(n_estimators=80, max_features=11, random_state=1)\n",
    "scores = cross_val_score(rfclass, X_important, y, cv=10, scoring='neg_mean_squared_error')\n",
    "np.mean(np.sqrt(-scores))"
   ]
  },
  {
   "cell_type": "code",
   "execution_count": 369,
   "metadata": {
    "collapsed": false
   },
   "outputs": [
    {
     "data": {
      "text/html": [
       "<div>\n",
       "<table border=\"1\" class=\"dataframe\">\n",
       "  <thead>\n",
       "    <tr style=\"text-align: right;\">\n",
       "      <th></th>\n",
       "      <th>Predicted_mkl_start</th>\n",
       "    </tr>\n",
       "  </thead>\n",
       "  <tbody>\n",
       "    <tr>\n",
       "      <th>0</th>\n",
       "      <td>0.0</td>\n",
       "    </tr>\n",
       "    <tr>\n",
       "      <th>1</th>\n",
       "      <td>0.0</td>\n",
       "    </tr>\n",
       "    <tr>\n",
       "      <th>2</th>\n",
       "      <td>0.0</td>\n",
       "    </tr>\n",
       "    <tr>\n",
       "      <th>3</th>\n",
       "      <td>0.0</td>\n",
       "    </tr>\n",
       "    <tr>\n",
       "      <th>4</th>\n",
       "      <td>0.0</td>\n",
       "    </tr>\n",
       "  </tbody>\n",
       "</table>\n",
       "</div>"
      ],
      "text/plain": [
       "   Predicted_mkl_start\n",
       "0                  0.0\n",
       "1                  0.0\n",
       "2                  0.0\n",
       "3                  0.0\n",
       "4                  0.0"
      ]
     },
     "execution_count": 369,
     "metadata": {},
     "output_type": "execute_result"
    }
   ],
   "source": [
    "# 10-fold cross-validation used to check model accuracy and keeps predicted results\n",
    "predicted = cross_validation.cross_val_predict(rfclass, X, y, cv=10)\n",
    "\n",
    "pred = pd.DataFrame(predicted, columns=['Predicted_mkl_start'])\n",
    "pred.head()"
   ]
  },
  {
   "cell_type": "code",
   "execution_count": 370,
   "metadata": {
    "collapsed": false
   },
   "outputs": [
    {
     "data": {
      "text/plain": [
       "Predicted_mkl_start    0\n",
       "dtype: int64"
      ]
     },
     "execution_count": 370,
     "metadata": {},
     "output_type": "execute_result"
    }
   ],
   "source": [
    "# The original dataset has 116 mkl_start. Prediction from model: 0\n",
    "# Note: When using y = mkl_start_next_year, predictions from model = 0. Not sure why.\n",
    "pred[pred.Predicted_mkl_start == 1].count()"
   ]
  },
  {
   "cell_type": "code",
   "execution_count": 392,
   "metadata": {
    "collapsed": false
   },
   "outputs": [
    {
     "name": "stdout",
     "output_type": "stream",
     "text": [
      "From the results above, LogisticRegression performed significantly better than RandomForestsClassifier in that logreg was able to predict 2 true positives (sensitivity of 1.77%) and rfclass predicted 0 TP.\n"
     ]
    }
   ],
   "source": [
    "print \"From the results above, LogisticRegression performed significantly better \\\n",
    "than RandomForestsClassifier in that logreg was able to predict 2 true positives \\\n",
    "(sensitivity of %s%%) and rfclass predicted 0 TP.\" % round(logreg_sens*100,2)"
   ]
  },
  {
   "cell_type": "code",
   "execution_count": 390,
   "metadata": {
    "collapsed": false
   },
   "outputs": [
    {
     "name": "stdout",
     "output_type": "stream",
     "text": [
      "The logreg prediction is 0.53% higher than the null accuracy of 1.24%\n"
     ]
    }
   ],
   "source": [
    "print \"The logreg prediction is %s%% higher than the null accuracy of %s%%\" \\\n",
    "% (round((logreg_sens-null_accuracy)*100,2),round(null_accuracy*100,2))"
   ]
  },
  {
   "cell_type": "markdown",
   "metadata": {},
   "source": [
    "8. Challenges and successes\n",
    "=============================\n",
    "\n",
    "Making predictions for a response that is very uncommon (116/9330 observations are positive) makes it difficult to test this model.\n",
    "\n",
    "Nulls may require categorical modelling (KNN, DBSCAN clustering, ideally, model values for each country.) If possible, use info about which countries became other countries (or use correlations between yrborn and yrdied to assume association when possible). Also, model year over year change per feature for making estimates for features (instead of imputing values using mean)?\n",
    "\n",
    "In addition to the models implemented here, I also attempted PCA to minimize features but hit a road block in computing a confusion matrix (and also did not trust the results)."
   ]
  },
  {
   "cell_type": "markdown",
   "metadata": {},
   "source": [
    "9. Possible extensions or business applications of your project\n",
    "============================================================\n",
    "\n",
    "Help further refine Early Warning Project models to influence results."
   ]
  },
  {
   "cell_type": "markdown",
   "metadata": {},
   "source": [
    "10. Conclusions and key learnings\n",
    "=============================\n",
    "\n",
    "Certain features had high corr with new mkl:\n",
    "\n",
    "-   Blah\n",
    "\n",
    "-   Blah\n",
    "\n",
    "Certain additional features were added to model to increase accuracy:\n",
    "\n",
    "-   Blahg\n",
    "\n",
    "Certain features were unimportant and therefore removed:\n",
    "\n",
    "-   That one"
   ]
  },
  {
   "cell_type": "markdown",
   "metadata": {},
   "source": [
    "References\n",
    "==========\n",
    "\n",
    "<sup>1</sup>\n",
    "<http://survivors-fund.org.uk/resources/rwandan-history/statistics/>  \n",
    "<sup>2</sup>Preventing Genocide, A Blueprint for U.S. Policymakers,\n",
    "Madeleine K. Albright, William S. Cohen  \n",
    "<https://www.usip.org/genocide-prevention-task-force/view-report>"
   ]
  }
 ],
 "metadata": {
  "anaconda-cloud": {},
  "kernelspec": {
   "display_name": "Python [conda root]",
   "language": "python",
   "name": "conda-root-py"
  },
  "language_info": {
   "codemirror_mode": {
    "name": "ipython",
    "version": 2
   },
   "file_extension": ".py",
   "mimetype": "text/x-python",
   "name": "python",
   "nbconvert_exporter": "python",
   "pygments_lexer": "ipython2",
   "version": "2.7.12"
  }
 },
 "nbformat": 4,
 "nbformat_minor": 1
}
