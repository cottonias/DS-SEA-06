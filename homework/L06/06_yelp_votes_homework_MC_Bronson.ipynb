{
 "cells": [
  {
   "cell_type": "markdown",
   "metadata": {},
   "source": [
    "# Linear regression homework with Yelp votes"
   ]
  },
  {
   "cell_type": "markdown",
   "metadata": {},
   "source": [
    "## Introduction\n",
    "\n",
    "This assignment uses a small subset of the data from Kaggle's [Yelp Business Rating Prediction](https://www.kaggle.com/c/yelp-recsys-2013) competition.\n",
    "\n",
    "**Description of the data:**\n",
    "\n",
    "- `yelp.json` is the original format of the file. `yelp.csv` contains the same data, in a more convenient format. Both of the files are in this repo, so there is no need to download the data from the Kaggle website.\n",
    "- Each observation in this dataset is a review of a particular business by a particular user.\n",
    "- The \"stars\" column is the number of stars (1 through 5) assigned by the reviewer to the business. (Higher stars is better.) In other words, it is the rating of the business by the person who wrote the review.\n",
    "- The \"cool\" column is the number of \"cool\" votes this review received from other Yelp users. All reviews start with 0 \"cool\" votes, and there is no limit to how many \"cool\" votes a review can receive. In other words, it is a rating of the review itself, not a rating of the business.\n",
    "- The \"useful\" and \"funny\" columns are similar to the \"cool\" column."
   ]
  },
  {
   "cell_type": "markdown",
   "metadata": {},
   "source": [
    "## Task 1\n",
    "\n",
    "Read `yelp.csv` into a DataFrame."
   ]
  },
  {
   "cell_type": "code",
   "execution_count": 16,
   "metadata": {
    "collapsed": false
   },
   "outputs": [
    {
     "name": "stdout",
     "output_type": "stream",
     "text": [
      "              business_id        date               review_id  stars  \\\n",
      "0  9yKzy9PApeiPPOUJEtnvkg  2011-01-26  fWKvX83p0-ka4JS3dc6E5A      5   \n",
      "\n",
      "                                                text    type  \\\n",
      "0  My wife took me here on my birthday for breakf...  review   \n",
      "\n",
      "                  user_id  cool  useful  funny  \n",
      "0  rLtl8ZkDX5vH5nAx9C3q5Q     2       5      0  \n",
      "(10000, 10)\n"
     ]
    },
    {
     "data": {
      "text/html": [
       "<div>\n",
       "<table border=\"1\" class=\"dataframe\">\n",
       "  <thead>\n",
       "    <tr style=\"text-align: right;\">\n",
       "      <th></th>\n",
       "      <th>business_id</th>\n",
       "      <th>date</th>\n",
       "      <th>review_id</th>\n",
       "      <th>stars</th>\n",
       "      <th>text</th>\n",
       "      <th>type</th>\n",
       "      <th>user_id</th>\n",
       "      <th>cool</th>\n",
       "      <th>useful</th>\n",
       "      <th>funny</th>\n",
       "    </tr>\n",
       "  </thead>\n",
       "  <tbody>\n",
       "    <tr>\n",
       "      <th>0</th>\n",
       "      <td>9yKzy9PApeiPPOUJEtnvkg</td>\n",
       "      <td>2011-01-26</td>\n",
       "      <td>fWKvX83p0-ka4JS3dc6E5A</td>\n",
       "      <td>5</td>\n",
       "      <td>My wife took me here on my birthday for breakf...</td>\n",
       "      <td>review</td>\n",
       "      <td>rLtl8ZkDX5vH5nAx9C3q5Q</td>\n",
       "      <td>2</td>\n",
       "      <td>5</td>\n",
       "      <td>0</td>\n",
       "    </tr>\n",
       "    <tr>\n",
       "      <th>1</th>\n",
       "      <td>ZRJwVLyzEJq1VAihDhYiow</td>\n",
       "      <td>2011-07-27</td>\n",
       "      <td>IjZ33sJrzXqU-0X6U8NwyA</td>\n",
       "      <td>5</td>\n",
       "      <td>I have no idea why some people give bad review...</td>\n",
       "      <td>review</td>\n",
       "      <td>0a2KyEL0d3Yb1V6aivbIuQ</td>\n",
       "      <td>0</td>\n",
       "      <td>0</td>\n",
       "      <td>0</td>\n",
       "    </tr>\n",
       "  </tbody>\n",
       "</table>\n",
       "</div>"
      ],
      "text/plain": [
       "              business_id        date               review_id  stars  \\\n",
       "0  9yKzy9PApeiPPOUJEtnvkg  2011-01-26  fWKvX83p0-ka4JS3dc6E5A      5   \n",
       "1  ZRJwVLyzEJq1VAihDhYiow  2011-07-27  IjZ33sJrzXqU-0X6U8NwyA      5   \n",
       "\n",
       "                                                text    type  \\\n",
       "0  My wife took me here on my birthday for breakf...  review   \n",
       "1  I have no idea why some people give bad review...  review   \n",
       "\n",
       "                  user_id  cool  useful  funny  \n",
       "0  rLtl8ZkDX5vH5nAx9C3q5Q     2       5      0  \n",
       "1  0a2KyEL0d3Yb1V6aivbIuQ     0       0      0  "
      ]
     },
     "execution_count": 16,
     "metadata": {},
     "output_type": "execute_result"
    }
   ],
   "source": [
    "# access yelp.csv using a relative path\n",
    "import pandas as pd\n",
    "yelp = pd.read_csv('../data/yelp.csv')\n",
    "print yelp.head(1)\n",
    "print yelp.shape\n",
    "\n",
    "#Bronson - its easier to read if you remove the print when looking at a df:\n",
    "yelp.head(2)"
   ]
  },
  {
   "cell_type": "markdown",
   "metadata": {},
   "source": [
    "## Task 1 (Bonus)\n",
    "\n",
    "Ignore the `yelp.csv` file, and construct this DataFrame yourself from `yelp.json`. This involves reading the data into Python, decoding the JSON, converting it to a DataFrame, and adding individual columns for each of the vote types."
   ]
  },
  {
   "cell_type": "code",
   "execution_count": 17,
   "metadata": {
    "collapsed": true
   },
   "outputs": [],
   "source": [
    "# read the data from yelp.json into a list of rows\n",
    "# each row is decoded into a dictionary named \"data\" using using json.loads()\n",
    "import json\n",
    "with open('../data/yelp.json', 'rU') as f:\n",
    "    data = [json.loads(row) for row in f]"
   ]
  },
  {
   "cell_type": "code",
   "execution_count": 18,
   "metadata": {
    "collapsed": false
   },
   "outputs": [
    {
     "name": "stdout",
     "output_type": "stream",
     "text": [
      "{u'votes': {u'funny': 0, u'useful': 5, u'cool': 2}, u'user_id': u'rLtl8ZkDX5vH5nAx9C3q5Q', u'review_id': u'fWKvX83p0-ka4JS3dc6E5A', u'text': u'My wife took me here on my birthday for breakfast and it was excellent.  The weather was perfect which made sitting outside overlooking their grounds an absolute pleasure.  Our waitress was excellent and our food arrived quickly on the semi-busy Saturday morning.  It looked like the place fills up pretty quickly so the earlier you get here the better.\\n\\nDo yourself a favor and get their Bloody Mary.  It was phenomenal and simply the best I\\'ve ever had.  I\\'m pretty sure they only use ingredients from their garden and blend them fresh when you order it.  It was amazing.\\n\\nWhile EVERYTHING on the menu looks excellent, I had the white truffle scrambled eggs vegetable skillet and it was tasty and delicious.  It came with 2 pieces of their griddled bread with was amazing and it absolutely made the meal complete.  It was the best \"toast\" I\\'ve ever had.\\n\\nAnyway, I can\\'t wait to go back!', u'business_id': u'9yKzy9PApeiPPOUJEtnvkg', u'stars': 5, u'date': u'2011-01-26', u'type': u'review'}\n"
     ]
    }
   ],
   "source": [
    "# show the first review\n",
    "#Bronson\n",
    "print data[0]"
   ]
  },
  {
   "cell_type": "code",
   "execution_count": 19,
   "metadata": {
    "collapsed": false
   },
   "outputs": [
    {
     "data": {
      "text/html": [
       "<div>\n",
       "<table border=\"1\" class=\"dataframe\">\n",
       "  <thead>\n",
       "    <tr style=\"text-align: right;\">\n",
       "      <th></th>\n",
       "      <th>business_id</th>\n",
       "      <th>date</th>\n",
       "      <th>review_id</th>\n",
       "      <th>stars</th>\n",
       "      <th>text</th>\n",
       "      <th>type</th>\n",
       "      <th>user_id</th>\n",
       "      <th>votes</th>\n",
       "    </tr>\n",
       "  </thead>\n",
       "  <tbody>\n",
       "    <tr>\n",
       "      <th>0</th>\n",
       "      <td>9yKzy9PApeiPPOUJEtnvkg</td>\n",
       "      <td>2011-01-26</td>\n",
       "      <td>fWKvX83p0-ka4JS3dc6E5A</td>\n",
       "      <td>5</td>\n",
       "      <td>My wife took me here on my birthday for breakf...</td>\n",
       "      <td>review</td>\n",
       "      <td>rLtl8ZkDX5vH5nAx9C3q5Q</td>\n",
       "      <td>{u'funny': 0, u'useful': 5, u'cool': 2}</td>\n",
       "    </tr>\n",
       "    <tr>\n",
       "      <th>1</th>\n",
       "      <td>ZRJwVLyzEJq1VAihDhYiow</td>\n",
       "      <td>2011-07-27</td>\n",
       "      <td>IjZ33sJrzXqU-0X6U8NwyA</td>\n",
       "      <td>5</td>\n",
       "      <td>I have no idea why some people give bad review...</td>\n",
       "      <td>review</td>\n",
       "      <td>0a2KyEL0d3Yb1V6aivbIuQ</td>\n",
       "      <td>{u'funny': 0, u'useful': 0, u'cool': 0}</td>\n",
       "    </tr>\n",
       "  </tbody>\n",
       "</table>\n",
       "</div>"
      ],
      "text/plain": [
       "              business_id        date               review_id  stars  \\\n",
       "0  9yKzy9PApeiPPOUJEtnvkg  2011-01-26  fWKvX83p0-ka4JS3dc6E5A      5   \n",
       "1  ZRJwVLyzEJq1VAihDhYiow  2011-07-27  IjZ33sJrzXqU-0X6U8NwyA      5   \n",
       "\n",
       "                                                text    type  \\\n",
       "0  My wife took me here on my birthday for breakf...  review   \n",
       "1  I have no idea why some people give bad review...  review   \n",
       "\n",
       "                  user_id                                    votes  \n",
       "0  rLtl8ZkDX5vH5nAx9C3q5Q  {u'funny': 0, u'useful': 5, u'cool': 2}  \n",
       "1  0a2KyEL0d3Yb1V6aivbIuQ  {u'funny': 0, u'useful': 0, u'cool': 0}  "
      ]
     },
     "execution_count": 19,
     "metadata": {},
     "output_type": "execute_result"
    }
   ],
   "source": [
    "# convert the list of dictionaries to a DataFrame\n",
    "#Bronson\n",
    "import numpy as np\n",
    "import pandas as pd\n",
    "\n",
    "url= '../data/yelp.json'\n",
    "\n",
    "with open(url, 'rb') as f:\n",
    "    dataY = [json.loads(row) for row in f]\n",
    "\n",
    "data_df = pd.DataFrame(dataY)\n",
    "\n",
    "data_df.head(2)"
   ]
  },
  {
   "cell_type": "code",
   "execution_count": 20,
   "metadata": {
    "collapsed": false
   },
   "outputs": [
    {
     "name": "stdout",
     "output_type": "stream",
     "text": [
      "                 business_id        date               review_id  stars  \\\n",
      "0     9yKzy9PApeiPPOUJEtnvkg  2011-01-26  fWKvX83p0-ka4JS3dc6E5A      5   \n",
      "1     ZRJwVLyzEJq1VAihDhYiow  2011-07-27  IjZ33sJrzXqU-0X6U8NwyA      5   \n",
      "2     6oRAC4uyJCsJl1X0WZpVSA  2012-06-14  IESLBzqUCLdSzSqm0eCSxQ      4   \n",
      "3     _1QQZuf4zZOyFCvXc0o6Vg  2010-05-27  G-WvGaISbqqaMHlNnByodA      5   \n",
      "4     6ozycU1RpktNG2-1BroVtw  2012-01-05  1uJFq2r5QfJG_6ExMRCaGw      5   \n",
      "5     -yxfBYGB6SEqszmxJxd97A  2007-12-13  m2CKSsepBCoRYWxiRUsxAg      4   \n",
      "6     zp713qNhx8d9KCJJnrw1xA  2010-02-12  riFQ3vxNpP4rWLk_CSri2A      5   \n",
      "7     hW0Ne_HTHEAgGF1rAdmR-g  2012-07-12  JL7GXJ9u4YMx7Rzs05NfiQ      4   \n",
      "8     wNUea3IXZWD63bbOQaOH-g  2012-08-17  XtnfnYmnJYi71yIuGsXIUA      4   \n",
      "9     nMHhuYan8e3cONo3PornJA  2010-08-11  jJAIXA46pU1swYyRCdfXtQ      5   \n",
      "10    AsSCv0q_BWqIe3mX2JqsOQ  2010-06-16  E11jzpKz9Kw5K7fuARWfRw      5   \n",
      "11    e9nN4XxjdHj4qtKCOPq_vg  2011-10-21  3rPt0LxF7rgmEUrznoH22w      5   \n",
      "12    h53YuCiIDfEFSJCQpk8v1g  2010-01-11  cGnKNX3I9rthE0-TH24-qA      5   \n",
      "13    WGNIYMeXPyoWav1APUq7jA  2011-12-23  FvEEw1_OsrYdvwLV5Hrliw      4   \n",
      "14    yc5AH9H71xJidA_J2mChLA  2010-05-20  pfUwBKYYmUXeiwrhDluQcw      4   \n",
      "15    Vb9FPCEL6Ly24PNxLBaAFw  2011-03-20  HvqmdqWcerVWO3Gs6zbrOw      2   \n",
      "16    supigcPNO9IKo6olaTNV-g  2008-10-12  HXP_0Ul-FCmA4f-k9CqvaQ      3   \n",
      "17    O510Re68mOy9dU490JTKCg  2010-05-03  j4SIzrIy0WrmW4yr4--Khg      5   \n",
      "18    b5cEoKR8iQliq-yT2_O0LQ  2009-03-06  v0cTd3PNpYCkTyGKSpOfGA      3   \n",
      "19    4JzzbSbK9wmlOBJZWYfuCg  2011-11-17  a0lCu-j2Sk_kHQsZi_eNgw      4   \n",
      "20    8FNO4D3eozpIjj0k3q5Zbg  2008-10-08  MuqugTuR5DdIPcZ2IVP3aQ      3   \n",
      "21    tdcjXyFLMKAsvRhURNOkCg  2011-06-28  LmuKVFh03Uz318VKnUWrxA      5   \n",
      "22    eFA9dqXT5EA_TrMgbo03QQ  2011-07-13  CQYc8hgKxV4enApDkx0IhA      5   \n",
      "23    IJ0o6b8bJFAbG6MjGfBebQ  2010-09-05  Dx9sfFU6Zn0GYOckijom-g      1   \n",
      "24    JhupPnWfNlMJivnWB5druA  2011-05-22  cFtQnKzn2VDpBedy_TxlvA      5   \n",
      "25    wzP2yNpV5p04nh0injjymA  2010-05-26  ChBeixVZerfFkeO0McdlbA      4   \n",
      "26    qjmCVYkwP-HDa35jwYucbQ  2013-01-03  kZ4TzrVX6qeF0OvrVTGVEw      5   \n",
      "27    wct7rZKyZqZftzmAU-vhWQ  2008-03-21  B5h25WK28rJjx4KHm4gr7g      4   \n",
      "28    vz2zQQSjy-NnnKLZzjjoxA  2011-03-30  Y_ERKao0J5WsRiCtlKSNSA      4   \n",
      "29    i213sY5rhkfCO8cD-FPr1A  2012-07-12  hre97jjSwon4bn1muHKOJg      4   \n",
      "...                      ...         ...                     ...    ...   \n",
      "9970  R6aazv8FB-6BeanY3ag8kw  2009-09-26  gP17ykqduf3AlewSaRb61w      5   \n",
      "9971  JOZqBKIOB8WEBAWm7v1JFA  2008-07-22  QI9rfeWrZnvK5ojz8cEoRg      5   \n",
      "9972  OllL0G9Kh_k1lx-2vrFDXQ  2012-10-23  U23UfuxN9DpAU0Dslc5KjQ      4   \n",
      "9973  XHr5mXFgobOHoxbPJxmYdg  2009-09-28  udMiWjeG0OGcb4nNddDkBg      5   \n",
      "9974  cdacUBBL2tDbDnB1EfhpQw  2009-12-16  bVU-_x9ijxjEImNluy84OA      2   \n",
      "9975  EWMwV5V9BxNs_U6nNVMeqw  2007-10-20  g4LsVAoafmUDHiS-_yN4tA      5   \n",
      "9976  iDYzGVIF1TDWdjHNgNjCVw  2009-09-11  bKjMcpNj0xSu2UI2EFQn1g      3   \n",
      "9977  iDYzGVIF1TDWdjHNgNjCVw  2012-10-30  qaNZyCUJA6Yp0mvPBCknPQ      5   \n",
      "9978  9Y3aQAVITkEJYe5vLZr13w  2010-04-01  ZoTUU6EJ1OBNr7mhqxHBLw      5   \n",
      "9979  GV1P1x9eRb4iZHCxj5_IjA  2012-12-07  eVUs1C4yaVJNrc7SGTAheg      5   \n",
      "9980  GHYOl_cnERMOhkCK_mGAlA  2011-07-03  Q-y3jSqccdytKxAyo1J0Xg      5   \n",
      "9981  AX8lx9wHNYT45lyd7pxaYw  2008-11-27  IyunTh7jnG7v3EYwfF3hPw      5   \n",
      "9982  KV-yJLmlODfUG1Mkds6kYw  2012-02-25  rIgZgxJPWTacq3mV6DfWfg      4   \n",
      "9983  24V8QQWO6VaVggHdxjQQ_A  2010-06-06  PqiIeFOiVr-tj_FtHGAH2g      3   \n",
      "9984  wepFVY82q_tuDzG6lQjHWw  2012-02-12  spusZYROtBKw_5tv3gYm4Q      1   \n",
      "9985  EMGkbiCMfMTflQux-_JY7Q  2012-10-17  wB-f0xfx7WIyrOsRJMkDOg      4   \n",
      "9986  oCA2OZcd_Jo_ggVmUx3WVw  2012-03-31  ijPZPKKWDqdWOIqYkUsJJw      4   \n",
      "9987  r-a-Cn9hxdEnYTtVTB5bMQ  2012-04-07  j9HwZZoBBmJgOlqDSuJcxg      1   \n",
      "9988  xY1sPHTA2RGVFlh5tZhs9g  2012-06-02  TM8hdYqs5Zi1jO5Yrq6E0g      4   \n",
      "9989  mQUC-ATrFuMQSaDQb93Pug  2011-10-01  ta2P9joJqeFB8BzFp-AzjA      5   \n",
      "9990  R8VwdLyvsp9iybNqRvm94g  2011-10-03  pcEeHdAJPoFNF23es0kKWg      5   \n",
      "9991  WJ5mq4EiWYAA4Vif0xDfdg  2011-12-05  EuHX-39FR7tyyG1ElvN1Jw      5   \n",
      "9992  f96lWMIAUhYIYy9gOktivQ  2009-03-10  YF17z7HWlMj6aezZc-pVEw      5   \n",
      "9993  maB4VHseFUY2TmPtAQnB9Q  2011-06-27  SNnyYHI9rw9TTltVX3TF-A      4   \n",
      "9994  L3BSpFvxcNf3T_teitgt6A  2012-03-19  0nxb1gIGFgk3WbC5zwhKZg      5   \n",
      "9995  VY_tvNUCCXGXQeSvJl757Q  2012-07-28  Ubyfp2RSDYW0g7Mbr8N3iA      3   \n",
      "9996  EKzMHI1tip8rC1-ZAy64yg  2012-01-18  2XyIOQKbVFb6uXQdJ0RzlQ      4   \n",
      "9997  53YGfwmbW73JhFiemNeyzQ  2010-11-16  jyznYkIbpqVmlsZxSDSypA      4   \n",
      "9998  9SKdOoDHcFoxK5ZtsgHJoA  2012-12-02  5UKq9WQE1qQbJ0DJbc-B6Q      2   \n",
      "9999  pF7uRzygyZsltbmVpjIyvw  2010-10-16  vWSmOhg2ID1MNZHaWapGbA      5   \n",
      "\n",
      "                                                   text    type  \\\n",
      "0     My wife took me here on my birthday for breakf...  review   \n",
      "1     I have no idea why some people give bad review...  review   \n",
      "2     love the gyro plate. Rice is so good and I als...  review   \n",
      "3     Rosie, Dakota, and I LOVE Chaparral Dog Park!!...  review   \n",
      "4     General Manager Scott Petello is a good egg!!!...  review   \n",
      "5     Quiessence is, simply put, beautiful.  Full wi...  review   \n",
      "6     Drop what you're doing and drive here. After I...  review   \n",
      "7     Luckily, I didn't have to travel far to make m...  review   \n",
      "8     Definitely come for Happy hour! Prices are ama...  review   \n",
      "9     Nobuo shows his unique talents with everything...  review   \n",
      "10    The oldish man who owns the store is as sweet ...  review   \n",
      "11    Wonderful Vietnamese sandwich shoppe. Their ba...  review   \n",
      "12    They have a limited time thing going on right ...  review   \n",
      "13    Good tattoo shop. Clean space, multiple artist...  review   \n",
      "14    I'm 2 weeks new to Phoenix. I looked up Irish ...  review   \n",
      "15    Was it worth the 21$ for a salad and small piz...  review   \n",
      "16    We went here on a Saturday afternoon and this ...  review   \n",
      "17    okay this is the best place EVER! i grew up sh...  review   \n",
      "18    I met a friend for lunch yesterday. \\n\\nLoved ...  review   \n",
      "19    They've gotten better and better for me in the...  review   \n",
      "20    DVAP....\\n\\nYou have to go at least once in yo...  review   \n",
      "21    This place shouldn't even be reviewed - becaus...  review   \n",
      "22    first time my friend and I went there... it wa...  review   \n",
      "23    U can go there n check the car out. If u wanna...  review   \n",
      "24    I love this place! I have been coming here for...  review   \n",
      "25    This place is great.  A nice little ole' fashi...  review   \n",
      "26    I love love LOVE this place. My boss (who is i...  review   \n",
      "27    Not that my review will mean much given the mo...  review   \n",
      "28    Came here for breakfast yesterday, it had been...  review   \n",
      "29    Always reliably good.  Great beer selection as...  review   \n",
      "...                                                 ...     ...   \n",
      "9970  This place is super cute lunch joint.  I had t...  review   \n",
      "9971  The staff is great, the food is great, even th...  review   \n",
      "9972  Yay, even though I miss living in Coronado I a...  review   \n",
      "9973  Wow!  Went on a Sunday around 11am - busy but ...  review   \n",
      "9974  If Cowboy Ciao is the best restaurant in Scott...  review   \n",
      "9975  When I lived in Phoenix, I was a regular at Fe...  review   \n",
      "9976  I was looking for chile rellenos and this plac...  review   \n",
      "9977  Why did I wait so long to try this neighborhoo...  review   \n",
      "9978  This is the place for a fabulos breakfast!! I ...  review   \n",
      "9979  Highly recommend. This is my second time here ...  review   \n",
      "9980  5 stars for the great $5 happy hour specials. ...  review   \n",
      "9981  We brought the entire family to Giuseppe's las...  review   \n",
      "9982  Best corned beef sandwich I've had anywhere at...  review   \n",
      "9983  3.5 stars. \\n\\nWe decided to check this place ...  review   \n",
      "9984  Went last night to Whore Foods to get basics t...  review   \n",
      "9985  Awesome food! Little pricey but delicious. Lov...  review   \n",
      "9986  I came here in December and look forward to my...  review   \n",
      "9987  The food is delicious.  The service:  discrimi...  review   \n",
      "9988  For our first time we had a great time! Our se...  review   \n",
      "9989  Great food and service! Country food at its best!  review   \n",
      "9990  Yes I do rock the hipster joints.  I dig this ...  review   \n",
      "9991  Only 4 stars? \\n\\n(A few notes: The folks that...  review   \n",
      "9992  I'm not normally one to jump at reviewing a ch...  review   \n",
      "9993  Judging by some of the reviews, maybe I went o...  review   \n",
      "9994  Let's see...what is there NOT to like about Su...  review   \n",
      "9995  First visit...Had lunch here today - used my G...  review   \n",
      "9996  Should be called house of deliciousness!\\n\\nI ...  review   \n",
      "9997  I recently visited Olive and Ivy for business ...  review   \n",
      "9998  My nephew just moved to Scottsdale recently so...  review   \n",
      "9999  4-5 locations.. all 4.5 star average.. I think...  review   \n",
      "\n",
      "                     user_id                                     votes  cool  \\\n",
      "0     rLtl8ZkDX5vH5nAx9C3q5Q   {u'funny': 0, u'useful': 5, u'cool': 2}     2   \n",
      "1     0a2KyEL0d3Yb1V6aivbIuQ   {u'funny': 0, u'useful': 0, u'cool': 0}     0   \n",
      "2     0hT2KtfLiobPvh6cDC8JQg   {u'funny': 0, u'useful': 1, u'cool': 0}     0   \n",
      "3     uZetl9T0NcROGOyFfughhg   {u'funny': 0, u'useful': 2, u'cool': 1}     1   \n",
      "4     vYmM4KTsC8ZfQBg-j5MWkw   {u'funny': 0, u'useful': 0, u'cool': 0}     0   \n",
      "5     sqYN3lNgvPbPCTRsMFu27g   {u'funny': 1, u'useful': 3, u'cool': 4}     4   \n",
      "6     wFweIWhv2fREZV_dYkz_1g   {u'funny': 4, u'useful': 7, u'cool': 7}     7   \n",
      "7     1ieuYcKS7zeAv_U15AB13A   {u'funny': 0, u'useful': 1, u'cool': 0}     0   \n",
      "8     Vh_DlizgGhSqQh4qfZ2h6A   {u'funny': 0, u'useful': 0, u'cool': 0}     0   \n",
      "9     sUNkXg8-KFtCMQDV6zRzQg   {u'funny': 0, u'useful': 1, u'cool': 0}     0   \n",
      "10    -OMlS6yWkYjVldNhC31wYg   {u'funny': 1, u'useful': 3, u'cool': 1}     1   \n",
      "11    C1rHp3dmepNea7XiouwB6Q   {u'funny': 0, u'useful': 1, u'cool': 1}     1   \n",
      "12    UPtysDF6cUDUxq2KY-6Dcg   {u'funny': 0, u'useful': 2, u'cool': 1}     1   \n",
      "13    Xm8HXE1JHqscXe5BKf0GFQ   {u'funny': 0, u'useful': 2, u'cool': 1}     1   \n",
      "14    JOG-4G4e8ae3lx_szHtR8g   {u'funny': 0, u'useful': 1, u'cool': 1}     1   \n",
      "15    ylWOj2y7TV2e3yYeWhu2QA   {u'funny': 0, u'useful': 2, u'cool': 0}     0   \n",
      "16    SBbftLzfYYKItOMFwOTIJg   {u'funny': 2, u'useful': 4, u'cool': 3}     3   \n",
      "17    u1KWcbPMvXFEEYkZZ0Yktg   {u'funny': 0, u'useful': 0, u'cool': 0}     0   \n",
      "18    UsULgP4bKA8RMzs8dQzcsA   {u'funny': 4, u'useful': 6, u'cool': 5}     5   \n",
      "19    nDBly08j5URmrHQ2JCbyiw   {u'funny': 1, u'useful': 1, u'cool': 1}     1   \n",
      "20    C6IOtaaYdLIT5fWd7ZYIuA   {u'funny': 1, u'useful': 4, u'cool': 2}     2   \n",
      "21    YN3ZLOdg8kpnfbVcIhuEZA   {u'funny': 2, u'useful': 1, u'cool': 1}     1   \n",
      "22    6lg55RIP23VhjYEBXJ8Njw   {u'funny': 0, u'useful': 0, u'cool': 0}     0   \n",
      "23    zRlQEDYd_HKp0VS3hnAffA   {u'funny': 1, u'useful': 1, u'cool': 0}     0   \n",
      "24    13xj6FSvYO0rZVRv5XZp4w   {u'funny': 0, u'useful': 1, u'cool': 0}     0   \n",
      "25    rLtl8ZkDX5vH5nAx9C3q5Q   {u'funny': 0, u'useful': 0, u'cool': 0}     0   \n",
      "26    fpItLlgimq0nRltWOkuJJw   {u'funny': 0, u'useful': 0, u'cool': 0}     0   \n",
      "27    RRTraCQw77EU4yZh0BBTag   {u'funny': 1, u'useful': 4, u'cool': 2}     2   \n",
      "28    EP3cGJvYiuOwumerwADplg   {u'funny': 1, u'useful': 1, u'cool': 1}     1   \n",
      "29    kpbhy1zPewGDmdNfNqQp-g   {u'funny': 0, u'useful': 1, u'cool': 0}     0   \n",
      "...                      ...                                       ...   ...   \n",
      "9970  mtoKqaQjGPWEc5YZbrYV9w   {u'funny': 0, u'useful': 0, u'cool': 0}     0   \n",
      "9971  uBAMd01ZtGXaHrRD6THNzg   {u'funny': 1, u'useful': 2, u'cool': 1}     1   \n",
      "9972  Gh1EXuS42DY3rV_MzFpJpg   {u'funny': 0, u'useful': 0, u'cool': 0}     0   \n",
      "9973  yRYNx24kUDRRBfJu1Rcojg   {u'funny': 0, u'useful': 0, u'cool': 0}     0   \n",
      "9974  V9Uqt00HXwXT6mzsVCjMAw   {u'funny': 0, u'useful': 0, u'cool': 0}     0   \n",
      "9975  TLj3XaclA7V4ldJ5yNP-9Q   {u'funny': 0, u'useful': 1, u'cool': 1}     1   \n",
      "9976  2tUCLMHQKz4kA1VlRB_w0Q   {u'funny': 0, u'useful': 0, u'cool': 0}     0   \n",
      "9977  Id-8-NMEKxeXBR44eUdDeA   {u'funny': 3, u'useful': 6, u'cool': 3}     3   \n",
      "9978  vasHsAZEgLZGJDTlIweUYQ   {u'funny': 0, u'useful': 1, u'cool': 0}     0   \n",
      "9979  bJFdmJJxfXgCYA5DMmyeqQ   {u'funny': 1, u'useful': 2, u'cool': 2}     2   \n",
      "9980  xZvRLPJ1ixhFVomkXSfXAw   {u'funny': 4, u'useful': 6, u'cool': 6}     6   \n",
      "9981  fczQCSmaWF78toLEmb0Zsw  {u'funny': 5, u'useful': 9, u'cool': 10}    10   \n",
      "9982  J-oVr0th2Y7ltPPOwy0Z8Q   {u'funny': 0, u'useful': 0, u'cool': 0}     0   \n",
      "9983  LaEj3VpQh7bgpAZLzSRRrw   {u'funny': 1, u'useful': 4, u'cool': 1}     1   \n",
      "9984  W7zmm1uzlyUkEqpSG7PlBw   {u'funny': 2, u'useful': 1, u'cool': 0}     0   \n",
      "9985  9MJAacmjxtctbI3xncsK5Q   {u'funny': 0, u'useful': 0, u'cool': 0}     0   \n",
      "9986  yzwPJdn6yd2ccZqfy4LhUA   {u'funny': 0, u'useful': 0, u'cool': 0}     0   \n",
      "9987  toPtsUtYoRB-5-ThrOy2Fg   {u'funny': 0, u'useful': 0, u'cool': 0}     0   \n",
      "9988  GvaNZY4poCcd3H4WxHjrLQ   {u'funny': 0, u'useful': 2, u'cool': 0}     0   \n",
      "9989  fKaO8fR1IAcfvZb6cBrs2w   {u'funny': 0, u'useful': 1, u'cool': 0}     0   \n",
      "9990  b92Y3tyWTQQZ5FLifex62Q   {u'funny': 1, u'useful': 1, u'cool': 1}     1   \n",
      "9991  hTau-iNZFwoNsPCaiIUTEA   {u'funny': 0, u'useful': 1, u'cool': 1}     1   \n",
      "9992  W_QXYA7A0IhMrvbckz7eVg   {u'funny': 2, u'useful': 3, u'cool': 2}     2   \n",
      "9993  T46gxPbJMWmlLyr7GxQLyQ   {u'funny': 0, u'useful': 1, u'cool': 1}     1   \n",
      "9994  OzOZv-Knlw3oz9K5Kh5S6A   {u'funny': 1, u'useful': 2, u'cool': 1}     1   \n",
      "9995  _eqQoPtQ3e3UxLE4faT6ow   {u'funny': 0, u'useful': 2, u'cool': 1}     1   \n",
      "9996  ROru4uk5SaYc3rg8IU7SQw   {u'funny': 0, u'useful': 0, u'cool': 0}     0   \n",
      "9997  gGbN1aKQHMgfQZkqlsuwzg   {u'funny': 0, u'useful': 0, u'cool': 0}     0   \n",
      "9998  0lyVoNazXa20WzUyZPLaQQ   {u'funny': 0, u'useful': 0, u'cool': 0}     0   \n",
      "9999  KSBFytcdjPKZgXKQnYQdkA   {u'funny': 0, u'useful': 0, u'cool': 0}     0   \n",
      "\n",
      "      funny  useful  \n",
      "0         0       5  \n",
      "1         0       0  \n",
      "2         0       1  \n",
      "3         0       2  \n",
      "4         0       0  \n",
      "5         1       3  \n",
      "6         4       7  \n",
      "7         0       1  \n",
      "8         0       0  \n",
      "9         0       1  \n",
      "10        1       3  \n",
      "11        0       1  \n",
      "12        0       2  \n",
      "13        0       2  \n",
      "14        0       1  \n",
      "15        0       2  \n",
      "16        2       4  \n",
      "17        0       0  \n",
      "18        4       6  \n",
      "19        1       1  \n",
      "20        1       4  \n",
      "21        2       1  \n",
      "22        0       0  \n",
      "23        1       1  \n",
      "24        0       1  \n",
      "25        0       0  \n",
      "26        0       0  \n",
      "27        1       4  \n",
      "28        1       1  \n",
      "29        0       1  \n",
      "...     ...     ...  \n",
      "9970      0       0  \n",
      "9971      1       2  \n",
      "9972      0       0  \n",
      "9973      0       0  \n",
      "9974      0       0  \n",
      "9975      0       1  \n",
      "9976      0       0  \n",
      "9977      3       6  \n",
      "9978      0       1  \n",
      "9979      1       2  \n",
      "9980      4       6  \n",
      "9981      5       9  \n",
      "9982      0       0  \n",
      "9983      1       4  \n",
      "9984      2       1  \n",
      "9985      0       0  \n",
      "9986      0       0  \n",
      "9987      0       0  \n",
      "9988      0       2  \n",
      "9989      0       1  \n",
      "9990      1       1  \n",
      "9991      0       1  \n",
      "9992      2       3  \n",
      "9993      0       1  \n",
      "9994      1       2  \n",
      "9995      0       2  \n",
      "9996      0       0  \n",
      "9997      0       0  \n",
      "9998      0       0  \n",
      "9999      0       0  \n",
      "\n",
      "[10000 rows x 11 columns]\n"
     ]
    }
   ],
   "source": [
    "# add DataFrame columns for cool, useful, and funny\n",
    "#Bronson\n",
    "#you can also do this\n",
    "pd.DataFrame.from_records(data_df.votes).head()\n",
    "#or this\n",
    "#data_df['votes'].apply(pd.Series).head()\n",
    "data_df = pd.concat([data_df, pd.DataFrame.from_records(data_df.votes)], axis=1)\n",
    "print data_df"
   ]
  },
  {
   "cell_type": "code",
   "execution_count": 21,
   "metadata": {
    "collapsed": false
   },
   "outputs": [
    {
     "data": {
      "text/html": [
       "<div>\n",
       "<table border=\"1\" class=\"dataframe\">\n",
       "  <thead>\n",
       "    <tr style=\"text-align: right;\">\n",
       "      <th></th>\n",
       "      <th>business_id</th>\n",
       "      <th>date</th>\n",
       "      <th>review_id</th>\n",
       "      <th>stars</th>\n",
       "      <th>text</th>\n",
       "      <th>type</th>\n",
       "      <th>user_id</th>\n",
       "      <th>cool</th>\n",
       "      <th>funny</th>\n",
       "      <th>useful</th>\n",
       "    </tr>\n",
       "  </thead>\n",
       "  <tbody>\n",
       "    <tr>\n",
       "      <th>0</th>\n",
       "      <td>9yKzy9PApeiPPOUJEtnvkg</td>\n",
       "      <td>2011-01-26</td>\n",
       "      <td>fWKvX83p0-ka4JS3dc6E5A</td>\n",
       "      <td>5</td>\n",
       "      <td>My wife took me here on my birthday for breakf...</td>\n",
       "      <td>review</td>\n",
       "      <td>rLtl8ZkDX5vH5nAx9C3q5Q</td>\n",
       "      <td>2</td>\n",
       "      <td>0</td>\n",
       "      <td>5</td>\n",
       "    </tr>\n",
       "    <tr>\n",
       "      <th>1</th>\n",
       "      <td>ZRJwVLyzEJq1VAihDhYiow</td>\n",
       "      <td>2011-07-27</td>\n",
       "      <td>IjZ33sJrzXqU-0X6U8NwyA</td>\n",
       "      <td>5</td>\n",
       "      <td>I have no idea why some people give bad review...</td>\n",
       "      <td>review</td>\n",
       "      <td>0a2KyEL0d3Yb1V6aivbIuQ</td>\n",
       "      <td>0</td>\n",
       "      <td>0</td>\n",
       "      <td>0</td>\n",
       "    </tr>\n",
       "  </tbody>\n",
       "</table>\n",
       "</div>"
      ],
      "text/plain": [
       "              business_id        date               review_id  stars  \\\n",
       "0  9yKzy9PApeiPPOUJEtnvkg  2011-01-26  fWKvX83p0-ka4JS3dc6E5A      5   \n",
       "1  ZRJwVLyzEJq1VAihDhYiow  2011-07-27  IjZ33sJrzXqU-0X6U8NwyA      5   \n",
       "\n",
       "                                                text    type  \\\n",
       "0  My wife took me here on my birthday for breakf...  review   \n",
       "1  I have no idea why some people give bad review...  review   \n",
       "\n",
       "                  user_id  cool  funny  useful  \n",
       "0  rLtl8ZkDX5vH5nAx9C3q5Q     2      0       5  \n",
       "1  0a2KyEL0d3Yb1V6aivbIuQ     0      0       0  "
      ]
     },
     "execution_count": 21,
     "metadata": {},
     "output_type": "execute_result"
    }
   ],
   "source": [
    "# drop the votes column and then display the head\n",
    "# drop the votes column and then display the head\n",
    "data_df = data_df.drop('votes', 1)\n",
    "data_df.head(2)"
   ]
  },
  {
   "cell_type": "markdown",
   "metadata": {},
   "source": [
    "## Task 2\n",
    "\n",
    "Explore the relationship between each of the vote types (cool/useful/funny) and the number of stars."
   ]
  },
  {
   "cell_type": "code",
   "execution_count": 22,
   "metadata": {
    "collapsed": false
   },
   "outputs": [
    {
     "data": {
      "text/html": [
       "<div>\n",
       "<table border=\"1\" class=\"dataframe\">\n",
       "  <thead>\n",
       "    <tr style=\"text-align: right;\">\n",
       "      <th></th>\n",
       "      <th>cool</th>\n",
       "      <th>useful</th>\n",
       "      <th>funny</th>\n",
       "    </tr>\n",
       "    <tr>\n",
       "      <th>stars</th>\n",
       "      <th></th>\n",
       "      <th></th>\n",
       "      <th></th>\n",
       "    </tr>\n",
       "  </thead>\n",
       "  <tbody>\n",
       "    <tr>\n",
       "      <th>1</th>\n",
       "      <td>0.576769</td>\n",
       "      <td>1.604806</td>\n",
       "      <td>1.056075</td>\n",
       "    </tr>\n",
       "    <tr>\n",
       "      <th>2</th>\n",
       "      <td>0.719525</td>\n",
       "      <td>1.563107</td>\n",
       "      <td>0.875944</td>\n",
       "    </tr>\n",
       "    <tr>\n",
       "      <th>3</th>\n",
       "      <td>0.788501</td>\n",
       "      <td>1.306639</td>\n",
       "      <td>0.694730</td>\n",
       "    </tr>\n",
       "    <tr>\n",
       "      <th>4</th>\n",
       "      <td>0.954623</td>\n",
       "      <td>1.395916</td>\n",
       "      <td>0.670448</td>\n",
       "    </tr>\n",
       "    <tr>\n",
       "      <th>5</th>\n",
       "      <td>0.944261</td>\n",
       "      <td>1.381780</td>\n",
       "      <td>0.608631</td>\n",
       "    </tr>\n",
       "  </tbody>\n",
       "</table>\n",
       "</div>"
      ],
      "text/plain": [
       "           cool    useful     funny\n",
       "stars                              \n",
       "1      0.576769  1.604806  1.056075\n",
       "2      0.719525  1.563107  0.875944\n",
       "3      0.788501  1.306639  0.694730\n",
       "4      0.954623  1.395916  0.670448\n",
       "5      0.944261  1.381780  0.608631"
      ]
     },
     "execution_count": 22,
     "metadata": {},
     "output_type": "execute_result"
    }
   ],
   "source": [
    "# treat stars as a categorical variable and look for differences between groups by comparing the means of the groups\n",
    "#yelp.sort_values(by='stars', inplace = True)\n",
    "#yelp.describe()\n",
    "#%matplotlib inline\n",
    "#yelp.plot(kind='scatter', x='funny', y='stars', alpha=0.2)\n",
    "yelp.groupby('stars').mean()"
   ]
  },
  {
   "cell_type": "code",
   "execution_count": 23,
   "metadata": {
    "collapsed": false
   },
   "outputs": [
    {
     "name": "stdout",
     "output_type": "stream",
     "text": [
      "           stars      cool    useful     funny\n",
      "stars   1.000000  0.052555 -0.023479 -0.061306\n",
      "cool    0.052555  1.000000  0.887102  0.764342\n",
      "useful -0.023479  0.887102  1.000000  0.723406\n",
      "funny  -0.061306  0.764342  0.723406  1.000000\n"
     ]
    },
    {
     "data": {
      "text/plain": [
       "<matplotlib.axes._subplots.AxesSubplot at 0x12c0cba8>"
      ]
     },
     "execution_count": 23,
     "metadata": {},
     "output_type": "execute_result"
    },
    {
     "data": {
      "image/png": "[encoded data removed]",
      "text/plain": [
       "<matplotlib.figure.Figure at 0x12c0c5f8>"
      ]
     },
     "metadata": {},
     "output_type": "display_data"
    }
   ],
   "source": [
    "# display acorrelation matrix of the vote types (cool/useful/funny) and stars\n",
    "%matplotlib inline\n",
    "import seaborn as sns\n",
    "print yelp.corr()\n",
    "sns.heatmap(yelp.corr())"
   ]
  },
  {
   "cell_type": "code",
   "execution_count": 24,
   "metadata": {
    "collapsed": false
   },
   "outputs": [
    {
     "data": {
      "text/plain": [
       "<seaborn.axisgrid.PairGrid at 0x12c0c550>"
      ]
     },
     "execution_count": 24,
     "metadata": {},
     "output_type": "execute_result"
    },
    {
     "data": {
      "image/png": "[encoded data removed]",
      "text/plain": [
       "<matplotlib.figure.Figure at 0x12c0c0b8>"
      ]
     },
     "metadata": {},
     "output_type": "display_data"
    }
   ],
   "source": [
    "# display multiple scatter plots (cool, useful, funny) with linear regression line\n",
    "\n",
    "# Define features\n",
    "feature_cols = ['cool', 'useful', 'funny']\n",
    "\n",
    "# multiple scatter plots in Seaborn\n",
    "sns.pairplot(yelp, x_vars=feature_cols, y_vars='stars', kind='reg')"
   ]
  },
  {
   "cell_type": "markdown",
   "metadata": {},
   "source": [
    "## Task 3\n",
    "\n",
    "Define cool/useful/funny as the feature matrix X, and stars as the response vector y."
   ]
  },
  {
   "cell_type": "code",
   "execution_count": 25,
   "metadata": {
    "collapsed": false
   },
   "outputs": [
    {
     "data": {
      "text/plain": [
       "<matplotlib.axes._subplots.AxesSubplot at 0x1976a978>"
      ]
     },
     "execution_count": 25,
     "metadata": {},
     "output_type": "execute_result"
    },
    {
     "data": {
      "image/png": "[encoded data removed]",
      "text/plain": [
       "<matplotlib.figure.Figure at 0x1684ca20>"
      ]
     },
     "metadata": {},
     "output_type": "display_data"
    },
    {
     "data": {
      "image/png": "[encoded data removed]",
      "text/plain": [
       "<matplotlib.figure.Figure at 0x18efecf8>"
      ]
     },
     "metadata": {},
     "output_type": "display_data"
    },
    {
     "data": {
      "image/png": "[encoded data removed]",
      "text/plain": [
       "<matplotlib.figure.Figure at 0x196c0978>"
      ]
     },
     "metadata": {},
     "output_type": "display_data"
    }
   ],
   "source": [
    "# Same as code above...\n",
    "# display multiple scatter plots (cool, useful, funny) with linear regression line\n",
    "\n",
    "# Define features\n",
    "feature_cols = ['cool', 'useful', 'funny']\n",
    "\n",
    "# multiple scatter plots in Seaborn\n",
    "sns.pairplot(yelp, x_vars=feature_cols, y_vars='stars', kind='reg')\n",
    "\n",
    "# The scale is off on this first set of box plots, and also there are no values >5, which is wrong. Why?\n",
    "yelp.boxplot(column=feature_cols,by='stars')\n",
    "yelp.boxplot(column='stars', by='funny')"
   ]
  },
  {
   "cell_type": "code",
   "execution_count": null,
   "metadata": {
    "collapsed": false
   },
   "outputs": [],
   "source": []
  },
  {
   "cell_type": "markdown",
   "metadata": {},
   "source": [
    "## Task 4\n",
    "\n",
    "Fit a linear regression model and interpret the coefficients. Do the coefficients make intuitive sense to you? Explore the Yelp website to see if you detect similar trends."
   ]
  },
  {
   "cell_type": "code",
   "execution_count": 26,
   "metadata": {
    "collapsed": false
   },
   "outputs": [
    {
     "name": "stdout",
     "output_type": "stream",
     "text": [
      "(10000, 3)\n",
      "(10000L,)\n",
      "3.83989479278\n",
      "[ 0.27435947 -0.14745239 -0.13567449]\n"
     ]
    }
   ],
   "source": [
    "from sklearn.linear_model import LinearRegression\n",
    "X = yelp[feature_cols]\n",
    "y = yelp.stars\n",
    "print X.shape\n",
    "print y.shape\n",
    "\n",
    "linreg = LinearRegression()\n",
    "linreg.fit(X, y)\n",
    "\n",
    "# print the coefficients, ie y = mX + b\n",
    "print linreg.intercept_ # b\n",
    "print linreg.coef_ # m\n",
    "# The coefficients make sense - as the higher cool ratings are correlated with higher star ratings.\n",
    "# Additionally, higher useful and funny ratings are negatively correlated with star ratings.\n",
    "# I would have expected the funny coefficient to be more negative as the scatterplot has a more negative\n",
    "# best fit line (although the spread of point)"
   ]
  },
  {
   "cell_type": "markdown",
   "metadata": {},
   "source": [
    "## Task 5\n",
    "\n",
    "Evaluate the model by splitting it into training and testing sets and computing the RMSE. Does the RMSE make intuitive sense to you?"
   ]
  },
  {
   "cell_type": "code",
   "execution_count": 27,
   "metadata": {
    "collapsed": true
   },
   "outputs": [],
   "source": [
    "from sklearn.cross_validation import train_test_split\n",
    "from sklearn import metrics\n",
    "import numpy as np"
   ]
  },
  {
   "cell_type": "code",
   "execution_count": 28,
   "metadata": {
    "collapsed": true
   },
   "outputs": [],
   "source": [
    "# define a function that accepts a list of features and returns testing RMSE\n",
    "def train_test_rmse(feature_cols):\n",
    "    X = yelp[feature_cols]\n",
    "    y = yelp.stars\n",
    "    X_train, X_test, y_train, y_test = train_test_split(X, y, random_state=123)\n",
    "    linreg = LinearRegression()\n",
    "    linreg.fit(X_train, y_train)\n",
    "    y_pred = linreg.predict(X_test)\n",
    "    return np.sqrt(metrics.mean_squared_error(y_test, y_pred))"
   ]
  },
  {
   "cell_type": "code",
   "execution_count": 29,
   "metadata": {
    "collapsed": false
   },
   "outputs": [
    {
     "name": "stdout",
     "output_type": "stream",
     "text": [
      "1.17336862742\n"
     ]
    }
   ],
   "source": [
    "# calculate RMSE with all three features\n",
    "print train_test_rmse(['cool', 'useful', 'funny'])\n"
   ]
  },
  {
   "cell_type": "markdown",
   "metadata": {},
   "source": [
    "## Task 6\n",
    "\n",
    "Try removing some of the features and see if the RMSE improves."
   ]
  },
  {
   "cell_type": "code",
   "execution_count": 30,
   "metadata": {
    "collapsed": false
   },
   "outputs": [
    {
     "name": "stdout",
     "output_type": "stream",
     "text": [
      "1.20049049928\n",
      "1.20143488625\n",
      "1.20043591364\n",
      "1.18537944234\n",
      "1.1851949299\n",
      "1.20070113589\n"
     ]
    }
   ],
   "source": [
    "# calculate RMSE with only some of the three features\n",
    "print train_test_rmse(['cool'])\n",
    "print train_test_rmse(['useful'])\n",
    "print train_test_rmse(['funny'])\n",
    "print train_test_rmse(['cool', 'useful'])\n",
    "print train_test_rmse(['cool', 'funny'])\n",
    "print train_test_rmse(['useful', 'funny'])"
   ]
  },
  {
   "cell_type": "markdown",
   "metadata": {},
   "source": [
    "## Task 7 (Bonus)\n",
    "\n",
    "Think of some new features you could create from the existing data that might be predictive of the response. Figure out how to create those features in Pandas, add them to your model, and see if the RMSE improves."
   ]
  },
  {
   "cell_type": "code",
   "execution_count": 31,
   "metadata": {
    "collapsed": true
   },
   "outputs": [],
   "source": [
    "# new feature: "
   ]
  },
  {
   "cell_type": "code",
   "execution_count": 32,
   "metadata": {
    "collapsed": true
   },
   "outputs": [],
   "source": [
    "# new features: \n",
    "#Bronson:\n",
    "# here is one easy idea\n",
    "yelp['text_length'] = yelp.text.str.len()"
   ]
  },
  {
   "cell_type": "code",
   "execution_count": 33,
   "metadata": {
    "collapsed": false
   },
   "outputs": [],
   "source": [
    "# add new features to the model and calculate RMSE\n"
   ]
  },
  {
   "cell_type": "markdown",
   "metadata": {},
   "source": [
    "## Task 8 (Bonus)\n",
    "\n",
    "Compare your best RMSE on the testing set with the RMSE for the \"null model\", which is the model that ignores all features and simply predicts the mean response value in the testing set."
   ]
  },
  {
   "cell_type": "code",
   "execution_count": 34,
   "metadata": {
    "collapsed": false
   },
   "outputs": [
    {
     "name": "stdout",
     "output_type": "stream",
     "text": [
      "(2500L,)\n",
      "[ 0.  0.  0. ...,  0.  0.  0.]\n"
     ]
    },
    {
     "data": {
      "text/plain": [
       "array([ 3.7808,  3.7808,  3.7808, ...,  3.7808,  3.7808,  3.7808])"
      ]
     },
     "execution_count": 34,
     "metadata": {},
     "output_type": "execute_result"
    }
   ],
   "source": [
    "# X and y were defined in Task 4\n",
    "# split X and y into training and testing sets\n",
    "X_train, X_test, y_train, y_test = train_test_split(X, y, random_state=123)\n",
    "\n",
    "# create a NumPy array with the same shape as y_test\n",
    "y_null = np.zeros_like(y_test, dtype=float)\n",
    "print y_null.shape\n",
    "print y_null\n",
    "\n",
    "# fill the array with the mean value of y_test\n",
    "y_null.fill(y_test.mean())\n",
    "y_null"
   ]
  },
  {
   "cell_type": "code",
   "execution_count": 25,
   "metadata": {
    "collapsed": false
   },
   "outputs": [
    {
     "data": {
      "text/plain": [
       "1.2019781029619465"
      ]
     },
     "execution_count": 25,
     "metadata": {},
     "output_type": "execute_result"
    }
   ],
   "source": [
    "# compute null RMSE\n",
    "np.sqrt(metrics.mean_squared_error(y_test, y_null))"
   ]
  },
  {
   "cell_type": "code",
   "execution_count": 26,
   "metadata": {
    "collapsed": true
   },
   "outputs": [],
   "source": [
    "# The best RMSE was 1.17336862742 from using all three features, and the null RMSE was 1.2019781029619465\n",
    "# This result is not too surprising - none of these features had a strong correlation with the response\n",
    "# so the model using all features is only slightley better than the null RMSE"
   ]
  }
 ],
 "metadata": {
  "anaconda-cloud": {},
  "kernelspec": {
   "display_name": "Python [default]",
   "language": "python",
   "name": "python2"
  },
  "language_info": {
   "codemirror_mode": {
    "name": "ipython",
    "version": 2
   },
   "file_extension": ".py",
   "mimetype": "text/x-python",
   "name": "python",
   "nbconvert_exporter": "python",
   "pygments_lexer": "ipython2",
   "version": "2.7.12"
  }
 },
 "nbformat": 4,
 "nbformat_minor": 0
}
